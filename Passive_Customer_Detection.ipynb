{
  "nbformat": 4,
  "nbformat_minor": 0,
  "metadata": {
    "kernelspec": {
      "display_name": "Python 3",
      "language": "python",
      "name": "python3"
    },
    "language_info": {
      "codemirror_mode": {
        "name": "ipython",
        "version": 3
      },
      "file_extension": ".py",
      "mimetype": "text/x-python",
      "name": "python",
      "nbconvert_exporter": "python",
      "pygments_lexer": "ipython3",
      "version": "3.8.3"
    },
    "colab": {
      "name": "Passive Customer Detection.ipynb",
      "provenance": [],
      "collapsed_sections": [
        "RREpn21t7rKQ",
        "_I0_vkIB7rKQ",
        "vETRMCm87rKR",
        "ixdKByZH7rKS"
      ],
      "include_colab_link": true
    }
  },
  "cells": [
    {
      "cell_type": "markdown",
      "metadata": {
        "id": "view-in-github",
        "colab_type": "text"
      },
      "source": [
        "<a href=\"https://colab.research.google.com/github/p33ves/CMPT726-ML-Project/blob/main/Passive_Customer_Detection.ipynb\" target=\"_parent\"><img src=\"https://colab.research.google.com/assets/colab-badge.svg\" alt=\"Open In Colab\"/></a>"
      ]
    },
    {
      "cell_type": "markdown",
      "metadata": {
        "id": "SVl_JeNT7rKL"
      },
      "source": [
        "# Recursive Feature Selection using Gradient based and Tree based Estimators "
      ]
    },
    {
      "cell_type": "code",
      "metadata": {
        "id": "QPofW8Vy7rKL",
        "colab": {
          "base_uri": "https://localhost:8080/"
        },
        "outputId": "eb744307-c992-4334-db71-6fa55807b4e0"
      },
      "source": [
        "pip install -U imbalanced-learn"
      ],
      "execution_count": null,
      "outputs": [
        {
          "output_type": "stream",
          "text": [
            "Collecting imbalanced-learn\n",
            "\u001b[?25l  Downloading https://files.pythonhosted.org/packages/c8/81/8db4d87b03b998fda7c6f835d807c9ae4e3b141f978597b8d7f31600be15/imbalanced_learn-0.7.0-py3-none-any.whl (167kB)\n",
            "\r\u001b[K     |██                              | 10kB 19.0MB/s eta 0:00:01\r\u001b[K     |████                            | 20kB 19.5MB/s eta 0:00:01\r\u001b[K     |█████▉                          | 30kB 10.6MB/s eta 0:00:01\r\u001b[K     |███████▉                        | 40kB 8.3MB/s eta 0:00:01\r\u001b[K     |█████████▉                      | 51kB 4.4MB/s eta 0:00:01\r\u001b[K     |███████████▊                    | 61kB 4.9MB/s eta 0:00:01\r\u001b[K     |█████████████▊                  | 71kB 5.0MB/s eta 0:00:01\r\u001b[K     |███████████████▊                | 81kB 5.3MB/s eta 0:00:01\r\u001b[K     |█████████████████▋              | 92kB 5.7MB/s eta 0:00:01\r\u001b[K     |███████████████████▋            | 102kB 5.9MB/s eta 0:00:01\r\u001b[K     |█████████████████████▋          | 112kB 5.9MB/s eta 0:00:01\r\u001b[K     |███████████████████████▌        | 122kB 5.9MB/s eta 0:00:01\r\u001b[K     |█████████████████████████▌      | 133kB 5.9MB/s eta 0:00:01\r\u001b[K     |███████████████████████████▌    | 143kB 5.9MB/s eta 0:00:01\r\u001b[K     |█████████████████████████████▍  | 153kB 5.9MB/s eta 0:00:01\r\u001b[K     |███████████████████████████████▍| 163kB 5.9MB/s eta 0:00:01\r\u001b[K     |████████████████████████████████| 174kB 5.9MB/s \n",
            "\u001b[?25hRequirement already satisfied, skipping upgrade: scipy>=0.19.1 in /usr/local/lib/python3.6/dist-packages (from imbalanced-learn) (1.4.1)\n",
            "Collecting scikit-learn>=0.23\n",
            "\u001b[?25l  Downloading https://files.pythonhosted.org/packages/5c/a1/273def87037a7fb010512bbc5901c31cfddfca8080bc63b42b26e3cc55b3/scikit_learn-0.23.2-cp36-cp36m-manylinux1_x86_64.whl (6.8MB)\n",
            "\u001b[K     |████████████████████████████████| 6.8MB 26.0MB/s \n",
            "\u001b[?25hRequirement already satisfied, skipping upgrade: joblib>=0.11 in /usr/local/lib/python3.6/dist-packages (from imbalanced-learn) (0.17.0)\n",
            "Requirement already satisfied, skipping upgrade: numpy>=1.13.3 in /usr/local/lib/python3.6/dist-packages (from imbalanced-learn) (1.18.5)\n",
            "Collecting threadpoolctl>=2.0.0\n",
            "  Downloading https://files.pythonhosted.org/packages/f7/12/ec3f2e203afa394a149911729357aa48affc59c20e2c1c8297a60f33f133/threadpoolctl-2.1.0-py3-none-any.whl\n",
            "Installing collected packages: threadpoolctl, scikit-learn, imbalanced-learn\n",
            "  Found existing installation: scikit-learn 0.22.2.post1\n",
            "    Uninstalling scikit-learn-0.22.2.post1:\n",
            "      Successfully uninstalled scikit-learn-0.22.2.post1\n",
            "  Found existing installation: imbalanced-learn 0.4.3\n",
            "    Uninstalling imbalanced-learn-0.4.3:\n",
            "      Successfully uninstalled imbalanced-learn-0.4.3\n",
            "Successfully installed imbalanced-learn-0.7.0 scikit-learn-0.23.2 threadpoolctl-2.1.0\n"
          ],
          "name": "stdout"
        }
      ]
    },
    {
      "cell_type": "code",
      "metadata": {
        "id": "eEafLd_u7rKN"
      },
      "source": [
        "import numpy as np\n",
        "import pandas as pd\n",
        "import matplotlib.pyplot as plt\n",
        "\n",
        "import warnings\n",
        "warnings.filterwarnings('ignore')\n",
        "pd.options.display.max_columns = None\n",
        "from sklearn.model_selection import train_test_split\n",
        "from sklearn.linear_model import LogisticRegression\n",
        "from sklearn.tree import DecisionTreeClassifier\n",
        "from sklearn.ensemble import RandomForestClassifier\n",
        "from sklearn.ensemble import GradientBoostingClassifier\n",
        "from sklearn.ensemble import AdaBoostClassifier\n",
        "from sklearn.model_selection import StratifiedKFold\n",
        "from sklearn.feature_selection import RFECV\n",
        "from sklearn.pipeline import Pipeline\n",
        "from sklearn.model_selection import cross_val_score\n",
        "from sklearn.model_selection import RepeatedStratifiedKFold\n",
        "from sklearn.model_selection import GridSearchCV \n",
        "from imblearn.over_sampling import SMOTE\n",
        "from sklearn.metrics import f1_score\n",
        "import seaborn as sns\n",
        "from sklearn.metrics import plot_confusion_matrix\n",
        "from sklearn.metrics import classification_report"
      ],
      "execution_count": 45,
      "outputs": []
    },
    {
      "cell_type": "code",
      "metadata": {
        "id": "6XndfwBM7rKN",
        "colab": {
          "base_uri": "https://localhost:8080/",
          "height": 414
        },
        "outputId": "52719bd8-ecb0-40b1-f755-737dbbb40d8d"
      },
      "source": [
        "data = pd.read_csv('https://raw.githubusercontent.com/p33ves/CMPT726-ML-Project/main/processed_datasets/profile_features.csv')\n",
        "data = data.loc[:, ~data.columns.str.contains('^Unnamed')]\n",
        "data.sample(10)"
      ],
      "execution_count": 46,
      "outputs": [
        {
          "output_type": "execute_result",
          "data": {
            "text/html": [
              "<div>\n",
              "<style scoped>\n",
              "    .dataframe tbody tr th:only-of-type {\n",
              "        vertical-align: middle;\n",
              "    }\n",
              "\n",
              "    .dataframe tbody tr th {\n",
              "        vertical-align: top;\n",
              "    }\n",
              "\n",
              "    .dataframe thead th {\n",
              "        text-align: right;\n",
              "    }\n",
              "</style>\n",
              "<table border=\"1\" class=\"dataframe\">\n",
              "  <thead>\n",
              "    <tr style=\"text-align: right;\">\n",
              "      <th></th>\n",
              "      <th>gender</th>\n",
              "      <th>age</th>\n",
              "      <th>cust_id</th>\n",
              "      <th>became_member_on</th>\n",
              "      <th>income</th>\n",
              "      <th>days_as_member</th>\n",
              "      <th>Total offer completed</th>\n",
              "      <th>Total offer received</th>\n",
              "      <th>Total offer viewed</th>\n",
              "      <th>Total transaction</th>\n",
              "      <th>offer completed_via_email</th>\n",
              "      <th>offer completed_via_social</th>\n",
              "      <th>offer completed_via_mobile</th>\n",
              "      <th>offer completed_via_web</th>\n",
              "      <th>offer completed bogo count</th>\n",
              "      <th>offer completed discount count</th>\n",
              "      <th>offer received_via_email</th>\n",
              "      <th>offer received_via_social</th>\n",
              "      <th>offer received_via_mobile</th>\n",
              "      <th>offer received_via_web</th>\n",
              "      <th>offer received bogo count</th>\n",
              "      <th>offer received discount count</th>\n",
              "      <th>offer received informational count</th>\n",
              "      <th>offer viewed_via_email</th>\n",
              "      <th>offer viewed_via_social</th>\n",
              "      <th>offer viewed_via_mobile</th>\n",
              "      <th>offer viewed_via_web</th>\n",
              "      <th>offer viewed bogo count</th>\n",
              "      <th>offer viewed discount count</th>\n",
              "      <th>offer viewed informational count</th>\n",
              "      <th>Total transaction amount</th>\n",
              "      <th>avg_difficulty</th>\n",
              "      <th>avg_duration</th>\n",
              "      <th>total_reward_received</th>\n",
              "      <th>total_reward_defined</th>\n",
              "      <th>total_view_ratio</th>\n",
              "      <th>total_completion_ratio</th>\n",
              "      <th>avg_transaction_amt</th>\n",
              "      <th>transactions_per_membership_days</th>\n",
              "      <th>customer_type</th>\n",
              "    </tr>\n",
              "  </thead>\n",
              "  <tbody>\n",
              "    <tr>\n",
              "      <th>13567</th>\n",
              "      <td>M</td>\n",
              "      <td>63</td>\n",
              "      <td>4b5fb27e891149cba6e54cccc18f4526</td>\n",
              "      <td>2018-03-01</td>\n",
              "      <td>58000.0</td>\n",
              "      <td>1001</td>\n",
              "      <td>1.0</td>\n",
              "      <td>5.0</td>\n",
              "      <td>3.0</td>\n",
              "      <td>5.0</td>\n",
              "      <td>1.0</td>\n",
              "      <td>0.0</td>\n",
              "      <td>1.0</td>\n",
              "      <td>1.0</td>\n",
              "      <td>0.0</td>\n",
              "      <td>1.0</td>\n",
              "      <td>5.0</td>\n",
              "      <td>3.0</td>\n",
              "      <td>4.0</td>\n",
              "      <td>4.0</td>\n",
              "      <td>3.0</td>\n",
              "      <td>2.0</td>\n",
              "      <td>0.0</td>\n",
              "      <td>3.0</td>\n",
              "      <td>3.0</td>\n",
              "      <td>3.0</td>\n",
              "      <td>2.0</td>\n",
              "      <td>3.0</td>\n",
              "      <td>0.0</td>\n",
              "      <td>0.0</td>\n",
              "      <td>20.25</td>\n",
              "      <td>10.000000</td>\n",
              "      <td>154.666667</td>\n",
              "      <td>2.0</td>\n",
              "      <td>32.0</td>\n",
              "      <td>0.60</td>\n",
              "      <td>0.2</td>\n",
              "      <td>4.05</td>\n",
              "      <td>0.004995</td>\n",
              "      <td>passive</td>\n",
              "    </tr>\n",
              "    <tr>\n",
              "      <th>2483</th>\n",
              "      <td>M</td>\n",
              "      <td>66</td>\n",
              "      <td>3ab73b41e2ac4e67bb20be75543c1d78</td>\n",
              "      <td>2016-01-18</td>\n",
              "      <td>40000.0</td>\n",
              "      <td>1774</td>\n",
              "      <td>6.0</td>\n",
              "      <td>6.0</td>\n",
              "      <td>3.0</td>\n",
              "      <td>16.0</td>\n",
              "      <td>6.0</td>\n",
              "      <td>2.0</td>\n",
              "      <td>4.0</td>\n",
              "      <td>6.0</td>\n",
              "      <td>1.0</td>\n",
              "      <td>5.0</td>\n",
              "      <td>6.0</td>\n",
              "      <td>2.0</td>\n",
              "      <td>4.0</td>\n",
              "      <td>6.0</td>\n",
              "      <td>1.0</td>\n",
              "      <td>5.0</td>\n",
              "      <td>0.0</td>\n",
              "      <td>3.0</td>\n",
              "      <td>2.0</td>\n",
              "      <td>3.0</td>\n",
              "      <td>3.0</td>\n",
              "      <td>1.0</td>\n",
              "      <td>2.0</td>\n",
              "      <td>0.0</td>\n",
              "      <td>149.06</td>\n",
              "      <td>11.666667</td>\n",
              "      <td>192.000000</td>\n",
              "      <td>21.0</td>\n",
              "      <td>21.0</td>\n",
              "      <td>0.50</td>\n",
              "      <td>1.0</td>\n",
              "      <td>9.32</td>\n",
              "      <td>0.009019</td>\n",
              "      <td>passive</td>\n",
              "    </tr>\n",
              "    <tr>\n",
              "      <th>1163</th>\n",
              "      <td>F</td>\n",
              "      <td>48</td>\n",
              "      <td>2d5b8dfaa968465b89949bc63fd0cf6b</td>\n",
              "      <td>2015-08-13</td>\n",
              "      <td>93000.0</td>\n",
              "      <td>1932</td>\n",
              "      <td>4.0</td>\n",
              "      <td>4.0</td>\n",
              "      <td>3.0</td>\n",
              "      <td>10.0</td>\n",
              "      <td>4.0</td>\n",
              "      <td>2.0</td>\n",
              "      <td>4.0</td>\n",
              "      <td>4.0</td>\n",
              "      <td>1.0</td>\n",
              "      <td>3.0</td>\n",
              "      <td>4.0</td>\n",
              "      <td>2.0</td>\n",
              "      <td>4.0</td>\n",
              "      <td>4.0</td>\n",
              "      <td>1.0</td>\n",
              "      <td>3.0</td>\n",
              "      <td>0.0</td>\n",
              "      <td>3.0</td>\n",
              "      <td>2.0</td>\n",
              "      <td>3.0</td>\n",
              "      <td>3.0</td>\n",
              "      <td>0.0</td>\n",
              "      <td>3.0</td>\n",
              "      <td>0.0</td>\n",
              "      <td>245.27</td>\n",
              "      <td>8.272727</td>\n",
              "      <td>187.636364</td>\n",
              "      <td>12.0</td>\n",
              "      <td>12.0</td>\n",
              "      <td>0.75</td>\n",
              "      <td>1.0</td>\n",
              "      <td>24.53</td>\n",
              "      <td>0.005176</td>\n",
              "      <td>passive</td>\n",
              "    </tr>\n",
              "    <tr>\n",
              "      <th>8497</th>\n",
              "      <td>M</td>\n",
              "      <td>66</td>\n",
              "      <td>c9efe52c3dd44130a07481a0f6274e10</td>\n",
              "      <td>2017-03-05</td>\n",
              "      <td>68000.0</td>\n",
              "      <td>1362</td>\n",
              "      <td>2.0</td>\n",
              "      <td>4.0</td>\n",
              "      <td>4.0</td>\n",
              "      <td>13.0</td>\n",
              "      <td>2.0</td>\n",
              "      <td>1.0</td>\n",
              "      <td>1.0</td>\n",
              "      <td>2.0</td>\n",
              "      <td>1.0</td>\n",
              "      <td>1.0</td>\n",
              "      <td>4.0</td>\n",
              "      <td>2.0</td>\n",
              "      <td>3.0</td>\n",
              "      <td>3.0</td>\n",
              "      <td>1.0</td>\n",
              "      <td>1.0</td>\n",
              "      <td>2.0</td>\n",
              "      <td>4.0</td>\n",
              "      <td>2.0</td>\n",
              "      <td>3.0</td>\n",
              "      <td>3.0</td>\n",
              "      <td>1.0</td>\n",
              "      <td>1.0</td>\n",
              "      <td>2.0</td>\n",
              "      <td>62.39</td>\n",
              "      <td>9.000000</td>\n",
              "      <td>141.600000</td>\n",
              "      <td>15.0</td>\n",
              "      <td>15.0</td>\n",
              "      <td>1.00</td>\n",
              "      <td>0.5</td>\n",
              "      <td>4.80</td>\n",
              "      <td>0.009545</td>\n",
              "      <td>active</td>\n",
              "    </tr>\n",
              "    <tr>\n",
              "      <th>7879</th>\n",
              "      <td>F</td>\n",
              "      <td>91</td>\n",
              "      <td>5aff0af6169e476692a5a68648e9f9cc</td>\n",
              "      <td>2017-09-06</td>\n",
              "      <td>64000.0</td>\n",
              "      <td>1177</td>\n",
              "      <td>0.0</td>\n",
              "      <td>4.0</td>\n",
              "      <td>2.0</td>\n",
              "      <td>1.0</td>\n",
              "      <td>0.0</td>\n",
              "      <td>0.0</td>\n",
              "      <td>0.0</td>\n",
              "      <td>0.0</td>\n",
              "      <td>0.0</td>\n",
              "      <td>0.0</td>\n",
              "      <td>4.0</td>\n",
              "      <td>2.0</td>\n",
              "      <td>4.0</td>\n",
              "      <td>3.0</td>\n",
              "      <td>2.0</td>\n",
              "      <td>1.0</td>\n",
              "      <td>1.0</td>\n",
              "      <td>2.0</td>\n",
              "      <td>2.0</td>\n",
              "      <td>2.0</td>\n",
              "      <td>1.0</td>\n",
              "      <td>1.0</td>\n",
              "      <td>1.0</td>\n",
              "      <td>0.0</td>\n",
              "      <td>2.01</td>\n",
              "      <td>6.500000</td>\n",
              "      <td>156.000000</td>\n",
              "      <td>0.0</td>\n",
              "      <td>18.0</td>\n",
              "      <td>0.50</td>\n",
              "      <td>0.0</td>\n",
              "      <td>2.01</td>\n",
              "      <td>0.000850</td>\n",
              "      <td>passive</td>\n",
              "    </tr>\n",
              "    <tr>\n",
              "      <th>795</th>\n",
              "      <td>F</td>\n",
              "      <td>64</td>\n",
              "      <td>393833837038441aa4eb172c1220ad2a</td>\n",
              "      <td>2017-06-04</td>\n",
              "      <td>59000.0</td>\n",
              "      <td>1271</td>\n",
              "      <td>4.0</td>\n",
              "      <td>4.0</td>\n",
              "      <td>4.0</td>\n",
              "      <td>8.0</td>\n",
              "      <td>4.0</td>\n",
              "      <td>3.0</td>\n",
              "      <td>4.0</td>\n",
              "      <td>4.0</td>\n",
              "      <td>2.0</td>\n",
              "      <td>2.0</td>\n",
              "      <td>4.0</td>\n",
              "      <td>3.0</td>\n",
              "      <td>4.0</td>\n",
              "      <td>4.0</td>\n",
              "      <td>2.0</td>\n",
              "      <td>2.0</td>\n",
              "      <td>0.0</td>\n",
              "      <td>4.0</td>\n",
              "      <td>3.0</td>\n",
              "      <td>4.0</td>\n",
              "      <td>4.0</td>\n",
              "      <td>2.0</td>\n",
              "      <td>2.0</td>\n",
              "      <td>0.0</td>\n",
              "      <td>142.64</td>\n",
              "      <td>8.750000</td>\n",
              "      <td>192.000000</td>\n",
              "      <td>19.0</td>\n",
              "      <td>19.0</td>\n",
              "      <td>1.00</td>\n",
              "      <td>1.0</td>\n",
              "      <td>17.83</td>\n",
              "      <td>0.006294</td>\n",
              "      <td>active</td>\n",
              "    </tr>\n",
              "    <tr>\n",
              "      <th>3275</th>\n",
              "      <td>F</td>\n",
              "      <td>79</td>\n",
              "      <td>ce1579c557c14f7785869dc80638bc0f</td>\n",
              "      <td>2016-05-24</td>\n",
              "      <td>72000.0</td>\n",
              "      <td>1647</td>\n",
              "      <td>0.0</td>\n",
              "      <td>3.0</td>\n",
              "      <td>0.0</td>\n",
              "      <td>0.0</td>\n",
              "      <td>0.0</td>\n",
              "      <td>0.0</td>\n",
              "      <td>0.0</td>\n",
              "      <td>0.0</td>\n",
              "      <td>0.0</td>\n",
              "      <td>0.0</td>\n",
              "      <td>3.0</td>\n",
              "      <td>1.0</td>\n",
              "      <td>2.0</td>\n",
              "      <td>2.0</td>\n",
              "      <td>1.0</td>\n",
              "      <td>1.0</td>\n",
              "      <td>1.0</td>\n",
              "      <td>0.0</td>\n",
              "      <td>0.0</td>\n",
              "      <td>0.0</td>\n",
              "      <td>0.0</td>\n",
              "      <td>0.0</td>\n",
              "      <td>0.0</td>\n",
              "      <td>0.0</td>\n",
              "      <td>0.00</td>\n",
              "      <td>10.000000</td>\n",
              "      <td>168.000000</td>\n",
              "      <td>0.0</td>\n",
              "      <td>15.0</td>\n",
              "      <td>0.00</td>\n",
              "      <td>0.0</td>\n",
              "      <td>0.00</td>\n",
              "      <td>0.000000</td>\n",
              "      <td>passive</td>\n",
              "    </tr>\n",
              "    <tr>\n",
              "      <th>11098</th>\n",
              "      <td>F</td>\n",
              "      <td>82</td>\n",
              "      <td>c63334d18bcd46568118300b1aa97df7</td>\n",
              "      <td>2017-12-14</td>\n",
              "      <td>82000.0</td>\n",
              "      <td>1078</td>\n",
              "      <td>4.0</td>\n",
              "      <td>4.0</td>\n",
              "      <td>4.0</td>\n",
              "      <td>12.0</td>\n",
              "      <td>4.0</td>\n",
              "      <td>4.0</td>\n",
              "      <td>4.0</td>\n",
              "      <td>3.0</td>\n",
              "      <td>3.0</td>\n",
              "      <td>1.0</td>\n",
              "      <td>4.0</td>\n",
              "      <td>4.0</td>\n",
              "      <td>4.0</td>\n",
              "      <td>3.0</td>\n",
              "      <td>3.0</td>\n",
              "      <td>1.0</td>\n",
              "      <td>0.0</td>\n",
              "      <td>4.0</td>\n",
              "      <td>4.0</td>\n",
              "      <td>4.0</td>\n",
              "      <td>3.0</td>\n",
              "      <td>3.0</td>\n",
              "      <td>1.0</td>\n",
              "      <td>0.0</td>\n",
              "      <td>278.15</td>\n",
              "      <td>9.250000</td>\n",
              "      <td>144.000000</td>\n",
              "      <td>33.0</td>\n",
              "      <td>33.0</td>\n",
              "      <td>1.00</td>\n",
              "      <td>1.0</td>\n",
              "      <td>23.18</td>\n",
              "      <td>0.011132</td>\n",
              "      <td>active</td>\n",
              "    </tr>\n",
              "    <tr>\n",
              "      <th>1168</th>\n",
              "      <td>M</td>\n",
              "      <td>63</td>\n",
              "      <td>f7465d18ba7f4e43b99ccabf141d421d</td>\n",
              "      <td>2013-09-21</td>\n",
              "      <td>47000.0</td>\n",
              "      <td>2623</td>\n",
              "      <td>3.0</td>\n",
              "      <td>5.0</td>\n",
              "      <td>1.0</td>\n",
              "      <td>11.0</td>\n",
              "      <td>3.0</td>\n",
              "      <td>1.0</td>\n",
              "      <td>3.0</td>\n",
              "      <td>3.0</td>\n",
              "      <td>0.0</td>\n",
              "      <td>3.0</td>\n",
              "      <td>5.0</td>\n",
              "      <td>1.0</td>\n",
              "      <td>4.0</td>\n",
              "      <td>5.0</td>\n",
              "      <td>0.0</td>\n",
              "      <td>5.0</td>\n",
              "      <td>0.0</td>\n",
              "      <td>1.0</td>\n",
              "      <td>1.0</td>\n",
              "      <td>1.0</td>\n",
              "      <td>1.0</td>\n",
              "      <td>0.0</td>\n",
              "      <td>1.0</td>\n",
              "      <td>0.0</td>\n",
              "      <td>33.23</td>\n",
              "      <td>11.111111</td>\n",
              "      <td>200.000000</td>\n",
              "      <td>6.0</td>\n",
              "      <td>13.0</td>\n",
              "      <td>0.20</td>\n",
              "      <td>0.6</td>\n",
              "      <td>3.02</td>\n",
              "      <td>0.004194</td>\n",
              "      <td>passive</td>\n",
              "    </tr>\n",
              "    <tr>\n",
              "      <th>6605</th>\n",
              "      <td>F</td>\n",
              "      <td>75</td>\n",
              "      <td>3ca81d378ae04fa0b597aa70ef98c403</td>\n",
              "      <td>2018-01-17</td>\n",
              "      <td>97000.0</td>\n",
              "      <td>1044</td>\n",
              "      <td>2.0</td>\n",
              "      <td>5.0</td>\n",
              "      <td>3.0</td>\n",
              "      <td>7.0</td>\n",
              "      <td>2.0</td>\n",
              "      <td>2.0</td>\n",
              "      <td>2.0</td>\n",
              "      <td>2.0</td>\n",
              "      <td>2.0</td>\n",
              "      <td>0.0</td>\n",
              "      <td>5.0</td>\n",
              "      <td>4.0</td>\n",
              "      <td>5.0</td>\n",
              "      <td>3.0</td>\n",
              "      <td>2.0</td>\n",
              "      <td>0.0</td>\n",
              "      <td>3.0</td>\n",
              "      <td>3.0</td>\n",
              "      <td>3.0</td>\n",
              "      <td>3.0</td>\n",
              "      <td>2.0</td>\n",
              "      <td>2.0</td>\n",
              "      <td>0.0</td>\n",
              "      <td>1.0</td>\n",
              "      <td>146.77</td>\n",
              "      <td>3.000000</td>\n",
              "      <td>103.200000</td>\n",
              "      <td>10.0</td>\n",
              "      <td>10.0</td>\n",
              "      <td>0.60</td>\n",
              "      <td>0.4</td>\n",
              "      <td>20.97</td>\n",
              "      <td>0.006705</td>\n",
              "      <td>passive</td>\n",
              "    </tr>\n",
              "  </tbody>\n",
              "</table>\n",
              "</div>"
            ],
            "text/plain": [
              "      gender  age                           cust_id became_member_on   income  \\\n",
              "13567      M   63  4b5fb27e891149cba6e54cccc18f4526       2018-03-01  58000.0   \n",
              "2483       M   66  3ab73b41e2ac4e67bb20be75543c1d78       2016-01-18  40000.0   \n",
              "1163       F   48  2d5b8dfaa968465b89949bc63fd0cf6b       2015-08-13  93000.0   \n",
              "8497       M   66  c9efe52c3dd44130a07481a0f6274e10       2017-03-05  68000.0   \n",
              "7879       F   91  5aff0af6169e476692a5a68648e9f9cc       2017-09-06  64000.0   \n",
              "795        F   64  393833837038441aa4eb172c1220ad2a       2017-06-04  59000.0   \n",
              "3275       F   79  ce1579c557c14f7785869dc80638bc0f       2016-05-24  72000.0   \n",
              "11098      F   82  c63334d18bcd46568118300b1aa97df7       2017-12-14  82000.0   \n",
              "1168       M   63  f7465d18ba7f4e43b99ccabf141d421d       2013-09-21  47000.0   \n",
              "6605       F   75  3ca81d378ae04fa0b597aa70ef98c403       2018-01-17  97000.0   \n",
              "\n",
              "       days_as_member  Total offer completed  Total offer received  \\\n",
              "13567            1001                    1.0                   5.0   \n",
              "2483             1774                    6.0                   6.0   \n",
              "1163             1932                    4.0                   4.0   \n",
              "8497             1362                    2.0                   4.0   \n",
              "7879             1177                    0.0                   4.0   \n",
              "795              1271                    4.0                   4.0   \n",
              "3275             1647                    0.0                   3.0   \n",
              "11098            1078                    4.0                   4.0   \n",
              "1168             2623                    3.0                   5.0   \n",
              "6605             1044                    2.0                   5.0   \n",
              "\n",
              "       Total offer viewed  Total transaction  offer completed_via_email  \\\n",
              "13567                 3.0                5.0                        1.0   \n",
              "2483                  3.0               16.0                        6.0   \n",
              "1163                  3.0               10.0                        4.0   \n",
              "8497                  4.0               13.0                        2.0   \n",
              "7879                  2.0                1.0                        0.0   \n",
              "795                   4.0                8.0                        4.0   \n",
              "3275                  0.0                0.0                        0.0   \n",
              "11098                 4.0               12.0                        4.0   \n",
              "1168                  1.0               11.0                        3.0   \n",
              "6605                  3.0                7.0                        2.0   \n",
              "\n",
              "       offer completed_via_social  offer completed_via_mobile  \\\n",
              "13567                         0.0                         1.0   \n",
              "2483                          2.0                         4.0   \n",
              "1163                          2.0                         4.0   \n",
              "8497                          1.0                         1.0   \n",
              "7879                          0.0                         0.0   \n",
              "795                           3.0                         4.0   \n",
              "3275                          0.0                         0.0   \n",
              "11098                         4.0                         4.0   \n",
              "1168                          1.0                         3.0   \n",
              "6605                          2.0                         2.0   \n",
              "\n",
              "       offer completed_via_web  offer completed bogo count  \\\n",
              "13567                      1.0                         0.0   \n",
              "2483                       6.0                         1.0   \n",
              "1163                       4.0                         1.0   \n",
              "8497                       2.0                         1.0   \n",
              "7879                       0.0                         0.0   \n",
              "795                        4.0                         2.0   \n",
              "3275                       0.0                         0.0   \n",
              "11098                      3.0                         3.0   \n",
              "1168                       3.0                         0.0   \n",
              "6605                       2.0                         2.0   \n",
              "\n",
              "       offer completed discount count  offer received_via_email  \\\n",
              "13567                             1.0                       5.0   \n",
              "2483                              5.0                       6.0   \n",
              "1163                              3.0                       4.0   \n",
              "8497                              1.0                       4.0   \n",
              "7879                              0.0                       4.0   \n",
              "795                               2.0                       4.0   \n",
              "3275                              0.0                       3.0   \n",
              "11098                             1.0                       4.0   \n",
              "1168                              3.0                       5.0   \n",
              "6605                              0.0                       5.0   \n",
              "\n",
              "       offer received_via_social  offer received_via_mobile  \\\n",
              "13567                        3.0                        4.0   \n",
              "2483                         2.0                        4.0   \n",
              "1163                         2.0                        4.0   \n",
              "8497                         2.0                        3.0   \n",
              "7879                         2.0                        4.0   \n",
              "795                          3.0                        4.0   \n",
              "3275                         1.0                        2.0   \n",
              "11098                        4.0                        4.0   \n",
              "1168                         1.0                        4.0   \n",
              "6605                         4.0                        5.0   \n",
              "\n",
              "       offer received_via_web  offer received bogo count  \\\n",
              "13567                     4.0                        3.0   \n",
              "2483                      6.0                        1.0   \n",
              "1163                      4.0                        1.0   \n",
              "8497                      3.0                        1.0   \n",
              "7879                      3.0                        2.0   \n",
              "795                       4.0                        2.0   \n",
              "3275                      2.0                        1.0   \n",
              "11098                     3.0                        3.0   \n",
              "1168                      5.0                        0.0   \n",
              "6605                      3.0                        2.0   \n",
              "\n",
              "       offer received discount count  offer received informational count  \\\n",
              "13567                            2.0                                 0.0   \n",
              "2483                             5.0                                 0.0   \n",
              "1163                             3.0                                 0.0   \n",
              "8497                             1.0                                 2.0   \n",
              "7879                             1.0                                 1.0   \n",
              "795                              2.0                                 0.0   \n",
              "3275                             1.0                                 1.0   \n",
              "11098                            1.0                                 0.0   \n",
              "1168                             5.0                                 0.0   \n",
              "6605                             0.0                                 3.0   \n",
              "\n",
              "       offer viewed_via_email  offer viewed_via_social  \\\n",
              "13567                     3.0                      3.0   \n",
              "2483                      3.0                      2.0   \n",
              "1163                      3.0                      2.0   \n",
              "8497                      4.0                      2.0   \n",
              "7879                      2.0                      2.0   \n",
              "795                       4.0                      3.0   \n",
              "3275                      0.0                      0.0   \n",
              "11098                     4.0                      4.0   \n",
              "1168                      1.0                      1.0   \n",
              "6605                      3.0                      3.0   \n",
              "\n",
              "       offer viewed_via_mobile  offer viewed_via_web  offer viewed bogo count  \\\n",
              "13567                      3.0                   2.0                      3.0   \n",
              "2483                       3.0                   3.0                      1.0   \n",
              "1163                       3.0                   3.0                      0.0   \n",
              "8497                       3.0                   3.0                      1.0   \n",
              "7879                       2.0                   1.0                      1.0   \n",
              "795                        4.0                   4.0                      2.0   \n",
              "3275                       0.0                   0.0                      0.0   \n",
              "11098                      4.0                   3.0                      3.0   \n",
              "1168                       1.0                   1.0                      0.0   \n",
              "6605                       3.0                   2.0                      2.0   \n",
              "\n",
              "       offer viewed discount count  offer viewed informational count  \\\n",
              "13567                          0.0                               0.0   \n",
              "2483                           2.0                               0.0   \n",
              "1163                           3.0                               0.0   \n",
              "8497                           1.0                               2.0   \n",
              "7879                           1.0                               0.0   \n",
              "795                            2.0                               0.0   \n",
              "3275                           0.0                               0.0   \n",
              "11098                          1.0                               0.0   \n",
              "1168                           1.0                               0.0   \n",
              "6605                           0.0                               1.0   \n",
              "\n",
              "       Total transaction amount  avg_difficulty  avg_duration  \\\n",
              "13567                     20.25       10.000000    154.666667   \n",
              "2483                     149.06       11.666667    192.000000   \n",
              "1163                     245.27        8.272727    187.636364   \n",
              "8497                      62.39        9.000000    141.600000   \n",
              "7879                       2.01        6.500000    156.000000   \n",
              "795                      142.64        8.750000    192.000000   \n",
              "3275                       0.00       10.000000    168.000000   \n",
              "11098                    278.15        9.250000    144.000000   \n",
              "1168                      33.23       11.111111    200.000000   \n",
              "6605                     146.77        3.000000    103.200000   \n",
              "\n",
              "       total_reward_received  total_reward_defined  total_view_ratio  \\\n",
              "13567                    2.0                  32.0              0.60   \n",
              "2483                    21.0                  21.0              0.50   \n",
              "1163                    12.0                  12.0              0.75   \n",
              "8497                    15.0                  15.0              1.00   \n",
              "7879                     0.0                  18.0              0.50   \n",
              "795                     19.0                  19.0              1.00   \n",
              "3275                     0.0                  15.0              0.00   \n",
              "11098                   33.0                  33.0              1.00   \n",
              "1168                     6.0                  13.0              0.20   \n",
              "6605                    10.0                  10.0              0.60   \n",
              "\n",
              "       total_completion_ratio  avg_transaction_amt  \\\n",
              "13567                     0.2                 4.05   \n",
              "2483                      1.0                 9.32   \n",
              "1163                      1.0                24.53   \n",
              "8497                      0.5                 4.80   \n",
              "7879                      0.0                 2.01   \n",
              "795                       1.0                17.83   \n",
              "3275                      0.0                 0.00   \n",
              "11098                     1.0                23.18   \n",
              "1168                      0.6                 3.02   \n",
              "6605                      0.4                20.97   \n",
              "\n",
              "       transactions_per_membership_days customer_type  \n",
              "13567                          0.004995       passive  \n",
              "2483                           0.009019       passive  \n",
              "1163                           0.005176       passive  \n",
              "8497                           0.009545        active  \n",
              "7879                           0.000850       passive  \n",
              "795                            0.006294        active  \n",
              "3275                           0.000000       passive  \n",
              "11098                          0.011132        active  \n",
              "1168                           0.004194       passive  \n",
              "6605                           0.006705       passive  "
            ]
          },
          "metadata": {
            "tags": []
          },
          "execution_count": 46
        }
      ]
    },
    {
      "cell_type": "code",
      "metadata": {
        "id": "BQ8fNcE07rKN",
        "colab": {
          "base_uri": "https://localhost:8080/",
          "height": 414
        },
        "outputId": "575d8d65-aac4-450f-9b6d-d7d61a29be87"
      },
      "source": [
        "# define dataset\n",
        "gen_split = pd.get_dummies(data['gender'], prefix='is_')\n",
        "data['income_in_k'] = data['income']/1000\n",
        "data = pd.concat([data, gen_split], axis=1)\n",
        "data = data.drop('income', axis=1)\n",
        "data.drop('gender', axis=1, inplace=True)\n",
        "data.sample(10)"
      ],
      "execution_count": 47,
      "outputs": [
        {
          "output_type": "execute_result",
          "data": {
            "text/html": [
              "<div>\n",
              "<style scoped>\n",
              "    .dataframe tbody tr th:only-of-type {\n",
              "        vertical-align: middle;\n",
              "    }\n",
              "\n",
              "    .dataframe tbody tr th {\n",
              "        vertical-align: top;\n",
              "    }\n",
              "\n",
              "    .dataframe thead th {\n",
              "        text-align: right;\n",
              "    }\n",
              "</style>\n",
              "<table border=\"1\" class=\"dataframe\">\n",
              "  <thead>\n",
              "    <tr style=\"text-align: right;\">\n",
              "      <th></th>\n",
              "      <th>age</th>\n",
              "      <th>cust_id</th>\n",
              "      <th>became_member_on</th>\n",
              "      <th>days_as_member</th>\n",
              "      <th>Total offer completed</th>\n",
              "      <th>Total offer received</th>\n",
              "      <th>Total offer viewed</th>\n",
              "      <th>Total transaction</th>\n",
              "      <th>offer completed_via_email</th>\n",
              "      <th>offer completed_via_social</th>\n",
              "      <th>offer completed_via_mobile</th>\n",
              "      <th>offer completed_via_web</th>\n",
              "      <th>offer completed bogo count</th>\n",
              "      <th>offer completed discount count</th>\n",
              "      <th>offer received_via_email</th>\n",
              "      <th>offer received_via_social</th>\n",
              "      <th>offer received_via_mobile</th>\n",
              "      <th>offer received_via_web</th>\n",
              "      <th>offer received bogo count</th>\n",
              "      <th>offer received discount count</th>\n",
              "      <th>offer received informational count</th>\n",
              "      <th>offer viewed_via_email</th>\n",
              "      <th>offer viewed_via_social</th>\n",
              "      <th>offer viewed_via_mobile</th>\n",
              "      <th>offer viewed_via_web</th>\n",
              "      <th>offer viewed bogo count</th>\n",
              "      <th>offer viewed discount count</th>\n",
              "      <th>offer viewed informational count</th>\n",
              "      <th>Total transaction amount</th>\n",
              "      <th>avg_difficulty</th>\n",
              "      <th>avg_duration</th>\n",
              "      <th>total_reward_received</th>\n",
              "      <th>total_reward_defined</th>\n",
              "      <th>total_view_ratio</th>\n",
              "      <th>total_completion_ratio</th>\n",
              "      <th>avg_transaction_amt</th>\n",
              "      <th>transactions_per_membership_days</th>\n",
              "      <th>customer_type</th>\n",
              "      <th>income_in_k</th>\n",
              "      <th>is__F</th>\n",
              "      <th>is__M</th>\n",
              "      <th>is__O</th>\n",
              "    </tr>\n",
              "  </thead>\n",
              "  <tbody>\n",
              "    <tr>\n",
              "      <th>3175</th>\n",
              "      <td>82</td>\n",
              "      <td>f5ae5f22cbbd45edb721587c2f845a00</td>\n",
              "      <td>2018-05-25</td>\n",
              "      <td>916</td>\n",
              "      <td>2.0</td>\n",
              "      <td>5.0</td>\n",
              "      <td>5.0</td>\n",
              "      <td>6.0</td>\n",
              "      <td>2.0</td>\n",
              "      <td>1.0</td>\n",
              "      <td>2.0</td>\n",
              "      <td>2.0</td>\n",
              "      <td>0.0</td>\n",
              "      <td>2.0</td>\n",
              "      <td>5.0</td>\n",
              "      <td>3.0</td>\n",
              "      <td>5.0</td>\n",
              "      <td>4.0</td>\n",
              "      <td>0.0</td>\n",
              "      <td>3.0</td>\n",
              "      <td>2.0</td>\n",
              "      <td>5.0</td>\n",
              "      <td>3.0</td>\n",
              "      <td>5.0</td>\n",
              "      <td>4.0</td>\n",
              "      <td>0.0</td>\n",
              "      <td>3.0</td>\n",
              "      <td>2.0</td>\n",
              "      <td>55.68</td>\n",
              "      <td>5.916667</td>\n",
              "      <td>152.000000</td>\n",
              "      <td>5.0</td>\n",
              "      <td>7.0</td>\n",
              "      <td>1.00</td>\n",
              "      <td>0.40</td>\n",
              "      <td>9.28</td>\n",
              "      <td>0.006550</td>\n",
              "      <td>active</td>\n",
              "      <td>44.0</td>\n",
              "      <td>0</td>\n",
              "      <td>1</td>\n",
              "      <td>0</td>\n",
              "    </tr>\n",
              "    <tr>\n",
              "      <th>9044</th>\n",
              "      <td>21</td>\n",
              "      <td>cf26038174b4410f83d5cc1ada658948</td>\n",
              "      <td>2018-07-17</td>\n",
              "      <td>863</td>\n",
              "      <td>1.0</td>\n",
              "      <td>5.0</td>\n",
              "      <td>4.0</td>\n",
              "      <td>5.0</td>\n",
              "      <td>1.0</td>\n",
              "      <td>1.0</td>\n",
              "      <td>1.0</td>\n",
              "      <td>1.0</td>\n",
              "      <td>1.0</td>\n",
              "      <td>0.0</td>\n",
              "      <td>5.0</td>\n",
              "      <td>4.0</td>\n",
              "      <td>5.0</td>\n",
              "      <td>3.0</td>\n",
              "      <td>1.0</td>\n",
              "      <td>1.0</td>\n",
              "      <td>3.0</td>\n",
              "      <td>4.0</td>\n",
              "      <td>4.0</td>\n",
              "      <td>4.0</td>\n",
              "      <td>2.0</td>\n",
              "      <td>1.0</td>\n",
              "      <td>1.0</td>\n",
              "      <td>2.0</td>\n",
              "      <td>21.00</td>\n",
              "      <td>2.900000</td>\n",
              "      <td>108.000000</td>\n",
              "      <td>5.0</td>\n",
              "      <td>8.0</td>\n",
              "      <td>0.80</td>\n",
              "      <td>0.20</td>\n",
              "      <td>4.20</td>\n",
              "      <td>0.005794</td>\n",
              "      <td>active</td>\n",
              "      <td>42.0</td>\n",
              "      <td>0</td>\n",
              "      <td>1</td>\n",
              "      <td>0</td>\n",
              "    </tr>\n",
              "    <tr>\n",
              "      <th>13534</th>\n",
              "      <td>62</td>\n",
              "      <td>a73dd52818714d8d9b36e02affd56a59</td>\n",
              "      <td>2018-06-21</td>\n",
              "      <td>889</td>\n",
              "      <td>0.0</td>\n",
              "      <td>2.0</td>\n",
              "      <td>1.0</td>\n",
              "      <td>3.0</td>\n",
              "      <td>0.0</td>\n",
              "      <td>0.0</td>\n",
              "      <td>0.0</td>\n",
              "      <td>0.0</td>\n",
              "      <td>0.0</td>\n",
              "      <td>0.0</td>\n",
              "      <td>2.0</td>\n",
              "      <td>1.0</td>\n",
              "      <td>2.0</td>\n",
              "      <td>2.0</td>\n",
              "      <td>2.0</td>\n",
              "      <td>0.0</td>\n",
              "      <td>0.0</td>\n",
              "      <td>1.0</td>\n",
              "      <td>1.0</td>\n",
              "      <td>1.0</td>\n",
              "      <td>1.0</td>\n",
              "      <td>1.0</td>\n",
              "      <td>0.0</td>\n",
              "      <td>0.0</td>\n",
              "      <td>0.68</td>\n",
              "      <td>5.000000</td>\n",
              "      <td>136.000000</td>\n",
              "      <td>0.0</td>\n",
              "      <td>10.0</td>\n",
              "      <td>0.50</td>\n",
              "      <td>0.00</td>\n",
              "      <td>0.23</td>\n",
              "      <td>0.003375</td>\n",
              "      <td>passive</td>\n",
              "      <td>45.0</td>\n",
              "      <td>0</td>\n",
              "      <td>1</td>\n",
              "      <td>0</td>\n",
              "    </tr>\n",
              "    <tr>\n",
              "      <th>6070</th>\n",
              "      <td>80</td>\n",
              "      <td>12e0c95d8db54ee48800073d5b0a1269</td>\n",
              "      <td>2018-04-17</td>\n",
              "      <td>954</td>\n",
              "      <td>3.0</td>\n",
              "      <td>5.0</td>\n",
              "      <td>4.0</td>\n",
              "      <td>6.0</td>\n",
              "      <td>3.0</td>\n",
              "      <td>2.0</td>\n",
              "      <td>2.0</td>\n",
              "      <td>2.0</td>\n",
              "      <td>1.0</td>\n",
              "      <td>2.0</td>\n",
              "      <td>5.0</td>\n",
              "      <td>2.0</td>\n",
              "      <td>3.0</td>\n",
              "      <td>4.0</td>\n",
              "      <td>1.0</td>\n",
              "      <td>3.0</td>\n",
              "      <td>1.0</td>\n",
              "      <td>4.0</td>\n",
              "      <td>2.0</td>\n",
              "      <td>3.0</td>\n",
              "      <td>3.0</td>\n",
              "      <td>1.0</td>\n",
              "      <td>2.0</td>\n",
              "      <td>1.0</td>\n",
              "      <td>133.17</td>\n",
              "      <td>11.666667</td>\n",
              "      <td>198.000000</td>\n",
              "      <td>17.0</td>\n",
              "      <td>22.0</td>\n",
              "      <td>0.80</td>\n",
              "      <td>0.60</td>\n",
              "      <td>22.19</td>\n",
              "      <td>0.006289</td>\n",
              "      <td>active</td>\n",
              "      <td>72.0</td>\n",
              "      <td>0</td>\n",
              "      <td>1</td>\n",
              "      <td>0</td>\n",
              "    </tr>\n",
              "    <tr>\n",
              "      <th>1916</th>\n",
              "      <td>24</td>\n",
              "      <td>e3534fe180e14735b2199bffefb1887f</td>\n",
              "      <td>2016-04-08</td>\n",
              "      <td>1693</td>\n",
              "      <td>1.0</td>\n",
              "      <td>4.0</td>\n",
              "      <td>3.0</td>\n",
              "      <td>16.0</td>\n",
              "      <td>1.0</td>\n",
              "      <td>1.0</td>\n",
              "      <td>1.0</td>\n",
              "      <td>1.0</td>\n",
              "      <td>1.0</td>\n",
              "      <td>0.0</td>\n",
              "      <td>4.0</td>\n",
              "      <td>3.0</td>\n",
              "      <td>3.0</td>\n",
              "      <td>3.0</td>\n",
              "      <td>3.0</td>\n",
              "      <td>1.0</td>\n",
              "      <td>0.0</td>\n",
              "      <td>3.0</td>\n",
              "      <td>3.0</td>\n",
              "      <td>3.0</td>\n",
              "      <td>2.0</td>\n",
              "      <td>3.0</td>\n",
              "      <td>0.0</td>\n",
              "      <td>0.0</td>\n",
              "      <td>42.37</td>\n",
              "      <td>9.375000</td>\n",
              "      <td>147.000000</td>\n",
              "      <td>5.0</td>\n",
              "      <td>30.0</td>\n",
              "      <td>0.75</td>\n",
              "      <td>0.25</td>\n",
              "      <td>2.65</td>\n",
              "      <td>0.009451</td>\n",
              "      <td>passive</td>\n",
              "      <td>59.0</td>\n",
              "      <td>0</td>\n",
              "      <td>1</td>\n",
              "      <td>0</td>\n",
              "    </tr>\n",
              "    <tr>\n",
              "      <th>12950</th>\n",
              "      <td>65</td>\n",
              "      <td>69519c33ae124ef9bb84135555a33452</td>\n",
              "      <td>2016-08-24</td>\n",
              "      <td>1555</td>\n",
              "      <td>6.0</td>\n",
              "      <td>6.0</td>\n",
              "      <td>6.0</td>\n",
              "      <td>17.0</td>\n",
              "      <td>6.0</td>\n",
              "      <td>2.0</td>\n",
              "      <td>4.0</td>\n",
              "      <td>6.0</td>\n",
              "      <td>1.0</td>\n",
              "      <td>5.0</td>\n",
              "      <td>6.0</td>\n",
              "      <td>2.0</td>\n",
              "      <td>4.0</td>\n",
              "      <td>6.0</td>\n",
              "      <td>1.0</td>\n",
              "      <td>5.0</td>\n",
              "      <td>0.0</td>\n",
              "      <td>6.0</td>\n",
              "      <td>2.0</td>\n",
              "      <td>4.0</td>\n",
              "      <td>6.0</td>\n",
              "      <td>1.0</td>\n",
              "      <td>5.0</td>\n",
              "      <td>0.0</td>\n",
              "      <td>346.73</td>\n",
              "      <td>12.500000</td>\n",
              "      <td>216.000000</td>\n",
              "      <td>21.0</td>\n",
              "      <td>21.0</td>\n",
              "      <td>1.00</td>\n",
              "      <td>1.00</td>\n",
              "      <td>20.40</td>\n",
              "      <td>0.010932</td>\n",
              "      <td>active</td>\n",
              "      <td>80.0</td>\n",
              "      <td>1</td>\n",
              "      <td>0</td>\n",
              "      <td>0</td>\n",
              "    </tr>\n",
              "    <tr>\n",
              "      <th>8229</th>\n",
              "      <td>25</td>\n",
              "      <td>de5a7b09cf5140c9a5b2827a7e04c808</td>\n",
              "      <td>2014-07-17</td>\n",
              "      <td>2324</td>\n",
              "      <td>4.0</td>\n",
              "      <td>5.0</td>\n",
              "      <td>3.0</td>\n",
              "      <td>15.0</td>\n",
              "      <td>4.0</td>\n",
              "      <td>2.0</td>\n",
              "      <td>4.0</td>\n",
              "      <td>4.0</td>\n",
              "      <td>2.0</td>\n",
              "      <td>2.0</td>\n",
              "      <td>5.0</td>\n",
              "      <td>2.0</td>\n",
              "      <td>4.0</td>\n",
              "      <td>5.0</td>\n",
              "      <td>2.0</td>\n",
              "      <td>3.0</td>\n",
              "      <td>0.0</td>\n",
              "      <td>3.0</td>\n",
              "      <td>2.0</td>\n",
              "      <td>3.0</td>\n",
              "      <td>3.0</td>\n",
              "      <td>1.0</td>\n",
              "      <td>2.0</td>\n",
              "      <td>0.0</td>\n",
              "      <td>67.40</td>\n",
              "      <td>8.000000</td>\n",
              "      <td>162.000000</td>\n",
              "      <td>15.0</td>\n",
              "      <td>20.0</td>\n",
              "      <td>0.60</td>\n",
              "      <td>0.80</td>\n",
              "      <td>4.49</td>\n",
              "      <td>0.006454</td>\n",
              "      <td>passive</td>\n",
              "      <td>53.0</td>\n",
              "      <td>1</td>\n",
              "      <td>0</td>\n",
              "      <td>0</td>\n",
              "    </tr>\n",
              "    <tr>\n",
              "      <th>3254</th>\n",
              "      <td>85</td>\n",
              "      <td>735f456dacaa4734a3862d099d26c683</td>\n",
              "      <td>2018-04-05</td>\n",
              "      <td>966</td>\n",
              "      <td>4.0</td>\n",
              "      <td>4.0</td>\n",
              "      <td>4.0</td>\n",
              "      <td>4.0</td>\n",
              "      <td>4.0</td>\n",
              "      <td>4.0</td>\n",
              "      <td>4.0</td>\n",
              "      <td>3.0</td>\n",
              "      <td>2.0</td>\n",
              "      <td>2.0</td>\n",
              "      <td>4.0</td>\n",
              "      <td>4.0</td>\n",
              "      <td>4.0</td>\n",
              "      <td>3.0</td>\n",
              "      <td>2.0</td>\n",
              "      <td>2.0</td>\n",
              "      <td>0.0</td>\n",
              "      <td>4.0</td>\n",
              "      <td>4.0</td>\n",
              "      <td>4.0</td>\n",
              "      <td>3.0</td>\n",
              "      <td>2.0</td>\n",
              "      <td>2.0</td>\n",
              "      <td>0.0</td>\n",
              "      <td>92.72</td>\n",
              "      <td>8.000000</td>\n",
              "      <td>174.000000</td>\n",
              "      <td>20.0</td>\n",
              "      <td>20.0</td>\n",
              "      <td>1.00</td>\n",
              "      <td>1.00</td>\n",
              "      <td>23.18</td>\n",
              "      <td>0.004141</td>\n",
              "      <td>active</td>\n",
              "      <td>80.0</td>\n",
              "      <td>1</td>\n",
              "      <td>0</td>\n",
              "      <td>0</td>\n",
              "    </tr>\n",
              "    <tr>\n",
              "      <th>1165</th>\n",
              "      <td>40</td>\n",
              "      <td>4e0f4afd7d524c049f2829c9ad611ab0</td>\n",
              "      <td>2016-09-11</td>\n",
              "      <td>1537</td>\n",
              "      <td>2.0</td>\n",
              "      <td>4.0</td>\n",
              "      <td>4.0</td>\n",
              "      <td>10.0</td>\n",
              "      <td>2.0</td>\n",
              "      <td>1.0</td>\n",
              "      <td>2.0</td>\n",
              "      <td>2.0</td>\n",
              "      <td>1.0</td>\n",
              "      <td>1.0</td>\n",
              "      <td>4.0</td>\n",
              "      <td>3.0</td>\n",
              "      <td>4.0</td>\n",
              "      <td>2.0</td>\n",
              "      <td>1.0</td>\n",
              "      <td>1.0</td>\n",
              "      <td>2.0</td>\n",
              "      <td>4.0</td>\n",
              "      <td>3.0</td>\n",
              "      <td>4.0</td>\n",
              "      <td>2.0</td>\n",
              "      <td>1.0</td>\n",
              "      <td>1.0</td>\n",
              "      <td>2.0</td>\n",
              "      <td>201.78</td>\n",
              "      <td>4.500000</td>\n",
              "      <td>151.200000</td>\n",
              "      <td>7.0</td>\n",
              "      <td>7.0</td>\n",
              "      <td>1.00</td>\n",
              "      <td>0.50</td>\n",
              "      <td>20.18</td>\n",
              "      <td>0.006506</td>\n",
              "      <td>active</td>\n",
              "      <td>79.0</td>\n",
              "      <td>0</td>\n",
              "      <td>1</td>\n",
              "      <td>0</td>\n",
              "    </tr>\n",
              "    <tr>\n",
              "      <th>62</th>\n",
              "      <td>51</td>\n",
              "      <td>f44b44b53c0548d5b27c812fda4c358a</td>\n",
              "      <td>2015-12-31</td>\n",
              "      <td>1792</td>\n",
              "      <td>3.0</td>\n",
              "      <td>6.0</td>\n",
              "      <td>4.0</td>\n",
              "      <td>20.0</td>\n",
              "      <td>3.0</td>\n",
              "      <td>3.0</td>\n",
              "      <td>3.0</td>\n",
              "      <td>3.0</td>\n",
              "      <td>1.0</td>\n",
              "      <td>2.0</td>\n",
              "      <td>6.0</td>\n",
              "      <td>4.0</td>\n",
              "      <td>4.0</td>\n",
              "      <td>5.0</td>\n",
              "      <td>2.0</td>\n",
              "      <td>4.0</td>\n",
              "      <td>0.0</td>\n",
              "      <td>4.0</td>\n",
              "      <td>3.0</td>\n",
              "      <td>3.0</td>\n",
              "      <td>4.0</td>\n",
              "      <td>1.0</td>\n",
              "      <td>3.0</td>\n",
              "      <td>0.0</td>\n",
              "      <td>75.96</td>\n",
              "      <td>11.153846</td>\n",
              "      <td>206.769231</td>\n",
              "      <td>9.0</td>\n",
              "      <td>29.0</td>\n",
              "      <td>0.67</td>\n",
              "      <td>0.50</td>\n",
              "      <td>3.80</td>\n",
              "      <td>0.011161</td>\n",
              "      <td>passive</td>\n",
              "      <td>41.0</td>\n",
              "      <td>0</td>\n",
              "      <td>1</td>\n",
              "      <td>0</td>\n",
              "    </tr>\n",
              "  </tbody>\n",
              "</table>\n",
              "</div>"
            ],
            "text/plain": [
              "       age                           cust_id became_member_on  days_as_member  \\\n",
              "3175    82  f5ae5f22cbbd45edb721587c2f845a00       2018-05-25             916   \n",
              "9044    21  cf26038174b4410f83d5cc1ada658948       2018-07-17             863   \n",
              "13534   62  a73dd52818714d8d9b36e02affd56a59       2018-06-21             889   \n",
              "6070    80  12e0c95d8db54ee48800073d5b0a1269       2018-04-17             954   \n",
              "1916    24  e3534fe180e14735b2199bffefb1887f       2016-04-08            1693   \n",
              "12950   65  69519c33ae124ef9bb84135555a33452       2016-08-24            1555   \n",
              "8229    25  de5a7b09cf5140c9a5b2827a7e04c808       2014-07-17            2324   \n",
              "3254    85  735f456dacaa4734a3862d099d26c683       2018-04-05             966   \n",
              "1165    40  4e0f4afd7d524c049f2829c9ad611ab0       2016-09-11            1537   \n",
              "62      51  f44b44b53c0548d5b27c812fda4c358a       2015-12-31            1792   \n",
              "\n",
              "       Total offer completed  Total offer received  Total offer viewed  \\\n",
              "3175                     2.0                   5.0                 5.0   \n",
              "9044                     1.0                   5.0                 4.0   \n",
              "13534                    0.0                   2.0                 1.0   \n",
              "6070                     3.0                   5.0                 4.0   \n",
              "1916                     1.0                   4.0                 3.0   \n",
              "12950                    6.0                   6.0                 6.0   \n",
              "8229                     4.0                   5.0                 3.0   \n",
              "3254                     4.0                   4.0                 4.0   \n",
              "1165                     2.0                   4.0                 4.0   \n",
              "62                       3.0                   6.0                 4.0   \n",
              "\n",
              "       Total transaction  offer completed_via_email  \\\n",
              "3175                 6.0                        2.0   \n",
              "9044                 5.0                        1.0   \n",
              "13534                3.0                        0.0   \n",
              "6070                 6.0                        3.0   \n",
              "1916                16.0                        1.0   \n",
              "12950               17.0                        6.0   \n",
              "8229                15.0                        4.0   \n",
              "3254                 4.0                        4.0   \n",
              "1165                10.0                        2.0   \n",
              "62                  20.0                        3.0   \n",
              "\n",
              "       offer completed_via_social  offer completed_via_mobile  \\\n",
              "3175                          1.0                         2.0   \n",
              "9044                          1.0                         1.0   \n",
              "13534                         0.0                         0.0   \n",
              "6070                          2.0                         2.0   \n",
              "1916                          1.0                         1.0   \n",
              "12950                         2.0                         4.0   \n",
              "8229                          2.0                         4.0   \n",
              "3254                          4.0                         4.0   \n",
              "1165                          1.0                         2.0   \n",
              "62                            3.0                         3.0   \n",
              "\n",
              "       offer completed_via_web  offer completed bogo count  \\\n",
              "3175                       2.0                         0.0   \n",
              "9044                       1.0                         1.0   \n",
              "13534                      0.0                         0.0   \n",
              "6070                       2.0                         1.0   \n",
              "1916                       1.0                         1.0   \n",
              "12950                      6.0                         1.0   \n",
              "8229                       4.0                         2.0   \n",
              "3254                       3.0                         2.0   \n",
              "1165                       2.0                         1.0   \n",
              "62                         3.0                         1.0   \n",
              "\n",
              "       offer completed discount count  offer received_via_email  \\\n",
              "3175                              2.0                       5.0   \n",
              "9044                              0.0                       5.0   \n",
              "13534                             0.0                       2.0   \n",
              "6070                              2.0                       5.0   \n",
              "1916                              0.0                       4.0   \n",
              "12950                             5.0                       6.0   \n",
              "8229                              2.0                       5.0   \n",
              "3254                              2.0                       4.0   \n",
              "1165                              1.0                       4.0   \n",
              "62                                2.0                       6.0   \n",
              "\n",
              "       offer received_via_social  offer received_via_mobile  \\\n",
              "3175                         3.0                        5.0   \n",
              "9044                         4.0                        5.0   \n",
              "13534                        1.0                        2.0   \n",
              "6070                         2.0                        3.0   \n",
              "1916                         3.0                        3.0   \n",
              "12950                        2.0                        4.0   \n",
              "8229                         2.0                        4.0   \n",
              "3254                         4.0                        4.0   \n",
              "1165                         3.0                        4.0   \n",
              "62                           4.0                        4.0   \n",
              "\n",
              "       offer received_via_web  offer received bogo count  \\\n",
              "3175                      4.0                        0.0   \n",
              "9044                      3.0                        1.0   \n",
              "13534                     2.0                        2.0   \n",
              "6070                      4.0                        1.0   \n",
              "1916                      3.0                        3.0   \n",
              "12950                     6.0                        1.0   \n",
              "8229                      5.0                        2.0   \n",
              "3254                      3.0                        2.0   \n",
              "1165                      2.0                        1.0   \n",
              "62                        5.0                        2.0   \n",
              "\n",
              "       offer received discount count  offer received informational count  \\\n",
              "3175                             3.0                                 2.0   \n",
              "9044                             1.0                                 3.0   \n",
              "13534                            0.0                                 0.0   \n",
              "6070                             3.0                                 1.0   \n",
              "1916                             1.0                                 0.0   \n",
              "12950                            5.0                                 0.0   \n",
              "8229                             3.0                                 0.0   \n",
              "3254                             2.0                                 0.0   \n",
              "1165                             1.0                                 2.0   \n",
              "62                               4.0                                 0.0   \n",
              "\n",
              "       offer viewed_via_email  offer viewed_via_social  \\\n",
              "3175                      5.0                      3.0   \n",
              "9044                      4.0                      4.0   \n",
              "13534                     1.0                      1.0   \n",
              "6070                      4.0                      2.0   \n",
              "1916                      3.0                      3.0   \n",
              "12950                     6.0                      2.0   \n",
              "8229                      3.0                      2.0   \n",
              "3254                      4.0                      4.0   \n",
              "1165                      4.0                      3.0   \n",
              "62                        4.0                      3.0   \n",
              "\n",
              "       offer viewed_via_mobile  offer viewed_via_web  offer viewed bogo count  \\\n",
              "3175                       5.0                   4.0                      0.0   \n",
              "9044                       4.0                   2.0                      1.0   \n",
              "13534                      1.0                   1.0                      1.0   \n",
              "6070                       3.0                   3.0                      1.0   \n",
              "1916                       3.0                   2.0                      3.0   \n",
              "12950                      4.0                   6.0                      1.0   \n",
              "8229                       3.0                   3.0                      1.0   \n",
              "3254                       4.0                   3.0                      2.0   \n",
              "1165                       4.0                   2.0                      1.0   \n",
              "62                         3.0                   4.0                      1.0   \n",
              "\n",
              "       offer viewed discount count  offer viewed informational count  \\\n",
              "3175                           3.0                               2.0   \n",
              "9044                           1.0                               2.0   \n",
              "13534                          0.0                               0.0   \n",
              "6070                           2.0                               1.0   \n",
              "1916                           0.0                               0.0   \n",
              "12950                          5.0                               0.0   \n",
              "8229                           2.0                               0.0   \n",
              "3254                           2.0                               0.0   \n",
              "1165                           1.0                               2.0   \n",
              "62                             3.0                               0.0   \n",
              "\n",
              "       Total transaction amount  avg_difficulty  avg_duration  \\\n",
              "3175                      55.68        5.916667    152.000000   \n",
              "9044                      21.00        2.900000    108.000000   \n",
              "13534                      0.68        5.000000    136.000000   \n",
              "6070                     133.17       11.666667    198.000000   \n",
              "1916                      42.37        9.375000    147.000000   \n",
              "12950                    346.73       12.500000    216.000000   \n",
              "8229                      67.40        8.000000    162.000000   \n",
              "3254                      92.72        8.000000    174.000000   \n",
              "1165                     201.78        4.500000    151.200000   \n",
              "62                        75.96       11.153846    206.769231   \n",
              "\n",
              "       total_reward_received  total_reward_defined  total_view_ratio  \\\n",
              "3175                     5.0                   7.0              1.00   \n",
              "9044                     5.0                   8.0              0.80   \n",
              "13534                    0.0                  10.0              0.50   \n",
              "6070                    17.0                  22.0              0.80   \n",
              "1916                     5.0                  30.0              0.75   \n",
              "12950                   21.0                  21.0              1.00   \n",
              "8229                    15.0                  20.0              0.60   \n",
              "3254                    20.0                  20.0              1.00   \n",
              "1165                     7.0                   7.0              1.00   \n",
              "62                       9.0                  29.0              0.67   \n",
              "\n",
              "       total_completion_ratio  avg_transaction_amt  \\\n",
              "3175                     0.40                 9.28   \n",
              "9044                     0.20                 4.20   \n",
              "13534                    0.00                 0.23   \n",
              "6070                     0.60                22.19   \n",
              "1916                     0.25                 2.65   \n",
              "12950                    1.00                20.40   \n",
              "8229                     0.80                 4.49   \n",
              "3254                     1.00                23.18   \n",
              "1165                     0.50                20.18   \n",
              "62                       0.50                 3.80   \n",
              "\n",
              "       transactions_per_membership_days customer_type  income_in_k  is__F  \\\n",
              "3175                           0.006550        active         44.0      0   \n",
              "9044                           0.005794        active         42.0      0   \n",
              "13534                          0.003375       passive         45.0      0   \n",
              "6070                           0.006289        active         72.0      0   \n",
              "1916                           0.009451       passive         59.0      0   \n",
              "12950                          0.010932        active         80.0      1   \n",
              "8229                           0.006454       passive         53.0      1   \n",
              "3254                           0.004141        active         80.0      1   \n",
              "1165                           0.006506        active         79.0      0   \n",
              "62                             0.011161       passive         41.0      0   \n",
              "\n",
              "       is__M  is__O  \n",
              "3175       1      0  \n",
              "9044       1      0  \n",
              "13534      1      0  \n",
              "6070       1      0  \n",
              "1916       1      0  \n",
              "12950      0      0  \n",
              "8229       0      0  \n",
              "3254       0      0  \n",
              "1165       1      0  \n",
              "62         1      0  "
            ]
          },
          "metadata": {
            "tags": []
          },
          "execution_count": 47
        }
      ]
    },
    {
      "cell_type": "markdown",
      "metadata": {
        "id": "r30x0F9e7rKO"
      },
      "source": [
        "## Finding set of correlated features"
      ]
    },
    {
      "cell_type": "code",
      "metadata": {
        "id": "1NYCZOet7rKO",
        "colab": {
          "base_uri": "https://localhost:8080/"
        },
        "outputId": "69b39176-7d49-47b8-a65c-e0bc9ef880d2"
      },
      "source": [
        "correlated_features = set()\n",
        "correlation_matrix = data[['is__F', 'is__M', 'is__O', 'age', 'income_in_k', 'avg_difficulty', 'avg_duration', 'avg_transaction_amt', 'transactions_per_membership_days', 'days_as_member']].corr()\n",
        "\n",
        "for i in range(len(correlation_matrix.columns)):\n",
        "    for j in range(i):\n",
        "        if abs(correlation_matrix.iloc[i, j]) > 0.8:\n",
        "            colname = correlation_matrix.columns[i]\n",
        "            correlated_features.add(colname)\n",
        "correlated_features"
      ],
      "execution_count": 48,
      "outputs": [
        {
          "output_type": "execute_result",
          "data": {
            "text/plain": [
              "{'is__M'}"
            ]
          },
          "metadata": {
            "tags": []
          },
          "execution_count": 48
        }
      ]
    },
    {
      "cell_type": "markdown",
      "metadata": {
        "id": "KCfKnHHt7rKO"
      },
      "source": [
        "## Set X as Input features and y as target label"
      ]
    },
    {
      "cell_type": "code",
      "metadata": {
        "id": "8v8nn_RU7rKO"
      },
      "source": [
        "X = data[['is__F', 'is__O', 'age', 'income_in_k', 'avg_difficulty', 'avg_duration', 'avg_transaction_amt', 'transactions_per_membership_days', 'days_as_member']]\n",
        "y = data['customer_type']"
      ],
      "execution_count": 49,
      "outputs": []
    },
    {
      "cell_type": "code",
      "metadata": {
        "id": "yM1f-omxRagr"
      },
      "source": [
        "#Changing active to 1 and passive to 0 to get f1 score\r\n",
        "y = y.replace(to_replace='active', value= 0)\r\n",
        "y = y.replace(to_replace='passive', value= 1)"
      ],
      "execution_count": 50,
      "outputs": []
    },
    {
      "cell_type": "markdown",
      "metadata": {
        "id": "ifLX5fa-7rKO"
      },
      "source": [
        "## Split Data to Training and Testing Data"
      ]
    },
    {
      "cell_type": "code",
      "metadata": {
        "id": "mxmv5NDw7rKO"
      },
      "source": [
        "X_train, X_test, y_train, y_test = train_test_split(X, y, test_size=0.25, random_state=21)"
      ],
      "execution_count": 51,
      "outputs": []
    },
    {
      "cell_type": "code",
      "metadata": {
        "id": "mDTkZLpQ7rKO",
        "colab": {
          "base_uri": "https://localhost:8080/"
        },
        "outputId": "7d47b3b1-1fb6-45dc-ad0a-5ba24258dba6"
      },
      "source": [
        "#Print the shape of training and test data\n",
        "print(\"X_train: \", X_train.shape)\n",
        "print(\"X_test: \", X_test.shape)"
      ],
      "execution_count": 52,
      "outputs": [
        {
          "output_type": "stream",
          "text": [
            "X_train:  (11118, 9)\n",
            "X_test:  (3707, 9)\n"
          ],
          "name": "stdout"
        }
      ]
    },
    {
      "cell_type": "markdown",
      "metadata": {
        "id": "6QD6Cmbx7rKO"
      },
      "source": [
        "## Running RFECV"
      ]
    },
    {
      "cell_type": "code",
      "metadata": {
        "id": "zr2wmxek7rKO",
        "colab": {
          "base_uri": "https://localhost:8080/"
        },
        "outputId": "2c37b0bc-8367-4b24-f81c-f1ec950792d5"
      },
      "source": [
        "#RFECV automatically selects the number of features\n",
        "#Checking with Decision Tree Classifier model\n",
        "model = DecisionTreeClassifier()\n",
        "rfecv = RFECV(estimator=model, step=1, cv=StratifiedKFold(10), scoring='f1')\n",
        "pipeline = Pipeline(steps=[('s',rfecv),('m',model)])\n",
        "\n",
        "pipeline.fit(X_train, y_train)\n",
        "print('Columns {}'.format(X_train.columns))\n",
        "print('Optimal number of features: {}'.format(rfecv.n_features_))\n",
        "print('Feature selection array: ', rfecv.support_)\n",
        "print('Feature Ranking: ',rfecv.ranking_)"
      ],
      "execution_count": 53,
      "outputs": [
        {
          "output_type": "stream",
          "text": [
            "Columns Index(['is__F', 'is__O', 'age', 'income_in_k', 'avg_difficulty',\n",
            "       'avg_duration', 'avg_transaction_amt',\n",
            "       'transactions_per_membership_days', 'days_as_member'],\n",
            "      dtype='object')\n",
            "Optimal number of features: 8\n",
            "Feature selection array:  [ True False  True  True  True  True  True  True  True]\n",
            "Feature Ranking:  [1 2 1 1 1 1 1 1 1]\n"
          ],
          "name": "stdout"
        }
      ]
    },
    {
      "cell_type": "code",
      "metadata": {
        "id": "M1TLuz147rKP",
        "colab": {
          "base_uri": "https://localhost:8080/"
        },
        "outputId": "88dda9c0-8c02-4322-bf20-be55389c432a"
      },
      "source": [
        "#evaluate model\n",
        "cv = RepeatedStratifiedKFold(n_splits=10, n_repeats=3, random_state=1)\n",
        "n_scores = cross_val_score(pipeline, X, y, scoring='f1', cv=cv, n_jobs=-1, error_score='raise')\n",
        "print('F1 Score: %.3f (%.3f)' % (np.mean(n_scores), np.std(n_scores)))"
      ],
      "execution_count": 54,
      "outputs": [
        {
          "output_type": "stream",
          "text": [
            "F1 Score: 0.689 (0.011)\n"
          ],
          "name": "stdout"
        }
      ]
    },
    {
      "cell_type": "code",
      "metadata": {
        "colab": {
          "base_uri": "https://localhost:8080/"
        },
        "id": "GFVUizeNnrx0",
        "outputId": "68d81a2c-af79-4e02-a9d9-276c701df081"
      },
      "source": [
        "#RFECV automatically selects the number of features\r\n",
        "#Checking with Decision Tree Classifier model\r\n",
        "X_no_inc = X_train.drop('income_in_k', axis=1)\r\n",
        "model = DecisionTreeClassifier()\r\n",
        "rfecv = RFECV(estimator=model, step=1, cv=StratifiedKFold(10), scoring='f1')\r\n",
        "pipeline = Pipeline(steps=[('s',rfecv),('m',model)])\r\n",
        "\r\n",
        "pipeline.fit(X_no_inc, y_train)\r\n",
        "print('Columns {}'.format(X_no_inc.columns))\r\n",
        "print('Optimal number of features: {}'.format(rfecv.n_features_))\r\n",
        "print('Feature selection array: ', rfecv.support_)\r\n",
        "print('Feature Ranking: ',rfecv.ranking_)"
      ],
      "execution_count": 55,
      "outputs": [
        {
          "output_type": "stream",
          "text": [
            "Columns Index(['is__F', 'is__O', 'age', 'avg_difficulty', 'avg_duration',\n",
            "       'avg_transaction_amt', 'transactions_per_membership_days',\n",
            "       'days_as_member'],\n",
            "      dtype='object')\n",
            "Optimal number of features: 7\n",
            "Feature selection array:  [ True False  True  True  True  True  True  True]\n",
            "Feature Ranking:  [1 2 1 1 1 1 1 1]\n"
          ],
          "name": "stdout"
        }
      ]
    },
    {
      "cell_type": "code",
      "metadata": {
        "colab": {
          "base_uri": "https://localhost:8080/"
        },
        "id": "Ba21SZYFoBuK",
        "outputId": "790f09c9-3de9-44a9-f6dc-ead1ae6299f2"
      },
      "source": [
        "#evaluate model\r\n",
        "cv = RepeatedStratifiedKFold(n_splits=10, n_repeats=3, random_state=1)\r\n",
        "n_scores = cross_val_score(pipeline, X_no_inc, y_train, scoring='f1', cv=cv, n_jobs=-1, error_score='raise')\r\n",
        "print('F1 Score: %.3f (%.3f)' % (np.mean(n_scores), np.std(n_scores)))"
      ],
      "execution_count": 56,
      "outputs": [
        {
          "output_type": "stream",
          "text": [
            "F1 Score: 0.681 (0.015)\n"
          ],
          "name": "stdout"
        }
      ]
    },
    {
      "cell_type": "markdown",
      "metadata": {
        "id": "gtfb4bBi7rKP"
      },
      "source": [
        "## Plotting the RFECV curve for the model with best accuracy"
      ]
    },
    {
      "cell_type": "code",
      "metadata": {
        "id": "SIqcr8dM7rKP",
        "colab": {
          "base_uri": "https://localhost:8080/",
          "height": 610
        },
        "outputId": "2ed94aa9-b6cc-478c-e9ee-6efbba45b5fa"
      },
      "source": [
        "plt.figure(figsize=(12, 9))\n",
        "plt.title('Recursive Feature Elimination with Cross-Validation', fontsize=18, fontweight='bold', pad=20)\n",
        "plt.xlabel('Number of features selected', fontsize=20, labelpad=20)\n",
        "plt.ylabel('% Correct Classification', fontsize=20, labelpad=20)\n",
        "plt.plot(range(1, len(rfecv.grid_scores_) + 1), rfecv.grid_scores_, color='#303F9F', linewidth=3)\n",
        "\n",
        "plt.show()"
      ],
      "execution_count": null,
      "outputs": [
        {
          "output_type": "display_data",
          "data": {
            "image/png": "[encoded data removed]",
            "text/plain": [
              "<Figure size 864x648 with 1 Axes>"
            ]
          },
          "metadata": {
            "tags": [],
            "needs_background": "light"
          }
        }
      ]
    },
    {
      "cell_type": "code",
      "metadata": {
        "id": "14oGmCcp7rKP",
        "colab": {
          "base_uri": "https://localhost:8080/"
        },
        "outputId": "32c01e97-39d9-4235-a06e-1456a6a11595"
      },
      "source": [
        "# Least important features\n",
        "\n",
        "print(np.where(rfecv.support_ == False)[0])\n",
        "\n",
        "#Dropping the non-required features from training and test data\n",
        "X_train.drop(X_train.columns[np.where(rfecv.support_ == False)[0]], axis=1, inplace=True)\n",
        "X_test.drop(X_test.columns[np.where(rfecv.support_ == False)[0]], axis=1, inplace=True)"
      ],
      "execution_count": null,
      "outputs": [
        {
          "output_type": "stream",
          "text": [
            "[0 1 2]\n"
          ],
          "name": "stdout"
        }
      ]
    },
    {
      "cell_type": "code",
      "metadata": {
        "id": "znFI6zEo7rKP",
        "colab": {
          "base_uri": "https://localhost:8080/"
        },
        "outputId": "fb6eaca6-d3de-41e4-f28e-166d97745438"
      },
      "source": [
        "#Print features and feature importance\n",
        "print(\"Features: \", X_train.columns)\n",
        "print(\"Feature Importance: \", rfecv.estimator_.feature_importances_)"
      ],
      "execution_count": null,
      "outputs": [
        {
          "output_type": "stream",
          "text": [
            "Features:  Index(['income_in_k', 'avg_difficulty', 'avg_duration', 'avg_transaction_amt',\n",
            "       'transactions_per_membership_days', 'days_as_member'],\n",
            "      dtype='object')\n",
            "Feature Importance:  [0.09078995 0.11987939 0.11549176 0.33867724 0.21099512 0.12416654]\n"
          ],
          "name": "stdout"
        }
      ]
    },
    {
      "cell_type": "code",
      "metadata": {
        "id": "Nnvjgt4q7rKP",
        "colab": {
          "base_uri": "https://localhost:8080/",
          "height": 606
        },
        "outputId": "424a1643-0c24-4f4e-cee1-afa848a16140"
      },
      "source": [
        "dset = pd.DataFrame()\n",
        "dset['attr'] = X_train.columns\n",
        "dset['importance'] = rfecv.estimator_.feature_importances_\n",
        "\n",
        "dset = dset.sort_values(by='importance', ascending=False)\n",
        "\n",
        "\n",
        "plt.figure(figsize=(12, 9))\n",
        "plt.barh(y=dset['attr'], width=dset['importance'], color='#1976D2')\n",
        "plt.title('RFECV - Feature Importances', fontsize=20, fontweight='bold', pad=20)\n",
        "plt.xlabel('Importance', fontsize=14, labelpad=20)\n",
        "plt.show()"
      ],
      "execution_count": null,
      "outputs": [
        {
          "output_type": "display_data",
          "data": {
            "image/png": "[encoded data removed]",
            "text/plain": [
              "<Figure size 864x648 with 1 Axes>"
            ]
          },
          "metadata": {
            "tags": [],
            "needs_background": "light"
          }
        }
      ]
    },
    {
      "cell_type": "markdown",
      "metadata": {
        "id": "Tw8gB1pe7rKP"
      },
      "source": [
        "## Check if data is balanced"
      ]
    },
    {
      "cell_type": "code",
      "metadata": {
        "id": "lF_UopXI7rKP",
        "colab": {
          "base_uri": "https://localhost:8080/"
        },
        "outputId": "45cb1cc2-4617-445c-f09d-660f99e360d6"
      },
      "source": [
        "y_train.value_counts()"
      ],
      "execution_count": null,
      "outputs": [
        {
          "output_type": "execute_result",
          "data": {
            "text/plain": [
              "active     7240\n",
              "passive    3878\n",
              "Name: customer_type, dtype: int64"
            ]
          },
          "metadata": {
            "tags": []
          },
          "execution_count": 16
        }
      ]
    },
    {
      "cell_type": "code",
      "metadata": {
        "id": "I5PiC5W77rKQ",
        "colab": {
          "base_uri": "https://localhost:8080/"
        },
        "outputId": "a66dba7f-7766-4daf-f19d-6a9b0d693a68"
      },
      "source": [
        "#Find percentage distribution\n",
        "round((y_train.value_counts()/y_train.count())*100,2)"
      ],
      "execution_count": null,
      "outputs": [
        {
          "output_type": "execute_result",
          "data": {
            "text/plain": [
              "active     65.12\n",
              "passive    34.88\n",
              "Name: customer_type, dtype: float64"
            ]
          },
          "metadata": {
            "tags": []
          },
          "execution_count": 17
        }
      ]
    },
    {
      "cell_type": "markdown",
      "metadata": {
        "id": "RREpn21t7rKQ"
      },
      "source": [
        "#### The target classes are imbalanced!"
      ]
    },
    {
      "cell_type": "markdown",
      "metadata": {
        "id": "6r8YT0kU7rKQ"
      },
      "source": [
        "### SMOTE"
      ]
    },
    {
      "cell_type": "code",
      "metadata": {
        "id": "eVWtMAeK7rKQ"
      },
      "source": [
        "#Applying SMOTE to oversample the minority class before modeling\n",
        "oversample = SMOTE(random_state = 101)\n",
        "X_oversample, y_oversample = oversample.fit_resample(X_train, y_train)\n",
        "\n",
        "#converting arrays back to Dataframe and Series\n",
        "X_train = pd.DataFrame(X_oversample, columns=X_train.columns)\n",
        "y_train = pd.Series(y_oversample, name='y_train')"
      ],
      "execution_count": null,
      "outputs": []
    },
    {
      "cell_type": "code",
      "metadata": {
        "id": "dBXHJ2vg7rKQ",
        "colab": {
          "base_uri": "https://localhost:8080/"
        },
        "outputId": "294b6d11-0db2-4740-a6d3-133270fcd251"
      },
      "source": [
        "#check percentage distribution\n",
        "round((y_train.value_counts()/y_train.count())*100,2)"
      ],
      "execution_count": null,
      "outputs": [
        {
          "output_type": "execute_result",
          "data": {
            "text/plain": [
              "active     50.0\n",
              "passive    50.0\n",
              "Name: y_train, dtype: float64"
            ]
          },
          "metadata": {
            "tags": []
          },
          "execution_count": 19
        }
      ]
    },
    {
      "cell_type": "code",
      "metadata": {
        "id": "Acdlc2pR7rKQ",
        "colab": {
          "base_uri": "https://localhost:8080/"
        },
        "outputId": "1dd70319-263d-4082-973f-64dd0cc18173"
      },
      "source": [
        "y_train.value_counts()"
      ],
      "execution_count": null,
      "outputs": [
        {
          "output_type": "execute_result",
          "data": {
            "text/plain": [
              "active     7240\n",
              "passive    7240\n",
              "Name: y_train, dtype: int64"
            ]
          },
          "metadata": {
            "tags": []
          },
          "execution_count": 20
        }
      ]
    },
    {
      "cell_type": "code",
      "metadata": {
        "id": "8a2PzRq67rKQ",
        "colab": {
          "base_uri": "https://localhost:8080/"
        },
        "outputId": "f9de7897-e696-4167-916d-65927bbcf876"
      },
      "source": [
        "y_train"
      ],
      "execution_count": null,
      "outputs": [
        {
          "output_type": "execute_result",
          "data": {
            "text/plain": [
              "0        1\n",
              "1        0\n",
              "2        1\n",
              "3        1\n",
              "4        0\n",
              "        ..\n",
              "14475    0\n",
              "14476    0\n",
              "14477    0\n",
              "14478    0\n",
              "14479    0\n",
              "Name: y_train, Length: 14480, dtype: int64"
            ]
          },
          "metadata": {
            "tags": []
          },
          "execution_count": 22
        }
      ]
    },
    {
      "cell_type": "markdown",
      "metadata": {
        "id": "Q_W-aacJ7rKQ"
      },
      "source": [
        "## Modeling and Prediction"
      ]
    },
    {
      "cell_type": "code",
      "metadata": {
        "id": "qH5dvBFm7rKQ"
      },
      "source": [
        "#Use GridSearchCV to fit selected classifiers to compare the efficiencies of different models\n",
        "def train_classifier(classifier, hyperparameters, X, y): \n",
        "    gridsearch = GridSearchCV(estimator=classifier, param_grid = hyperparameters, cv=5, verbose=1, scoring = 'f1')\n",
        "    model_train = gridsearch.fit(X, y)\n",
        "    print(classifier.__class__.__name__)\n",
        "    print(\"Mean Accuracy:\", round(model_train.score(X, y),4))\n",
        "    print(\"F1: \",gridsearch.best_score_)\n",
        "    return gridsearch.best_estimator_"
      ],
      "execution_count": null,
      "outputs": []
    },
    {
      "cell_type": "code",
      "metadata": {
        "id": "L3S7dWWN7rKQ",
        "colab": {
          "base_uri": "https://localhost:8080/"
        },
        "outputId": "05266043-e6de-4c0e-83ba-9e3936ac9d4e"
      },
      "source": [
        "# Initialize classification algorithms\n",
        "# LogisticRegression\n",
        "lor = LogisticRegression(random_state=42)\n",
        "lor_est = train_classifier(lor,{}, X_train, y_train)\n",
        "\n",
        "# RandomForestClassifier\n",
        "rfc = RandomForestClassifier(random_state=42)\n",
        "rfc_est = train_classifier(rfc,{}, X_train, y_train)\n",
        "\n",
        "# AdaBoostClassifier\n",
        "abc = AdaBoostClassifier(random_state=42) \n",
        "abc_est = train_classifier(abc,{}, X_train, y_train)\n",
        "\n",
        "# GradientBoostingClassifier\n",
        "gbc = GradientBoostingClassifier(random_state=42) \n",
        "gbc_est = train_classifier(gbc,{}, X_train, y_train)"
      ],
      "execution_count": null,
      "outputs": [
        {
          "output_type": "stream",
          "text": [
            "Fitting 5 folds for each of 1 candidates, totalling 5 fits\n"
          ],
          "name": "stdout"
        },
        {
          "output_type": "stream",
          "text": [
            "[Parallel(n_jobs=1)]: Using backend SequentialBackend with 1 concurrent workers.\n",
            "[Parallel(n_jobs=1)]: Done   5 out of   5 | elapsed:    1.0s finished\n"
          ],
          "name": "stderr"
        },
        {
          "output_type": "stream",
          "text": [
            "LogisticRegression\n",
            "Mean Accuracy: 0.7122\n",
            "F1:  0.7078945274546073\n",
            "Fitting 5 folds for each of 1 candidates, totalling 5 fits\n"
          ],
          "name": "stdout"
        },
        {
          "output_type": "stream",
          "text": [
            "[Parallel(n_jobs=1)]: Using backend SequentialBackend with 1 concurrent workers.\n",
            "[Parallel(n_jobs=1)]: Done   5 out of   5 | elapsed:   11.7s finished\n"
          ],
          "name": "stderr"
        },
        {
          "output_type": "stream",
          "text": [
            "RandomForestClassifier\n",
            "Mean Accuracy: 1.0\n",
            "F1:  0.8154611186955144\n",
            "Fitting 5 folds for each of 1 candidates, totalling 5 fits\n"
          ],
          "name": "stdout"
        },
        {
          "output_type": "stream",
          "text": [
            "[Parallel(n_jobs=1)]: Using backend SequentialBackend with 1 concurrent workers.\n",
            "[Parallel(n_jobs=1)]: Done   5 out of   5 | elapsed:    3.0s finished\n"
          ],
          "name": "stderr"
        },
        {
          "output_type": "stream",
          "text": [
            "AdaBoostClassifier\n",
            "Mean Accuracy: 0.7746\n",
            "F1:  0.7683743410204935\n",
            "Fitting 5 folds for each of 1 candidates, totalling 5 fits\n"
          ],
          "name": "stdout"
        },
        {
          "output_type": "stream",
          "text": [
            "[Parallel(n_jobs=1)]: Using backend SequentialBackend with 1 concurrent workers.\n",
            "[Parallel(n_jobs=1)]: Done   5 out of   5 | elapsed:   10.9s finished\n"
          ],
          "name": "stderr"
        },
        {
          "output_type": "stream",
          "text": [
            "GradientBoostingClassifier\n",
            "Mean Accuracy: 0.803\n",
            "F1:  0.787357177526406\n"
          ],
          "name": "stdout"
        }
      ]
    },
    {
      "cell_type": "markdown",
      "metadata": {
        "id": "_I0_vkIB7rKQ"
      },
      "source": [
        "#### Highest f1 score is obtained for RandomForestClassifier"
      ]
    },
    {
      "cell_type": "markdown",
      "metadata": {
        "id": "dR9E0xMr7rKQ"
      },
      "source": [
        "## Fine Tuning the Model"
      ]
    },
    {
      "cell_type": "markdown",
      "metadata": {
        "id": "_TXHUCxe7rKQ"
      },
      "source": [
        "### Fine tuning RandomForestClassifier and GradientBosstingClassifier with the top set of F1 scores"
      ]
    },
    {
      "cell_type": "code",
      "metadata": {
        "id": "7fYjy5h77rKQ",
        "colab": {
          "base_uri": "https://localhost:8080/"
        },
        "outputId": "90f3557f-dce3-48b5-b574-c8034c2184fd"
      },
      "source": [
        "#Tuning the RandomForestClassifier with hyperparameters to improve the accuracy score\n",
        "hyperparameters = {'n_estimators': [1200],#[100, 120, 300, 500, 800, 1200], #sets the number of decision trees to be used in the forest\n",
        "                  'max_depth': [25]#[5, 8, 15, 25, 30, None], #sets the max depth of the tree\n",
        "                  #'min_samples_split': [1,2,5,10,15,100], #The minimum number of samples needed before a split\n",
        "                  #'min_samples_leaf': [1,2,5,10] #The minimum number of samples needed to create a leaf (decision) node\n",
        "             }\n",
        "\n",
        "rfc = RandomForestClassifier(random_state=42)\n",
        "rfc_best_est = train_classifier(rfc, hyperparameters, X_train, y_train)\n",
        "print(rfc_best_est)"
      ],
      "execution_count": null,
      "outputs": [
        {
          "output_type": "stream",
          "text": [
            "Fitting 5 folds for each of 1 candidates, totalling 5 fits\n"
          ],
          "name": "stdout"
        },
        {
          "output_type": "stream",
          "text": [
            "[Parallel(n_jobs=1)]: Using backend SequentialBackend with 1 concurrent workers.\n",
            "[Parallel(n_jobs=1)]: Done   5 out of   5 | elapsed:  2.3min finished\n"
          ],
          "name": "stderr"
        },
        {
          "output_type": "stream",
          "text": [
            "RandomForestClassifier\n",
            "Mean Accuracy: 1.0\n",
            "F1:  0.8190070925988147\n",
            "RandomForestClassifier(max_depth=25, n_estimators=1200, random_state=42)\n"
          ],
          "name": "stdout"
        }
      ]
    },
    {
      "cell_type": "code",
      "metadata": {
        "id": "r8CQLU8f7rKR",
        "colab": {
          "base_uri": "https://localhost:8080/"
        },
        "outputId": "410defb0-0299-4286-b86c-03111fa1b208"
      },
      "source": [
        "#Feature importances given by the best estimate RandomForestClassfier\n",
        "rfc_best_est.feature_importances_"
      ],
      "execution_count": null,
      "outputs": [
        {
          "output_type": "execute_result",
          "data": {
            "text/plain": [
              "array([0.1215825 , 0.10890501, 0.11246846, 0.30164282, 0.20232304,\n",
              "       0.15307817])"
            ]
          },
          "metadata": {
            "tags": []
          },
          "execution_count": 26
        }
      ]
    },
    {
      "cell_type": "code",
      "metadata": {
        "id": "wb6uwotg7rKR",
        "colab": {
          "base_uri": "https://localhost:8080/"
        },
        "outputId": "4f45ebc3-ba09-4492-face-764a8fc5938a"
      },
      "source": [
        "#Tuning the GradientBoostingClassifier with hyperparameters to improve the accuracy score\n",
        "#learning_rate; default=0.1; shrinks the contribution of each tree by learning_rates\n",
        "lr = [1, 0.5, 0.25, 0.1, 0.05, 0.01]\n",
        "\n",
        "#n_estimators, default=100, number of boosting stages to perform\n",
        "n_estimators = [1, 2, 4, 8, 16, 32, 64, 100, 200]\n",
        "\n",
        "#max_depth, default=3, maximum depth of the individual regression estimators. The maximum depth limits the number of nodes in the tree\n",
        "max_depths = [5, 8, 15, 25, 30, None]\n",
        "\n",
        "#min_samples_split, default=2, The minimum number of samples required to split an internal node\n",
        "min_samples_split = np.linspace(0.1, 1.0, 10, endpoint=True)\n",
        "\n",
        "#min_samples_leaf, default=1,The minimum number of samples required to be at a leaf node.\n",
        "min_samples_leaf=np.linspace(0.1, 0.5, 5, endpoint=True)\n",
        "\n",
        "#max_features{‘auto’, ‘sqrt’, ‘log2’}, default=None, The number of features to consider when looking for the best split:\n",
        "max_features = list(range(1,X_train.shape[1]))\n",
        "\n",
        "gb_tuned = GradientBoostingClassifier(random_state=42)\n",
        "hyperparameters = {'learning_rate': [0.5], 'n_estimators': [200], 'max_depth': [15]}#, 'min_samples_split': min_samples_split, 'min_samples_leaf':min_samples_leaf, 'max_features':max_features}   \n",
        "gb_best_est = train_classifier(gb_tuned, hyperparameters, X_train, y_train)\n",
        "print(gb_best_est)"
      ],
      "execution_count": null,
      "outputs": [
        {
          "output_type": "stream",
          "text": [
            "Fitting 5 folds for each of 1 candidates, totalling 5 fits\n"
          ],
          "name": "stdout"
        },
        {
          "output_type": "stream",
          "text": [
            "[Parallel(n_jobs=1)]: Using backend SequentialBackend with 1 concurrent workers.\n",
            "[Parallel(n_jobs=1)]: Done   5 out of   5 | elapsed:  2.3min finished\n"
          ],
          "name": "stderr"
        },
        {
          "output_type": "stream",
          "text": [
            "GradientBoostingClassifier\n",
            "Mean Accuracy: 1.0\n",
            "F1:  0.8278980691458615\n",
            "GradientBoostingClassifier(learning_rate=0.5, max_depth=15, n_estimators=200,\n",
            "                           random_state=42)\n"
          ],
          "name": "stdout"
        }
      ]
    },
    {
      "cell_type": "markdown",
      "metadata": {
        "id": "vETRMCm87rKR"
      },
      "source": [
        "### After fine-tuning GradientBoostClassifier seems to have a higher f1 score than RandomForestClassifier!"
      ]
    },
    {
      "cell_type": "markdown",
      "metadata": {
        "id": "OVIPoIWN7rKR"
      },
      "source": [
        "## Prediction and Performance of Classifiers"
      ]
    },
    {
      "cell_type": "code",
      "metadata": {
        "id": "zwfnNb6a7rKR",
        "colab": {
          "base_uri": "https://localhost:8080/"
        },
        "outputId": "98bfba43-f2dc-4e31-fcd0-13dededf3abb"
      },
      "source": [
        "#Print the shape of test data\n",
        "print(X_test.shape)\n",
        "print(y_test.shape)"
      ],
      "execution_count": null,
      "outputs": [
        {
          "output_type": "stream",
          "text": [
            "(3707, 6)\n",
            "(3707,)\n"
          ],
          "name": "stdout"
        }
      ]
    },
    {
      "cell_type": "markdown",
      "metadata": {
        "id": "3Y3JMd7h7rKR"
      },
      "source": [
        "### GradientBoostingClassifier"
      ]
    },
    {
      "cell_type": "code",
      "metadata": {
        "id": "uNPN-v4D7rKR",
        "colab": {
          "base_uri": "https://localhost:8080/"
        },
        "outputId": "a388fd15-e4e2-4e52-8bda-acb8849d6e83"
      },
      "source": [
        "#Passing the test data to the GradientBoostingClassifier estimator\n",
        "y_pred_gbc = gb_best_est.predict(X_test)\n",
        "y_pred_gbc"
      ],
      "execution_count": null,
      "outputs": [
        {
          "output_type": "execute_result",
          "data": {
            "text/plain": [
              "array([1, 1, 0, ..., 1, 1, 1])"
            ]
          },
          "metadata": {
            "tags": []
          },
          "execution_count": 29
        }
      ]
    },
    {
      "cell_type": "markdown",
      "metadata": {
        "id": "TnA2Vqf87rKR"
      },
      "source": [
        "#### Classification Report with F1 score"
      ]
    },
    {
      "cell_type": "code",
      "metadata": {
        "id": "8W1rxVMwjEMb",
        "colab": {
          "base_uri": "https://localhost:8080/"
        },
        "outputId": "7a1d82a9-92a1-43a3-ac89-1d06d20bc17f"
      },
      "source": [
        "print(classification_report(y_test, y_pred_gbc))"
      ],
      "execution_count": null,
      "outputs": [
        {
          "output_type": "stream",
          "text": [
            "              precision    recall  f1-score   support\n",
            "\n",
            "           0       0.73      0.66      0.69      1310\n",
            "           1       0.82      0.86      0.84      2397\n",
            "\n",
            "    accuracy                           0.79      3707\n",
            "   macro avg       0.77      0.76      0.77      3707\n",
            "weighted avg       0.79      0.79      0.79      3707\n",
            "\n"
          ],
          "name": "stdout"
        }
      ]
    },
    {
      "cell_type": "markdown",
      "metadata": {
        "id": "1iAUK_Er7rKR"
      },
      "source": [
        "#### Confusion Matrix"
      ]
    },
    {
      "cell_type": "code",
      "metadata": {
        "id": "4i7ohWSq7rKR",
        "colab": {
          "base_uri": "https://localhost:8080/",
          "height": 315
        },
        "outputId": "ac510e88-877f-43bb-a8ce-6dca6b3e2212"
      },
      "source": [
        "disp = plot_confusion_matrix(gb_best_est, X_test, y_test,\n",
        "                                 cmap=plt.cm.Blues,\n",
        "                                 normalize='true')\n",
        "print(disp.confusion_matrix)\n",
        "\n",
        "plt.show()"
      ],
      "execution_count": null,
      "outputs": [
        {
          "output_type": "stream",
          "text": [
            "[[0.65954198 0.34045802]\n",
            " [0.13642053 0.86357947]]\n"
          ],
          "name": "stdout"
        },
        {
          "output_type": "display_data",
          "data": {
            "image/png": "[encoded data removed]",
            "text/plain": [
              "<Figure size 432x288 with 2 Axes>"
            ]
          },
          "metadata": {
            "tags": [],
            "needs_background": "light"
          }
        }
      ]
    },
    {
      "cell_type": "markdown",
      "metadata": {
        "id": "ixdKByZH7rKS"
      },
      "source": [
        "#### F1 Scores have better values for test data!"
      ]
    },
    {
      "cell_type": "markdown",
      "metadata": {
        "id": "woa1Rtf67rKS"
      },
      "source": [
        "### RandomForestClassifier"
      ]
    },
    {
      "cell_type": "code",
      "metadata": {
        "id": "jxtMcX0a7rKS",
        "colab": {
          "base_uri": "https://localhost:8080/"
        },
        "outputId": "137a4985-835c-4069-b748-9e02a17a7668"
      },
      "source": [
        "#Passing the test data to the RandomForestClassifier estimator\n",
        "y_pred_rfc = rfc_best_est.predict(X_test)\n",
        "y_pred_rfc"
      ],
      "execution_count": null,
      "outputs": [
        {
          "output_type": "execute_result",
          "data": {
            "text/plain": [
              "array([1, 1, 1, ..., 1, 1, 1])"
            ]
          },
          "metadata": {
            "tags": []
          },
          "execution_count": 33
        }
      ]
    },
    {
      "cell_type": "markdown",
      "metadata": {
        "id": "bEB3VI_Z7rKS"
      },
      "source": [
        "#### Classification Report with F1 score\n",
        "\n",
        "\n",
        "\n"
      ]
    },
    {
      "cell_type": "code",
      "metadata": {
        "colab": {
          "base_uri": "https://localhost:8080/"
        },
        "id": "3fkYRoJX6YnO",
        "outputId": "85c1939c-324c-40a8-b1ea-f40a72c35e2e"
      },
      "source": [
        "print(classification_report(y_test, y_pred_rfc))"
      ],
      "execution_count": null,
      "outputs": [
        {
          "output_type": "stream",
          "text": [
            "              precision    recall  f1-score   support\n",
            "\n",
            "           0       0.73      0.69      0.71      1310\n",
            "           1       0.84      0.86      0.85      2397\n",
            "\n",
            "    accuracy                           0.80      3707\n",
            "   macro avg       0.78      0.78      0.78      3707\n",
            "weighted avg       0.80      0.80      0.80      3707\n",
            "\n"
          ],
          "name": "stdout"
        }
      ]
    },
    {
      "cell_type": "markdown",
      "metadata": {
        "id": "5CMBQIQC7rKS"
      },
      "source": [
        "#### Confusion Matrix"
      ]
    },
    {
      "cell_type": "code",
      "metadata": {
        "id": "vAmvHnId7rKS",
        "colab": {
          "base_uri": "https://localhost:8080/",
          "height": 315
        },
        "outputId": "5bedbd42-fcd3-40e3-972d-14bf1414286e"
      },
      "source": [
        "disp = plot_confusion_matrix(rfc_best_est, X_test, y_test,\n",
        "                                 cmap=plt.cm.Blues,\n",
        "                                 normalize='true')\n",
        "print(disp.confusion_matrix)\n",
        "\n",
        "plt.show()"
      ],
      "execution_count": null,
      "outputs": [
        {
          "output_type": "stream",
          "text": [
            "[[0.69465649 0.30534351]\n",
            " [0.14392991 0.85607009]]\n"
          ],
          "name": "stdout"
        },
        {
          "output_type": "display_data",
          "data": {
            "image/png": "[encoded data removed]",
            "text/plain": [
              "<Figure size 432x288 with 2 Axes>"
            ]
          },
          "metadata": {
            "tags": [],
            "needs_background": "light"
          }
        }
      ]
    },
    {
      "cell_type": "markdown",
      "metadata": {
        "id": "Ir5V7ucM7rKS"
      },
      "source": [
        "### AdaBoostClassifier"
      ]
    },
    {
      "cell_type": "code",
      "metadata": {
        "id": "btQtyrKN7rKS",
        "colab": {
          "base_uri": "https://localhost:8080/"
        },
        "outputId": "952f2b90-791a-4bdb-bf60-5f3a80840be3"
      },
      "source": [
        "#Passing the test data to the AdaBoostClassifier estimator\n",
        "y_pred_abc = abc_est.predict(X_test)\n",
        "y_pred_abc"
      ],
      "execution_count": null,
      "outputs": [
        {
          "output_type": "execute_result",
          "data": {
            "text/plain": [
              "array([1, 1, 1, ..., 0, 0, 1])"
            ]
          },
          "metadata": {
            "tags": []
          },
          "execution_count": 37
        }
      ]
    },
    {
      "cell_type": "markdown",
      "metadata": {
        "id": "jYknFa5Z7rKS"
      },
      "source": [
        "#### Classification Report with F1 score\n",
        "\n",
        "\n",
        "\n"
      ]
    },
    {
      "cell_type": "code",
      "metadata": {
        "colab": {
          "base_uri": "https://localhost:8080/"
        },
        "id": "3hP6RKlw6NPg",
        "outputId": "689f4fe2-5632-40a9-c89b-d04b235bdc35"
      },
      "source": [
        "print(classification_report(y_test, y_pred_abc))"
      ],
      "execution_count": null,
      "outputs": [
        {
          "output_type": "stream",
          "text": [
            "              precision    recall  f1-score   support\n",
            "\n",
            "           0       0.67      0.70      0.69      1310\n",
            "           1       0.83      0.81      0.82      2397\n",
            "\n",
            "    accuracy                           0.77      3707\n",
            "   macro avg       0.75      0.76      0.75      3707\n",
            "weighted avg       0.78      0.77      0.77      3707\n",
            "\n"
          ],
          "name": "stdout"
        }
      ]
    },
    {
      "cell_type": "markdown",
      "metadata": {
        "id": "USXUYMJA7rKT"
      },
      "source": [
        "#### Confusion Matrix"
      ]
    },
    {
      "cell_type": "code",
      "metadata": {
        "id": "8dm6SeG27rKT",
        "colab": {
          "base_uri": "https://localhost:8080/",
          "height": 315
        },
        "outputId": "270a0bb1-d2d7-483c-b618-30fbd2d2540f"
      },
      "source": [
        "disp = plot_confusion_matrix(abc_est, X_test, y_test,\n",
        "                                 cmap=plt.cm.Blues,\n",
        "                                 normalize='true')\n",
        "print(disp.confusion_matrix)\n",
        "\n",
        "plt.show()"
      ],
      "execution_count": null,
      "outputs": [
        {
          "output_type": "stream",
          "text": [
            "[[0.70152672 0.29847328]\n",
            " [0.1864831  0.8135169 ]]\n"
          ],
          "name": "stdout"
        },
        {
          "output_type": "display_data",
          "data": {
            "image/png": "[encoded data removed]",
            "text/plain": [
              "<Figure size 432x288 with 2 Axes>"
            ]
          },
          "metadata": {
            "tags": [],
            "needs_background": "light"
          }
        }
      ]
    },
    {
      "cell_type": "markdown",
      "metadata": {
        "id": "_kqoB7Qw7rKT"
      },
      "source": [
        "### Logistic Regression"
      ]
    },
    {
      "cell_type": "code",
      "metadata": {
        "id": "KUx98XVm7rKT",
        "colab": {
          "base_uri": "https://localhost:8080/"
        },
        "outputId": "00b77945-08b1-4b10-d27c-277d25a83626"
      },
      "source": [
        "#Passing the test data to the Logistic Regressor\n",
        "y_pred_lor = lor_est.predict(X_test)\n",
        "y_pred_lor"
      ],
      "execution_count": null,
      "outputs": [
        {
          "output_type": "execute_result",
          "data": {
            "text/plain": [
              "array([1, 1, 1, ..., 0, 0, 0])"
            ]
          },
          "metadata": {
            "tags": []
          },
          "execution_count": 41
        }
      ]
    },
    {
      "cell_type": "markdown",
      "metadata": {
        "id": "j9Hjex0H7rKT"
      },
      "source": [
        "#### Classification Report with F1 score\n",
        "\n",
        "\n",
        "\n"
      ]
    },
    {
      "cell_type": "code",
      "metadata": {
        "id": "f9_Np7o4iu4I",
        "colab": {
          "base_uri": "https://localhost:8080/"
        },
        "outputId": "55c75d21-a211-4f5b-c4a0-205ca390beba"
      },
      "source": [
        "print(classification_report(y_test, y_pred_lor))"
      ],
      "execution_count": null,
      "outputs": [
        {
          "output_type": "stream",
          "text": [
            "              precision    recall  f1-score   support\n",
            "\n",
            "           0       0.57      0.65      0.60      1310\n",
            "           1       0.79      0.73      0.76      2397\n",
            "\n",
            "    accuracy                           0.70      3707\n",
            "   macro avg       0.68      0.69      0.68      3707\n",
            "weighted avg       0.71      0.70      0.70      3707\n",
            "\n"
          ],
          "name": "stdout"
        }
      ]
    },
    {
      "cell_type": "markdown",
      "metadata": {
        "id": "LO1qsXiT7rKT"
      },
      "source": [
        "#### Confusion Matrix "
      ]
    },
    {
      "cell_type": "code",
      "metadata": {
        "id": "RIMhH4vs7rKT",
        "colab": {
          "base_uri": "https://localhost:8080/",
          "height": 315
        },
        "outputId": "d4c873a3-0434-4743-f791-50f1f85ae33f"
      },
      "source": [
        "disp = plot_confusion_matrix(lor_est, X_test, y_test,\n",
        "                                 cmap=plt.cm.Blues,\n",
        "                                 normalize='true')\n",
        "print(disp.confusion_matrix)\n",
        "\n",
        "plt.show()"
      ],
      "execution_count": null,
      "outputs": [
        {
          "output_type": "stream",
          "text": [
            "[[0.6480916  0.3519084 ]\n",
            " [0.27242386 0.72757614]]\n"
          ],
          "name": "stdout"
        },
        {
          "output_type": "display_data",
          "data": {
            "image/png": "[encoded data removed]",
            "text/plain": [
              "<Figure size 432x288 with 2 Axes>"
            ]
          },
          "metadata": {
            "tags": [],
            "needs_background": "light"
          }
        }
      ]
    }
  ]
}