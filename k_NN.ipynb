{
  "nbformat": 4,
  "nbformat_minor": 0,
  "metadata": {
    "colab": {
      "name": "k-NN.ipynb",
      "provenance": [],
      "collapsed_sections": [],
      "include_colab_link": true
    },
    "kernelspec": {
      "display_name": "Python 3",
      "name": "python3"
    }
  },
  "cells": [
    {
      "cell_type": "markdown",
      "metadata": {
        "id": "view-in-github",
        "colab_type": "text"
      },
      "source": [
        "<a href=\"https://colab.research.google.com/github/p33ves/CMPT726-ML-Project/blob/main/k_NN.ipynb\" target=\"_parent\"><img src=\"https://colab.research.google.com/assets/colab-badge.svg\" alt=\"Open In Colab\"/></a>"
      ]
    },
    {
      "cell_type": "markdown",
      "metadata": {
        "id": "edHtWJ-oYhJo"
      },
      "source": [
        "# K-Nearest Neighbors(k-NN) Model\n"
      ]
    },
    {
      "cell_type": "code",
      "metadata": {
        "id": "MnXzz6lSP2Yf"
      },
      "source": [
        "import pandas as pd\n",
        "import numpy as np\n",
        "import math\n",
        "import json\n",
        "\n",
        "from sklearn.preprocessing import OrdinalEncoder\n",
        "# from sklearn.preprocessing import OneHotEncoder\n",
        "from sklearn.preprocessing import LabelEncoder\n",
        "\n",
        "\n",
        "# Import KNeighborsClassifier from sklearn.neighbors\n",
        "from sklearn.neighbors import KNeighborsClassifier \n",
        "\n",
        "\n",
        "from sklearn.compose import ColumnTransformer\n",
        "from sklearn.model_selection import train_test_split\n",
        "from sklearn.model_selection import GridSearchCV\n",
        "from sklearn.metrics import classification_report, confusion_matrix\n",
        "from sklearn.preprocessing import StandardScaler\n",
        "\n",
        "\n",
        "from sklearn.model_selection import KFold, cross_val_score\n",
        "from sklearn.pipeline import Pipeline\n",
        "\n",
        "import matplotlib.pyplot as plt\n",
        "import seaborn as sns\n",
        "%matplotlib inline"
      ],
      "execution_count": 1,
      "outputs": []
    },
    {
      "cell_type": "markdown",
      "metadata": {
        "id": "xenlBaDxNnG1"
      },
      "source": [
        "Loading dataset from Github repo"
      ]
    },
    {
      "cell_type": "code",
      "metadata": {
        "colab": {
          "base_uri": "https://localhost:8080/"
        },
        "id": "m34ykqvvXjwb",
        "outputId": "129b39f7-1c25-44a4-d67b-55ca65695b76"
      },
      "source": [
        "full_dataset_url = \"https://raw.githubusercontent.com/p33ves/CMPT726-ML-Project/main/processed_datasets/xtr_profile.csv\"\n",
        "data = pd.read_csv(full_dataset_url)\n",
        "data = data.loc[:, ~data.columns.str.contains('^Unnamed')]\n",
        "data.info()"
      ],
      "execution_count": 2,
      "outputs": [
        {
          "output_type": "stream",
          "text": [
            "<class 'pandas.core.frame.DataFrame'>\n",
            "RangeIndex: 14825 entries, 0 to 14824\n",
            "Data columns (total 39 columns):\n",
            " #   Column                              Non-Null Count  Dtype  \n",
            "---  ------                              --------------  -----  \n",
            " 0   gender                              14825 non-null  object \n",
            " 1   age                                 14825 non-null  int64  \n",
            " 2   cust_id                             14825 non-null  object \n",
            " 3   became_member_on                    14825 non-null  object \n",
            " 4   income                              14825 non-null  float64\n",
            " 5   days_as_member                      14825 non-null  int64  \n",
            " 6   Total offer completed               14825 non-null  float64\n",
            " 7   Total offer received                14825 non-null  float64\n",
            " 8   Total offer viewed                  14825 non-null  float64\n",
            " 9   Total transaction                   14825 non-null  float64\n",
            " 10  offer completed_via_email           14825 non-null  float64\n",
            " 11  offer completed_via_social          14825 non-null  float64\n",
            " 12  offer completed_via_mobile          14825 non-null  float64\n",
            " 13  offer completed_via_web             14825 non-null  float64\n",
            " 14  offer completed bogo count          14825 non-null  float64\n",
            " 15  offer completed discount count      14825 non-null  float64\n",
            " 16  offer received_via_email            14825 non-null  float64\n",
            " 17  offer received_via_social           14825 non-null  float64\n",
            " 18  offer received_via_mobile           14825 non-null  float64\n",
            " 19  offer received_via_web              14825 non-null  float64\n",
            " 20  offer received bogo count           14825 non-null  float64\n",
            " 21  offer received discount count       14825 non-null  float64\n",
            " 22  offer received informational count  14825 non-null  float64\n",
            " 23  offer viewed_via_email              14825 non-null  float64\n",
            " 24  offer viewed_via_social             14825 non-null  float64\n",
            " 25  offer viewed_via_mobile             14825 non-null  float64\n",
            " 26  offer viewed_via_web                14825 non-null  float64\n",
            " 27  offer viewed bogo count             14825 non-null  float64\n",
            " 28  offer viewed discount count         14825 non-null  float64\n",
            " 29  offer viewed informational count    14825 non-null  float64\n",
            " 30  Total transaction amount            14825 non-null  float64\n",
            " 31  avg_difficulty                      14825 non-null  float64\n",
            " 32  avg_duration                        14825 non-null  float64\n",
            " 33  total_reward_received               14825 non-null  float64\n",
            " 34  total_reward_defined                14825 non-null  float64\n",
            " 35  total_view_ratio                    14825 non-null  float64\n",
            " 36  total_completion_ratio              14825 non-null  float64\n",
            " 37  avg_transaction_amt                 14825 non-null  float64\n",
            " 38  transactions_per_membership_days    14825 non-null  float64\n",
            "dtypes: float64(34), int64(2), object(3)\n",
            "memory usage: 4.4+ MB\n"
          ],
          "name": "stdout"
        }
      ]
    },
    {
      "cell_type": "markdown",
      "metadata": {
        "id": "oJAzU3yMnGBo"
      },
      "source": [
        "Finding categorical features and Encoding"
      ]
    },
    {
      "cell_type": "code",
      "metadata": {
        "colab": {
          "base_uri": "https://localhost:8080/",
          "height": 419
        },
        "id": "MNkzPbeZmXAa",
        "outputId": "1330c9ca-a92e-4a1f-c45c-eb8ab4600039"
      },
      "source": [
        "data.select_dtypes(include=[object])"
      ],
      "execution_count": 3,
      "outputs": [
        {
          "output_type": "execute_result",
          "data": {
            "text/html": [
              "<div>\n",
              "<style scoped>\n",
              "    .dataframe tbody tr th:only-of-type {\n",
              "        vertical-align: middle;\n",
              "    }\n",
              "\n",
              "    .dataframe tbody tr th {\n",
              "        vertical-align: top;\n",
              "    }\n",
              "\n",
              "    .dataframe thead th {\n",
              "        text-align: right;\n",
              "    }\n",
              "</style>\n",
              "<table border=\"1\" class=\"dataframe\">\n",
              "  <thead>\n",
              "    <tr style=\"text-align: right;\">\n",
              "      <th></th>\n",
              "      <th>gender</th>\n",
              "      <th>cust_id</th>\n",
              "      <th>became_member_on</th>\n",
              "    </tr>\n",
              "  </thead>\n",
              "  <tbody>\n",
              "    <tr>\n",
              "      <th>0</th>\n",
              "      <td>F</td>\n",
              "      <td>0610b486422d4921ae7d2bf64640c50b</td>\n",
              "      <td>2017-07-15</td>\n",
              "    </tr>\n",
              "    <tr>\n",
              "      <th>1</th>\n",
              "      <td>F</td>\n",
              "      <td>78afa995795e4d85b5d9ceeca43f5fef</td>\n",
              "      <td>2017-05-09</td>\n",
              "    </tr>\n",
              "    <tr>\n",
              "      <th>2</th>\n",
              "      <td>M</td>\n",
              "      <td>e2127556f4f64592b11af22de27a7932</td>\n",
              "      <td>2018-04-26</td>\n",
              "    </tr>\n",
              "    <tr>\n",
              "      <th>3</th>\n",
              "      <td>M</td>\n",
              "      <td>389bc3fa690240e798340f5a15918d5c</td>\n",
              "      <td>2018-02-09</td>\n",
              "    </tr>\n",
              "    <tr>\n",
              "      <th>4</th>\n",
              "      <td>M</td>\n",
              "      <td>2eeac8d8feae4a8cad5a6af0499a211d</td>\n",
              "      <td>2017-11-11</td>\n",
              "    </tr>\n",
              "    <tr>\n",
              "      <th>...</th>\n",
              "      <td>...</td>\n",
              "      <td>...</td>\n",
              "      <td>...</td>\n",
              "    </tr>\n",
              "    <tr>\n",
              "      <th>14820</th>\n",
              "      <td>F</td>\n",
              "      <td>6d5f3a774f3d4714ab0c092238f3a1d7</td>\n",
              "      <td>2018-06-04</td>\n",
              "    </tr>\n",
              "    <tr>\n",
              "      <th>14821</th>\n",
              "      <td>M</td>\n",
              "      <td>2cb4f97358b841b9a9773a7aa05a9d77</td>\n",
              "      <td>2018-07-13</td>\n",
              "    </tr>\n",
              "    <tr>\n",
              "      <th>14822</th>\n",
              "      <td>M</td>\n",
              "      <td>01d26f638c274aa0b965d24cefe3183f</td>\n",
              "      <td>2017-01-26</td>\n",
              "    </tr>\n",
              "    <tr>\n",
              "      <th>14823</th>\n",
              "      <td>F</td>\n",
              "      <td>9dc1421481194dcd9400aec7c9ae6366</td>\n",
              "      <td>2016-03-07</td>\n",
              "    </tr>\n",
              "    <tr>\n",
              "      <th>14824</th>\n",
              "      <td>F</td>\n",
              "      <td>e4052622e5ba45a8b96b59aba68cf068</td>\n",
              "      <td>2017-07-22</td>\n",
              "    </tr>\n",
              "  </tbody>\n",
              "</table>\n",
              "<p>14825 rows × 3 columns</p>\n",
              "</div>"
            ],
            "text/plain": [
              "      gender                           cust_id became_member_on\n",
              "0          F  0610b486422d4921ae7d2bf64640c50b       2017-07-15\n",
              "1          F  78afa995795e4d85b5d9ceeca43f5fef       2017-05-09\n",
              "2          M  e2127556f4f64592b11af22de27a7932       2018-04-26\n",
              "3          M  389bc3fa690240e798340f5a15918d5c       2018-02-09\n",
              "4          M  2eeac8d8feae4a8cad5a6af0499a211d       2017-11-11\n",
              "...      ...                               ...              ...\n",
              "14820      F  6d5f3a774f3d4714ab0c092238f3a1d7       2018-06-04\n",
              "14821      M  2cb4f97358b841b9a9773a7aa05a9d77       2018-07-13\n",
              "14822      M  01d26f638c274aa0b965d24cefe3183f       2017-01-26\n",
              "14823      F  9dc1421481194dcd9400aec7c9ae6366       2016-03-07\n",
              "14824      F  e4052622e5ba45a8b96b59aba68cf068       2017-07-22\n",
              "\n",
              "[14825 rows x 3 columns]"
            ]
          },
          "metadata": {
            "tags": []
          },
          "execution_count": 3
        }
      ]
    },
    {
      "cell_type": "markdown",
      "metadata": {
        "id": "XKWb4qErr3ht"
      },
      "source": [
        "Selecting partial dataset"
      ]
    },
    {
      "cell_type": "code",
      "metadata": {
        "colab": {
          "base_uri": "https://localhost:8080/",
          "height": 430
        },
        "id": "2m1ha8haelRg",
        "outputId": "fd6383b1-8808-496b-d946-20c3828c1349"
      },
      "source": [
        "# define dataset\n",
        "gen_split = pd.get_dummies(data['gender'], prefix='is_')\n",
        "# data['income_in_k'] = data['income']/1000\n",
        "data = pd.concat([data, gen_split], axis=1)\n",
        "# data = data.drop('income', axis=1)\n",
        "data = data.drop('is__O', axis=1)\n",
        "data.drop('gender', axis=1, inplace=True)\n",
        "data.sample(10)"
      ],
      "execution_count": 4,
      "outputs": [
        {
          "output_type": "execute_result",
          "data": {
            "text/html": [
              "<div>\n",
              "<style scoped>\n",
              "    .dataframe tbody tr th:only-of-type {\n",
              "        vertical-align: middle;\n",
              "    }\n",
              "\n",
              "    .dataframe tbody tr th {\n",
              "        vertical-align: top;\n",
              "    }\n",
              "\n",
              "    .dataframe thead th {\n",
              "        text-align: right;\n",
              "    }\n",
              "</style>\n",
              "<table border=\"1\" class=\"dataframe\">\n",
              "  <thead>\n",
              "    <tr style=\"text-align: right;\">\n",
              "      <th></th>\n",
              "      <th>age</th>\n",
              "      <th>cust_id</th>\n",
              "      <th>became_member_on</th>\n",
              "      <th>income</th>\n",
              "      <th>days_as_member</th>\n",
              "      <th>Total offer completed</th>\n",
              "      <th>Total offer received</th>\n",
              "      <th>Total offer viewed</th>\n",
              "      <th>Total transaction</th>\n",
              "      <th>offer completed_via_email</th>\n",
              "      <th>offer completed_via_social</th>\n",
              "      <th>offer completed_via_mobile</th>\n",
              "      <th>offer completed_via_web</th>\n",
              "      <th>offer completed bogo count</th>\n",
              "      <th>offer completed discount count</th>\n",
              "      <th>offer received_via_email</th>\n",
              "      <th>offer received_via_social</th>\n",
              "      <th>offer received_via_mobile</th>\n",
              "      <th>offer received_via_web</th>\n",
              "      <th>offer received bogo count</th>\n",
              "      <th>offer received discount count</th>\n",
              "      <th>offer received informational count</th>\n",
              "      <th>offer viewed_via_email</th>\n",
              "      <th>offer viewed_via_social</th>\n",
              "      <th>offer viewed_via_mobile</th>\n",
              "      <th>offer viewed_via_web</th>\n",
              "      <th>offer viewed bogo count</th>\n",
              "      <th>offer viewed discount count</th>\n",
              "      <th>offer viewed informational count</th>\n",
              "      <th>Total transaction amount</th>\n",
              "      <th>avg_difficulty</th>\n",
              "      <th>avg_duration</th>\n",
              "      <th>total_reward_received</th>\n",
              "      <th>total_reward_defined</th>\n",
              "      <th>total_view_ratio</th>\n",
              "      <th>total_completion_ratio</th>\n",
              "      <th>avg_transaction_amt</th>\n",
              "      <th>transactions_per_membership_days</th>\n",
              "      <th>is__F</th>\n",
              "      <th>is__M</th>\n",
              "    </tr>\n",
              "  </thead>\n",
              "  <tbody>\n",
              "    <tr>\n",
              "      <th>408</th>\n",
              "      <td>60</td>\n",
              "      <td>efeaf350ca114cf685a0e15c482b74fa</td>\n",
              "      <td>2016-09-06</td>\n",
              "      <td>74000.0</td>\n",
              "      <td>1542</td>\n",
              "      <td>3.0</td>\n",
              "      <td>5.0</td>\n",
              "      <td>3.0</td>\n",
              "      <td>5.0</td>\n",
              "      <td>3.0</td>\n",
              "      <td>2.0</td>\n",
              "      <td>3.0</td>\n",
              "      <td>2.0</td>\n",
              "      <td>2.0</td>\n",
              "      <td>1.0</td>\n",
              "      <td>5.0</td>\n",
              "      <td>3.0</td>\n",
              "      <td>5.0</td>\n",
              "      <td>3.0</td>\n",
              "      <td>3.0</td>\n",
              "      <td>1.0</td>\n",
              "      <td>1.0</td>\n",
              "      <td>3.0</td>\n",
              "      <td>3.0</td>\n",
              "      <td>3.0</td>\n",
              "      <td>1.0</td>\n",
              "      <td>2.0</td>\n",
              "      <td>1.0</td>\n",
              "      <td>0.0</td>\n",
              "      <td>89.35</td>\n",
              "      <td>7.363636</td>\n",
              "      <td>161.454545</td>\n",
              "      <td>18.0</td>\n",
              "      <td>28.0</td>\n",
              "      <td>0.60</td>\n",
              "      <td>0.6</td>\n",
              "      <td>17.87</td>\n",
              "      <td>0.003243</td>\n",
              "      <td>1</td>\n",
              "      <td>0</td>\n",
              "    </tr>\n",
              "    <tr>\n",
              "      <th>4437</th>\n",
              "      <td>27</td>\n",
              "      <td>6fbd611055b84f45bb23eb003742207c</td>\n",
              "      <td>2017-04-15</td>\n",
              "      <td>67000.0</td>\n",
              "      <td>1321</td>\n",
              "      <td>0.0</td>\n",
              "      <td>4.0</td>\n",
              "      <td>2.0</td>\n",
              "      <td>18.0</td>\n",
              "      <td>0.0</td>\n",
              "      <td>0.0</td>\n",
              "      <td>0.0</td>\n",
              "      <td>0.0</td>\n",
              "      <td>0.0</td>\n",
              "      <td>0.0</td>\n",
              "      <td>4.0</td>\n",
              "      <td>3.0</td>\n",
              "      <td>4.0</td>\n",
              "      <td>1.0</td>\n",
              "      <td>3.0</td>\n",
              "      <td>0.0</td>\n",
              "      <td>1.0</td>\n",
              "      <td>2.0</td>\n",
              "      <td>2.0</td>\n",
              "      <td>2.0</td>\n",
              "      <td>0.0</td>\n",
              "      <td>2.0</td>\n",
              "      <td>0.0</td>\n",
              "      <td>0.0</td>\n",
              "      <td>47.90</td>\n",
              "      <td>8.333333</td>\n",
              "      <td>156.000000</td>\n",
              "      <td>0.0</td>\n",
              "      <td>30.0</td>\n",
              "      <td>0.50</td>\n",
              "      <td>0.0</td>\n",
              "      <td>2.66</td>\n",
              "      <td>0.013626</td>\n",
              "      <td>0</td>\n",
              "      <td>1</td>\n",
              "    </tr>\n",
              "    <tr>\n",
              "      <th>14101</th>\n",
              "      <td>29</td>\n",
              "      <td>35047ada557b416395fdb9e342c97c6f</td>\n",
              "      <td>2018-03-30</td>\n",
              "      <td>56000.0</td>\n",
              "      <td>972</td>\n",
              "      <td>1.0</td>\n",
              "      <td>5.0</td>\n",
              "      <td>5.0</td>\n",
              "      <td>9.0</td>\n",
              "      <td>1.0</td>\n",
              "      <td>1.0</td>\n",
              "      <td>1.0</td>\n",
              "      <td>1.0</td>\n",
              "      <td>0.0</td>\n",
              "      <td>1.0</td>\n",
              "      <td>5.0</td>\n",
              "      <td>5.0</td>\n",
              "      <td>5.0</td>\n",
              "      <td>4.0</td>\n",
              "      <td>4.0</td>\n",
              "      <td>1.0</td>\n",
              "      <td>0.0</td>\n",
              "      <td>5.0</td>\n",
              "      <td>5.0</td>\n",
              "      <td>5.0</td>\n",
              "      <td>4.0</td>\n",
              "      <td>4.0</td>\n",
              "      <td>1.0</td>\n",
              "      <td>0.0</td>\n",
              "      <td>26.08</td>\n",
              "      <td>8.272727</td>\n",
              "      <td>141.818182</td>\n",
              "      <td>3.0</td>\n",
              "      <td>38.0</td>\n",
              "      <td>1.00</td>\n",
              "      <td>0.2</td>\n",
              "      <td>2.90</td>\n",
              "      <td>0.009259</td>\n",
              "      <td>0</td>\n",
              "      <td>1</td>\n",
              "    </tr>\n",
              "    <tr>\n",
              "      <th>5575</th>\n",
              "      <td>75</td>\n",
              "      <td>66e5459d394e418f94411e88ff43f8da</td>\n",
              "      <td>2015-12-25</td>\n",
              "      <td>36000.0</td>\n",
              "      <td>1798</td>\n",
              "      <td>3.0</td>\n",
              "      <td>3.0</td>\n",
              "      <td>1.0</td>\n",
              "      <td>14.0</td>\n",
              "      <td>3.0</td>\n",
              "      <td>2.0</td>\n",
              "      <td>3.0</td>\n",
              "      <td>3.0</td>\n",
              "      <td>2.0</td>\n",
              "      <td>1.0</td>\n",
              "      <td>3.0</td>\n",
              "      <td>2.0</td>\n",
              "      <td>3.0</td>\n",
              "      <td>3.0</td>\n",
              "      <td>2.0</td>\n",
              "      <td>1.0</td>\n",
              "      <td>0.0</td>\n",
              "      <td>1.0</td>\n",
              "      <td>1.0</td>\n",
              "      <td>1.0</td>\n",
              "      <td>1.0</td>\n",
              "      <td>0.0</td>\n",
              "      <td>1.0</td>\n",
              "      <td>0.0</td>\n",
              "      <td>120.75</td>\n",
              "      <td>7.285714</td>\n",
              "      <td>154.285714</td>\n",
              "      <td>18.0</td>\n",
              "      <td>18.0</td>\n",
              "      <td>0.33</td>\n",
              "      <td>1.0</td>\n",
              "      <td>8.63</td>\n",
              "      <td>0.007786</td>\n",
              "      <td>1</td>\n",
              "      <td>0</td>\n",
              "    </tr>\n",
              "    <tr>\n",
              "      <th>14267</th>\n",
              "      <td>58</td>\n",
              "      <td>cea7a0db90ea468b9b9d2e74884066b1</td>\n",
              "      <td>2017-08-06</td>\n",
              "      <td>113000.0</td>\n",
              "      <td>1208</td>\n",
              "      <td>2.0</td>\n",
              "      <td>4.0</td>\n",
              "      <td>3.0</td>\n",
              "      <td>3.0</td>\n",
              "      <td>2.0</td>\n",
              "      <td>1.0</td>\n",
              "      <td>2.0</td>\n",
              "      <td>2.0</td>\n",
              "      <td>1.0</td>\n",
              "      <td>1.0</td>\n",
              "      <td>4.0</td>\n",
              "      <td>2.0</td>\n",
              "      <td>3.0</td>\n",
              "      <td>4.0</td>\n",
              "      <td>1.0</td>\n",
              "      <td>3.0</td>\n",
              "      <td>0.0</td>\n",
              "      <td>3.0</td>\n",
              "      <td>2.0</td>\n",
              "      <td>3.0</td>\n",
              "      <td>3.0</td>\n",
              "      <td>1.0</td>\n",
              "      <td>2.0</td>\n",
              "      <td>0.0</td>\n",
              "      <td>53.50</td>\n",
              "      <td>11.111111</td>\n",
              "      <td>176.000000</td>\n",
              "      <td>12.0</td>\n",
              "      <td>19.0</td>\n",
              "      <td>0.75</td>\n",
              "      <td>0.5</td>\n",
              "      <td>17.83</td>\n",
              "      <td>0.002483</td>\n",
              "      <td>0</td>\n",
              "      <td>1</td>\n",
              "    </tr>\n",
              "    <tr>\n",
              "      <th>11585</th>\n",
              "      <td>51</td>\n",
              "      <td>87c14d061aad41638bc2d153158b008f</td>\n",
              "      <td>2015-10-26</td>\n",
              "      <td>51000.0</td>\n",
              "      <td>1858</td>\n",
              "      <td>5.0</td>\n",
              "      <td>5.0</td>\n",
              "      <td>4.0</td>\n",
              "      <td>22.0</td>\n",
              "      <td>5.0</td>\n",
              "      <td>4.0</td>\n",
              "      <td>5.0</td>\n",
              "      <td>4.0</td>\n",
              "      <td>2.0</td>\n",
              "      <td>3.0</td>\n",
              "      <td>5.0</td>\n",
              "      <td>4.0</td>\n",
              "      <td>5.0</td>\n",
              "      <td>4.0</td>\n",
              "      <td>2.0</td>\n",
              "      <td>3.0</td>\n",
              "      <td>0.0</td>\n",
              "      <td>4.0</td>\n",
              "      <td>3.0</td>\n",
              "      <td>4.0</td>\n",
              "      <td>3.0</td>\n",
              "      <td>1.0</td>\n",
              "      <td>3.0</td>\n",
              "      <td>0.0</td>\n",
              "      <td>280.67</td>\n",
              "      <td>8.714286</td>\n",
              "      <td>161.142857</td>\n",
              "      <td>28.0</td>\n",
              "      <td>28.0</td>\n",
              "      <td>0.80</td>\n",
              "      <td>1.0</td>\n",
              "      <td>12.76</td>\n",
              "      <td>0.011841</td>\n",
              "      <td>1</td>\n",
              "      <td>0</td>\n",
              "    </tr>\n",
              "    <tr>\n",
              "      <th>12579</th>\n",
              "      <td>58</td>\n",
              "      <td>047db31ef98140149f97667abee20860</td>\n",
              "      <td>2018-06-10</td>\n",
              "      <td>51000.0</td>\n",
              "      <td>900</td>\n",
              "      <td>0.0</td>\n",
              "      <td>6.0</td>\n",
              "      <td>3.0</td>\n",
              "      <td>9.0</td>\n",
              "      <td>0.0</td>\n",
              "      <td>0.0</td>\n",
              "      <td>0.0</td>\n",
              "      <td>0.0</td>\n",
              "      <td>0.0</td>\n",
              "      <td>0.0</td>\n",
              "      <td>6.0</td>\n",
              "      <td>3.0</td>\n",
              "      <td>5.0</td>\n",
              "      <td>6.0</td>\n",
              "      <td>2.0</td>\n",
              "      <td>4.0</td>\n",
              "      <td>0.0</td>\n",
              "      <td>3.0</td>\n",
              "      <td>2.0</td>\n",
              "      <td>3.0</td>\n",
              "      <td>3.0</td>\n",
              "      <td>1.0</td>\n",
              "      <td>2.0</td>\n",
              "      <td>0.0</td>\n",
              "      <td>9.18</td>\n",
              "      <td>8.777778</td>\n",
              "      <td>160.000000</td>\n",
              "      <td>0.0</td>\n",
              "      <td>22.0</td>\n",
              "      <td>0.50</td>\n",
              "      <td>0.0</td>\n",
              "      <td>1.02</td>\n",
              "      <td>0.010000</td>\n",
              "      <td>0</td>\n",
              "      <td>1</td>\n",
              "    </tr>\n",
              "    <tr>\n",
              "      <th>10900</th>\n",
              "      <td>59</td>\n",
              "      <td>3cc622f76e464bc1809a71e871579d6c</td>\n",
              "      <td>2017-08-20</td>\n",
              "      <td>44000.0</td>\n",
              "      <td>1194</td>\n",
              "      <td>1.0</td>\n",
              "      <td>1.0</td>\n",
              "      <td>0.0</td>\n",
              "      <td>10.0</td>\n",
              "      <td>1.0</td>\n",
              "      <td>0.0</td>\n",
              "      <td>1.0</td>\n",
              "      <td>1.0</td>\n",
              "      <td>0.0</td>\n",
              "      <td>1.0</td>\n",
              "      <td>1.0</td>\n",
              "      <td>0.0</td>\n",
              "      <td>1.0</td>\n",
              "      <td>1.0</td>\n",
              "      <td>0.0</td>\n",
              "      <td>1.0</td>\n",
              "      <td>0.0</td>\n",
              "      <td>0.0</td>\n",
              "      <td>0.0</td>\n",
              "      <td>0.0</td>\n",
              "      <td>0.0</td>\n",
              "      <td>0.0</td>\n",
              "      <td>0.0</td>\n",
              "      <td>0.0</td>\n",
              "      <td>86.43</td>\n",
              "      <td>10.000000</td>\n",
              "      <td>168.000000</td>\n",
              "      <td>2.0</td>\n",
              "      <td>2.0</td>\n",
              "      <td>0.00</td>\n",
              "      <td>1.0</td>\n",
              "      <td>8.64</td>\n",
              "      <td>0.008375</td>\n",
              "      <td>0</td>\n",
              "      <td>1</td>\n",
              "    </tr>\n",
              "    <tr>\n",
              "      <th>2468</th>\n",
              "      <td>62</td>\n",
              "      <td>30bed78a8a3e4a5ca596a84c0e7da8a1</td>\n",
              "      <td>2017-10-17</td>\n",
              "      <td>73000.0</td>\n",
              "      <td>1136</td>\n",
              "      <td>4.0</td>\n",
              "      <td>4.0</td>\n",
              "      <td>4.0</td>\n",
              "      <td>10.0</td>\n",
              "      <td>4.0</td>\n",
              "      <td>1.0</td>\n",
              "      <td>3.0</td>\n",
              "      <td>4.0</td>\n",
              "      <td>1.0</td>\n",
              "      <td>3.0</td>\n",
              "      <td>4.0</td>\n",
              "      <td>1.0</td>\n",
              "      <td>3.0</td>\n",
              "      <td>4.0</td>\n",
              "      <td>1.0</td>\n",
              "      <td>3.0</td>\n",
              "      <td>0.0</td>\n",
              "      <td>4.0</td>\n",
              "      <td>1.0</td>\n",
              "      <td>3.0</td>\n",
              "      <td>4.0</td>\n",
              "      <td>1.0</td>\n",
              "      <td>3.0</td>\n",
              "      <td>0.0</td>\n",
              "      <td>209.04</td>\n",
              "      <td>11.250000</td>\n",
              "      <td>204.000000</td>\n",
              "      <td>14.0</td>\n",
              "      <td>14.0</td>\n",
              "      <td>1.00</td>\n",
              "      <td>1.0</td>\n",
              "      <td>20.90</td>\n",
              "      <td>0.008803</td>\n",
              "      <td>1</td>\n",
              "      <td>0</td>\n",
              "    </tr>\n",
              "    <tr>\n",
              "      <th>6552</th>\n",
              "      <td>58</td>\n",
              "      <td>d3c01d3f66d142df959c19fb8bef8af9</td>\n",
              "      <td>2016-07-29</td>\n",
              "      <td>93000.0</td>\n",
              "      <td>1581</td>\n",
              "      <td>4.0</td>\n",
              "      <td>5.0</td>\n",
              "      <td>3.0</td>\n",
              "      <td>7.0</td>\n",
              "      <td>4.0</td>\n",
              "      <td>2.0</td>\n",
              "      <td>3.0</td>\n",
              "      <td>4.0</td>\n",
              "      <td>0.0</td>\n",
              "      <td>4.0</td>\n",
              "      <td>5.0</td>\n",
              "      <td>2.0</td>\n",
              "      <td>4.0</td>\n",
              "      <td>5.0</td>\n",
              "      <td>0.0</td>\n",
              "      <td>4.0</td>\n",
              "      <td>1.0</td>\n",
              "      <td>3.0</td>\n",
              "      <td>2.0</td>\n",
              "      <td>3.0</td>\n",
              "      <td>3.0</td>\n",
              "      <td>0.0</td>\n",
              "      <td>2.0</td>\n",
              "      <td>1.0</td>\n",
              "      <td>156.02</td>\n",
              "      <td>8.500000</td>\n",
              "      <td>168.000000</td>\n",
              "      <td>13.0</td>\n",
              "      <td>13.0</td>\n",
              "      <td>0.60</td>\n",
              "      <td>0.8</td>\n",
              "      <td>22.29</td>\n",
              "      <td>0.004428</td>\n",
              "      <td>0</td>\n",
              "      <td>1</td>\n",
              "    </tr>\n",
              "  </tbody>\n",
              "</table>\n",
              "</div>"
            ],
            "text/plain": [
              "       age                           cust_id  ... is__F  is__M\n",
              "408     60  efeaf350ca114cf685a0e15c482b74fa  ...     1      0\n",
              "4437    27  6fbd611055b84f45bb23eb003742207c  ...     0      1\n",
              "14101   29  35047ada557b416395fdb9e342c97c6f  ...     0      1\n",
              "5575    75  66e5459d394e418f94411e88ff43f8da  ...     1      0\n",
              "14267   58  cea7a0db90ea468b9b9d2e74884066b1  ...     0      1\n",
              "11585   51  87c14d061aad41638bc2d153158b008f  ...     1      0\n",
              "12579   58  047db31ef98140149f97667abee20860  ...     0      1\n",
              "10900   59  3cc622f76e464bc1809a71e871579d6c  ...     0      1\n",
              "2468    62  30bed78a8a3e4a5ca596a84c0e7da8a1  ...     1      0\n",
              "6552    58  d3c01d3f66d142df959c19fb8bef8af9  ...     0      1\n",
              "\n",
              "[10 rows x 40 columns]"
            ]
          },
          "metadata": {
            "tags": []
          },
          "execution_count": 4
        }
      ]
    },
    {
      "cell_type": "markdown",
      "metadata": {
        "id": "MxnsGblbnpbz"
      },
      "source": [
        "Adding label"
      ]
    },
    {
      "cell_type": "code",
      "metadata": {
        "colab": {
          "base_uri": "https://localhost:8080/"
        },
        "id": "x0IPiC06EXBH",
        "outputId": "3c5de6a0-aa3b-43b8-f14d-5d4eb5466196"
      },
      "source": [
        "data['customer_type'] = \"passive\"\n",
        "data.loc[(data['total_view_ratio'] >= 0.6) & (data['total_completion_ratio'] >= 0.2), 'customer_type'] = \"active\" \n",
        "data['customer_type'].value_counts()"
      ],
      "execution_count": 5,
      "outputs": [
        {
          "output_type": "execute_result",
          "data": {
            "text/plain": [
              "active     9637\n",
              "passive    5188\n",
              "Name: customer_type, dtype: int64"
            ]
          },
          "metadata": {
            "tags": []
          },
          "execution_count": 5
        }
      ]
    },
    {
      "cell_type": "markdown",
      "metadata": {
        "id": "POc7u66gvYRF"
      },
      "source": [
        "Feature / Taget Define"
      ]
    },
    {
      "cell_type": "code",
      "metadata": {
        "id": "r5U5cXVLvXqA"
      },
      "source": [
        "# define dataset\n",
        "X = data[[\n",
        "          'avg_difficulty', \n",
        "          'avg_duration', \n",
        "          'avg_transaction_amt', \n",
        "          'transactions_per_membership_days', \n",
        "          'days_as_member'\n",
        "          ]].to_numpy()\n",
        "\n",
        "# # Encoding non-numerical labels(target) to numerical labels\n",
        "# le = LabelEncoder()\n",
        "# y = le.fit_transform(data['customer_type'])\n",
        "\n",
        "y = data['customer_type']\n",
        "y = y.replace(to_replace='active', value = 0)\n",
        "y = y.replace(to_replace='passive', value = 1)"
      ],
      "execution_count": 6,
      "outputs": []
    },
    {
      "cell_type": "code",
      "metadata": {
        "id": "4eC49w_VI1PN",
        "colab": {
          "base_uri": "https://localhost:8080/"
        },
        "outputId": "f1189362-2f56-43c2-d502-4614d2b7ada5"
      },
      "source": [
        "# Create train and test sets\n",
        "X_train, X_test, y_train, y_test = train_test_split(X, y, test_size=0.2, random_state=21)\n",
        "\n",
        "from imblearn.over_sampling import SMOTE\n",
        "\n",
        "#Applying SMOTE to oversample the minority class before modeling\n",
        "oversample = SMOTE(random_state = 101)\n",
        "X_train, y_train = oversample.fit_resample(X_train, y_train)"
      ],
      "execution_count": 7,
      "outputs": [
        {
          "output_type": "stream",
          "text": [
            "/usr/local/lib/python3.6/dist-packages/sklearn/externals/six.py:31: FutureWarning: The module is deprecated in version 0.21 and will be removed in version 0.23 since we've dropped support for Python 2.7. Please rely on the official version of six (https://pypi.org/project/six/).\n",
            "  \"(https://pypi.org/project/six/).\", FutureWarning)\n",
            "/usr/local/lib/python3.6/dist-packages/sklearn/utils/deprecation.py:144: FutureWarning: The sklearn.neighbors.base module is  deprecated in version 0.22 and will be removed in version 0.24. The corresponding classes / functions should instead be imported from sklearn.neighbors. Anything that cannot be imported from sklearn.neighbors is now part of the private API.\n",
            "  warnings.warn(message, FutureWarning)\n",
            "/usr/local/lib/python3.6/dist-packages/sklearn/utils/deprecation.py:87: FutureWarning: Function safe_indexing is deprecated; safe_indexing is deprecated in version 0.22 and will be removed in version 0.24.\n",
            "  warnings.warn(msg, category=FutureWarning)\n"
          ],
          "name": "stderr"
        }
      ]
    },
    {
      "cell_type": "code",
      "metadata": {
        "colab": {
          "base_uri": "https://localhost:8080/"
        },
        "id": "UiPgdPqKtH-W",
        "outputId": "52249fdc-8be6-47db-8068-e042a386419b"
      },
      "source": [
        "knn = KNeighborsClassifier()\n",
        "sc = StandardScaler()\n",
        "sc.fit_transform(X_train)\n",
        "knn.fit(X_train, y_train)\n",
        "print('Accuracy: {}'.format(knn.score(X_test, y_test)))"
      ],
      "execution_count": 8,
      "outputs": [
        {
          "output_type": "stream",
          "text": [
            "Accuracy: 0.6691399662731872\n"
          ],
          "name": "stdout"
        }
      ]
    },
    {
      "cell_type": "code",
      "metadata": {
        "id": "Rg9l0mUnnYVJ"
      },
      "source": [
        "error_rate = []\n",
        "\n",
        "for i in range(1, 40):\n",
        "    steps2 = [('scaler', StandardScaler()),\n",
        "            ('knn', KNeighborsClassifier(metric='manhattan'))]\n",
        "    parameters2 = {'knn__n_neighbors': [i]}\n",
        "    pipeline2 = Pipeline(steps2)\n",
        "    gcv2 = GridSearchCV(pipeline2, param_grid=parameters2, cv=5, verbose=0, n_jobs=-1)\n",
        "    gcv2.fit(X_train, y_train)\n",
        "    pred_i = gcv2.predict(X_test)\n",
        "    error_rate.append(np.mean(pred_i != y_test))"
      ],
      "execution_count": 9,
      "outputs": []
    },
    {
      "cell_type": "code",
      "metadata": {
        "id": "WW27ECxOSwcu",
        "colab": {
          "base_uri": "https://localhost:8080/"
        },
        "outputId": "6f951378-e6e2-40c4-9d04-3a942f591a83"
      },
      "source": [
        "error_rate.index(min(error_rate))"
      ],
      "execution_count": 10,
      "outputs": [
        {
          "output_type": "execute_result",
          "data": {
            "text/plain": [
              "19"
            ]
          },
          "metadata": {
            "tags": []
          },
          "execution_count": 10
        }
      ]
    },
    {
      "cell_type": "code",
      "metadata": {
        "id": "QunsP8JInxW8",
        "colab": {
          "base_uri": "https://localhost:8080/",
          "height": 391
        },
        "outputId": "dcbbe1b8-99f8-4cb0-e362-b98b818a12ae"
      },
      "source": [
        "plt.figure(figsize=(10,6))\n",
        "plt.plot(range(1,40), error_rate, color = 'blue', linestyle='dashed', marker = 'o', markerfacecolor = 'red', markersize = 10)"
      ],
      "execution_count": 11,
      "outputs": [
        {
          "output_type": "execute_result",
          "data": {
            "text/plain": [
              "[<matplotlib.lines.Line2D at 0x7fe616290fd0>]"
            ]
          },
          "metadata": {
            "tags": []
          },
          "execution_count": 11
        },
        {
          "output_type": "display_data",
          "data": {
            "image/png": "[encoded data removed]",
            "text/plain": [
              "<Figure size 720x432 with 1 Axes>"
            ]
          },
          "metadata": {
            "tags": [],
            "needs_background": "light"
          }
        }
      ]
    },
    {
      "cell_type": "code",
      "metadata": {
        "colab": {
          "base_uri": "https://localhost:8080/"
        },
        "id": "QWpI-JaCCxpa",
        "outputId": "a2d3412c-c1e3-4863-d81b-24357b79e771"
      },
      "source": [
        "sc = StandardScaler()\n",
        "sc.fit_transform(X)\n",
        "knn = KNeighborsClassifier(metric='manhattan', n_neighbors=19)\n",
        "knn.fit(X_train, y_train)\n",
        "y_pred = knn.predict(X_test)\n",
        "\n",
        "print(\"Accuracy: {}\".format(knn.score(X_test, y_test)))\n",
        "print(classification_report(y_test, y_pred))"
      ],
      "execution_count": 12,
      "outputs": [
        {
          "output_type": "stream",
          "text": [
            "Accuracy: 0.7129848229342327\n",
            "              precision    recall  f1-score   support\n",
            "\n",
            "           0       0.80      0.75      0.77      1942\n",
            "           1       0.58      0.63      0.60      1023\n",
            "\n",
            "    accuracy                           0.71      2965\n",
            "   macro avg       0.69      0.69      0.69      2965\n",
            "weighted avg       0.72      0.71      0.72      2965\n",
            "\n"
          ],
          "name": "stdout"
        }
      ]
    },
    {
      "cell_type": "code",
      "metadata": {
        "id": "BSl8j0M83SSN",
        "colab": {
          "base_uri": "https://localhost:8080/",
          "height": 313
        },
        "outputId": "75fe94c3-6ef6-43de-d952-d7cc34f2f720"
      },
      "source": [
        "from sklearn.metrics import plot_confusion_matrix\n",
        "disp = plot_confusion_matrix(knn, X_test, y_test,\n",
        "                                 cmap=plt.cm.Blues,\n",
        "                                 normalize='true')\n",
        "print(disp.confusion_matrix)\n",
        "\n",
        "plt.show()"
      ],
      "execution_count": 13,
      "outputs": [
        {
          "output_type": "stream",
          "text": [
            "[[0.75437693 0.24562307]\n",
            " [0.3655914  0.6344086 ]]\n"
          ],
          "name": "stdout"
        },
        {
          "output_type": "display_data",
          "data": {
            "image/png": "[encoded data removed]",
            "text/plain": [
              "<Figure size 432x288 with 2 Axes>"
            ]
          },
          "metadata": {
            "tags": [],
            "needs_background": "light"
          }
        }
      ]
    },
    {
      "cell_type": "code",
      "metadata": {
        "id": "i5OfBqi8zPJi",
        "colab": {
          "base_uri": "https://localhost:8080/"
        },
        "outputId": "b9bc5d87-4c52-4171-b1eb-f95bbaeba5d9"
      },
      "source": [
        "# define models and parameters\n",
        "from sklearn.model_selection import RepeatedStratifiedKFold\n",
        "from sklearn.model_selection import GridSearchCV\n",
        "\n",
        "model = KNeighborsClassifier()\n",
        "weights = ['uniform', 'distance']\n",
        "metric = ['euclidean', 'manhattan', 'minkowski','auto']\n",
        "algorithm = ['auto', 'ball_tree', 'kd_tree', 'brute']\n",
        "# define grid search\n",
        "grid = dict(weights=weights,metric=metric, algorithm=algorithm)\n",
        "cv = RepeatedStratifiedKFold(n_splits=10, n_repeats=3, random_state=1)\n",
        "grid_search = GridSearchCV(estimator=model, param_grid=grid, n_jobs=-1, cv=cv, scoring='accuracy',error_score=0)\n",
        "grid_result = grid_search.fit(X, y)\n",
        "# summarize results\n",
        "print(\"Best: %f using %s\" % (grid_result.best_score_, grid_result.best_params_))\n",
        "means = grid_result.cv_results_['mean_test_score']\n",
        "stds = grid_result.cv_results_['std_test_score']\n",
        "params = grid_result.cv_results_['params']\n",
        "for mean, stdev, param in zip(means, stds, params):\n",
        "    print(\"%f (%f) with: %r\" % (mean, stdev, param))"
      ],
      "execution_count": 14,
      "outputs": [
        {
          "output_type": "stream",
          "text": [
            "/usr/local/lib/python3.6/dist-packages/joblib/externals/loky/process_executor.py:691: UserWarning: A worker stopped while some jobs were given to the executor. This can be caused by a too short worker timeout or by a memory leak.\n",
            "  \"timeout or by a memory leak.\", UserWarning\n"
          ],
          "name": "stderr"
        },
        {
          "output_type": "stream",
          "text": [
            "Best: 0.733087 using {'algorithm': 'auto', 'metric': 'manhattan', 'weights': 'uniform'}\n",
            "0.731243 (0.008439) with: {'algorithm': 'auto', 'metric': 'euclidean', 'weights': 'uniform'}\n",
            "0.726993 (0.008465) with: {'algorithm': 'auto', 'metric': 'euclidean', 'weights': 'distance'}\n",
            "0.733087 (0.009880) with: {'algorithm': 'auto', 'metric': 'manhattan', 'weights': 'uniform'}\n",
            "0.728297 (0.009689) with: {'algorithm': 'auto', 'metric': 'manhattan', 'weights': 'distance'}\n",
            "0.731243 (0.008439) with: {'algorithm': 'auto', 'metric': 'minkowski', 'weights': 'uniform'}\n",
            "0.726993 (0.008465) with: {'algorithm': 'auto', 'metric': 'minkowski', 'weights': 'distance'}\n",
            "0.000000 (0.000000) with: {'algorithm': 'auto', 'metric': 'auto', 'weights': 'uniform'}\n",
            "0.000000 (0.000000) with: {'algorithm': 'auto', 'metric': 'auto', 'weights': 'distance'}\n",
            "0.731243 (0.008439) with: {'algorithm': 'ball_tree', 'metric': 'euclidean', 'weights': 'uniform'}\n",
            "0.726993 (0.008465) with: {'algorithm': 'ball_tree', 'metric': 'euclidean', 'weights': 'distance'}\n",
            "0.733087 (0.009880) with: {'algorithm': 'ball_tree', 'metric': 'manhattan', 'weights': 'uniform'}\n",
            "0.728297 (0.009689) with: {'algorithm': 'ball_tree', 'metric': 'manhattan', 'weights': 'distance'}\n",
            "0.731243 (0.008439) with: {'algorithm': 'ball_tree', 'metric': 'minkowski', 'weights': 'uniform'}\n",
            "0.726993 (0.008465) with: {'algorithm': 'ball_tree', 'metric': 'minkowski', 'weights': 'distance'}\n",
            "0.000000 (0.000000) with: {'algorithm': 'ball_tree', 'metric': 'auto', 'weights': 'uniform'}\n",
            "0.000000 (0.000000) with: {'algorithm': 'ball_tree', 'metric': 'auto', 'weights': 'distance'}\n",
            "0.731243 (0.008439) with: {'algorithm': 'kd_tree', 'metric': 'euclidean', 'weights': 'uniform'}\n",
            "0.726993 (0.008465) with: {'algorithm': 'kd_tree', 'metric': 'euclidean', 'weights': 'distance'}\n",
            "0.733087 (0.009880) with: {'algorithm': 'kd_tree', 'metric': 'manhattan', 'weights': 'uniform'}\n",
            "0.728297 (0.009689) with: {'algorithm': 'kd_tree', 'metric': 'manhattan', 'weights': 'distance'}\n",
            "0.731243 (0.008439) with: {'algorithm': 'kd_tree', 'metric': 'minkowski', 'weights': 'uniform'}\n",
            "0.726993 (0.008465) with: {'algorithm': 'kd_tree', 'metric': 'minkowski', 'weights': 'distance'}\n",
            "0.000000 (0.000000) with: {'algorithm': 'kd_tree', 'metric': 'auto', 'weights': 'uniform'}\n",
            "0.000000 (0.000000) with: {'algorithm': 'kd_tree', 'metric': 'auto', 'weights': 'distance'}\n",
            "0.731243 (0.008439) with: {'algorithm': 'brute', 'metric': 'euclidean', 'weights': 'uniform'}\n",
            "0.726993 (0.008465) with: {'algorithm': 'brute', 'metric': 'euclidean', 'weights': 'distance'}\n",
            "0.733087 (0.009880) with: {'algorithm': 'brute', 'metric': 'manhattan', 'weights': 'uniform'}\n",
            "0.728297 (0.009689) with: {'algorithm': 'brute', 'metric': 'manhattan', 'weights': 'distance'}\n",
            "0.731243 (0.008439) with: {'algorithm': 'brute', 'metric': 'minkowski', 'weights': 'uniform'}\n",
            "0.726993 (0.008465) with: {'algorithm': 'brute', 'metric': 'minkowski', 'weights': 'distance'}\n",
            "0.000000 (0.000000) with: {'algorithm': 'brute', 'metric': 'auto', 'weights': 'uniform'}\n",
            "0.000000 (0.000000) with: {'algorithm': 'brute', 'metric': 'auto', 'weights': 'distance'}\n"
          ],
          "name": "stdout"
        }
      ]
    },
    {
      "cell_type": "code",
      "metadata": {
        "colab": {
          "base_uri": "https://localhost:8080/"
        },
        "id": "6tTqNLjy-hdU",
        "outputId": "6ab1c73b-ea15-430c-9ecb-289f9ea2a696"
      },
      "source": [
        "sc = StandardScaler()\n",
        "sc.fit_transform(X)\n",
        "knn = KNeighborsClassifier(metric='manhattan', n_neighbors=19)\n",
        "knn.fit(X_train, y_train)\n",
        "y_pred = knn.predict(X_test)\n",
        "\n",
        "print(\"Accuracy: {}\".format(knn.score(X_test, y_test)))\n",
        "print(classification_report(y_test, y_pred))"
      ],
      "execution_count": 15,
      "outputs": [
        {
          "output_type": "stream",
          "text": [
            "Accuracy: 0.7129848229342327\n",
            "              precision    recall  f1-score   support\n",
            "\n",
            "           0       0.80      0.75      0.77      1942\n",
            "           1       0.58      0.63      0.60      1023\n",
            "\n",
            "    accuracy                           0.71      2965\n",
            "   macro avg       0.69      0.69      0.69      2965\n",
            "weighted avg       0.72      0.71      0.72      2965\n",
            "\n"
          ],
          "name": "stdout"
        }
      ]
    }
  ]
}