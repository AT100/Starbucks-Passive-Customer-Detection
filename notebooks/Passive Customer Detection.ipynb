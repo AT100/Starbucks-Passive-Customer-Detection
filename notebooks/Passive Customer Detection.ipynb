{
 "cells": [
  {
   "cell_type": "markdown",
   "metadata": {},
   "source": [
    "# Recursive Feature Selection using Gradient based and Tree based Estimators "
   ]
  },
  {
   "cell_type": "code",
   "execution_count": 1,
   "metadata": {},
   "outputs": [
    {
     "name": "stdout",
     "output_type": "stream",
     "text": [
      "Requirement already up-to-date: imbalanced-learn in c:\\users\\anjal\\anaconda3\\lib\\site-packages (0.7.0)\n",
      "Requirement already satisfied, skipping upgrade: numpy>=1.13.3 in c:\\users\\anjal\\anaconda3\\lib\\site-packages (from imbalanced-learn) (1.18.5)\n",
      "Requirement already satisfied, skipping upgrade: joblib>=0.11 in c:\\users\\anjal\\anaconda3\\lib\\site-packages (from imbalanced-learn) (0.16.0)\n",
      "Requirement already satisfied, skipping upgrade: scikit-learn>=0.23 in c:\\users\\anjal\\anaconda3\\lib\\site-packages (from imbalanced-learn) (0.23.1)\n",
      "Requirement already satisfied, skipping upgrade: scipy>=0.19.1 in c:\\users\\anjal\\anaconda3\\lib\\site-packages (from imbalanced-learn) (1.5.0)\n",
      "Requirement already satisfied, skipping upgrade: threadpoolctl>=2.0.0 in c:\\users\\anjal\\anaconda3\\lib\\site-packages (from scikit-learn>=0.23->imbalanced-learn) (2.1.0)\n",
      "Note: you may need to restart the kernel to use updated packages.\n"
     ]
    }
   ],
   "source": [
    "pip install -U imbalanced-learn"
   ]
  },
  {
   "cell_type": "code",
   "execution_count": 33,
   "metadata": {},
   "outputs": [],
   "source": [
    "import numpy as np\n",
    "import pandas as pd\n",
    "import matplotlib.pyplot as plt\n",
    "\n",
    "import warnings\n",
    "warnings.filterwarnings('ignore')\n",
    "pd.options.display.max_columns = None\n",
    "from sklearn.model_selection import train_test_split\n",
    "from sklearn.linear_model import LogisticRegression\n",
    "from sklearn.tree import DecisionTreeClassifier\n",
    "from sklearn.ensemble import RandomForestClassifier\n",
    "from sklearn.ensemble import GradientBoostingClassifier\n",
    "from sklearn.ensemble import AdaBoostClassifier\n",
    "from sklearn.model_selection import StratifiedKFold\n",
    "from sklearn.feature_selection import RFECV\n",
    "from sklearn.pipeline import Pipeline\n",
    "from sklearn.model_selection import cross_val_score\n",
    "from sklearn.model_selection import RepeatedStratifiedKFold\n",
    "from sklearn.model_selection import GridSearchCV \n",
    "from imblearn.over_sampling import SMOTE\n",
    "from sklearn.metrics import confusion_matrix\n",
    "from sklearn.metrics import f1_score\n",
    "import seaborn as sns"
   ]
  },
  {
   "cell_type": "code",
   "execution_count": 3,
   "metadata": {},
   "outputs": [
    {
     "data": {
      "text/html": [
       "<div>\n",
       "<style scoped>\n",
       "    .dataframe tbody tr th:only-of-type {\n",
       "        vertical-align: middle;\n",
       "    }\n",
       "\n",
       "    .dataframe tbody tr th {\n",
       "        vertical-align: top;\n",
       "    }\n",
       "\n",
       "    .dataframe thead th {\n",
       "        text-align: right;\n",
       "    }\n",
       "</style>\n",
       "<table border=\"1\" class=\"dataframe\">\n",
       "  <thead>\n",
       "    <tr style=\"text-align: right;\">\n",
       "      <th></th>\n",
       "      <th>gender</th>\n",
       "      <th>age</th>\n",
       "      <th>cust_id</th>\n",
       "      <th>became_member_on</th>\n",
       "      <th>days_as_member</th>\n",
       "      <th>income_in_k</th>\n",
       "      <th>Total offer completed</th>\n",
       "      <th>Total offer received</th>\n",
       "      <th>Total offer viewed</th>\n",
       "      <th>Total transaction</th>\n",
       "      <th>offer completed_via_email</th>\n",
       "      <th>offer completed_via_social</th>\n",
       "      <th>offer completed_via_mobile</th>\n",
       "      <th>offer completed_via_web</th>\n",
       "      <th>offer completed bogo count</th>\n",
       "      <th>offer completed discount count</th>\n",
       "      <th>offer received_via_email</th>\n",
       "      <th>offer received_via_social</th>\n",
       "      <th>offer received_via_mobile</th>\n",
       "      <th>offer received_via_web</th>\n",
       "      <th>offer received bogo count</th>\n",
       "      <th>offer received discount count</th>\n",
       "      <th>offer received informational count</th>\n",
       "      <th>offer viewed_via_email</th>\n",
       "      <th>offer viewed_via_social</th>\n",
       "      <th>offer viewed_via_mobile</th>\n",
       "      <th>offer viewed_via_web</th>\n",
       "      <th>offer viewed bogo count</th>\n",
       "      <th>offer viewed discount count</th>\n",
       "      <th>offer viewed informational count</th>\n",
       "      <th>Total transaction amount</th>\n",
       "      <th>avg_difficulty</th>\n",
       "      <th>avg_duration</th>\n",
       "      <th>total_reward_received</th>\n",
       "      <th>total_reward_defined</th>\n",
       "      <th>total_view_ratio</th>\n",
       "      <th>total_completion_ratio</th>\n",
       "      <th>avg_transaction_amt</th>\n",
       "      <th>transactions_per_membership_days</th>\n",
       "      <th>customer_type</th>\n",
       "    </tr>\n",
       "  </thead>\n",
       "  <tbody>\n",
       "    <tr>\n",
       "      <th>7277</th>\n",
       "      <td>M</td>\n",
       "      <td>81</td>\n",
       "      <td>6243a283a715407f8115809b5673390d</td>\n",
       "      <td>2018-06-23</td>\n",
       "      <td>892</td>\n",
       "      <td>38.0</td>\n",
       "      <td>0.0</td>\n",
       "      <td>2.0</td>\n",
       "      <td>2.0</td>\n",
       "      <td>6.0</td>\n",
       "      <td>0.0</td>\n",
       "      <td>0.0</td>\n",
       "      <td>0.0</td>\n",
       "      <td>0.0</td>\n",
       "      <td>0.0</td>\n",
       "      <td>0.0</td>\n",
       "      <td>2.0</td>\n",
       "      <td>2.0</td>\n",
       "      <td>2.0</td>\n",
       "      <td>2.0</td>\n",
       "      <td>1.0</td>\n",
       "      <td>1.0</td>\n",
       "      <td>0.0</td>\n",
       "      <td>2.0</td>\n",
       "      <td>2.0</td>\n",
       "      <td>2.0</td>\n",
       "      <td>2.0</td>\n",
       "      <td>1.0</td>\n",
       "      <td>1.0</td>\n",
       "      <td>0.0</td>\n",
       "      <td>13.84</td>\n",
       "      <td>10.000000</td>\n",
       "      <td>180.000000</td>\n",
       "      <td>0.0</td>\n",
       "      <td>12.0</td>\n",
       "      <td>1.00</td>\n",
       "      <td>0.000</td>\n",
       "      <td>2.31</td>\n",
       "      <td>0.006726</td>\n",
       "      <td>passive</td>\n",
       "    </tr>\n",
       "    <tr>\n",
       "      <th>7854</th>\n",
       "      <td>F</td>\n",
       "      <td>56</td>\n",
       "      <td>4c6523b95f094c258015c96a35e231b0</td>\n",
       "      <td>2016-08-08</td>\n",
       "      <td>1576</td>\n",
       "      <td>77.0</td>\n",
       "      <td>3.0</td>\n",
       "      <td>5.0</td>\n",
       "      <td>3.0</td>\n",
       "      <td>4.0</td>\n",
       "      <td>3.0</td>\n",
       "      <td>3.0</td>\n",
       "      <td>3.0</td>\n",
       "      <td>2.0</td>\n",
       "      <td>2.0</td>\n",
       "      <td>1.0</td>\n",
       "      <td>5.0</td>\n",
       "      <td>5.0</td>\n",
       "      <td>5.0</td>\n",
       "      <td>3.0</td>\n",
       "      <td>3.0</td>\n",
       "      <td>1.0</td>\n",
       "      <td>1.0</td>\n",
       "      <td>3.0</td>\n",
       "      <td>3.0</td>\n",
       "      <td>3.0</td>\n",
       "      <td>3.0</td>\n",
       "      <td>2.0</td>\n",
       "      <td>1.0</td>\n",
       "      <td>0.0</td>\n",
       "      <td>84.65</td>\n",
       "      <td>6.909091</td>\n",
       "      <td>137.454545</td>\n",
       "      <td>18.0</td>\n",
       "      <td>28.0</td>\n",
       "      <td>0.60</td>\n",
       "      <td>0.600</td>\n",
       "      <td>21.16</td>\n",
       "      <td>0.002538</td>\n",
       "      <td>active</td>\n",
       "    </tr>\n",
       "    <tr>\n",
       "      <th>2220</th>\n",
       "      <td>F</td>\n",
       "      <td>59</td>\n",
       "      <td>0020c2b971eb4e9188eac86d93036a77</td>\n",
       "      <td>2016-03-04</td>\n",
       "      <td>1733</td>\n",
       "      <td>90.0</td>\n",
       "      <td>3.0</td>\n",
       "      <td>5.0</td>\n",
       "      <td>3.0</td>\n",
       "      <td>8.0</td>\n",
       "      <td>3.0</td>\n",
       "      <td>3.0</td>\n",
       "      <td>3.0</td>\n",
       "      <td>3.0</td>\n",
       "      <td>1.0</td>\n",
       "      <td>2.0</td>\n",
       "      <td>5.0</td>\n",
       "      <td>5.0</td>\n",
       "      <td>5.0</td>\n",
       "      <td>3.0</td>\n",
       "      <td>2.0</td>\n",
       "      <td>2.0</td>\n",
       "      <td>1.0</td>\n",
       "      <td>3.0</td>\n",
       "      <td>3.0</td>\n",
       "      <td>3.0</td>\n",
       "      <td>2.0</td>\n",
       "      <td>1.0</td>\n",
       "      <td>1.0</td>\n",
       "      <td>1.0</td>\n",
       "      <td>196.86</td>\n",
       "      <td>8.181818</td>\n",
       "      <td>170.181818</td>\n",
       "      <td>14.0</td>\n",
       "      <td>24.0</td>\n",
       "      <td>0.60</td>\n",
       "      <td>0.600</td>\n",
       "      <td>24.61</td>\n",
       "      <td>0.004616</td>\n",
       "      <td>active</td>\n",
       "    </tr>\n",
       "    <tr>\n",
       "      <th>7134</th>\n",
       "      <td>M</td>\n",
       "      <td>68</td>\n",
       "      <td>8b113c0c1ccb4650ac550e3a7a7710f4</td>\n",
       "      <td>2016-01-23</td>\n",
       "      <td>1774</td>\n",
       "      <td>50.0</td>\n",
       "      <td>1.0</td>\n",
       "      <td>5.0</td>\n",
       "      <td>4.0</td>\n",
       "      <td>18.0</td>\n",
       "      <td>1.0</td>\n",
       "      <td>1.0</td>\n",
       "      <td>1.0</td>\n",
       "      <td>1.0</td>\n",
       "      <td>0.0</td>\n",
       "      <td>1.0</td>\n",
       "      <td>5.0</td>\n",
       "      <td>4.0</td>\n",
       "      <td>4.0</td>\n",
       "      <td>4.0</td>\n",
       "      <td>3.0</td>\n",
       "      <td>2.0</td>\n",
       "      <td>0.0</td>\n",
       "      <td>4.0</td>\n",
       "      <td>4.0</td>\n",
       "      <td>4.0</td>\n",
       "      <td>3.0</td>\n",
       "      <td>3.0</td>\n",
       "      <td>1.0</td>\n",
       "      <td>0.0</td>\n",
       "      <td>43.88</td>\n",
       "      <td>10.100000</td>\n",
       "      <td>156.000000</td>\n",
       "      <td>3.0</td>\n",
       "      <td>38.0</td>\n",
       "      <td>0.80</td>\n",
       "      <td>0.200</td>\n",
       "      <td>2.44</td>\n",
       "      <td>0.010147</td>\n",
       "      <td>active</td>\n",
       "    </tr>\n",
       "    <tr>\n",
       "      <th>3235</th>\n",
       "      <td>F</td>\n",
       "      <td>45</td>\n",
       "      <td>591b17b5a24a44f7a23bd2296e46e0c4</td>\n",
       "      <td>2013-09-09</td>\n",
       "      <td>2640</td>\n",
       "      <td>82.0</td>\n",
       "      <td>1.0</td>\n",
       "      <td>3.0</td>\n",
       "      <td>3.0</td>\n",
       "      <td>3.0</td>\n",
       "      <td>1.0</td>\n",
       "      <td>1.0</td>\n",
       "      <td>1.0</td>\n",
       "      <td>1.0</td>\n",
       "      <td>0.0</td>\n",
       "      <td>1.0</td>\n",
       "      <td>3.0</td>\n",
       "      <td>2.0</td>\n",
       "      <td>2.0</td>\n",
       "      <td>2.0</td>\n",
       "      <td>0.0</td>\n",
       "      <td>2.0</td>\n",
       "      <td>1.0</td>\n",
       "      <td>3.0</td>\n",
       "      <td>2.0</td>\n",
       "      <td>2.0</td>\n",
       "      <td>2.0</td>\n",
       "      <td>0.0</td>\n",
       "      <td>2.0</td>\n",
       "      <td>1.0</td>\n",
       "      <td>69.33</td>\n",
       "      <td>8.714286</td>\n",
       "      <td>161.142857</td>\n",
       "      <td>3.0</td>\n",
       "      <td>8.0</td>\n",
       "      <td>1.00</td>\n",
       "      <td>0.333</td>\n",
       "      <td>23.11</td>\n",
       "      <td>0.001136</td>\n",
       "      <td>active</td>\n",
       "    </tr>\n",
       "    <tr>\n",
       "      <th>13068</th>\n",
       "      <td>F</td>\n",
       "      <td>19</td>\n",
       "      <td>23546fb2449845b6b5a09bd9d33e900c</td>\n",
       "      <td>2017-10-21</td>\n",
       "      <td>1137</td>\n",
       "      <td>58.0</td>\n",
       "      <td>1.0</td>\n",
       "      <td>2.0</td>\n",
       "      <td>2.0</td>\n",
       "      <td>5.0</td>\n",
       "      <td>1.0</td>\n",
       "      <td>0.0</td>\n",
       "      <td>1.0</td>\n",
       "      <td>1.0</td>\n",
       "      <td>0.0</td>\n",
       "      <td>1.0</td>\n",
       "      <td>2.0</td>\n",
       "      <td>1.0</td>\n",
       "      <td>2.0</td>\n",
       "      <td>1.0</td>\n",
       "      <td>0.0</td>\n",
       "      <td>1.0</td>\n",
       "      <td>1.0</td>\n",
       "      <td>2.0</td>\n",
       "      <td>1.0</td>\n",
       "      <td>2.0</td>\n",
       "      <td>1.0</td>\n",
       "      <td>0.0</td>\n",
       "      <td>1.0</td>\n",
       "      <td>1.0</td>\n",
       "      <td>75.61</td>\n",
       "      <td>6.000000</td>\n",
       "      <td>129.600000</td>\n",
       "      <td>2.0</td>\n",
       "      <td>2.0</td>\n",
       "      <td>1.00</td>\n",
       "      <td>0.500</td>\n",
       "      <td>15.12</td>\n",
       "      <td>0.004398</td>\n",
       "      <td>active</td>\n",
       "    </tr>\n",
       "    <tr>\n",
       "      <th>8807</th>\n",
       "      <td>F</td>\n",
       "      <td>62</td>\n",
       "      <td>63305b7efae44338a6d7c6c78c996a1e</td>\n",
       "      <td>2018-03-04</td>\n",
       "      <td>1003</td>\n",
       "      <td>51.0</td>\n",
       "      <td>0.0</td>\n",
       "      <td>6.0</td>\n",
       "      <td>6.0</td>\n",
       "      <td>2.0</td>\n",
       "      <td>0.0</td>\n",
       "      <td>0.0</td>\n",
       "      <td>0.0</td>\n",
       "      <td>0.0</td>\n",
       "      <td>0.0</td>\n",
       "      <td>0.0</td>\n",
       "      <td>6.0</td>\n",
       "      <td>3.0</td>\n",
       "      <td>5.0</td>\n",
       "      <td>5.0</td>\n",
       "      <td>2.0</td>\n",
       "      <td>3.0</td>\n",
       "      <td>1.0</td>\n",
       "      <td>6.0</td>\n",
       "      <td>3.0</td>\n",
       "      <td>5.0</td>\n",
       "      <td>5.0</td>\n",
       "      <td>2.0</td>\n",
       "      <td>3.0</td>\n",
       "      <td>1.0</td>\n",
       "      <td>15.57</td>\n",
       "      <td>8.666667</td>\n",
       "      <td>156.000000</td>\n",
       "      <td>0.0</td>\n",
       "      <td>25.0</td>\n",
       "      <td>1.00</td>\n",
       "      <td>0.000</td>\n",
       "      <td>7.78</td>\n",
       "      <td>0.001994</td>\n",
       "      <td>passive</td>\n",
       "    </tr>\n",
       "    <tr>\n",
       "      <th>1468</th>\n",
       "      <td>F</td>\n",
       "      <td>33</td>\n",
       "      <td>28b4168756ee40559f8d8a98762f28ab</td>\n",
       "      <td>2016-03-24</td>\n",
       "      <td>1713</td>\n",
       "      <td>71.0</td>\n",
       "      <td>4.0</td>\n",
       "      <td>6.0</td>\n",
       "      <td>5.0</td>\n",
       "      <td>13.0</td>\n",
       "      <td>4.0</td>\n",
       "      <td>3.0</td>\n",
       "      <td>3.0</td>\n",
       "      <td>3.0</td>\n",
       "      <td>3.0</td>\n",
       "      <td>1.0</td>\n",
       "      <td>6.0</td>\n",
       "      <td>3.0</td>\n",
       "      <td>5.0</td>\n",
       "      <td>5.0</td>\n",
       "      <td>3.0</td>\n",
       "      <td>1.0</td>\n",
       "      <td>2.0</td>\n",
       "      <td>5.0</td>\n",
       "      <td>3.0</td>\n",
       "      <td>5.0</td>\n",
       "      <td>4.0</td>\n",
       "      <td>3.0</td>\n",
       "      <td>0.0</td>\n",
       "      <td>2.0</td>\n",
       "      <td>192.14</td>\n",
       "      <td>7.666667</td>\n",
       "      <td>139.200000</td>\n",
       "      <td>30.0</td>\n",
       "      <td>30.0</td>\n",
       "      <td>0.83</td>\n",
       "      <td>0.667</td>\n",
       "      <td>14.78</td>\n",
       "      <td>0.007589</td>\n",
       "      <td>active</td>\n",
       "    </tr>\n",
       "    <tr>\n",
       "      <th>3495</th>\n",
       "      <td>M</td>\n",
       "      <td>42</td>\n",
       "      <td>1852fd4c322746798b6128917e068aa7</td>\n",
       "      <td>2014-01-02</td>\n",
       "      <td>2525</td>\n",
       "      <td>57.0</td>\n",
       "      <td>3.0</td>\n",
       "      <td>6.0</td>\n",
       "      <td>6.0</td>\n",
       "      <td>21.0</td>\n",
       "      <td>3.0</td>\n",
       "      <td>2.0</td>\n",
       "      <td>3.0</td>\n",
       "      <td>3.0</td>\n",
       "      <td>1.0</td>\n",
       "      <td>2.0</td>\n",
       "      <td>6.0</td>\n",
       "      <td>5.0</td>\n",
       "      <td>6.0</td>\n",
       "      <td>5.0</td>\n",
       "      <td>2.0</td>\n",
       "      <td>3.0</td>\n",
       "      <td>1.0</td>\n",
       "      <td>6.0</td>\n",
       "      <td>5.0</td>\n",
       "      <td>6.0</td>\n",
       "      <td>5.0</td>\n",
       "      <td>2.0</td>\n",
       "      <td>3.0</td>\n",
       "      <td>1.0</td>\n",
       "      <td>66.47</td>\n",
       "      <td>6.400000</td>\n",
       "      <td>172.800000</td>\n",
       "      <td>10.0</td>\n",
       "      <td>17.0</td>\n",
       "      <td>1.00</td>\n",
       "      <td>0.500</td>\n",
       "      <td>3.17</td>\n",
       "      <td>0.008317</td>\n",
       "      <td>active</td>\n",
       "    </tr>\n",
       "    <tr>\n",
       "      <th>3034</th>\n",
       "      <td>F</td>\n",
       "      <td>57</td>\n",
       "      <td>d0532474533d4dcaa552813f36898506</td>\n",
       "      <td>2016-03-07</td>\n",
       "      <td>1730</td>\n",
       "      <td>34.0</td>\n",
       "      <td>0.0</td>\n",
       "      <td>6.0</td>\n",
       "      <td>2.0</td>\n",
       "      <td>10.0</td>\n",
       "      <td>0.0</td>\n",
       "      <td>0.0</td>\n",
       "      <td>0.0</td>\n",
       "      <td>0.0</td>\n",
       "      <td>0.0</td>\n",
       "      <td>0.0</td>\n",
       "      <td>6.0</td>\n",
       "      <td>3.0</td>\n",
       "      <td>4.0</td>\n",
       "      <td>5.0</td>\n",
       "      <td>4.0</td>\n",
       "      <td>2.0</td>\n",
       "      <td>0.0</td>\n",
       "      <td>2.0</td>\n",
       "      <td>2.0</td>\n",
       "      <td>2.0</td>\n",
       "      <td>1.0</td>\n",
       "      <td>2.0</td>\n",
       "      <td>0.0</td>\n",
       "      <td>0.0</td>\n",
       "      <td>16.15</td>\n",
       "      <td>10.000000</td>\n",
       "      <td>168.000000</td>\n",
       "      <td>0.0</td>\n",
       "      <td>35.0</td>\n",
       "      <td>0.33</td>\n",
       "      <td>0.000</td>\n",
       "      <td>1.62</td>\n",
       "      <td>0.005780</td>\n",
       "      <td>passive</td>\n",
       "    </tr>\n",
       "  </tbody>\n",
       "</table>\n",
       "</div>"
      ],
      "text/plain": [
       "      gender  age                           cust_id became_member_on  \\\n",
       "7277       M   81  6243a283a715407f8115809b5673390d       2018-06-23   \n",
       "7854       F   56  4c6523b95f094c258015c96a35e231b0       2016-08-08   \n",
       "2220       F   59  0020c2b971eb4e9188eac86d93036a77       2016-03-04   \n",
       "7134       M   68  8b113c0c1ccb4650ac550e3a7a7710f4       2016-01-23   \n",
       "3235       F   45  591b17b5a24a44f7a23bd2296e46e0c4       2013-09-09   \n",
       "13068      F   19  23546fb2449845b6b5a09bd9d33e900c       2017-10-21   \n",
       "8807       F   62  63305b7efae44338a6d7c6c78c996a1e       2018-03-04   \n",
       "1468       F   33  28b4168756ee40559f8d8a98762f28ab       2016-03-24   \n",
       "3495       M   42  1852fd4c322746798b6128917e068aa7       2014-01-02   \n",
       "3034       F   57  d0532474533d4dcaa552813f36898506       2016-03-07   \n",
       "\n",
       "       days_as_member  income_in_k  Total offer completed  \\\n",
       "7277              892         38.0                    0.0   \n",
       "7854             1576         77.0                    3.0   \n",
       "2220             1733         90.0                    3.0   \n",
       "7134             1774         50.0                    1.0   \n",
       "3235             2640         82.0                    1.0   \n",
       "13068            1137         58.0                    1.0   \n",
       "8807             1003         51.0                    0.0   \n",
       "1468             1713         71.0                    4.0   \n",
       "3495             2525         57.0                    3.0   \n",
       "3034             1730         34.0                    0.0   \n",
       "\n",
       "       Total offer received  Total offer viewed  Total transaction  \\\n",
       "7277                    2.0                 2.0                6.0   \n",
       "7854                    5.0                 3.0                4.0   \n",
       "2220                    5.0                 3.0                8.0   \n",
       "7134                    5.0                 4.0               18.0   \n",
       "3235                    3.0                 3.0                3.0   \n",
       "13068                   2.0                 2.0                5.0   \n",
       "8807                    6.0                 6.0                2.0   \n",
       "1468                    6.0                 5.0               13.0   \n",
       "3495                    6.0                 6.0               21.0   \n",
       "3034                    6.0                 2.0               10.0   \n",
       "\n",
       "       offer completed_via_email  offer completed_via_social  \\\n",
       "7277                         0.0                         0.0   \n",
       "7854                         3.0                         3.0   \n",
       "2220                         3.0                         3.0   \n",
       "7134                         1.0                         1.0   \n",
       "3235                         1.0                         1.0   \n",
       "13068                        1.0                         0.0   \n",
       "8807                         0.0                         0.0   \n",
       "1468                         4.0                         3.0   \n",
       "3495                         3.0                         2.0   \n",
       "3034                         0.0                         0.0   \n",
       "\n",
       "       offer completed_via_mobile  offer completed_via_web  \\\n",
       "7277                          0.0                      0.0   \n",
       "7854                          3.0                      2.0   \n",
       "2220                          3.0                      3.0   \n",
       "7134                          1.0                      1.0   \n",
       "3235                          1.0                      1.0   \n",
       "13068                         1.0                      1.0   \n",
       "8807                          0.0                      0.0   \n",
       "1468                          3.0                      3.0   \n",
       "3495                          3.0                      3.0   \n",
       "3034                          0.0                      0.0   \n",
       "\n",
       "       offer completed bogo count  offer completed discount count  \\\n",
       "7277                          0.0                             0.0   \n",
       "7854                          2.0                             1.0   \n",
       "2220                          1.0                             2.0   \n",
       "7134                          0.0                             1.0   \n",
       "3235                          0.0                             1.0   \n",
       "13068                         0.0                             1.0   \n",
       "8807                          0.0                             0.0   \n",
       "1468                          3.0                             1.0   \n",
       "3495                          1.0                             2.0   \n",
       "3034                          0.0                             0.0   \n",
       "\n",
       "       offer received_via_email  offer received_via_social  \\\n",
       "7277                        2.0                        2.0   \n",
       "7854                        5.0                        5.0   \n",
       "2220                        5.0                        5.0   \n",
       "7134                        5.0                        4.0   \n",
       "3235                        3.0                        2.0   \n",
       "13068                       2.0                        1.0   \n",
       "8807                        6.0                        3.0   \n",
       "1468                        6.0                        3.0   \n",
       "3495                        6.0                        5.0   \n",
       "3034                        6.0                        3.0   \n",
       "\n",
       "       offer received_via_mobile  offer received_via_web  \\\n",
       "7277                         2.0                     2.0   \n",
       "7854                         5.0                     3.0   \n",
       "2220                         5.0                     3.0   \n",
       "7134                         4.0                     4.0   \n",
       "3235                         2.0                     2.0   \n",
       "13068                        2.0                     1.0   \n",
       "8807                         5.0                     5.0   \n",
       "1468                         5.0                     5.0   \n",
       "3495                         6.0                     5.0   \n",
       "3034                         4.0                     5.0   \n",
       "\n",
       "       offer received bogo count  offer received discount count  \\\n",
       "7277                         1.0                            1.0   \n",
       "7854                         3.0                            1.0   \n",
       "2220                         2.0                            2.0   \n",
       "7134                         3.0                            2.0   \n",
       "3235                         0.0                            2.0   \n",
       "13068                        0.0                            1.0   \n",
       "8807                         2.0                            3.0   \n",
       "1468                         3.0                            1.0   \n",
       "3495                         2.0                            3.0   \n",
       "3034                         4.0                            2.0   \n",
       "\n",
       "       offer received informational count  offer viewed_via_email  \\\n",
       "7277                                  0.0                     2.0   \n",
       "7854                                  1.0                     3.0   \n",
       "2220                                  1.0                     3.0   \n",
       "7134                                  0.0                     4.0   \n",
       "3235                                  1.0                     3.0   \n",
       "13068                                 1.0                     2.0   \n",
       "8807                                  1.0                     6.0   \n",
       "1468                                  2.0                     5.0   \n",
       "3495                                  1.0                     6.0   \n",
       "3034                                  0.0                     2.0   \n",
       "\n",
       "       offer viewed_via_social  offer viewed_via_mobile  offer viewed_via_web  \\\n",
       "7277                       2.0                      2.0                   2.0   \n",
       "7854                       3.0                      3.0                   3.0   \n",
       "2220                       3.0                      3.0                   2.0   \n",
       "7134                       4.0                      4.0                   3.0   \n",
       "3235                       2.0                      2.0                   2.0   \n",
       "13068                      1.0                      2.0                   1.0   \n",
       "8807                       3.0                      5.0                   5.0   \n",
       "1468                       3.0                      5.0                   4.0   \n",
       "3495                       5.0                      6.0                   5.0   \n",
       "3034                       2.0                      2.0                   1.0   \n",
       "\n",
       "       offer viewed bogo count  offer viewed discount count  \\\n",
       "7277                       1.0                          1.0   \n",
       "7854                       2.0                          1.0   \n",
       "2220                       1.0                          1.0   \n",
       "7134                       3.0                          1.0   \n",
       "3235                       0.0                          2.0   \n",
       "13068                      0.0                          1.0   \n",
       "8807                       2.0                          3.0   \n",
       "1468                       3.0                          0.0   \n",
       "3495                       2.0                          3.0   \n",
       "3034                       2.0                          0.0   \n",
       "\n",
       "       offer viewed informational count  Total transaction amount  \\\n",
       "7277                                0.0                     13.84   \n",
       "7854                                0.0                     84.65   \n",
       "2220                                1.0                    196.86   \n",
       "7134                                0.0                     43.88   \n",
       "3235                                1.0                     69.33   \n",
       "13068                               1.0                     75.61   \n",
       "8807                                1.0                     15.57   \n",
       "1468                                2.0                    192.14   \n",
       "3495                                1.0                     66.47   \n",
       "3034                                0.0                     16.15   \n",
       "\n",
       "       avg_difficulty  avg_duration  total_reward_received  \\\n",
       "7277        10.000000    180.000000                    0.0   \n",
       "7854         6.909091    137.454545                   18.0   \n",
       "2220         8.181818    170.181818                   14.0   \n",
       "7134        10.100000    156.000000                    3.0   \n",
       "3235         8.714286    161.142857                    3.0   \n",
       "13068        6.000000    129.600000                    2.0   \n",
       "8807         8.666667    156.000000                    0.0   \n",
       "1468         7.666667    139.200000                   30.0   \n",
       "3495         6.400000    172.800000                   10.0   \n",
       "3034        10.000000    168.000000                    0.0   \n",
       "\n",
       "       total_reward_defined  total_view_ratio  total_completion_ratio  \\\n",
       "7277                   12.0              1.00                   0.000   \n",
       "7854                   28.0              0.60                   0.600   \n",
       "2220                   24.0              0.60                   0.600   \n",
       "7134                   38.0              0.80                   0.200   \n",
       "3235                    8.0              1.00                   0.333   \n",
       "13068                   2.0              1.00                   0.500   \n",
       "8807                   25.0              1.00                   0.000   \n",
       "1468                   30.0              0.83                   0.667   \n",
       "3495                   17.0              1.00                   0.500   \n",
       "3034                   35.0              0.33                   0.000   \n",
       "\n",
       "       avg_transaction_amt  transactions_per_membership_days customer_type  \n",
       "7277                  2.31                          0.006726       passive  \n",
       "7854                 21.16                          0.002538        active  \n",
       "2220                 24.61                          0.004616        active  \n",
       "7134                  2.44                          0.010147        active  \n",
       "3235                 23.11                          0.001136        active  \n",
       "13068                15.12                          0.004398        active  \n",
       "8807                  7.78                          0.001994       passive  \n",
       "1468                 14.78                          0.007589        active  \n",
       "3495                  3.17                          0.008317        active  \n",
       "3034                  1.62                          0.005780       passive  "
      ]
     },
     "execution_count": 3,
     "metadata": {},
     "output_type": "execute_result"
    }
   ],
   "source": [
    "data = pd.read_csv('../data/profile_labelled.csv')\n",
    "data = data.loc[:, ~data.columns.str.contains('^Unnamed')]\n",
    "data.sample(10)"
   ]
  },
  {
   "cell_type": "code",
   "execution_count": 4,
   "metadata": {},
   "outputs": [
    {
     "data": {
      "text/html": [
       "<div>\n",
       "<style scoped>\n",
       "    .dataframe tbody tr th:only-of-type {\n",
       "        vertical-align: middle;\n",
       "    }\n",
       "\n",
       "    .dataframe tbody tr th {\n",
       "        vertical-align: top;\n",
       "    }\n",
       "\n",
       "    .dataframe thead th {\n",
       "        text-align: right;\n",
       "    }\n",
       "</style>\n",
       "<table border=\"1\" class=\"dataframe\">\n",
       "  <thead>\n",
       "    <tr style=\"text-align: right;\">\n",
       "      <th></th>\n",
       "      <th>age</th>\n",
       "      <th>cust_id</th>\n",
       "      <th>became_member_on</th>\n",
       "      <th>days_as_member</th>\n",
       "      <th>income_in_k</th>\n",
       "      <th>Total offer completed</th>\n",
       "      <th>Total offer received</th>\n",
       "      <th>Total offer viewed</th>\n",
       "      <th>Total transaction</th>\n",
       "      <th>offer completed_via_email</th>\n",
       "      <th>offer completed_via_social</th>\n",
       "      <th>offer completed_via_mobile</th>\n",
       "      <th>offer completed_via_web</th>\n",
       "      <th>offer completed bogo count</th>\n",
       "      <th>offer completed discount count</th>\n",
       "      <th>offer received_via_email</th>\n",
       "      <th>offer received_via_social</th>\n",
       "      <th>offer received_via_mobile</th>\n",
       "      <th>offer received_via_web</th>\n",
       "      <th>offer received bogo count</th>\n",
       "      <th>offer received discount count</th>\n",
       "      <th>offer received informational count</th>\n",
       "      <th>offer viewed_via_email</th>\n",
       "      <th>offer viewed_via_social</th>\n",
       "      <th>offer viewed_via_mobile</th>\n",
       "      <th>offer viewed_via_web</th>\n",
       "      <th>offer viewed bogo count</th>\n",
       "      <th>offer viewed discount count</th>\n",
       "      <th>offer viewed informational count</th>\n",
       "      <th>Total transaction amount</th>\n",
       "      <th>avg_difficulty</th>\n",
       "      <th>avg_duration</th>\n",
       "      <th>total_reward_received</th>\n",
       "      <th>total_reward_defined</th>\n",
       "      <th>total_view_ratio</th>\n",
       "      <th>total_completion_ratio</th>\n",
       "      <th>avg_transaction_amt</th>\n",
       "      <th>transactions_per_membership_days</th>\n",
       "      <th>customer_type</th>\n",
       "      <th>is__F</th>\n",
       "      <th>is__M</th>\n",
       "      <th>is__O</th>\n",
       "    </tr>\n",
       "  </thead>\n",
       "  <tbody>\n",
       "    <tr>\n",
       "      <th>14269</th>\n",
       "      <td>76</td>\n",
       "      <td>62c2e5535e4045a480a52cf68ab72e3e</td>\n",
       "      <td>2017-09-27</td>\n",
       "      <td>1161</td>\n",
       "      <td>119.0</td>\n",
       "      <td>0.0</td>\n",
       "      <td>5.0</td>\n",
       "      <td>3.0</td>\n",
       "      <td>1.0</td>\n",
       "      <td>0.0</td>\n",
       "      <td>0.0</td>\n",
       "      <td>0.0</td>\n",
       "      <td>0.0</td>\n",
       "      <td>0.0</td>\n",
       "      <td>0.0</td>\n",
       "      <td>5.0</td>\n",
       "      <td>3.0</td>\n",
       "      <td>4.0</td>\n",
       "      <td>4.0</td>\n",
       "      <td>2.0</td>\n",
       "      <td>1.0</td>\n",
       "      <td>2.0</td>\n",
       "      <td>3.0</td>\n",
       "      <td>3.0</td>\n",
       "      <td>3.0</td>\n",
       "      <td>2.0</td>\n",
       "      <td>2.0</td>\n",
       "      <td>0.0</td>\n",
       "      <td>1.0</td>\n",
       "      <td>41.39</td>\n",
       "      <td>5.000000</td>\n",
       "      <td>120.000000</td>\n",
       "      <td>0.0</td>\n",
       "      <td>15.0</td>\n",
       "      <td>0.60</td>\n",
       "      <td>0.000</td>\n",
       "      <td>41.39</td>\n",
       "      <td>0.000861</td>\n",
       "      <td>passive</td>\n",
       "      <td>1</td>\n",
       "      <td>0</td>\n",
       "      <td>0</td>\n",
       "    </tr>\n",
       "    <tr>\n",
       "      <th>1515</th>\n",
       "      <td>26</td>\n",
       "      <td>6860d544db4d41debe162f7f89747f35</td>\n",
       "      <td>2013-09-30</td>\n",
       "      <td>2619</td>\n",
       "      <td>56.0</td>\n",
       "      <td>0.0</td>\n",
       "      <td>4.0</td>\n",
       "      <td>3.0</td>\n",
       "      <td>15.0</td>\n",
       "      <td>0.0</td>\n",
       "      <td>0.0</td>\n",
       "      <td>0.0</td>\n",
       "      <td>0.0</td>\n",
       "      <td>0.0</td>\n",
       "      <td>0.0</td>\n",
       "      <td>4.0</td>\n",
       "      <td>3.0</td>\n",
       "      <td>4.0</td>\n",
       "      <td>2.0</td>\n",
       "      <td>2.0</td>\n",
       "      <td>0.0</td>\n",
       "      <td>2.0</td>\n",
       "      <td>3.0</td>\n",
       "      <td>3.0</td>\n",
       "      <td>3.0</td>\n",
       "      <td>1.0</td>\n",
       "      <td>2.0</td>\n",
       "      <td>0.0</td>\n",
       "      <td>1.0</td>\n",
       "      <td>58.03</td>\n",
       "      <td>5.714286</td>\n",
       "      <td>116.571429</td>\n",
       "      <td>0.0</td>\n",
       "      <td>20.0</td>\n",
       "      <td>0.75</td>\n",
       "      <td>0.000</td>\n",
       "      <td>3.87</td>\n",
       "      <td>0.005727</td>\n",
       "      <td>passive</td>\n",
       "      <td>0</td>\n",
       "      <td>1</td>\n",
       "      <td>0</td>\n",
       "    </tr>\n",
       "    <tr>\n",
       "      <th>6239</th>\n",
       "      <td>100</td>\n",
       "      <td>be79870ff776461d97e1aee515269644</td>\n",
       "      <td>2017-11-26</td>\n",
       "      <td>1101</td>\n",
       "      <td>47.0</td>\n",
       "      <td>4.0</td>\n",
       "      <td>6.0</td>\n",
       "      <td>5.0</td>\n",
       "      <td>14.0</td>\n",
       "      <td>4.0</td>\n",
       "      <td>2.0</td>\n",
       "      <td>3.0</td>\n",
       "      <td>3.0</td>\n",
       "      <td>2.0</td>\n",
       "      <td>2.0</td>\n",
       "      <td>6.0</td>\n",
       "      <td>4.0</td>\n",
       "      <td>5.0</td>\n",
       "      <td>3.0</td>\n",
       "      <td>4.0</td>\n",
       "      <td>2.0</td>\n",
       "      <td>0.0</td>\n",
       "      <td>5.0</td>\n",
       "      <td>4.0</td>\n",
       "      <td>5.0</td>\n",
       "      <td>2.0</td>\n",
       "      <td>4.0</td>\n",
       "      <td>1.0</td>\n",
       "      <td>0.0</td>\n",
       "      <td>155.49</td>\n",
       "      <td>11.333333</td>\n",
       "      <td>168.000000</td>\n",
       "      <td>27.0</td>\n",
       "      <td>47.0</td>\n",
       "      <td>0.83</td>\n",
       "      <td>0.667</td>\n",
       "      <td>11.11</td>\n",
       "      <td>0.012716</td>\n",
       "      <td>active</td>\n",
       "      <td>1</td>\n",
       "      <td>0</td>\n",
       "      <td>0</td>\n",
       "    </tr>\n",
       "    <tr>\n",
       "      <th>9039</th>\n",
       "      <td>65</td>\n",
       "      <td>0a0bb27cb9904b638d376ad1c6d09e81</td>\n",
       "      <td>2016-09-28</td>\n",
       "      <td>1525</td>\n",
       "      <td>99.0</td>\n",
       "      <td>5.0</td>\n",
       "      <td>5.0</td>\n",
       "      <td>4.0</td>\n",
       "      <td>13.0</td>\n",
       "      <td>5.0</td>\n",
       "      <td>4.0</td>\n",
       "      <td>5.0</td>\n",
       "      <td>4.0</td>\n",
       "      <td>3.0</td>\n",
       "      <td>2.0</td>\n",
       "      <td>5.0</td>\n",
       "      <td>4.0</td>\n",
       "      <td>5.0</td>\n",
       "      <td>4.0</td>\n",
       "      <td>3.0</td>\n",
       "      <td>2.0</td>\n",
       "      <td>0.0</td>\n",
       "      <td>4.0</td>\n",
       "      <td>3.0</td>\n",
       "      <td>4.0</td>\n",
       "      <td>4.0</td>\n",
       "      <td>2.0</td>\n",
       "      <td>2.0</td>\n",
       "      <td>0.0</td>\n",
       "      <td>385.69</td>\n",
       "      <td>7.214286</td>\n",
       "      <td>173.142857</td>\n",
       "      <td>25.0</td>\n",
       "      <td>25.0</td>\n",
       "      <td>0.80</td>\n",
       "      <td>1.000</td>\n",
       "      <td>29.67</td>\n",
       "      <td>0.008525</td>\n",
       "      <td>active</td>\n",
       "      <td>1</td>\n",
       "      <td>0</td>\n",
       "      <td>0</td>\n",
       "    </tr>\n",
       "    <tr>\n",
       "      <th>1374</th>\n",
       "      <td>78</td>\n",
       "      <td>55b8653d0c614b5884b6da92d9e90c2a</td>\n",
       "      <td>2017-10-28</td>\n",
       "      <td>1130</td>\n",
       "      <td>72.0</td>\n",
       "      <td>2.0</td>\n",
       "      <td>6.0</td>\n",
       "      <td>6.0</td>\n",
       "      <td>2.0</td>\n",
       "      <td>2.0</td>\n",
       "      <td>1.0</td>\n",
       "      <td>2.0</td>\n",
       "      <td>2.0</td>\n",
       "      <td>1.0</td>\n",
       "      <td>1.0</td>\n",
       "      <td>6.0</td>\n",
       "      <td>3.0</td>\n",
       "      <td>5.0</td>\n",
       "      <td>6.0</td>\n",
       "      <td>3.0</td>\n",
       "      <td>3.0</td>\n",
       "      <td>0.0</td>\n",
       "      <td>6.0</td>\n",
       "      <td>3.0</td>\n",
       "      <td>5.0</td>\n",
       "      <td>6.0</td>\n",
       "      <td>3.0</td>\n",
       "      <td>3.0</td>\n",
       "      <td>0.0</td>\n",
       "      <td>34.80</td>\n",
       "      <td>10.357143</td>\n",
       "      <td>180.000000</td>\n",
       "      <td>7.0</td>\n",
       "      <td>34.0</td>\n",
       "      <td>1.00</td>\n",
       "      <td>0.333</td>\n",
       "      <td>17.40</td>\n",
       "      <td>0.001770</td>\n",
       "      <td>active</td>\n",
       "      <td>1</td>\n",
       "      <td>0</td>\n",
       "      <td>0</td>\n",
       "    </tr>\n",
       "    <tr>\n",
       "      <th>9558</th>\n",
       "      <td>73</td>\n",
       "      <td>df9111f3ee6e4031a6fb62e25b727c22</td>\n",
       "      <td>2016-09-09</td>\n",
       "      <td>1544</td>\n",
       "      <td>57.0</td>\n",
       "      <td>2.0</td>\n",
       "      <td>2.0</td>\n",
       "      <td>1.0</td>\n",
       "      <td>5.0</td>\n",
       "      <td>2.0</td>\n",
       "      <td>1.0</td>\n",
       "      <td>2.0</td>\n",
       "      <td>1.0</td>\n",
       "      <td>1.0</td>\n",
       "      <td>1.0</td>\n",
       "      <td>2.0</td>\n",
       "      <td>1.0</td>\n",
       "      <td>2.0</td>\n",
       "      <td>1.0</td>\n",
       "      <td>1.0</td>\n",
       "      <td>1.0</td>\n",
       "      <td>0.0</td>\n",
       "      <td>1.0</td>\n",
       "      <td>1.0</td>\n",
       "      <td>1.0</td>\n",
       "      <td>0.0</td>\n",
       "      <td>1.0</td>\n",
       "      <td>0.0</td>\n",
       "      <td>0.0</td>\n",
       "      <td>70.12</td>\n",
       "      <td>10.000000</td>\n",
       "      <td>168.000000</td>\n",
       "      <td>12.0</td>\n",
       "      <td>12.0</td>\n",
       "      <td>0.50</td>\n",
       "      <td>1.000</td>\n",
       "      <td>14.02</td>\n",
       "      <td>0.003238</td>\n",
       "      <td>passive</td>\n",
       "      <td>1</td>\n",
       "      <td>0</td>\n",
       "      <td>0</td>\n",
       "    </tr>\n",
       "    <tr>\n",
       "      <th>301</th>\n",
       "      <td>42</td>\n",
       "      <td>cda87c53c8434854b78be68c0cde4848</td>\n",
       "      <td>2017-09-08</td>\n",
       "      <td>1180</td>\n",
       "      <td>75.0</td>\n",
       "      <td>2.0</td>\n",
       "      <td>5.0</td>\n",
       "      <td>5.0</td>\n",
       "      <td>6.0</td>\n",
       "      <td>2.0</td>\n",
       "      <td>2.0</td>\n",
       "      <td>2.0</td>\n",
       "      <td>2.0</td>\n",
       "      <td>1.0</td>\n",
       "      <td>1.0</td>\n",
       "      <td>5.0</td>\n",
       "      <td>2.0</td>\n",
       "      <td>5.0</td>\n",
       "      <td>5.0</td>\n",
       "      <td>1.0</td>\n",
       "      <td>1.0</td>\n",
       "      <td>3.0</td>\n",
       "      <td>5.0</td>\n",
       "      <td>2.0</td>\n",
       "      <td>5.0</td>\n",
       "      <td>5.0</td>\n",
       "      <td>1.0</td>\n",
       "      <td>1.0</td>\n",
       "      <td>3.0</td>\n",
       "      <td>148.84</td>\n",
       "      <td>3.000000</td>\n",
       "      <td>120.000000</td>\n",
       "      <td>8.0</td>\n",
       "      <td>8.0</td>\n",
       "      <td>1.00</td>\n",
       "      <td>0.400</td>\n",
       "      <td>24.81</td>\n",
       "      <td>0.005085</td>\n",
       "      <td>active</td>\n",
       "      <td>0</td>\n",
       "      <td>1</td>\n",
       "      <td>0</td>\n",
       "    </tr>\n",
       "    <tr>\n",
       "      <th>1654</th>\n",
       "      <td>62</td>\n",
       "      <td>a4d629a11c0746c69c01f660286dea7e</td>\n",
       "      <td>2017-12-14</td>\n",
       "      <td>1083</td>\n",
       "      <td>72.0</td>\n",
       "      <td>3.0</td>\n",
       "      <td>6.0</td>\n",
       "      <td>6.0</td>\n",
       "      <td>5.0</td>\n",
       "      <td>3.0</td>\n",
       "      <td>1.0</td>\n",
       "      <td>3.0</td>\n",
       "      <td>3.0</td>\n",
       "      <td>2.0</td>\n",
       "      <td>1.0</td>\n",
       "      <td>6.0</td>\n",
       "      <td>1.0</td>\n",
       "      <td>5.0</td>\n",
       "      <td>6.0</td>\n",
       "      <td>2.0</td>\n",
       "      <td>3.0</td>\n",
       "      <td>1.0</td>\n",
       "      <td>6.0</td>\n",
       "      <td>1.0</td>\n",
       "      <td>5.0</td>\n",
       "      <td>6.0</td>\n",
       "      <td>2.0</td>\n",
       "      <td>3.0</td>\n",
       "      <td>1.0</td>\n",
       "      <td>92.17</td>\n",
       "      <td>7.400000</td>\n",
       "      <td>168.000000</td>\n",
       "      <td>13.0</td>\n",
       "      <td>20.0</td>\n",
       "      <td>1.00</td>\n",
       "      <td>0.500</td>\n",
       "      <td>18.43</td>\n",
       "      <td>0.004617</td>\n",
       "      <td>active</td>\n",
       "      <td>1</td>\n",
       "      <td>0</td>\n",
       "      <td>0</td>\n",
       "    </tr>\n",
       "    <tr>\n",
       "      <th>6769</th>\n",
       "      <td>61</td>\n",
       "      <td>d52fefcf60764f96bf6e9cfa6d425a22</td>\n",
       "      <td>2017-04-23</td>\n",
       "      <td>1318</td>\n",
       "      <td>75.0</td>\n",
       "      <td>3.0</td>\n",
       "      <td>6.0</td>\n",
       "      <td>4.0</td>\n",
       "      <td>4.0</td>\n",
       "      <td>3.0</td>\n",
       "      <td>3.0</td>\n",
       "      <td>3.0</td>\n",
       "      <td>2.0</td>\n",
       "      <td>3.0</td>\n",
       "      <td>0.0</td>\n",
       "      <td>6.0</td>\n",
       "      <td>5.0</td>\n",
       "      <td>6.0</td>\n",
       "      <td>4.0</td>\n",
       "      <td>5.0</td>\n",
       "      <td>0.0</td>\n",
       "      <td>1.0</td>\n",
       "      <td>4.0</td>\n",
       "      <td>4.0</td>\n",
       "      <td>4.0</td>\n",
       "      <td>2.0</td>\n",
       "      <td>3.0</td>\n",
       "      <td>0.0</td>\n",
       "      <td>1.0</td>\n",
       "      <td>96.64</td>\n",
       "      <td>6.538462</td>\n",
       "      <td>127.384615</td>\n",
       "      <td>25.0</td>\n",
       "      <td>35.0</td>\n",
       "      <td>0.67</td>\n",
       "      <td>0.500</td>\n",
       "      <td>24.16</td>\n",
       "      <td>0.003035</td>\n",
       "      <td>active</td>\n",
       "      <td>1</td>\n",
       "      <td>0</td>\n",
       "      <td>0</td>\n",
       "    </tr>\n",
       "    <tr>\n",
       "      <th>3413</th>\n",
       "      <td>66</td>\n",
       "      <td>1502fe1c8f9c4973bc0631d34f5147bf</td>\n",
       "      <td>2016-11-20</td>\n",
       "      <td>1472</td>\n",
       "      <td>103.0</td>\n",
       "      <td>1.0</td>\n",
       "      <td>3.0</td>\n",
       "      <td>1.0</td>\n",
       "      <td>6.0</td>\n",
       "      <td>1.0</td>\n",
       "      <td>0.0</td>\n",
       "      <td>0.0</td>\n",
       "      <td>1.0</td>\n",
       "      <td>0.0</td>\n",
       "      <td>1.0</td>\n",
       "      <td>3.0</td>\n",
       "      <td>0.0</td>\n",
       "      <td>2.0</td>\n",
       "      <td>3.0</td>\n",
       "      <td>0.0</td>\n",
       "      <td>1.0</td>\n",
       "      <td>2.0</td>\n",
       "      <td>1.0</td>\n",
       "      <td>0.0</td>\n",
       "      <td>1.0</td>\n",
       "      <td>1.0</td>\n",
       "      <td>0.0</td>\n",
       "      <td>0.0</td>\n",
       "      <td>1.0</td>\n",
       "      <td>158.35</td>\n",
       "      <td>8.000000</td>\n",
       "      <td>153.600000</td>\n",
       "      <td>5.0</td>\n",
       "      <td>5.0</td>\n",
       "      <td>0.33</td>\n",
       "      <td>0.333</td>\n",
       "      <td>26.39</td>\n",
       "      <td>0.004076</td>\n",
       "      <td>passive</td>\n",
       "      <td>0</td>\n",
       "      <td>1</td>\n",
       "      <td>0</td>\n",
       "    </tr>\n",
       "  </tbody>\n",
       "</table>\n",
       "</div>"
      ],
      "text/plain": [
       "       age                           cust_id became_member_on  days_as_member  \\\n",
       "14269   76  62c2e5535e4045a480a52cf68ab72e3e       2017-09-27            1161   \n",
       "1515    26  6860d544db4d41debe162f7f89747f35       2013-09-30            2619   \n",
       "6239   100  be79870ff776461d97e1aee515269644       2017-11-26            1101   \n",
       "9039    65  0a0bb27cb9904b638d376ad1c6d09e81       2016-09-28            1525   \n",
       "1374    78  55b8653d0c614b5884b6da92d9e90c2a       2017-10-28            1130   \n",
       "9558    73  df9111f3ee6e4031a6fb62e25b727c22       2016-09-09            1544   \n",
       "301     42  cda87c53c8434854b78be68c0cde4848       2017-09-08            1180   \n",
       "1654    62  a4d629a11c0746c69c01f660286dea7e       2017-12-14            1083   \n",
       "6769    61  d52fefcf60764f96bf6e9cfa6d425a22       2017-04-23            1318   \n",
       "3413    66  1502fe1c8f9c4973bc0631d34f5147bf       2016-11-20            1472   \n",
       "\n",
       "       income_in_k  Total offer completed  Total offer received  \\\n",
       "14269        119.0                    0.0                   5.0   \n",
       "1515          56.0                    0.0                   4.0   \n",
       "6239          47.0                    4.0                   6.0   \n",
       "9039          99.0                    5.0                   5.0   \n",
       "1374          72.0                    2.0                   6.0   \n",
       "9558          57.0                    2.0                   2.0   \n",
       "301           75.0                    2.0                   5.0   \n",
       "1654          72.0                    3.0                   6.0   \n",
       "6769          75.0                    3.0                   6.0   \n",
       "3413         103.0                    1.0                   3.0   \n",
       "\n",
       "       Total offer viewed  Total transaction  offer completed_via_email  \\\n",
       "14269                 3.0                1.0                        0.0   \n",
       "1515                  3.0               15.0                        0.0   \n",
       "6239                  5.0               14.0                        4.0   \n",
       "9039                  4.0               13.0                        5.0   \n",
       "1374                  6.0                2.0                        2.0   \n",
       "9558                  1.0                5.0                        2.0   \n",
       "301                   5.0                6.0                        2.0   \n",
       "1654                  6.0                5.0                        3.0   \n",
       "6769                  4.0                4.0                        3.0   \n",
       "3413                  1.0                6.0                        1.0   \n",
       "\n",
       "       offer completed_via_social  offer completed_via_mobile  \\\n",
       "14269                         0.0                         0.0   \n",
       "1515                          0.0                         0.0   \n",
       "6239                          2.0                         3.0   \n",
       "9039                          4.0                         5.0   \n",
       "1374                          1.0                         2.0   \n",
       "9558                          1.0                         2.0   \n",
       "301                           2.0                         2.0   \n",
       "1654                          1.0                         3.0   \n",
       "6769                          3.0                         3.0   \n",
       "3413                          0.0                         0.0   \n",
       "\n",
       "       offer completed_via_web  offer completed bogo count  \\\n",
       "14269                      0.0                         0.0   \n",
       "1515                       0.0                         0.0   \n",
       "6239                       3.0                         2.0   \n",
       "9039                       4.0                         3.0   \n",
       "1374                       2.0                         1.0   \n",
       "9558                       1.0                         1.0   \n",
       "301                        2.0                         1.0   \n",
       "1654                       3.0                         2.0   \n",
       "6769                       2.0                         3.0   \n",
       "3413                       1.0                         0.0   \n",
       "\n",
       "       offer completed discount count  offer received_via_email  \\\n",
       "14269                             0.0                       5.0   \n",
       "1515                              0.0                       4.0   \n",
       "6239                              2.0                       6.0   \n",
       "9039                              2.0                       5.0   \n",
       "1374                              1.0                       6.0   \n",
       "9558                              1.0                       2.0   \n",
       "301                               1.0                       5.0   \n",
       "1654                              1.0                       6.0   \n",
       "6769                              0.0                       6.0   \n",
       "3413                              1.0                       3.0   \n",
       "\n",
       "       offer received_via_social  offer received_via_mobile  \\\n",
       "14269                        3.0                        4.0   \n",
       "1515                         3.0                        4.0   \n",
       "6239                         4.0                        5.0   \n",
       "9039                         4.0                        5.0   \n",
       "1374                         3.0                        5.0   \n",
       "9558                         1.0                        2.0   \n",
       "301                          2.0                        5.0   \n",
       "1654                         1.0                        5.0   \n",
       "6769                         5.0                        6.0   \n",
       "3413                         0.0                        2.0   \n",
       "\n",
       "       offer received_via_web  offer received bogo count  \\\n",
       "14269                     4.0                        2.0   \n",
       "1515                      2.0                        2.0   \n",
       "6239                      3.0                        4.0   \n",
       "9039                      4.0                        3.0   \n",
       "1374                      6.0                        3.0   \n",
       "9558                      1.0                        1.0   \n",
       "301                       5.0                        1.0   \n",
       "1654                      6.0                        2.0   \n",
       "6769                      4.0                        5.0   \n",
       "3413                      3.0                        0.0   \n",
       "\n",
       "       offer received discount count  offer received informational count  \\\n",
       "14269                            1.0                                 2.0   \n",
       "1515                             0.0                                 2.0   \n",
       "6239                             2.0                                 0.0   \n",
       "9039                             2.0                                 0.0   \n",
       "1374                             3.0                                 0.0   \n",
       "9558                             1.0                                 0.0   \n",
       "301                              1.0                                 3.0   \n",
       "1654                             3.0                                 1.0   \n",
       "6769                             0.0                                 1.0   \n",
       "3413                             1.0                                 2.0   \n",
       "\n",
       "       offer viewed_via_email  offer viewed_via_social  \\\n",
       "14269                     3.0                      3.0   \n",
       "1515                      3.0                      3.0   \n",
       "6239                      5.0                      4.0   \n",
       "9039                      4.0                      3.0   \n",
       "1374                      6.0                      3.0   \n",
       "9558                      1.0                      1.0   \n",
       "301                       5.0                      2.0   \n",
       "1654                      6.0                      1.0   \n",
       "6769                      4.0                      4.0   \n",
       "3413                      1.0                      0.0   \n",
       "\n",
       "       offer viewed_via_mobile  offer viewed_via_web  offer viewed bogo count  \\\n",
       "14269                      3.0                   2.0                      2.0   \n",
       "1515                       3.0                   1.0                      2.0   \n",
       "6239                       5.0                   2.0                      4.0   \n",
       "9039                       4.0                   4.0                      2.0   \n",
       "1374                       5.0                   6.0                      3.0   \n",
       "9558                       1.0                   0.0                      1.0   \n",
       "301                        5.0                   5.0                      1.0   \n",
       "1654                       5.0                   6.0                      2.0   \n",
       "6769                       4.0                   2.0                      3.0   \n",
       "3413                       1.0                   1.0                      0.0   \n",
       "\n",
       "       offer viewed discount count  offer viewed informational count  \\\n",
       "14269                          0.0                               1.0   \n",
       "1515                           0.0                               1.0   \n",
       "6239                           1.0                               0.0   \n",
       "9039                           2.0                               0.0   \n",
       "1374                           3.0                               0.0   \n",
       "9558                           0.0                               0.0   \n",
       "301                            1.0                               3.0   \n",
       "1654                           3.0                               1.0   \n",
       "6769                           0.0                               1.0   \n",
       "3413                           0.0                               1.0   \n",
       "\n",
       "       Total transaction amount  avg_difficulty  avg_duration  \\\n",
       "14269                     41.39        5.000000    120.000000   \n",
       "1515                      58.03        5.714286    116.571429   \n",
       "6239                     155.49       11.333333    168.000000   \n",
       "9039                     385.69        7.214286    173.142857   \n",
       "1374                      34.80       10.357143    180.000000   \n",
       "9558                      70.12       10.000000    168.000000   \n",
       "301                      148.84        3.000000    120.000000   \n",
       "1654                      92.17        7.400000    168.000000   \n",
       "6769                      96.64        6.538462    127.384615   \n",
       "3413                     158.35        8.000000    153.600000   \n",
       "\n",
       "       total_reward_received  total_reward_defined  total_view_ratio  \\\n",
       "14269                    0.0                  15.0              0.60   \n",
       "1515                     0.0                  20.0              0.75   \n",
       "6239                    27.0                  47.0              0.83   \n",
       "9039                    25.0                  25.0              0.80   \n",
       "1374                     7.0                  34.0              1.00   \n",
       "9558                    12.0                  12.0              0.50   \n",
       "301                      8.0                   8.0              1.00   \n",
       "1654                    13.0                  20.0              1.00   \n",
       "6769                    25.0                  35.0              0.67   \n",
       "3413                     5.0                   5.0              0.33   \n",
       "\n",
       "       total_completion_ratio  avg_transaction_amt  \\\n",
       "14269                   0.000                41.39   \n",
       "1515                    0.000                 3.87   \n",
       "6239                    0.667                11.11   \n",
       "9039                    1.000                29.67   \n",
       "1374                    0.333                17.40   \n",
       "9558                    1.000                14.02   \n",
       "301                     0.400                24.81   \n",
       "1654                    0.500                18.43   \n",
       "6769                    0.500                24.16   \n",
       "3413                    0.333                26.39   \n",
       "\n",
       "       transactions_per_membership_days customer_type  is__F  is__M  is__O  \n",
       "14269                          0.000861       passive      1      0      0  \n",
       "1515                           0.005727       passive      0      1      0  \n",
       "6239                           0.012716        active      1      0      0  \n",
       "9039                           0.008525        active      1      0      0  \n",
       "1374                           0.001770        active      1      0      0  \n",
       "9558                           0.003238       passive      1      0      0  \n",
       "301                            0.005085        active      0      1      0  \n",
       "1654                           0.004617        active      1      0      0  \n",
       "6769                           0.003035        active      1      0      0  \n",
       "3413                           0.004076       passive      0      1      0  "
      ]
     },
     "execution_count": 4,
     "metadata": {},
     "output_type": "execute_result"
    }
   ],
   "source": [
    "# define dataset\n",
    "gen_split = pd.get_dummies(data['gender'], prefix='is_')\n",
    "data = pd.concat([data, gen_split], axis=1)\n",
    "data.drop('gender', axis=1, inplace=True)\n",
    "data.sample(10)"
   ]
  },
  {
   "cell_type": "markdown",
   "metadata": {},
   "source": [
    "## Finding set of correlated features"
   ]
  },
  {
   "cell_type": "code",
   "execution_count": 5,
   "metadata": {},
   "outputs": [
    {
     "data": {
      "text/plain": [
       "{'is__M'}"
      ]
     },
     "execution_count": 5,
     "metadata": {},
     "output_type": "execute_result"
    }
   ],
   "source": [
    "correlated_features = set()\n",
    "correlation_matrix = data[['is__F', 'is__M', 'is__O', 'age', 'income_in_k', 'avg_difficulty', 'avg_duration', 'avg_transaction_amt', 'transactions_per_membership_days', 'days_as_member']].corr()\n",
    "\n",
    "for i in range(len(correlation_matrix.columns)):\n",
    "    for j in range(i):\n",
    "        if abs(correlation_matrix.iloc[i, j]) > 0.8:\n",
    "            colname = correlation_matrix.columns[i]\n",
    "            correlated_features.add(colname)\n",
    "correlated_features"
   ]
  },
  {
   "cell_type": "markdown",
   "metadata": {},
   "source": [
    "## Adding label"
   ]
  },
  {
   "cell_type": "code",
   "execution_count": 6,
   "metadata": {},
   "outputs": [
    {
     "data": {
      "text/plain": [
       "active     9637\n",
       "passive    5188\n",
       "Name: customer_type, dtype: int64"
      ]
     },
     "execution_count": 6,
     "metadata": {},
     "output_type": "execute_result"
    }
   ],
   "source": [
    "data['customer_type'] = \"passive\"\n",
    "data.loc[(data['total_view_ratio'] >= 0.6) & (data['total_completion_ratio'] >= 0.2), 'customer_type'] = \"active\" \n",
    "data['customer_type'].value_counts()"
   ]
  },
  {
   "cell_type": "markdown",
   "metadata": {},
   "source": [
    "## Set X as Input features and y as target label"
   ]
  },
  {
   "cell_type": "code",
   "execution_count": 7,
   "metadata": {},
   "outputs": [],
   "source": [
    "X = data[['is__F','is__M', 'is__O', 'age', 'income_in_k', 'avg_difficulty', 'avg_duration', 'avg_transaction_amt', 'transactions_per_membership_days', 'days_as_member']]\n",
    "y = data['customer_type']\n"
   ]
  },
  {
   "cell_type": "markdown",
   "metadata": {},
   "source": [
    "## Split Data to Training and Testing Data"
   ]
  },
  {
   "cell_type": "code",
   "execution_count": 8,
   "metadata": {},
   "outputs": [],
   "source": [
    "X_train, X_test, y_train, y_test = train_test_split(X, y, test_size=0.25, random_state=21)"
   ]
  },
  {
   "cell_type": "code",
   "execution_count": 9,
   "metadata": {},
   "outputs": [
    {
     "name": "stdout",
     "output_type": "stream",
     "text": [
      "X_train:  (11118, 10)\n",
      "X_test:  (3707, 10)\n"
     ]
    }
   ],
   "source": [
    "#Print the shape of training and test data\n",
    "print(\"X_train: \", X_train.shape)\n",
    "print(\"X_test: \", X_test.shape)"
   ]
  },
  {
   "cell_type": "markdown",
   "metadata": {},
   "source": [
    "## Running RFECV"
   ]
  },
  {
   "cell_type": "code",
   "execution_count": 10,
   "metadata": {},
   "outputs": [
    {
     "name": "stdout",
     "output_type": "stream",
     "text": [
      "Optimal number of features: 6\n",
      "Feature selection array:  [False False False False  True  True  True  True  True  True]\n",
      "Feature Ranking:  [3 4 5 2 1 1 1 1 1 1]\n"
     ]
    }
   ],
   "source": [
    "#RFECV automatically selects the number of features\n",
    "#Checking with Random Forest Classifier model\n",
    "model = DecisionTreeClassifier()\n",
    "rfecv = RFECV(estimator=model, step=1, cv=StratifiedKFold(10), scoring='accuracy')\n",
    "pipeline = Pipeline(steps=[('s',rfecv),('m',model)])\n",
    "\n",
    "pipeline.fit(X_train, y_train)\n",
    "\n",
    "print('Optimal number of features: {}'.format(rfecv.n_features_))\n",
    "print('Feature selection array: ', rfecv.support_)\n",
    "print('Feature Ranking: ',rfecv.ranking_)"
   ]
  },
  {
   "cell_type": "code",
   "execution_count": 11,
   "metadata": {},
   "outputs": [
    {
     "name": "stdout",
     "output_type": "stream",
     "text": [
      "F1 Score: 0.717 (0.011)\n"
     ]
    }
   ],
   "source": [
    "#evaluate model\n",
    "cv = RepeatedStratifiedKFold(n_splits=10, n_repeats=3, random_state=1)\n",
    "n_scores = cross_val_score(pipeline, X, y, scoring='accuracy', cv=cv, n_jobs=-1, error_score='raise')\n",
    "print('F1 Score: %.3f (%.3f)' % (np.mean(n_scores), np.std(n_scores)))"
   ]
  },
  {
   "cell_type": "markdown",
   "metadata": {},
   "source": [
    "## Plotting the RFECV curve for the model with best accuracy"
   ]
  },
  {
   "cell_type": "code",
   "execution_count": 12,
   "metadata": {},
   "outputs": [
    {
     "data": {
      "image/png": "[encoded data removed]",
      "text/plain": [
       "<Figure size 864x648 with 1 Axes>"
      ]
     },
     "metadata": {
      "needs_background": "light"
     },
     "output_type": "display_data"
    }
   ],
   "source": [
    "plt.figure(figsize=(12, 9))\n",
    "plt.title('Recursive Feature Elimination with Cross-Validation', fontsize=18, fontweight='bold', pad=20)\n",
    "plt.xlabel('Number of features selected', fontsize=14, labelpad=20)\n",
    "plt.ylabel('% Correct Classification', fontsize=14, labelpad=20)\n",
    "plt.plot(range(1, len(rfecv.grid_scores_) + 1), rfecv.grid_scores_, color='#303F9F', linewidth=3)\n",
    "\n",
    "plt.show()"
   ]
  },
  {
   "cell_type": "code",
   "execution_count": 13,
   "metadata": {},
   "outputs": [
    {
     "name": "stdout",
     "output_type": "stream",
     "text": [
      "[0 1 2 3]\n"
     ]
    }
   ],
   "source": [
    "# Least important features\n",
    "\n",
    "print(np.where(rfecv.support_ == False)[0])\n",
    "\n",
    "#Dropping the non-required features from training and test data\n",
    "X_train.drop(X_train.columns[np.where(rfecv.support_ == False)[0]], axis=1, inplace=True)\n",
    "X_test.drop(X_test.columns[np.where(rfecv.support_ == False)[0]], axis=1, inplace=True)"
   ]
  },
  {
   "cell_type": "code",
   "execution_count": 14,
   "metadata": {},
   "outputs": [
    {
     "name": "stdout",
     "output_type": "stream",
     "text": [
      "Features:  Index(['income_in_k', 'avg_difficulty', 'avg_duration', 'avg_transaction_amt',\n",
      "       'transactions_per_membership_days', 'days_as_member'],\n",
      "      dtype='object')\n",
      "Feature Importance:  [0.09056958 0.12304832 0.11080375 0.33686662 0.21147273 0.12723901]\n"
     ]
    }
   ],
   "source": [
    "#Print features and feature importance\n",
    "print(\"Features: \", X_train.columns)\n",
    "print(\"Feature Importance: \", rfecv.estimator_.feature_importances_)"
   ]
  },
  {
   "cell_type": "code",
   "execution_count": 15,
   "metadata": {},
   "outputs": [
    {
     "data": {
      "image/png": "[encoded data removed]",
      "text/plain": [
       "<Figure size 864x648 with 1 Axes>"
      ]
     },
     "metadata": {
      "needs_background": "light"
     },
     "output_type": "display_data"
    }
   ],
   "source": [
    "dset = pd.DataFrame()\n",
    "dset['attr'] = X_train.columns\n",
    "dset['importance'] = rfecv.estimator_.feature_importances_\n",
    "\n",
    "dset = dset.sort_values(by='importance', ascending=False)\n",
    "\n",
    "\n",
    "plt.figure(figsize=(12, 9))\n",
    "plt.barh(y=dset['attr'], width=dset['importance'], color='#1976D2')\n",
    "plt.title('RFECV - Feature Importances', fontsize=20, fontweight='bold', pad=20)\n",
    "plt.xlabel('Importance', fontsize=14, labelpad=20)\n",
    "plt.show()"
   ]
  },
  {
   "cell_type": "code",
   "execution_count": null,
   "metadata": {},
   "outputs": [],
   "source": []
  },
  {
   "cell_type": "code",
   "execution_count": null,
   "metadata": {},
   "outputs": [],
   "source": []
  },
  {
   "cell_type": "markdown",
   "metadata": {},
   "source": [
    "## Check if data is balanced"
   ]
  },
  {
   "cell_type": "code",
   "execution_count": 16,
   "metadata": {},
   "outputs": [
    {
     "data": {
      "text/plain": [
       "active     7240\n",
       "passive    3878\n",
       "Name: customer_type, dtype: int64"
      ]
     },
     "execution_count": 16,
     "metadata": {},
     "output_type": "execute_result"
    }
   ],
   "source": [
    "y_train.value_counts()"
   ]
  },
  {
   "cell_type": "code",
   "execution_count": 17,
   "metadata": {},
   "outputs": [
    {
     "data": {
      "text/plain": [
       "active     65.12\n",
       "passive    34.88\n",
       "Name: customer_type, dtype: float64"
      ]
     },
     "execution_count": 17,
     "metadata": {},
     "output_type": "execute_result"
    }
   ],
   "source": [
    "#Find percentage distribution\n",
    "round((y_train.value_counts()/y_train.count())*100,2)"
   ]
  },
  {
   "cell_type": "markdown",
   "metadata": {},
   "source": [
    "#### The target classes are imbalanced!"
   ]
  },
  {
   "cell_type": "markdown",
   "metadata": {},
   "source": [
    "### SMOTE"
   ]
  },
  {
   "cell_type": "code",
   "execution_count": 18,
   "metadata": {},
   "outputs": [],
   "source": [
    "#Applying SMOTE to oversample the minority class before modeling\n",
    "oversample = SMOTE(random_state = 101)\n",
    "X_train, y_train = oversample.fit_resample(X_train, y_train)"
   ]
  },
  {
   "cell_type": "code",
   "execution_count": 19,
   "metadata": {},
   "outputs": [
    {
     "data": {
      "text/plain": [
       "passive    50.0\n",
       "active     50.0\n",
       "Name: customer_type, dtype: float64"
      ]
     },
     "execution_count": 19,
     "metadata": {},
     "output_type": "execute_result"
    }
   ],
   "source": [
    "#check percentage distribution\n",
    "round((y_train.value_counts()/y_train.count())*100,2)"
   ]
  },
  {
   "cell_type": "code",
   "execution_count": 20,
   "metadata": {},
   "outputs": [
    {
     "data": {
      "text/plain": [
       "passive    7240\n",
       "active     7240\n",
       "Name: customer_type, dtype: int64"
      ]
     },
     "execution_count": 20,
     "metadata": {},
     "output_type": "execute_result"
    }
   ],
   "source": [
    "y_train.value_counts()"
   ]
  },
  {
   "cell_type": "code",
   "execution_count": 21,
   "metadata": {},
   "outputs": [],
   "source": [
    "#Changing active to 1 and passive to 0 to get f1 score\n",
    "#Training data\n",
    "y_train = y_train.replace(to_replace='active', value= 1)\n",
    "y_train = y_train.replace(to_replace='passive', value= 0)\n",
    "\n",
    "#Testing data\n",
    "y_test = y_test.replace(to_replace='active', value= 1)\n",
    "y_test = y_test.replace(to_replace='passive', value= 0)"
   ]
  },
  {
   "cell_type": "code",
   "execution_count": 22,
   "metadata": {},
   "outputs": [
    {
     "data": {
      "text/plain": [
       "0        1\n",
       "1        0\n",
       "2        1\n",
       "3        1\n",
       "4        0\n",
       "        ..\n",
       "14475    0\n",
       "14476    0\n",
       "14477    0\n",
       "14478    0\n",
       "14479    0\n",
       "Name: customer_type, Length: 14480, dtype: int64"
      ]
     },
     "execution_count": 22,
     "metadata": {},
     "output_type": "execute_result"
    }
   ],
   "source": [
    "y_train"
   ]
  },
  {
   "cell_type": "markdown",
   "metadata": {},
   "source": [
    "## Modeling and Prediction"
   ]
  },
  {
   "cell_type": "code",
   "execution_count": 23,
   "metadata": {},
   "outputs": [],
   "source": [
    "#Use GridSearchCV to fit selected classifiers to compare the efficiencies of different models\n",
    "def train_classifier(classifier, hyperparameters, X, y): \n",
    "    gridsearch = GridSearchCV(estimator=classifier, param_grid = hyperparameters, cv=5, verbose=1, scoring = 'f1')\n",
    "    model_train = gridsearch.fit(X, y)\n",
    "    print(classifier.__class__.__name__)\n",
    "    print(\"Mean Accuracy:\", round(model_train.score(X, y),4))\n",
    "    print(\"F1: \",gridsearch.best_score_)\n",
    "    return gridsearch.best_estimator_"
   ]
  },
  {
   "cell_type": "code",
   "execution_count": 24,
   "metadata": {},
   "outputs": [
    {
     "name": "stdout",
     "output_type": "stream",
     "text": [
      "Fitting 5 folds for each of 1 candidates, totalling 5 fits\n"
     ]
    },
    {
     "name": "stderr",
     "output_type": "stream",
     "text": [
      "[Parallel(n_jobs=1)]: Using backend SequentialBackend with 1 concurrent workers.\n",
      "[Parallel(n_jobs=1)]: Done   5 out of   5 | elapsed:    0.2s finished\n",
      "[Parallel(n_jobs=1)]: Using backend SequentialBackend with 1 concurrent workers.\n"
     ]
    },
    {
     "name": "stdout",
     "output_type": "stream",
     "text": [
      "LogisticRegression\n",
      "Mean Accuracy: 0.7091\n",
      "F1:  0.7193629237740148\n",
      "Fitting 5 folds for each of 1 candidates, totalling 5 fits\n"
     ]
    },
    {
     "name": "stderr",
     "output_type": "stream",
     "text": [
      "[Parallel(n_jobs=1)]: Done   5 out of   5 | elapsed:   10.2s finished\n"
     ]
    },
    {
     "name": "stdout",
     "output_type": "stream",
     "text": [
      "RandomForestClassifier\n",
      "Mean Accuracy: 1.0\n",
      "F1:  0.8157895075036375\n",
      "Fitting 5 folds for each of 1 candidates, totalling 5 fits\n"
     ]
    },
    {
     "name": "stderr",
     "output_type": "stream",
     "text": [
      "[Parallel(n_jobs=1)]: Using backend SequentialBackend with 1 concurrent workers.\n",
      "[Parallel(n_jobs=1)]: Done   5 out of   5 | elapsed:    2.5s finished\n"
     ]
    },
    {
     "name": "stdout",
     "output_type": "stream",
     "text": [
      "AdaBoostClassifier\n",
      "Mean Accuracy: 0.7743\n",
      "F1:  0.7668186944532038\n",
      "Fitting 5 folds for each of 1 candidates, totalling 5 fits\n"
     ]
    },
    {
     "name": "stderr",
     "output_type": "stream",
     "text": [
      "[Parallel(n_jobs=1)]: Using backend SequentialBackend with 1 concurrent workers.\n",
      "[Parallel(n_jobs=1)]: Done   5 out of   5 | elapsed:    9.1s finished\n"
     ]
    },
    {
     "name": "stdout",
     "output_type": "stream",
     "text": [
      "GradientBoostingClassifier\n",
      "Mean Accuracy: 0.8018\n",
      "F1:  0.7854419462978168\n"
     ]
    }
   ],
   "source": [
    "# Initialize classification algorithms\n",
    "# LogisticRegression\n",
    "lor = LogisticRegression(random_state=42)\n",
    "# RandomForestClassifier\n",
    "rfc = RandomForestClassifier(random_state=42) \n",
    "# AdaBoostClassifier\n",
    "abc = AdaBoostClassifier(random_state=42) \n",
    "# GradientBoostingClassifier\n",
    "gbc = GradientBoostingClassifier(random_state=42) \n",
    "\n",
    "classification_algs = [lor,rfc,abc,gbc]\n",
    "classifier_dict={}\n",
    "\n",
    "for classifier in classification_algs:\n",
    "    #training with no hyperparameters\n",
    "    best_est = train_classifier(classifier,{}, X_train, y_train)\n",
    "    #classifier_dict[classifier] = best_est"
   ]
  },
  {
   "cell_type": "markdown",
   "metadata": {},
   "source": [
    "#### Highest f1 score is obtained for Gradient Boosting Classifier"
   ]
  },
  {
   "cell_type": "markdown",
   "metadata": {},
   "source": [
    "## Fine Tuning the Model"
   ]
  },
  {
   "cell_type": "code",
   "execution_count": 25,
   "metadata": {},
   "outputs": [
    {
     "name": "stdout",
     "output_type": "stream",
     "text": [
      "Fitting 5 folds for each of 1 candidates, totalling 5 fits\n"
     ]
    },
    {
     "name": "stderr",
     "output_type": "stream",
     "text": [
      "[Parallel(n_jobs=1)]: Using backend SequentialBackend with 1 concurrent workers.\n",
      "[Parallel(n_jobs=1)]: Done   5 out of   5 | elapsed:    7.6s finished\n"
     ]
    },
    {
     "name": "stdout",
     "output_type": "stream",
     "text": [
      "RandomForestClassifier\n",
      "Mean Accuracy: 0.822\n",
      "F1:  0.7914105998905214\n",
      "RandomForestClassifier(max_depth=8, n_estimators=120, random_state=42)\n"
     ]
    }
   ],
   "source": [
    "#Tuning the RandomForestClassifier with hyperparameters to improve the accuracy score\n",
    "hyperparameters = {'n_estimators': [120],#[100, 120, 300, 500, 800, 1200], #sets the number of decision trees to be used in the forest\n",
    "                  'max_depth': [8],#[5, 8, 15, 25, 30, None], #sets the max depth of the tree\n",
    "                  'min_samples_split': [2],#[1,2,5,10,15,100], #The minimum number of samples needed before a split\n",
    "                  'min_samples_leaf': [1]#[1,2,5,10], #The minimum number of samples needed to create a leaf (decision) node\n",
    "             }\n",
    "\n",
    "rfc = RandomForestClassifier(random_state=42)\n",
    "rfc_best_est = train_classifier(rfc, hyperparameters, X_train, y_train)\n",
    "print(rfc_best_est)"
   ]
  },
  {
   "cell_type": "code",
   "execution_count": 26,
   "metadata": {},
   "outputs": [
    {
     "data": {
      "text/plain": [
       "array([0.08284729, 0.04684257, 0.04930609, 0.45652127, 0.24316397,\n",
       "       0.12131882])"
      ]
     },
     "execution_count": 26,
     "metadata": {},
     "output_type": "execute_result"
    }
   ],
   "source": [
    "#Feature importances given by the best estimate RandomForestClassfier\n",
    "rfc_best_est.feature_importances_"
   ]
  },
  {
   "cell_type": "code",
   "execution_count": 27,
   "metadata": {},
   "outputs": [
    {
     "name": "stdout",
     "output_type": "stream",
     "text": [
      "Fitting 5 folds for each of 1 candidates, totalling 5 fits\n"
     ]
    },
    {
     "name": "stderr",
     "output_type": "stream",
     "text": [
      "[Parallel(n_jobs=1)]: Using backend SequentialBackend with 1 concurrent workers.\n",
      "[Parallel(n_jobs=1)]: Done   5 out of   5 | elapsed:   18.4s finished\n"
     ]
    },
    {
     "name": "stdout",
     "output_type": "stream",
     "text": [
      "GradientBoostingClassifier\n",
      "Mean Accuracy: 0.8933\n",
      "F1:  0.8063378502408709\n",
      "GradientBoostingClassifier(learning_rate=0.5, n_estimators=200, random_state=42)\n"
     ]
    }
   ],
   "source": [
    "#Tuning the GradientBoostingClassifier with hyperparameters to improve the accuracy score\n",
    "#learning_rate; default=0.1; shrinks the contribution of each tree by learning_rates\n",
    "lr = [1, 0.5, 0.25, 0.1, 0.05, 0.01]\n",
    "\n",
    "#n_estimators, default=100, number of boosting stages to perform\n",
    "n_estimators = [1, 2, 4, 8, 16, 32, 64, 100, 200]\n",
    "\n",
    "#max_depth, default=3, maximum depth of the individual regression estimators. The maximum depth limits the number of nodes in the tree\n",
    "max_depths = np.linspace(1, 32, 32, endpoint=True)\n",
    "\n",
    "#min_samples_split, default=2, The minimum number of samples required to split an internal node\n",
    "min_samples_split = np.linspace(0.1, 1.0, 10, endpoint=True)\n",
    "\n",
    "#min_samples_leaf, default=1,The minimum number of samples required to be at a leaf node.\n",
    "min_samples_leaf=np.linspace(0.1, 0.5, 5, endpoint=True)\n",
    "\n",
    "#max_features{‘auto’, ‘sqrt’, ‘log2’}, default=None, The number of features to consider when looking for the best split:\n",
    "max_features = list(range(1,X_train.shape[1]))\n",
    "\n",
    "gb_tuned = GradientBoostingClassifier(random_state=42)\n",
    "hyperparameters = {'learning_rate': [0.5], 'n_estimators': [200]}#, 'max_depth': max_depths}#, 'min_samples_split': min_samples_split, 'min_samples_leaf':min_samples_leaf, 'max_features':max_features}   \n",
    "gb_best_est = train_classifier(gb_tuned, hyperparameters, X_train, y_train)\n",
    "print(gb_best_est)"
   ]
  },
  {
   "cell_type": "markdown",
   "metadata": {},
   "source": [
    "## Predict"
   ]
  },
  {
   "cell_type": "code",
   "execution_count": 28,
   "metadata": {},
   "outputs": [
    {
     "name": "stdout",
     "output_type": "stream",
     "text": [
      "(3707, 6)\n",
      "(3707,)\n"
     ]
    }
   ],
   "source": [
    "#Print the shape of test data\n",
    "print(X_test.shape)\n",
    "print(y_test.shape)"
   ]
  },
  {
   "cell_type": "code",
   "execution_count": 29,
   "metadata": {},
   "outputs": [
    {
     "data": {
      "text/plain": [
       "array([1, 1, 1, ..., 1, 1, 1], dtype=int64)"
      ]
     },
     "execution_count": 29,
     "metadata": {},
     "output_type": "execute_result"
    }
   ],
   "source": [
    "#Passing the test data to the GradientBoodtingClassifier estimator\n",
    "y_pred = gb_best_est.predict(X_test)\n",
    "y_pred"
   ]
  },
  {
   "cell_type": "markdown",
   "metadata": {},
   "source": [
    "## Measuring Performance of Classification"
   ]
  },
  {
   "cell_type": "markdown",
   "metadata": {},
   "source": [
    "### Confusion Matrix "
   ]
  },
  {
   "cell_type": "code",
   "execution_count": 30,
   "metadata": {},
   "outputs": [
    {
     "data": {
      "text/plain": [
       "array([[ 901,  409],\n",
       "       [ 324, 2073]], dtype=int64)"
      ]
     },
     "execution_count": 30,
     "metadata": {},
     "output_type": "execute_result"
    }
   ],
   "source": [
    "cf_matrix = confusion_matrix(y_test, y_pred)\n",
    "cf_matrix"
   ]
  },
  {
   "cell_type": "code",
   "execution_count": 31,
   "metadata": {},
   "outputs": [
    {
     "name": "stdout",
     "output_type": "stream",
     "text": [
      "(tn, fp, fn, tp) :  (901, 409, 324, 2073)\n"
     ]
    }
   ],
   "source": [
    "#Get True Negative tn, False Positive FP, False Negative FN, True Positive values from confusion matrix\n",
    "tn, fp, fn, tp = confusion_matrix(y_test, y_pred).ravel()\n",
    "print('(tn, fp, fn, tp) : ', (tn, fp, fn, tp))"
   ]
  },
  {
   "cell_type": "code",
   "execution_count": 34,
   "metadata": {},
   "outputs": [
    {
     "name": "stdout",
     "output_type": "stream",
     "text": [
      "F1 score of Model Prediction:  0.8497642959622873\n"
     ]
    }
   ],
   "source": [
    "#f1 score of predicted data\n",
    "f1_score = f1_score(y_test, y_pred)\n",
    "print('F1 score of Model Prediction: ', f1_score)"
   ]
  },
  {
   "cell_type": "markdown",
   "metadata": {},
   "source": [
    "### The F1 score of predicted results, the model on test data is better at 84.97%"
   ]
  },
  {
   "cell_type": "code",
   "execution_count": 37,
   "metadata": {},
   "outputs": [
    {
     "data": {
      "text/plain": [
       "<matplotlib.axes._subplots.AxesSubplot at 0x246cd696ee0>"
      ]
     },
     "execution_count": 37,
     "metadata": {},
     "output_type": "execute_result"
    },
    {
     "data": {
      "image/png": "[encoded data removed]",
      "text/plain": [
       "<Figure size 432x288 with 2 Axes>"
      ]
     },
     "metadata": {
      "needs_background": "light"
     },
     "output_type": "display_data"
    }
   ],
   "source": [
    "#Plot the confusion Matrix\n",
    "sns.heatmap(cf_matrix, annot=True)"
   ]
  },
  {
   "cell_type": "code",
   "execution_count": 38,
   "metadata": {},
   "outputs": [
    {
     "data": {
      "text/plain": [
       "<matplotlib.axes._subplots.AxesSubplot at 0x246cf8e4910>"
      ]
     },
     "execution_count": 38,
     "metadata": {},
     "output_type": "execute_result"
    },
    {
     "data": {
      "image/png": "[encoded data removed]",
      "text/plain": [
       "<Figure size 432x288 with 2 Axes>"
      ]
     },
     "metadata": {
      "needs_background": "light"
     },
     "output_type": "display_data"
    }
   ],
   "source": [
    "#Confusion Matrix plotted with Percentage values\n",
    "sns.heatmap(cf_matrix/np.sum(cf_matrix), annot=True, fmt='.2%', cmap='Blues')"
   ]
  },
  {
   "cell_type": "code",
   "execution_count": null,
   "metadata": {},
   "outputs": [],
   "source": []
  }
 ],
 "metadata": {
  "kernelspec": {
   "display_name": "Python 3",
   "language": "python",
   "name": "python3"
  },
  "language_info": {
   "codemirror_mode": {
    "name": "ipython",
    "version": 3
   },
   "file_extension": ".py",
   "mimetype": "text/x-python",
   "name": "python",
   "nbconvert_exporter": "python",
   "pygments_lexer": "ipython3",
   "version": "3.8.3"
  }
 },
 "nbformat": 4,
 "nbformat_minor": 4
}
