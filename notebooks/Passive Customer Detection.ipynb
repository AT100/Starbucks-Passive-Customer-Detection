{
 "cells": [
  {
   "cell_type": "markdown",
   "metadata": {},
   "source": [
    "# Recursive Feature Selection using Gradient based and Tree based Estimators "
   ]
  },
  {
   "cell_type": "code",
   "execution_count": 2,
   "metadata": {},
   "outputs": [
    {
     "name": "stdout",
     "output_type": "stream",
     "text": [
      "Requirement already up-to-date: imbalanced-learn in c:\\users\\anjal\\anaconda3\\lib\\site-packages (0.7.0)Note: you may need to restart the kernel to use updated packages.\n",
      "\n",
      "Requirement already satisfied, skipping upgrade: scipy>=0.19.1 in c:\\users\\anjal\\anaconda3\\lib\\site-packages (from imbalanced-learn) (1.5.0)\n",
      "Requirement already satisfied, skipping upgrade: scikit-learn>=0.23 in c:\\users\\anjal\\anaconda3\\lib\\site-packages (from imbalanced-learn) (0.23.1)\n",
      "Requirement already satisfied, skipping upgrade: joblib>=0.11 in c:\\users\\anjal\\anaconda3\\lib\\site-packages (from imbalanced-learn) (0.16.0)\n",
      "Requirement already satisfied, skipping upgrade: numpy>=1.13.3 in c:\\users\\anjal\\anaconda3\\lib\\site-packages (from imbalanced-learn) (1.18.5)\n",
      "Requirement already satisfied, skipping upgrade: threadpoolctl>=2.0.0 in c:\\users\\anjal\\anaconda3\\lib\\site-packages (from scikit-learn>=0.23->imbalanced-learn) (2.1.0)\n"
     ]
    }
   ],
   "source": [
    "pip install -U imbalanced-learn"
   ]
  },
  {
   "cell_type": "code",
   "execution_count": 96,
   "metadata": {},
   "outputs": [],
   "source": [
    "import numpy as np\n",
    "import pandas as pd\n",
    "import matplotlib.pyplot as plt\n",
    "\n",
    "import warnings\n",
    "warnings.filterwarnings('ignore')\n",
    "pd.options.display.max_columns = None\n",
    "from sklearn.model_selection import train_test_split\n",
    "from sklearn.linear_model import LogisticRegression\n",
    "from sklearn.tree import DecisionTreeClassifier\n",
    "from sklearn.ensemble import RandomForestClassifier\n",
    "from sklearn.ensemble import GradientBoostingClassifier\n",
    "from sklearn.ensemble import AdaBoostClassifier\n",
    "from sklearn.model_selection import StratifiedKFold\n",
    "from sklearn.feature_selection import RFECV\n",
    "from sklearn.pipeline import Pipeline\n",
    "from sklearn.model_selection import cross_val_score\n",
    "from sklearn.model_selection import RepeatedStratifiedKFold\n",
    "from sklearn.model_selection import GridSearchCV \n",
    "from imblearn.over_sampling import SMOTE\n",
    "from sklearn.metrics import f1_score\n",
    "import seaborn as sns\n",
    "from sklearn.metrics import plot_confusion_matrix"
   ]
  },
  {
   "cell_type": "code",
   "execution_count": 4,
   "metadata": {},
   "outputs": [
    {
     "data": {
      "text/html": [
       "<div>\n",
       "<style scoped>\n",
       "    .dataframe tbody tr th:only-of-type {\n",
       "        vertical-align: middle;\n",
       "    }\n",
       "\n",
       "    .dataframe tbody tr th {\n",
       "        vertical-align: top;\n",
       "    }\n",
       "\n",
       "    .dataframe thead th {\n",
       "        text-align: right;\n",
       "    }\n",
       "</style>\n",
       "<table border=\"1\" class=\"dataframe\">\n",
       "  <thead>\n",
       "    <tr style=\"text-align: right;\">\n",
       "      <th></th>\n",
       "      <th>gender</th>\n",
       "      <th>age</th>\n",
       "      <th>cust_id</th>\n",
       "      <th>became_member_on</th>\n",
       "      <th>days_as_member</th>\n",
       "      <th>income_in_k</th>\n",
       "      <th>Total offer completed</th>\n",
       "      <th>Total offer received</th>\n",
       "      <th>Total offer viewed</th>\n",
       "      <th>Total transaction</th>\n",
       "      <th>offer completed_via_email</th>\n",
       "      <th>offer completed_via_social</th>\n",
       "      <th>offer completed_via_mobile</th>\n",
       "      <th>offer completed_via_web</th>\n",
       "      <th>offer completed bogo count</th>\n",
       "      <th>offer completed discount count</th>\n",
       "      <th>offer received_via_email</th>\n",
       "      <th>offer received_via_social</th>\n",
       "      <th>offer received_via_mobile</th>\n",
       "      <th>offer received_via_web</th>\n",
       "      <th>offer received bogo count</th>\n",
       "      <th>offer received discount count</th>\n",
       "      <th>offer received informational count</th>\n",
       "      <th>offer viewed_via_email</th>\n",
       "      <th>offer viewed_via_social</th>\n",
       "      <th>offer viewed_via_mobile</th>\n",
       "      <th>offer viewed_via_web</th>\n",
       "      <th>offer viewed bogo count</th>\n",
       "      <th>offer viewed discount count</th>\n",
       "      <th>offer viewed informational count</th>\n",
       "      <th>Total transaction amount</th>\n",
       "      <th>avg_difficulty</th>\n",
       "      <th>avg_duration</th>\n",
       "      <th>total_reward_received</th>\n",
       "      <th>total_reward_defined</th>\n",
       "      <th>total_view_ratio</th>\n",
       "      <th>total_completion_ratio</th>\n",
       "      <th>avg_transaction_amt</th>\n",
       "      <th>transactions_per_membership_days</th>\n",
       "      <th>customer_type</th>\n",
       "    </tr>\n",
       "  </thead>\n",
       "  <tbody>\n",
       "    <tr>\n",
       "      <th>9134</th>\n",
       "      <td>F</td>\n",
       "      <td>47</td>\n",
       "      <td>81df57a262b347ec93f12b09ec813b57</td>\n",
       "      <td>2017-10-19</td>\n",
       "      <td>1139</td>\n",
       "      <td>42.0</td>\n",
       "      <td>4.0</td>\n",
       "      <td>5.0</td>\n",
       "      <td>5.0</td>\n",
       "      <td>13.0</td>\n",
       "      <td>4.0</td>\n",
       "      <td>3.0</td>\n",
       "      <td>4.0</td>\n",
       "      <td>3.0</td>\n",
       "      <td>1.0</td>\n",
       "      <td>3.0</td>\n",
       "      <td>5.0</td>\n",
       "      <td>4.0</td>\n",
       "      <td>5.0</td>\n",
       "      <td>3.0</td>\n",
       "      <td>1.0</td>\n",
       "      <td>3.0</td>\n",
       "      <td>1.0</td>\n",
       "      <td>5.0</td>\n",
       "      <td>4.0</td>\n",
       "      <td>5.0</td>\n",
       "      <td>3.0</td>\n",
       "      <td>1.0</td>\n",
       "      <td>3.0</td>\n",
       "      <td>1.0</td>\n",
       "      <td>114.40</td>\n",
       "      <td>8.571429</td>\n",
       "      <td>185.142857</td>\n",
       "      <td>16.0</td>\n",
       "      <td>16.0</td>\n",
       "      <td>1.00</td>\n",
       "      <td>0.800</td>\n",
       "      <td>8.80</td>\n",
       "      <td>0.011414</td>\n",
       "      <td>active</td>\n",
       "    </tr>\n",
       "    <tr>\n",
       "      <th>7156</th>\n",
       "      <td>M</td>\n",
       "      <td>43</td>\n",
       "      <td>cadd7084f71e45faac25ea898e03fabc</td>\n",
       "      <td>2014-01-27</td>\n",
       "      <td>2500</td>\n",
       "      <td>73.0</td>\n",
       "      <td>2.0</td>\n",
       "      <td>5.0</td>\n",
       "      <td>4.0</td>\n",
       "      <td>26.0</td>\n",
       "      <td>2.0</td>\n",
       "      <td>2.0</td>\n",
       "      <td>2.0</td>\n",
       "      <td>2.0</td>\n",
       "      <td>1.0</td>\n",
       "      <td>1.0</td>\n",
       "      <td>5.0</td>\n",
       "      <td>4.0</td>\n",
       "      <td>4.0</td>\n",
       "      <td>4.0</td>\n",
       "      <td>3.0</td>\n",
       "      <td>2.0</td>\n",
       "      <td>0.0</td>\n",
       "      <td>4.0</td>\n",
       "      <td>4.0</td>\n",
       "      <td>4.0</td>\n",
       "      <td>3.0</td>\n",
       "      <td>3.0</td>\n",
       "      <td>1.0</td>\n",
       "      <td>0.0</td>\n",
       "      <td>78.51</td>\n",
       "      <td>10.909091</td>\n",
       "      <td>172.363636</td>\n",
       "      <td>12.0</td>\n",
       "      <td>37.0</td>\n",
       "      <td>0.80</td>\n",
       "      <td>0.400</td>\n",
       "      <td>3.02</td>\n",
       "      <td>0.010400</td>\n",
       "      <td>active</td>\n",
       "    </tr>\n",
       "    <tr>\n",
       "      <th>11502</th>\n",
       "      <td>M</td>\n",
       "      <td>47</td>\n",
       "      <td>93399ad651534dcf9a8dbca6dfd3783e</td>\n",
       "      <td>2015-11-20</td>\n",
       "      <td>1838</td>\n",
       "      <td>50.0</td>\n",
       "      <td>3.0</td>\n",
       "      <td>5.0</td>\n",
       "      <td>5.0</td>\n",
       "      <td>16.0</td>\n",
       "      <td>3.0</td>\n",
       "      <td>2.0</td>\n",
       "      <td>3.0</td>\n",
       "      <td>3.0</td>\n",
       "      <td>1.0</td>\n",
       "      <td>2.0</td>\n",
       "      <td>5.0</td>\n",
       "      <td>2.0</td>\n",
       "      <td>5.0</td>\n",
       "      <td>5.0</td>\n",
       "      <td>1.0</td>\n",
       "      <td>2.0</td>\n",
       "      <td>2.0</td>\n",
       "      <td>5.0</td>\n",
       "      <td>2.0</td>\n",
       "      <td>5.0</td>\n",
       "      <td>5.0</td>\n",
       "      <td>1.0</td>\n",
       "      <td>2.0</td>\n",
       "      <td>2.0</td>\n",
       "      <td>198.10</td>\n",
       "      <td>5.076923</td>\n",
       "      <td>162.461538</td>\n",
       "      <td>10.0</td>\n",
       "      <td>10.0</td>\n",
       "      <td>1.00</td>\n",
       "      <td>0.600</td>\n",
       "      <td>12.38</td>\n",
       "      <td>0.008705</td>\n",
       "      <td>active</td>\n",
       "    </tr>\n",
       "    <tr>\n",
       "      <th>12981</th>\n",
       "      <td>M</td>\n",
       "      <td>29</td>\n",
       "      <td>8bb69effdb0140a2b18280fc70814315</td>\n",
       "      <td>2016-10-08</td>\n",
       "      <td>1515</td>\n",
       "      <td>47.0</td>\n",
       "      <td>3.0</td>\n",
       "      <td>3.0</td>\n",
       "      <td>2.0</td>\n",
       "      <td>12.0</td>\n",
       "      <td>3.0</td>\n",
       "      <td>1.0</td>\n",
       "      <td>3.0</td>\n",
       "      <td>3.0</td>\n",
       "      <td>2.0</td>\n",
       "      <td>1.0</td>\n",
       "      <td>3.0</td>\n",
       "      <td>1.0</td>\n",
       "      <td>3.0</td>\n",
       "      <td>3.0</td>\n",
       "      <td>2.0</td>\n",
       "      <td>1.0</td>\n",
       "      <td>0.0</td>\n",
       "      <td>2.0</td>\n",
       "      <td>1.0</td>\n",
       "      <td>2.0</td>\n",
       "      <td>2.0</td>\n",
       "      <td>2.0</td>\n",
       "      <td>0.0</td>\n",
       "      <td>0.0</td>\n",
       "      <td>145.78</td>\n",
       "      <td>6.250000</td>\n",
       "      <td>150.000000</td>\n",
       "      <td>12.0</td>\n",
       "      <td>12.0</td>\n",
       "      <td>0.67</td>\n",
       "      <td>1.000</td>\n",
       "      <td>12.15</td>\n",
       "      <td>0.007921</td>\n",
       "      <td>active</td>\n",
       "    </tr>\n",
       "    <tr>\n",
       "      <th>10631</th>\n",
       "      <td>M</td>\n",
       "      <td>38</td>\n",
       "      <td>32fb5f395ecc4929a84f7662c456ff72</td>\n",
       "      <td>2017-07-27</td>\n",
       "      <td>1223</td>\n",
       "      <td>40.0</td>\n",
       "      <td>4.0</td>\n",
       "      <td>4.0</td>\n",
       "      <td>4.0</td>\n",
       "      <td>14.0</td>\n",
       "      <td>4.0</td>\n",
       "      <td>2.0</td>\n",
       "      <td>4.0</td>\n",
       "      <td>4.0</td>\n",
       "      <td>4.0</td>\n",
       "      <td>0.0</td>\n",
       "      <td>4.0</td>\n",
       "      <td>2.0</td>\n",
       "      <td>4.0</td>\n",
       "      <td>4.0</td>\n",
       "      <td>4.0</td>\n",
       "      <td>0.0</td>\n",
       "      <td>0.0</td>\n",
       "      <td>4.0</td>\n",
       "      <td>2.0</td>\n",
       "      <td>4.0</td>\n",
       "      <td>4.0</td>\n",
       "      <td>4.0</td>\n",
       "      <td>0.0</td>\n",
       "      <td>0.0</td>\n",
       "      <td>137.39</td>\n",
       "      <td>5.000000</td>\n",
       "      <td>144.000000</td>\n",
       "      <td>20.0</td>\n",
       "      <td>20.0</td>\n",
       "      <td>1.00</td>\n",
       "      <td>1.000</td>\n",
       "      <td>9.81</td>\n",
       "      <td>0.011447</td>\n",
       "      <td>active</td>\n",
       "    </tr>\n",
       "    <tr>\n",
       "      <th>7279</th>\n",
       "      <td>M</td>\n",
       "      <td>20</td>\n",
       "      <td>231f39abf1c14080916f5f81856f7d05</td>\n",
       "      <td>2015-12-03</td>\n",
       "      <td>1825</td>\n",
       "      <td>45.0</td>\n",
       "      <td>3.0</td>\n",
       "      <td>3.0</td>\n",
       "      <td>3.0</td>\n",
       "      <td>12.0</td>\n",
       "      <td>3.0</td>\n",
       "      <td>3.0</td>\n",
       "      <td>3.0</td>\n",
       "      <td>2.0</td>\n",
       "      <td>2.0</td>\n",
       "      <td>1.0</td>\n",
       "      <td>3.0</td>\n",
       "      <td>3.0</td>\n",
       "      <td>3.0</td>\n",
       "      <td>2.0</td>\n",
       "      <td>2.0</td>\n",
       "      <td>1.0</td>\n",
       "      <td>0.0</td>\n",
       "      <td>3.0</td>\n",
       "      <td>3.0</td>\n",
       "      <td>3.0</td>\n",
       "      <td>2.0</td>\n",
       "      <td>2.0</td>\n",
       "      <td>1.0</td>\n",
       "      <td>0.0</td>\n",
       "      <td>101.76</td>\n",
       "      <td>7.333333</td>\n",
       "      <td>152.000000</td>\n",
       "      <td>18.0</td>\n",
       "      <td>18.0</td>\n",
       "      <td>1.00</td>\n",
       "      <td>1.000</td>\n",
       "      <td>8.48</td>\n",
       "      <td>0.006575</td>\n",
       "      <td>active</td>\n",
       "    </tr>\n",
       "    <tr>\n",
       "      <th>3361</th>\n",
       "      <td>M</td>\n",
       "      <td>78</td>\n",
       "      <td>505672e0c12e4f77a4461641b004bd5d</td>\n",
       "      <td>2017-12-09</td>\n",
       "      <td>1088</td>\n",
       "      <td>33.0</td>\n",
       "      <td>5.0</td>\n",
       "      <td>5.0</td>\n",
       "      <td>5.0</td>\n",
       "      <td>12.0</td>\n",
       "      <td>5.0</td>\n",
       "      <td>2.0</td>\n",
       "      <td>3.0</td>\n",
       "      <td>4.0</td>\n",
       "      <td>1.0</td>\n",
       "      <td>4.0</td>\n",
       "      <td>5.0</td>\n",
       "      <td>2.0</td>\n",
       "      <td>3.0</td>\n",
       "      <td>4.0</td>\n",
       "      <td>1.0</td>\n",
       "      <td>4.0</td>\n",
       "      <td>0.0</td>\n",
       "      <td>5.0</td>\n",
       "      <td>2.0</td>\n",
       "      <td>3.0</td>\n",
       "      <td>4.0</td>\n",
       "      <td>1.0</td>\n",
       "      <td>4.0</td>\n",
       "      <td>0.0</td>\n",
       "      <td>100.52</td>\n",
       "      <td>14.000000</td>\n",
       "      <td>211.200000</td>\n",
       "      <td>24.0</td>\n",
       "      <td>24.0</td>\n",
       "      <td>1.00</td>\n",
       "      <td>1.000</td>\n",
       "      <td>8.38</td>\n",
       "      <td>0.011029</td>\n",
       "      <td>active</td>\n",
       "    </tr>\n",
       "    <tr>\n",
       "      <th>4976</th>\n",
       "      <td>F</td>\n",
       "      <td>49</td>\n",
       "      <td>154dfaa196014a438640028a7e4101d4</td>\n",
       "      <td>2018-01-18</td>\n",
       "      <td>1048</td>\n",
       "      <td>54.0</td>\n",
       "      <td>0.0</td>\n",
       "      <td>2.0</td>\n",
       "      <td>0.0</td>\n",
       "      <td>2.0</td>\n",
       "      <td>0.0</td>\n",
       "      <td>0.0</td>\n",
       "      <td>0.0</td>\n",
       "      <td>0.0</td>\n",
       "      <td>0.0</td>\n",
       "      <td>0.0</td>\n",
       "      <td>2.0</td>\n",
       "      <td>0.0</td>\n",
       "      <td>1.0</td>\n",
       "      <td>2.0</td>\n",
       "      <td>0.0</td>\n",
       "      <td>1.0</td>\n",
       "      <td>1.0</td>\n",
       "      <td>0.0</td>\n",
       "      <td>0.0</td>\n",
       "      <td>0.0</td>\n",
       "      <td>0.0</td>\n",
       "      <td>0.0</td>\n",
       "      <td>0.0</td>\n",
       "      <td>0.0</td>\n",
       "      <td>7.08</td>\n",
       "      <td>10.000000</td>\n",
       "      <td>168.000000</td>\n",
       "      <td>0.0</td>\n",
       "      <td>5.0</td>\n",
       "      <td>0.00</td>\n",
       "      <td>0.000</td>\n",
       "      <td>3.54</td>\n",
       "      <td>0.001908</td>\n",
       "      <td>passive</td>\n",
       "    </tr>\n",
       "    <tr>\n",
       "      <th>4558</th>\n",
       "      <td>F</td>\n",
       "      <td>56</td>\n",
       "      <td>9061463d5dca462e929d07a3481417ec</td>\n",
       "      <td>2015-02-23</td>\n",
       "      <td>2108</td>\n",
       "      <td>54.0</td>\n",
       "      <td>5.0</td>\n",
       "      <td>6.0</td>\n",
       "      <td>5.0</td>\n",
       "      <td>8.0</td>\n",
       "      <td>5.0</td>\n",
       "      <td>1.0</td>\n",
       "      <td>4.0</td>\n",
       "      <td>5.0</td>\n",
       "      <td>3.0</td>\n",
       "      <td>2.0</td>\n",
       "      <td>6.0</td>\n",
       "      <td>2.0</td>\n",
       "      <td>5.0</td>\n",
       "      <td>5.0</td>\n",
       "      <td>3.0</td>\n",
       "      <td>2.0</td>\n",
       "      <td>1.0</td>\n",
       "      <td>5.0</td>\n",
       "      <td>2.0</td>\n",
       "      <td>5.0</td>\n",
       "      <td>4.0</td>\n",
       "      <td>3.0</td>\n",
       "      <td>1.0</td>\n",
       "      <td>1.0</td>\n",
       "      <td>127.74</td>\n",
       "      <td>7.187500</td>\n",
       "      <td>156.000000</td>\n",
       "      <td>22.0</td>\n",
       "      <td>22.0</td>\n",
       "      <td>0.83</td>\n",
       "      <td>0.833</td>\n",
       "      <td>15.97</td>\n",
       "      <td>0.003795</td>\n",
       "      <td>active</td>\n",
       "    </tr>\n",
       "    <tr>\n",
       "      <th>381</th>\n",
       "      <td>M</td>\n",
       "      <td>62</td>\n",
       "      <td>05dedca5b2034055a64979a2c28b3477</td>\n",
       "      <td>2017-12-08</td>\n",
       "      <td>1089</td>\n",
       "      <td>70.0</td>\n",
       "      <td>3.0</td>\n",
       "      <td>4.0</td>\n",
       "      <td>4.0</td>\n",
       "      <td>7.0</td>\n",
       "      <td>3.0</td>\n",
       "      <td>2.0</td>\n",
       "      <td>3.0</td>\n",
       "      <td>3.0</td>\n",
       "      <td>1.0</td>\n",
       "      <td>2.0</td>\n",
       "      <td>4.0</td>\n",
       "      <td>3.0</td>\n",
       "      <td>4.0</td>\n",
       "      <td>3.0</td>\n",
       "      <td>1.0</td>\n",
       "      <td>2.0</td>\n",
       "      <td>1.0</td>\n",
       "      <td>4.0</td>\n",
       "      <td>3.0</td>\n",
       "      <td>4.0</td>\n",
       "      <td>3.0</td>\n",
       "      <td>1.0</td>\n",
       "      <td>2.0</td>\n",
       "      <td>1.0</td>\n",
       "      <td>105.70</td>\n",
       "      <td>8.181818</td>\n",
       "      <td>157.090909</td>\n",
       "      <td>14.0</td>\n",
       "      <td>14.0</td>\n",
       "      <td>1.00</td>\n",
       "      <td>0.750</td>\n",
       "      <td>15.10</td>\n",
       "      <td>0.006428</td>\n",
       "      <td>active</td>\n",
       "    </tr>\n",
       "  </tbody>\n",
       "</table>\n",
       "</div>"
      ],
      "text/plain": [
       "      gender  age                           cust_id became_member_on  \\\n",
       "9134       F   47  81df57a262b347ec93f12b09ec813b57       2017-10-19   \n",
       "7156       M   43  cadd7084f71e45faac25ea898e03fabc       2014-01-27   \n",
       "11502      M   47  93399ad651534dcf9a8dbca6dfd3783e       2015-11-20   \n",
       "12981      M   29  8bb69effdb0140a2b18280fc70814315       2016-10-08   \n",
       "10631      M   38  32fb5f395ecc4929a84f7662c456ff72       2017-07-27   \n",
       "7279       M   20  231f39abf1c14080916f5f81856f7d05       2015-12-03   \n",
       "3361       M   78  505672e0c12e4f77a4461641b004bd5d       2017-12-09   \n",
       "4976       F   49  154dfaa196014a438640028a7e4101d4       2018-01-18   \n",
       "4558       F   56  9061463d5dca462e929d07a3481417ec       2015-02-23   \n",
       "381        M   62  05dedca5b2034055a64979a2c28b3477       2017-12-08   \n",
       "\n",
       "       days_as_member  income_in_k  Total offer completed  \\\n",
       "9134             1139         42.0                    4.0   \n",
       "7156             2500         73.0                    2.0   \n",
       "11502            1838         50.0                    3.0   \n",
       "12981            1515         47.0                    3.0   \n",
       "10631            1223         40.0                    4.0   \n",
       "7279             1825         45.0                    3.0   \n",
       "3361             1088         33.0                    5.0   \n",
       "4976             1048         54.0                    0.0   \n",
       "4558             2108         54.0                    5.0   \n",
       "381              1089         70.0                    3.0   \n",
       "\n",
       "       Total offer received  Total offer viewed  Total transaction  \\\n",
       "9134                    5.0                 5.0               13.0   \n",
       "7156                    5.0                 4.0               26.0   \n",
       "11502                   5.0                 5.0               16.0   \n",
       "12981                   3.0                 2.0               12.0   \n",
       "10631                   4.0                 4.0               14.0   \n",
       "7279                    3.0                 3.0               12.0   \n",
       "3361                    5.0                 5.0               12.0   \n",
       "4976                    2.0                 0.0                2.0   \n",
       "4558                    6.0                 5.0                8.0   \n",
       "381                     4.0                 4.0                7.0   \n",
       "\n",
       "       offer completed_via_email  offer completed_via_social  \\\n",
       "9134                         4.0                         3.0   \n",
       "7156                         2.0                         2.0   \n",
       "11502                        3.0                         2.0   \n",
       "12981                        3.0                         1.0   \n",
       "10631                        4.0                         2.0   \n",
       "7279                         3.0                         3.0   \n",
       "3361                         5.0                         2.0   \n",
       "4976                         0.0                         0.0   \n",
       "4558                         5.0                         1.0   \n",
       "381                          3.0                         2.0   \n",
       "\n",
       "       offer completed_via_mobile  offer completed_via_web  \\\n",
       "9134                          4.0                      3.0   \n",
       "7156                          2.0                      2.0   \n",
       "11502                         3.0                      3.0   \n",
       "12981                         3.0                      3.0   \n",
       "10631                         4.0                      4.0   \n",
       "7279                          3.0                      2.0   \n",
       "3361                          3.0                      4.0   \n",
       "4976                          0.0                      0.0   \n",
       "4558                          4.0                      5.0   \n",
       "381                           3.0                      3.0   \n",
       "\n",
       "       offer completed bogo count  offer completed discount count  \\\n",
       "9134                          1.0                             3.0   \n",
       "7156                          1.0                             1.0   \n",
       "11502                         1.0                             2.0   \n",
       "12981                         2.0                             1.0   \n",
       "10631                         4.0                             0.0   \n",
       "7279                          2.0                             1.0   \n",
       "3361                          1.0                             4.0   \n",
       "4976                          0.0                             0.0   \n",
       "4558                          3.0                             2.0   \n",
       "381                           1.0                             2.0   \n",
       "\n",
       "       offer received_via_email  offer received_via_social  \\\n",
       "9134                        5.0                        4.0   \n",
       "7156                        5.0                        4.0   \n",
       "11502                       5.0                        2.0   \n",
       "12981                       3.0                        1.0   \n",
       "10631                       4.0                        2.0   \n",
       "7279                        3.0                        3.0   \n",
       "3361                        5.0                        2.0   \n",
       "4976                        2.0                        0.0   \n",
       "4558                        6.0                        2.0   \n",
       "381                         4.0                        3.0   \n",
       "\n",
       "       offer received_via_mobile  offer received_via_web  \\\n",
       "9134                         5.0                     3.0   \n",
       "7156                         4.0                     4.0   \n",
       "11502                        5.0                     5.0   \n",
       "12981                        3.0                     3.0   \n",
       "10631                        4.0                     4.0   \n",
       "7279                         3.0                     2.0   \n",
       "3361                         3.0                     4.0   \n",
       "4976                         1.0                     2.0   \n",
       "4558                         5.0                     5.0   \n",
       "381                          4.0                     3.0   \n",
       "\n",
       "       offer received bogo count  offer received discount count  \\\n",
       "9134                         1.0                            3.0   \n",
       "7156                         3.0                            2.0   \n",
       "11502                        1.0                            2.0   \n",
       "12981                        2.0                            1.0   \n",
       "10631                        4.0                            0.0   \n",
       "7279                         2.0                            1.0   \n",
       "3361                         1.0                            4.0   \n",
       "4976                         0.0                            1.0   \n",
       "4558                         3.0                            2.0   \n",
       "381                          1.0                            2.0   \n",
       "\n",
       "       offer received informational count  offer viewed_via_email  \\\n",
       "9134                                  1.0                     5.0   \n",
       "7156                                  0.0                     4.0   \n",
       "11502                                 2.0                     5.0   \n",
       "12981                                 0.0                     2.0   \n",
       "10631                                 0.0                     4.0   \n",
       "7279                                  0.0                     3.0   \n",
       "3361                                  0.0                     5.0   \n",
       "4976                                  1.0                     0.0   \n",
       "4558                                  1.0                     5.0   \n",
       "381                                   1.0                     4.0   \n",
       "\n",
       "       offer viewed_via_social  offer viewed_via_mobile  offer viewed_via_web  \\\n",
       "9134                       4.0                      5.0                   3.0   \n",
       "7156                       4.0                      4.0                   3.0   \n",
       "11502                      2.0                      5.0                   5.0   \n",
       "12981                      1.0                      2.0                   2.0   \n",
       "10631                      2.0                      4.0                   4.0   \n",
       "7279                       3.0                      3.0                   2.0   \n",
       "3361                       2.0                      3.0                   4.0   \n",
       "4976                       0.0                      0.0                   0.0   \n",
       "4558                       2.0                      5.0                   4.0   \n",
       "381                        3.0                      4.0                   3.0   \n",
       "\n",
       "       offer viewed bogo count  offer viewed discount count  \\\n",
       "9134                       1.0                          3.0   \n",
       "7156                       3.0                          1.0   \n",
       "11502                      1.0                          2.0   \n",
       "12981                      2.0                          0.0   \n",
       "10631                      4.0                          0.0   \n",
       "7279                       2.0                          1.0   \n",
       "3361                       1.0                          4.0   \n",
       "4976                       0.0                          0.0   \n",
       "4558                       3.0                          1.0   \n",
       "381                        1.0                          2.0   \n",
       "\n",
       "       offer viewed informational count  Total transaction amount  \\\n",
       "9134                                1.0                    114.40   \n",
       "7156                                0.0                     78.51   \n",
       "11502                               2.0                    198.10   \n",
       "12981                               0.0                    145.78   \n",
       "10631                               0.0                    137.39   \n",
       "7279                                0.0                    101.76   \n",
       "3361                                0.0                    100.52   \n",
       "4976                                0.0                      7.08   \n",
       "4558                                1.0                    127.74   \n",
       "381                                 1.0                    105.70   \n",
       "\n",
       "       avg_difficulty  avg_duration  total_reward_received  \\\n",
       "9134         8.571429    185.142857                   16.0   \n",
       "7156        10.909091    172.363636                   12.0   \n",
       "11502        5.076923    162.461538                   10.0   \n",
       "12981        6.250000    150.000000                   12.0   \n",
       "10631        5.000000    144.000000                   20.0   \n",
       "7279         7.333333    152.000000                   18.0   \n",
       "3361        14.000000    211.200000                   24.0   \n",
       "4976        10.000000    168.000000                    0.0   \n",
       "4558         7.187500    156.000000                   22.0   \n",
       "381          8.181818    157.090909                   14.0   \n",
       "\n",
       "       total_reward_defined  total_view_ratio  total_completion_ratio  \\\n",
       "9134                   16.0              1.00                   0.800   \n",
       "7156                   37.0              0.80                   0.400   \n",
       "11502                  10.0              1.00                   0.600   \n",
       "12981                  12.0              0.67                   1.000   \n",
       "10631                  20.0              1.00                   1.000   \n",
       "7279                   18.0              1.00                   1.000   \n",
       "3361                   24.0              1.00                   1.000   \n",
       "4976                    5.0              0.00                   0.000   \n",
       "4558                   22.0              0.83                   0.833   \n",
       "381                    14.0              1.00                   0.750   \n",
       "\n",
       "       avg_transaction_amt  transactions_per_membership_days customer_type  \n",
       "9134                  8.80                          0.011414        active  \n",
       "7156                  3.02                          0.010400        active  \n",
       "11502                12.38                          0.008705        active  \n",
       "12981                12.15                          0.007921        active  \n",
       "10631                 9.81                          0.011447        active  \n",
       "7279                  8.48                          0.006575        active  \n",
       "3361                  8.38                          0.011029        active  \n",
       "4976                  3.54                          0.001908       passive  \n",
       "4558                 15.97                          0.003795        active  \n",
       "381                  15.10                          0.006428        active  "
      ]
     },
     "execution_count": 4,
     "metadata": {},
     "output_type": "execute_result"
    }
   ],
   "source": [
    "data = pd.read_csv('../data/profile_labelled.csv')\n",
    "data = data.loc[:, ~data.columns.str.contains('^Unnamed')]\n",
    "data.sample(10)"
   ]
  },
  {
   "cell_type": "code",
   "execution_count": 5,
   "metadata": {},
   "outputs": [
    {
     "data": {
      "text/html": [
       "<div>\n",
       "<style scoped>\n",
       "    .dataframe tbody tr th:only-of-type {\n",
       "        vertical-align: middle;\n",
       "    }\n",
       "\n",
       "    .dataframe tbody tr th {\n",
       "        vertical-align: top;\n",
       "    }\n",
       "\n",
       "    .dataframe thead th {\n",
       "        text-align: right;\n",
       "    }\n",
       "</style>\n",
       "<table border=\"1\" class=\"dataframe\">\n",
       "  <thead>\n",
       "    <tr style=\"text-align: right;\">\n",
       "      <th></th>\n",
       "      <th>age</th>\n",
       "      <th>cust_id</th>\n",
       "      <th>became_member_on</th>\n",
       "      <th>days_as_member</th>\n",
       "      <th>income_in_k</th>\n",
       "      <th>Total offer completed</th>\n",
       "      <th>Total offer received</th>\n",
       "      <th>Total offer viewed</th>\n",
       "      <th>Total transaction</th>\n",
       "      <th>offer completed_via_email</th>\n",
       "      <th>offer completed_via_social</th>\n",
       "      <th>offer completed_via_mobile</th>\n",
       "      <th>offer completed_via_web</th>\n",
       "      <th>offer completed bogo count</th>\n",
       "      <th>offer completed discount count</th>\n",
       "      <th>offer received_via_email</th>\n",
       "      <th>offer received_via_social</th>\n",
       "      <th>offer received_via_mobile</th>\n",
       "      <th>offer received_via_web</th>\n",
       "      <th>offer received bogo count</th>\n",
       "      <th>offer received discount count</th>\n",
       "      <th>offer received informational count</th>\n",
       "      <th>offer viewed_via_email</th>\n",
       "      <th>offer viewed_via_social</th>\n",
       "      <th>offer viewed_via_mobile</th>\n",
       "      <th>offer viewed_via_web</th>\n",
       "      <th>offer viewed bogo count</th>\n",
       "      <th>offer viewed discount count</th>\n",
       "      <th>offer viewed informational count</th>\n",
       "      <th>Total transaction amount</th>\n",
       "      <th>avg_difficulty</th>\n",
       "      <th>avg_duration</th>\n",
       "      <th>total_reward_received</th>\n",
       "      <th>total_reward_defined</th>\n",
       "      <th>total_view_ratio</th>\n",
       "      <th>total_completion_ratio</th>\n",
       "      <th>avg_transaction_amt</th>\n",
       "      <th>transactions_per_membership_days</th>\n",
       "      <th>customer_type</th>\n",
       "      <th>is__F</th>\n",
       "      <th>is__M</th>\n",
       "      <th>is__O</th>\n",
       "    </tr>\n",
       "  </thead>\n",
       "  <tbody>\n",
       "    <tr>\n",
       "      <th>7479</th>\n",
       "      <td>44</td>\n",
       "      <td>1354b9d1ecc94f90ae55b0f5e892de62</td>\n",
       "      <td>2014-07-29</td>\n",
       "      <td>2317</td>\n",
       "      <td>59.0</td>\n",
       "      <td>2.0</td>\n",
       "      <td>3.0</td>\n",
       "      <td>3.0</td>\n",
       "      <td>7.0</td>\n",
       "      <td>2.0</td>\n",
       "      <td>2.0</td>\n",
       "      <td>2.0</td>\n",
       "      <td>1.0</td>\n",
       "      <td>2.0</td>\n",
       "      <td>0.0</td>\n",
       "      <td>3.0</td>\n",
       "      <td>2.0</td>\n",
       "      <td>3.0</td>\n",
       "      <td>2.0</td>\n",
       "      <td>2.0</td>\n",
       "      <td>0.0</td>\n",
       "      <td>1.0</td>\n",
       "      <td>3.0</td>\n",
       "      <td>2.0</td>\n",
       "      <td>3.0</td>\n",
       "      <td>2.0</td>\n",
       "      <td>2.0</td>\n",
       "      <td>0.0</td>\n",
       "      <td>1.0</td>\n",
       "      <td>98.81</td>\n",
       "      <td>7.500000</td>\n",
       "      <td>132.000000</td>\n",
       "      <td>20.0</td>\n",
       "      <td>20.0</td>\n",
       "      <td>1.00</td>\n",
       "      <td>0.667</td>\n",
       "      <td>14.12</td>\n",
       "      <td>0.003021</td>\n",
       "      <td>active</td>\n",
       "      <td>0</td>\n",
       "      <td>1</td>\n",
       "      <td>0</td>\n",
       "    </tr>\n",
       "    <tr>\n",
       "      <th>10217</th>\n",
       "      <td>25</td>\n",
       "      <td>de20a391a40646299bac08abbf4c5fbc</td>\n",
       "      <td>2018-05-02</td>\n",
       "      <td>944</td>\n",
       "      <td>65.0</td>\n",
       "      <td>1.0</td>\n",
       "      <td>6.0</td>\n",
       "      <td>3.0</td>\n",
       "      <td>9.0</td>\n",
       "      <td>1.0</td>\n",
       "      <td>1.0</td>\n",
       "      <td>1.0</td>\n",
       "      <td>1.0</td>\n",
       "      <td>0.0</td>\n",
       "      <td>1.0</td>\n",
       "      <td>6.0</td>\n",
       "      <td>3.0</td>\n",
       "      <td>5.0</td>\n",
       "      <td>5.0</td>\n",
       "      <td>2.0</td>\n",
       "      <td>3.0</td>\n",
       "      <td>1.0</td>\n",
       "      <td>3.0</td>\n",
       "      <td>3.0</td>\n",
       "      <td>3.0</td>\n",
       "      <td>2.0</td>\n",
       "      <td>1.0</td>\n",
       "      <td>1.0</td>\n",
       "      <td>1.0</td>\n",
       "      <td>36.40</td>\n",
       "      <td>7.600000</td>\n",
       "      <td>146.400000</td>\n",
       "      <td>3.0</td>\n",
       "      <td>25.0</td>\n",
       "      <td>0.50</td>\n",
       "      <td>0.167</td>\n",
       "      <td>4.04</td>\n",
       "      <td>0.009534</td>\n",
       "      <td>passive</td>\n",
       "      <td>0</td>\n",
       "      <td>1</td>\n",
       "      <td>0</td>\n",
       "    </tr>\n",
       "    <tr>\n",
       "      <th>7847</th>\n",
       "      <td>58</td>\n",
       "      <td>19e780c4144945b4915b3c1fc59947cc</td>\n",
       "      <td>2018-05-01</td>\n",
       "      <td>945</td>\n",
       "      <td>71.0</td>\n",
       "      <td>3.0</td>\n",
       "      <td>4.0</td>\n",
       "      <td>4.0</td>\n",
       "      <td>6.0</td>\n",
       "      <td>3.0</td>\n",
       "      <td>2.0</td>\n",
       "      <td>3.0</td>\n",
       "      <td>3.0</td>\n",
       "      <td>0.0</td>\n",
       "      <td>3.0</td>\n",
       "      <td>4.0</td>\n",
       "      <td>2.0</td>\n",
       "      <td>4.0</td>\n",
       "      <td>4.0</td>\n",
       "      <td>0.0</td>\n",
       "      <td>3.0</td>\n",
       "      <td>1.0</td>\n",
       "      <td>4.0</td>\n",
       "      <td>2.0</td>\n",
       "      <td>4.0</td>\n",
       "      <td>4.0</td>\n",
       "      <td>0.0</td>\n",
       "      <td>3.0</td>\n",
       "      <td>1.0</td>\n",
       "      <td>118.86</td>\n",
       "      <td>7.363636</td>\n",
       "      <td>174.545455</td>\n",
       "      <td>7.0</td>\n",
       "      <td>7.0</td>\n",
       "      <td>1.00</td>\n",
       "      <td>0.750</td>\n",
       "      <td>19.81</td>\n",
       "      <td>0.006349</td>\n",
       "      <td>active</td>\n",
       "      <td>0</td>\n",
       "      <td>1</td>\n",
       "      <td>0</td>\n",
       "    </tr>\n",
       "    <tr>\n",
       "      <th>7396</th>\n",
       "      <td>60</td>\n",
       "      <td>12a82446825e42e49146be6ae6c3c80c</td>\n",
       "      <td>2018-07-16</td>\n",
       "      <td>869</td>\n",
       "      <td>97.0</td>\n",
       "      <td>1.0</td>\n",
       "      <td>4.0</td>\n",
       "      <td>3.0</td>\n",
       "      <td>4.0</td>\n",
       "      <td>1.0</td>\n",
       "      <td>0.0</td>\n",
       "      <td>0.0</td>\n",
       "      <td>1.0</td>\n",
       "      <td>0.0</td>\n",
       "      <td>1.0</td>\n",
       "      <td>4.0</td>\n",
       "      <td>2.0</td>\n",
       "      <td>3.0</td>\n",
       "      <td>3.0</td>\n",
       "      <td>1.0</td>\n",
       "      <td>2.0</td>\n",
       "      <td>1.0</td>\n",
       "      <td>3.0</td>\n",
       "      <td>1.0</td>\n",
       "      <td>2.0</td>\n",
       "      <td>3.0</td>\n",
       "      <td>1.0</td>\n",
       "      <td>2.0</td>\n",
       "      <td>0.0</td>\n",
       "      <td>101.10</td>\n",
       "      <td>12.500000</td>\n",
       "      <td>171.000000</td>\n",
       "      <td>5.0</td>\n",
       "      <td>17.0</td>\n",
       "      <td>0.75</td>\n",
       "      <td>0.250</td>\n",
       "      <td>25.28</td>\n",
       "      <td>0.004603</td>\n",
       "      <td>active</td>\n",
       "      <td>0</td>\n",
       "      <td>1</td>\n",
       "      <td>0</td>\n",
       "    </tr>\n",
       "    <tr>\n",
       "      <th>4325</th>\n",
       "      <td>85</td>\n",
       "      <td>3f820d0634534281bc4b26dfc721806b</td>\n",
       "      <td>2017-10-31</td>\n",
       "      <td>1127</td>\n",
       "      <td>90.0</td>\n",
       "      <td>2.0</td>\n",
       "      <td>5.0</td>\n",
       "      <td>2.0</td>\n",
       "      <td>5.0</td>\n",
       "      <td>2.0</td>\n",
       "      <td>2.0</td>\n",
       "      <td>2.0</td>\n",
       "      <td>1.0</td>\n",
       "      <td>2.0</td>\n",
       "      <td>0.0</td>\n",
       "      <td>5.0</td>\n",
       "      <td>2.0</td>\n",
       "      <td>5.0</td>\n",
       "      <td>4.0</td>\n",
       "      <td>2.0</td>\n",
       "      <td>0.0</td>\n",
       "      <td>3.0</td>\n",
       "      <td>2.0</td>\n",
       "      <td>1.0</td>\n",
       "      <td>2.0</td>\n",
       "      <td>2.0</td>\n",
       "      <td>1.0</td>\n",
       "      <td>0.0</td>\n",
       "      <td>1.0</td>\n",
       "      <td>105.19</td>\n",
       "      <td>5.555556</td>\n",
       "      <td>120.000000</td>\n",
       "      <td>20.0</td>\n",
       "      <td>20.0</td>\n",
       "      <td>0.40</td>\n",
       "      <td>0.400</td>\n",
       "      <td>21.04</td>\n",
       "      <td>0.004437</td>\n",
       "      <td>passive</td>\n",
       "      <td>1</td>\n",
       "      <td>0</td>\n",
       "      <td>0</td>\n",
       "    </tr>\n",
       "    <tr>\n",
       "      <th>10279</th>\n",
       "      <td>49</td>\n",
       "      <td>98d67b97a0f042ad89c3b4db85b4df27</td>\n",
       "      <td>2016-02-07</td>\n",
       "      <td>1759</td>\n",
       "      <td>101.0</td>\n",
       "      <td>2.0</td>\n",
       "      <td>5.0</td>\n",
       "      <td>2.0</td>\n",
       "      <td>6.0</td>\n",
       "      <td>2.0</td>\n",
       "      <td>0.0</td>\n",
       "      <td>2.0</td>\n",
       "      <td>2.0</td>\n",
       "      <td>1.0</td>\n",
       "      <td>1.0</td>\n",
       "      <td>5.0</td>\n",
       "      <td>0.0</td>\n",
       "      <td>5.0</td>\n",
       "      <td>5.0</td>\n",
       "      <td>1.0</td>\n",
       "      <td>3.0</td>\n",
       "      <td>1.0</td>\n",
       "      <td>2.0</td>\n",
       "      <td>0.0</td>\n",
       "      <td>2.0</td>\n",
       "      <td>2.0</td>\n",
       "      <td>0.0</td>\n",
       "      <td>1.0</td>\n",
       "      <td>1.0</td>\n",
       "      <td>175.37</td>\n",
       "      <td>6.666667</td>\n",
       "      <td>152.000000</td>\n",
       "      <td>7.0</td>\n",
       "      <td>11.0</td>\n",
       "      <td>0.40</td>\n",
       "      <td>0.400</td>\n",
       "      <td>29.23</td>\n",
       "      <td>0.003411</td>\n",
       "      <td>passive</td>\n",
       "      <td>1</td>\n",
       "      <td>0</td>\n",
       "      <td>0</td>\n",
       "    </tr>\n",
       "    <tr>\n",
       "      <th>10008</th>\n",
       "      <td>85</td>\n",
       "      <td>304183fd053441f0a13bc4d648b7cff1</td>\n",
       "      <td>2016-01-24</td>\n",
       "      <td>1773</td>\n",
       "      <td>40.0</td>\n",
       "      <td>4.0</td>\n",
       "      <td>6.0</td>\n",
       "      <td>5.0</td>\n",
       "      <td>11.0</td>\n",
       "      <td>4.0</td>\n",
       "      <td>2.0</td>\n",
       "      <td>3.0</td>\n",
       "      <td>2.0</td>\n",
       "      <td>3.0</td>\n",
       "      <td>1.0</td>\n",
       "      <td>6.0</td>\n",
       "      <td>4.0</td>\n",
       "      <td>5.0</td>\n",
       "      <td>2.0</td>\n",
       "      <td>4.0</td>\n",
       "      <td>1.0</td>\n",
       "      <td>1.0</td>\n",
       "      <td>5.0</td>\n",
       "      <td>4.0</td>\n",
       "      <td>4.0</td>\n",
       "      <td>1.0</td>\n",
       "      <td>3.0</td>\n",
       "      <td>1.0</td>\n",
       "      <td>1.0</td>\n",
       "      <td>106.02</td>\n",
       "      <td>10.000000</td>\n",
       "      <td>169.600000</td>\n",
       "      <td>30.0</td>\n",
       "      <td>40.0</td>\n",
       "      <td>0.83</td>\n",
       "      <td>0.667</td>\n",
       "      <td>9.64</td>\n",
       "      <td>0.006204</td>\n",
       "      <td>active</td>\n",
       "      <td>0</td>\n",
       "      <td>1</td>\n",
       "      <td>0</td>\n",
       "    </tr>\n",
       "    <tr>\n",
       "      <th>11274</th>\n",
       "      <td>61</td>\n",
       "      <td>4e44a658d07f417dbba5ce73b6496194</td>\n",
       "      <td>2016-08-08</td>\n",
       "      <td>1576</td>\n",
       "      <td>105.0</td>\n",
       "      <td>4.0</td>\n",
       "      <td>6.0</td>\n",
       "      <td>3.0</td>\n",
       "      <td>10.0</td>\n",
       "      <td>4.0</td>\n",
       "      <td>3.0</td>\n",
       "      <td>4.0</td>\n",
       "      <td>4.0</td>\n",
       "      <td>3.0</td>\n",
       "      <td>1.0</td>\n",
       "      <td>6.0</td>\n",
       "      <td>5.0</td>\n",
       "      <td>6.0</td>\n",
       "      <td>5.0</td>\n",
       "      <td>3.0</td>\n",
       "      <td>2.0</td>\n",
       "      <td>1.0</td>\n",
       "      <td>3.0</td>\n",
       "      <td>3.0</td>\n",
       "      <td>3.0</td>\n",
       "      <td>2.0</td>\n",
       "      <td>1.0</td>\n",
       "      <td>1.0</td>\n",
       "      <td>1.0</td>\n",
       "      <td>251.56</td>\n",
       "      <td>6.769231</td>\n",
       "      <td>134.769231</td>\n",
       "      <td>28.0</td>\n",
       "      <td>31.0</td>\n",
       "      <td>0.50</td>\n",
       "      <td>0.667</td>\n",
       "      <td>25.16</td>\n",
       "      <td>0.006345</td>\n",
       "      <td>passive</td>\n",
       "      <td>1</td>\n",
       "      <td>0</td>\n",
       "      <td>0</td>\n",
       "    </tr>\n",
       "    <tr>\n",
       "      <th>3934</th>\n",
       "      <td>81</td>\n",
       "      <td>e923430fec954402b739fec4f21d8f8b</td>\n",
       "      <td>2016-07-20</td>\n",
       "      <td>1595</td>\n",
       "      <td>82.0</td>\n",
       "      <td>3.0</td>\n",
       "      <td>4.0</td>\n",
       "      <td>4.0</td>\n",
       "      <td>9.0</td>\n",
       "      <td>3.0</td>\n",
       "      <td>1.0</td>\n",
       "      <td>3.0</td>\n",
       "      <td>3.0</td>\n",
       "      <td>1.0</td>\n",
       "      <td>2.0</td>\n",
       "      <td>4.0</td>\n",
       "      <td>2.0</td>\n",
       "      <td>4.0</td>\n",
       "      <td>4.0</td>\n",
       "      <td>2.0</td>\n",
       "      <td>2.0</td>\n",
       "      <td>0.0</td>\n",
       "      <td>4.0</td>\n",
       "      <td>2.0</td>\n",
       "      <td>4.0</td>\n",
       "      <td>4.0</td>\n",
       "      <td>2.0</td>\n",
       "      <td>2.0</td>\n",
       "      <td>0.0</td>\n",
       "      <td>191.35</td>\n",
       "      <td>7.818182</td>\n",
       "      <td>159.272727</td>\n",
       "      <td>10.0</td>\n",
       "      <td>20.0</td>\n",
       "      <td>1.00</td>\n",
       "      <td>0.750</td>\n",
       "      <td>21.26</td>\n",
       "      <td>0.005643</td>\n",
       "      <td>active</td>\n",
       "      <td>1</td>\n",
       "      <td>0</td>\n",
       "      <td>0</td>\n",
       "    </tr>\n",
       "    <tr>\n",
       "      <th>1382</th>\n",
       "      <td>51</td>\n",
       "      <td>1a297cc7262d42b59fb3e34fe0166702</td>\n",
       "      <td>2014-06-24</td>\n",
       "      <td>2352</td>\n",
       "      <td>33.0</td>\n",
       "      <td>2.0</td>\n",
       "      <td>6.0</td>\n",
       "      <td>2.0</td>\n",
       "      <td>19.0</td>\n",
       "      <td>2.0</td>\n",
       "      <td>0.0</td>\n",
       "      <td>1.0</td>\n",
       "      <td>2.0</td>\n",
       "      <td>1.0</td>\n",
       "      <td>1.0</td>\n",
       "      <td>6.0</td>\n",
       "      <td>2.0</td>\n",
       "      <td>5.0</td>\n",
       "      <td>4.0</td>\n",
       "      <td>2.0</td>\n",
       "      <td>1.0</td>\n",
       "      <td>3.0</td>\n",
       "      <td>2.0</td>\n",
       "      <td>2.0</td>\n",
       "      <td>2.0</td>\n",
       "      <td>0.0</td>\n",
       "      <td>0.0</td>\n",
       "      <td>0.0</td>\n",
       "      <td>2.0</td>\n",
       "      <td>70.57</td>\n",
       "      <td>5.500000</td>\n",
       "      <td>136.800000</td>\n",
       "      <td>10.0</td>\n",
       "      <td>15.0</td>\n",
       "      <td>0.33</td>\n",
       "      <td>0.333</td>\n",
       "      <td>3.71</td>\n",
       "      <td>0.008078</td>\n",
       "      <td>passive</td>\n",
       "      <td>0</td>\n",
       "      <td>1</td>\n",
       "      <td>0</td>\n",
       "    </tr>\n",
       "  </tbody>\n",
       "</table>\n",
       "</div>"
      ],
      "text/plain": [
       "       age                           cust_id became_member_on  days_as_member  \\\n",
       "7479    44  1354b9d1ecc94f90ae55b0f5e892de62       2014-07-29            2317   \n",
       "10217   25  de20a391a40646299bac08abbf4c5fbc       2018-05-02             944   \n",
       "7847    58  19e780c4144945b4915b3c1fc59947cc       2018-05-01             945   \n",
       "7396    60  12a82446825e42e49146be6ae6c3c80c       2018-07-16             869   \n",
       "4325    85  3f820d0634534281bc4b26dfc721806b       2017-10-31            1127   \n",
       "10279   49  98d67b97a0f042ad89c3b4db85b4df27       2016-02-07            1759   \n",
       "10008   85  304183fd053441f0a13bc4d648b7cff1       2016-01-24            1773   \n",
       "11274   61  4e44a658d07f417dbba5ce73b6496194       2016-08-08            1576   \n",
       "3934    81  e923430fec954402b739fec4f21d8f8b       2016-07-20            1595   \n",
       "1382    51  1a297cc7262d42b59fb3e34fe0166702       2014-06-24            2352   \n",
       "\n",
       "       income_in_k  Total offer completed  Total offer received  \\\n",
       "7479          59.0                    2.0                   3.0   \n",
       "10217         65.0                    1.0                   6.0   \n",
       "7847          71.0                    3.0                   4.0   \n",
       "7396          97.0                    1.0                   4.0   \n",
       "4325          90.0                    2.0                   5.0   \n",
       "10279        101.0                    2.0                   5.0   \n",
       "10008         40.0                    4.0                   6.0   \n",
       "11274        105.0                    4.0                   6.0   \n",
       "3934          82.0                    3.0                   4.0   \n",
       "1382          33.0                    2.0                   6.0   \n",
       "\n",
       "       Total offer viewed  Total transaction  offer completed_via_email  \\\n",
       "7479                  3.0                7.0                        2.0   \n",
       "10217                 3.0                9.0                        1.0   \n",
       "7847                  4.0                6.0                        3.0   \n",
       "7396                  3.0                4.0                        1.0   \n",
       "4325                  2.0                5.0                        2.0   \n",
       "10279                 2.0                6.0                        2.0   \n",
       "10008                 5.0               11.0                        4.0   \n",
       "11274                 3.0               10.0                        4.0   \n",
       "3934                  4.0                9.0                        3.0   \n",
       "1382                  2.0               19.0                        2.0   \n",
       "\n",
       "       offer completed_via_social  offer completed_via_mobile  \\\n",
       "7479                          2.0                         2.0   \n",
       "10217                         1.0                         1.0   \n",
       "7847                          2.0                         3.0   \n",
       "7396                          0.0                         0.0   \n",
       "4325                          2.0                         2.0   \n",
       "10279                         0.0                         2.0   \n",
       "10008                         2.0                         3.0   \n",
       "11274                         3.0                         4.0   \n",
       "3934                          1.0                         3.0   \n",
       "1382                          0.0                         1.0   \n",
       "\n",
       "       offer completed_via_web  offer completed bogo count  \\\n",
       "7479                       1.0                         2.0   \n",
       "10217                      1.0                         0.0   \n",
       "7847                       3.0                         0.0   \n",
       "7396                       1.0                         0.0   \n",
       "4325                       1.0                         2.0   \n",
       "10279                      2.0                         1.0   \n",
       "10008                      2.0                         3.0   \n",
       "11274                      4.0                         3.0   \n",
       "3934                       3.0                         1.0   \n",
       "1382                       2.0                         1.0   \n",
       "\n",
       "       offer completed discount count  offer received_via_email  \\\n",
       "7479                              0.0                       3.0   \n",
       "10217                             1.0                       6.0   \n",
       "7847                              3.0                       4.0   \n",
       "7396                              1.0                       4.0   \n",
       "4325                              0.0                       5.0   \n",
       "10279                             1.0                       5.0   \n",
       "10008                             1.0                       6.0   \n",
       "11274                             1.0                       6.0   \n",
       "3934                              2.0                       4.0   \n",
       "1382                              1.0                       6.0   \n",
       "\n",
       "       offer received_via_social  offer received_via_mobile  \\\n",
       "7479                         2.0                        3.0   \n",
       "10217                        3.0                        5.0   \n",
       "7847                         2.0                        4.0   \n",
       "7396                         2.0                        3.0   \n",
       "4325                         2.0                        5.0   \n",
       "10279                        0.0                        5.0   \n",
       "10008                        4.0                        5.0   \n",
       "11274                        5.0                        6.0   \n",
       "3934                         2.0                        4.0   \n",
       "1382                         2.0                        5.0   \n",
       "\n",
       "       offer received_via_web  offer received bogo count  \\\n",
       "7479                      2.0                        2.0   \n",
       "10217                     5.0                        2.0   \n",
       "7847                      4.0                        0.0   \n",
       "7396                      3.0                        1.0   \n",
       "4325                      4.0                        2.0   \n",
       "10279                     5.0                        1.0   \n",
       "10008                     2.0                        4.0   \n",
       "11274                     5.0                        3.0   \n",
       "3934                      4.0                        2.0   \n",
       "1382                      4.0                        2.0   \n",
       "\n",
       "       offer received discount count  offer received informational count  \\\n",
       "7479                             0.0                                 1.0   \n",
       "10217                            3.0                                 1.0   \n",
       "7847                             3.0                                 1.0   \n",
       "7396                             2.0                                 1.0   \n",
       "4325                             0.0                                 3.0   \n",
       "10279                            3.0                                 1.0   \n",
       "10008                            1.0                                 1.0   \n",
       "11274                            2.0                                 1.0   \n",
       "3934                             2.0                                 0.0   \n",
       "1382                             1.0                                 3.0   \n",
       "\n",
       "       offer viewed_via_email  offer viewed_via_social  \\\n",
       "7479                      3.0                      2.0   \n",
       "10217                     3.0                      3.0   \n",
       "7847                      4.0                      2.0   \n",
       "7396                      3.0                      1.0   \n",
       "4325                      2.0                      1.0   \n",
       "10279                     2.0                      0.0   \n",
       "10008                     5.0                      4.0   \n",
       "11274                     3.0                      3.0   \n",
       "3934                      4.0                      2.0   \n",
       "1382                      2.0                      2.0   \n",
       "\n",
       "       offer viewed_via_mobile  offer viewed_via_web  offer viewed bogo count  \\\n",
       "7479                       3.0                   2.0                      2.0   \n",
       "10217                      3.0                   2.0                      1.0   \n",
       "7847                       4.0                   4.0                      0.0   \n",
       "7396                       2.0                   3.0                      1.0   \n",
       "4325                       2.0                   2.0                      1.0   \n",
       "10279                      2.0                   2.0                      0.0   \n",
       "10008                      4.0                   1.0                      3.0   \n",
       "11274                      3.0                   2.0                      1.0   \n",
       "3934                       4.0                   4.0                      2.0   \n",
       "1382                       2.0                   0.0                      0.0   \n",
       "\n",
       "       offer viewed discount count  offer viewed informational count  \\\n",
       "7479                           0.0                               1.0   \n",
       "10217                          1.0                               1.0   \n",
       "7847                           3.0                               1.0   \n",
       "7396                           2.0                               0.0   \n",
       "4325                           0.0                               1.0   \n",
       "10279                          1.0                               1.0   \n",
       "10008                          1.0                               1.0   \n",
       "11274                          1.0                               1.0   \n",
       "3934                           2.0                               0.0   \n",
       "1382                           0.0                               2.0   \n",
       "\n",
       "       Total transaction amount  avg_difficulty  avg_duration  \\\n",
       "7479                      98.81        7.500000    132.000000   \n",
       "10217                     36.40        7.600000    146.400000   \n",
       "7847                     118.86        7.363636    174.545455   \n",
       "7396                     101.10       12.500000    171.000000   \n",
       "4325                     105.19        5.555556    120.000000   \n",
       "10279                    175.37        6.666667    152.000000   \n",
       "10008                    106.02       10.000000    169.600000   \n",
       "11274                    251.56        6.769231    134.769231   \n",
       "3934                     191.35        7.818182    159.272727   \n",
       "1382                      70.57        5.500000    136.800000   \n",
       "\n",
       "       total_reward_received  total_reward_defined  total_view_ratio  \\\n",
       "7479                    20.0                  20.0              1.00   \n",
       "10217                    3.0                  25.0              0.50   \n",
       "7847                     7.0                   7.0              1.00   \n",
       "7396                     5.0                  17.0              0.75   \n",
       "4325                    20.0                  20.0              0.40   \n",
       "10279                    7.0                  11.0              0.40   \n",
       "10008                   30.0                  40.0              0.83   \n",
       "11274                   28.0                  31.0              0.50   \n",
       "3934                    10.0                  20.0              1.00   \n",
       "1382                    10.0                  15.0              0.33   \n",
       "\n",
       "       total_completion_ratio  avg_transaction_amt  \\\n",
       "7479                    0.667                14.12   \n",
       "10217                   0.167                 4.04   \n",
       "7847                    0.750                19.81   \n",
       "7396                    0.250                25.28   \n",
       "4325                    0.400                21.04   \n",
       "10279                   0.400                29.23   \n",
       "10008                   0.667                 9.64   \n",
       "11274                   0.667                25.16   \n",
       "3934                    0.750                21.26   \n",
       "1382                    0.333                 3.71   \n",
       "\n",
       "       transactions_per_membership_days customer_type  is__F  is__M  is__O  \n",
       "7479                           0.003021        active      0      1      0  \n",
       "10217                          0.009534       passive      0      1      0  \n",
       "7847                           0.006349        active      0      1      0  \n",
       "7396                           0.004603        active      0      1      0  \n",
       "4325                           0.004437       passive      1      0      0  \n",
       "10279                          0.003411       passive      1      0      0  \n",
       "10008                          0.006204        active      0      1      0  \n",
       "11274                          0.006345       passive      1      0      0  \n",
       "3934                           0.005643        active      1      0      0  \n",
       "1382                           0.008078       passive      0      1      0  "
      ]
     },
     "execution_count": 5,
     "metadata": {},
     "output_type": "execute_result"
    }
   ],
   "source": [
    "# define dataset\n",
    "gen_split = pd.get_dummies(data['gender'], prefix='is_')\n",
    "data = pd.concat([data, gen_split], axis=1)\n",
    "data.drop('gender', axis=1, inplace=True)\n",
    "data.sample(10)"
   ]
  },
  {
   "cell_type": "markdown",
   "metadata": {},
   "source": [
    "## Finding set of correlated features"
   ]
  },
  {
   "cell_type": "code",
   "execution_count": 6,
   "metadata": {},
   "outputs": [
    {
     "data": {
      "text/plain": [
       "{'is__M'}"
      ]
     },
     "execution_count": 6,
     "metadata": {},
     "output_type": "execute_result"
    }
   ],
   "source": [
    "correlated_features = set()\n",
    "correlation_matrix = data[['is__F', 'is__M', 'is__O', 'age', 'income_in_k', 'avg_difficulty', 'avg_duration', 'avg_transaction_amt', 'transactions_per_membership_days', 'days_as_member']].corr()\n",
    "\n",
    "for i in range(len(correlation_matrix.columns)):\n",
    "    for j in range(i):\n",
    "        if abs(correlation_matrix.iloc[i, j]) > 0.8:\n",
    "            colname = correlation_matrix.columns[i]\n",
    "            correlated_features.add(colname)\n",
    "correlated_features"
   ]
  },
  {
   "cell_type": "markdown",
   "metadata": {},
   "source": [
    "## Adding label"
   ]
  },
  {
   "cell_type": "code",
   "execution_count": 7,
   "metadata": {},
   "outputs": [
    {
     "data": {
      "text/plain": [
       "active     9637\n",
       "passive    5188\n",
       "Name: customer_type, dtype: int64"
      ]
     },
     "execution_count": 7,
     "metadata": {},
     "output_type": "execute_result"
    }
   ],
   "source": [
    "data['customer_type'] = \"passive\"\n",
    "data.loc[(data['total_view_ratio'] >= 0.6) & (data['total_completion_ratio'] >= 0.2), 'customer_type'] = \"active\" \n",
    "data['customer_type'].value_counts()"
   ]
  },
  {
   "cell_type": "markdown",
   "metadata": {},
   "source": [
    "## Set X as Input features and y as target label"
   ]
  },
  {
   "cell_type": "code",
   "execution_count": 8,
   "metadata": {},
   "outputs": [],
   "source": [
    "X = data[['is__F','is__M', 'is__O', 'age', 'income_in_k', 'avg_difficulty', 'avg_duration', 'avg_transaction_amt', 'transactions_per_membership_days', 'days_as_member']]\n",
    "y = data['customer_type']\n"
   ]
  },
  {
   "cell_type": "markdown",
   "metadata": {},
   "source": [
    "## Split Data to Training and Testing Data"
   ]
  },
  {
   "cell_type": "code",
   "execution_count": 9,
   "metadata": {},
   "outputs": [],
   "source": [
    "X_train, X_test, y_train, y_test = train_test_split(X, y, test_size=0.25, random_state=21)"
   ]
  },
  {
   "cell_type": "code",
   "execution_count": 10,
   "metadata": {},
   "outputs": [
    {
     "name": "stdout",
     "output_type": "stream",
     "text": [
      "X_train:  (11118, 10)\n",
      "X_test:  (3707, 10)\n"
     ]
    }
   ],
   "source": [
    "#Print the shape of training and test data\n",
    "print(\"X_train: \", X_train.shape)\n",
    "print(\"X_test: \", X_test.shape)"
   ]
  },
  {
   "cell_type": "markdown",
   "metadata": {},
   "source": [
    "## Running RFECV"
   ]
  },
  {
   "cell_type": "code",
   "execution_count": 11,
   "metadata": {},
   "outputs": [
    {
     "name": "stdout",
     "output_type": "stream",
     "text": [
      "Optimal number of features: 10\n",
      "Feature selection array:  [ True  True  True  True  True  True  True  True  True  True]\n",
      "Feature Ranking:  [1 1 1 1 1 1 1 1 1 1]\n"
     ]
    }
   ],
   "source": [
    "#RFECV automatically selects the number of features\n",
    "#Checking with Random Forest Classifier model\n",
    "model = DecisionTreeClassifier()\n",
    "rfecv = RFECV(estimator=model, step=1, cv=StratifiedKFold(10), scoring='accuracy')\n",
    "pipeline = Pipeline(steps=[('s',rfecv),('m',model)])\n",
    "\n",
    "pipeline.fit(X_train, y_train)\n",
    "\n",
    "print('Optimal number of features: {}'.format(rfecv.n_features_))\n",
    "print('Feature selection array: ', rfecv.support_)\n",
    "print('Feature Ranking: ',rfecv.ranking_)"
   ]
  },
  {
   "cell_type": "code",
   "execution_count": 12,
   "metadata": {},
   "outputs": [
    {
     "name": "stdout",
     "output_type": "stream",
     "text": [
      "F1 Score: 0.718 (0.013)\n"
     ]
    }
   ],
   "source": [
    "#evaluate model\n",
    "cv = RepeatedStratifiedKFold(n_splits=10, n_repeats=3, random_state=1)\n",
    "n_scores = cross_val_score(pipeline, X, y, scoring='accuracy', cv=cv, n_jobs=-1, error_score='raise')\n",
    "print('F1 Score: %.3f (%.3f)' % (np.mean(n_scores), np.std(n_scores)))"
   ]
  },
  {
   "cell_type": "markdown",
   "metadata": {},
   "source": [
    "## Plotting the RFECV curve for the model with best accuracy"
   ]
  },
  {
   "cell_type": "code",
   "execution_count": 13,
   "metadata": {},
   "outputs": [
    {
     "data": {
      "image/png": "[encoded data removed]",
      "text/plain": [
       "<Figure size 864x648 with 1 Axes>"
      ]
     },
     "metadata": {
      "needs_background": "light"
     },
     "output_type": "display_data"
    }
   ],
   "source": [
    "plt.figure(figsize=(12, 9))\n",
    "plt.title('Recursive Feature Elimination with Cross-Validation', fontsize=18, fontweight='bold', pad=20)\n",
    "plt.xlabel('Number of features selected', fontsize=14, labelpad=20)\n",
    "plt.ylabel('% Correct Classification', fontsize=14, labelpad=20)\n",
    "plt.plot(range(1, len(rfecv.grid_scores_) + 1), rfecv.grid_scores_, color='#303F9F', linewidth=3)\n",
    "\n",
    "plt.show()"
   ]
  },
  {
   "cell_type": "code",
   "execution_count": 14,
   "metadata": {},
   "outputs": [
    {
     "name": "stdout",
     "output_type": "stream",
     "text": [
      "[]\n"
     ]
    }
   ],
   "source": [
    "# Least important features\n",
    "\n",
    "print(np.where(rfecv.support_ == False)[0])\n",
    "\n",
    "#Dropping the non-required features from training and test data\n",
    "X_train.drop(X_train.columns[np.where(rfecv.support_ == False)[0]], axis=1, inplace=True)\n",
    "X_test.drop(X_test.columns[np.where(rfecv.support_ == False)[0]], axis=1, inplace=True)"
   ]
  },
  {
   "cell_type": "code",
   "execution_count": 15,
   "metadata": {},
   "outputs": [
    {
     "name": "stdout",
     "output_type": "stream",
     "text": [
      "Features:  Index(['is__F', 'is__M', 'is__O', 'age', 'income_in_k', 'avg_difficulty',\n",
      "       'avg_duration', 'avg_transaction_amt',\n",
      "       'transactions_per_membership_days', 'days_as_member'],\n",
      "      dtype='object')\n",
      "Feature Importance:  [0.00913563 0.00509116 0.00272267 0.08311753 0.08081026 0.09941575\n",
      " 0.09192994 0.32434191 0.1961609  0.10727427]\n"
     ]
    }
   ],
   "source": [
    "#Print features and feature importance\n",
    "print(\"Features: \", X_train.columns)\n",
    "print(\"Feature Importance: \", rfecv.estimator_.feature_importances_)"
   ]
  },
  {
   "cell_type": "code",
   "execution_count": 16,
   "metadata": {},
   "outputs": [
    {
     "data": {
      "image/png": "[encoded data removed]",
      "text/plain": [
       "<Figure size 864x648 with 1 Axes>"
      ]
     },
     "metadata": {
      "needs_background": "light"
     },
     "output_type": "display_data"
    }
   ],
   "source": [
    "dset = pd.DataFrame()\n",
    "dset['attr'] = X_train.columns\n",
    "dset['importance'] = rfecv.estimator_.feature_importances_\n",
    "\n",
    "dset = dset.sort_values(by='importance', ascending=False)\n",
    "\n",
    "\n",
    "plt.figure(figsize=(12, 9))\n",
    "plt.barh(y=dset['attr'], width=dset['importance'], color='#1976D2')\n",
    "plt.title('RFECV - Feature Importances', fontsize=20, fontweight='bold', pad=20)\n",
    "plt.xlabel('Importance', fontsize=14, labelpad=20)\n",
    "plt.show()"
   ]
  },
  {
   "cell_type": "markdown",
   "metadata": {},
   "source": [
    "## Check if data is balanced"
   ]
  },
  {
   "cell_type": "code",
   "execution_count": 17,
   "metadata": {},
   "outputs": [
    {
     "data": {
      "text/plain": [
       "active     7240\n",
       "passive    3878\n",
       "Name: customer_type, dtype: int64"
      ]
     },
     "execution_count": 17,
     "metadata": {},
     "output_type": "execute_result"
    }
   ],
   "source": [
    "y_train.value_counts()"
   ]
  },
  {
   "cell_type": "code",
   "execution_count": 18,
   "metadata": {},
   "outputs": [
    {
     "data": {
      "text/plain": [
       "active     65.12\n",
       "passive    34.88\n",
       "Name: customer_type, dtype: float64"
      ]
     },
     "execution_count": 18,
     "metadata": {},
     "output_type": "execute_result"
    }
   ],
   "source": [
    "#Find percentage distribution\n",
    "round((y_train.value_counts()/y_train.count())*100,2)"
   ]
  },
  {
   "cell_type": "markdown",
   "metadata": {},
   "source": [
    "#### The target classes are imbalanced!"
   ]
  },
  {
   "cell_type": "markdown",
   "metadata": {},
   "source": [
    "### SMOTE"
   ]
  },
  {
   "cell_type": "code",
   "execution_count": 19,
   "metadata": {},
   "outputs": [],
   "source": [
    "#Applying SMOTE to oversample the minority class before modeling\n",
    "oversample = SMOTE(random_state = 101)\n",
    "X_train, y_train = oversample.fit_resample(X_train, y_train)"
   ]
  },
  {
   "cell_type": "code",
   "execution_count": 20,
   "metadata": {},
   "outputs": [
    {
     "data": {
      "text/plain": [
       "active     50.0\n",
       "passive    50.0\n",
       "Name: customer_type, dtype: float64"
      ]
     },
     "execution_count": 20,
     "metadata": {},
     "output_type": "execute_result"
    }
   ],
   "source": [
    "#check percentage distribution\n",
    "round((y_train.value_counts()/y_train.count())*100,2)"
   ]
  },
  {
   "cell_type": "code",
   "execution_count": 21,
   "metadata": {},
   "outputs": [
    {
     "data": {
      "text/plain": [
       "active     7240\n",
       "passive    7240\n",
       "Name: customer_type, dtype: int64"
      ]
     },
     "execution_count": 21,
     "metadata": {},
     "output_type": "execute_result"
    }
   ],
   "source": [
    "y_train.value_counts()"
   ]
  },
  {
   "cell_type": "code",
   "execution_count": 22,
   "metadata": {},
   "outputs": [],
   "source": [
    "#Changing active to 1 and passive to 0 to get f1 score\n",
    "#Training data\n",
    "y_train = y_train.replace(to_replace='active', value= 1)\n",
    "y_train = y_train.replace(to_replace='passive', value= 0)\n",
    "\n",
    "#Testing data\n",
    "y_test = y_test.replace(to_replace='active', value= 1)\n",
    "y_test = y_test.replace(to_replace='passive', value= 0)"
   ]
  },
  {
   "cell_type": "code",
   "execution_count": 23,
   "metadata": {},
   "outputs": [
    {
     "data": {
      "text/plain": [
       "0        1\n",
       "1        0\n",
       "2        1\n",
       "3        1\n",
       "4        0\n",
       "        ..\n",
       "14475    0\n",
       "14476    0\n",
       "14477    0\n",
       "14478    0\n",
       "14479    0\n",
       "Name: customer_type, Length: 14480, dtype: int64"
      ]
     },
     "execution_count": 23,
     "metadata": {},
     "output_type": "execute_result"
    }
   ],
   "source": [
    "y_train"
   ]
  },
  {
   "cell_type": "markdown",
   "metadata": {},
   "source": [
    "## Modeling and Prediction"
   ]
  },
  {
   "cell_type": "code",
   "execution_count": 24,
   "metadata": {},
   "outputs": [],
   "source": [
    "#Use GridSearchCV to fit selected classifiers to compare the efficiencies of different models\n",
    "def train_classifier(classifier, hyperparameters, X, y): \n",
    "    gridsearch = GridSearchCV(estimator=classifier, param_grid = hyperparameters, cv=5, verbose=1, scoring = 'f1')\n",
    "    model_train = gridsearch.fit(X, y)\n",
    "    print(classifier.__class__.__name__)\n",
    "    print(\"Mean Accuracy:\", round(model_train.score(X, y),4))\n",
    "    print(\"F1: \",gridsearch.best_score_)\n",
    "    return gridsearch.best_estimator_"
   ]
  },
  {
   "cell_type": "code",
   "execution_count": 54,
   "metadata": {},
   "outputs": [
    {
     "name": "stdout",
     "output_type": "stream",
     "text": [
      "Fitting 5 folds for each of 1 candidates, totalling 5 fits\n"
     ]
    },
    {
     "name": "stderr",
     "output_type": "stream",
     "text": [
      "[Parallel(n_jobs=1)]: Using backend SequentialBackend with 1 concurrent workers.\n",
      "[Parallel(n_jobs=1)]: Done   5 out of   5 | elapsed:    0.6s finished\n"
     ]
    },
    {
     "name": "stdout",
     "output_type": "stream",
     "text": [
      "LogisticRegression\n",
      "Mean Accuracy: 0.7184\n",
      "F1:  0.7182902195379524\n",
      "Fitting 5 folds for each of 1 candidates, totalling 5 fits\n"
     ]
    },
    {
     "name": "stderr",
     "output_type": "stream",
     "text": [
      "[Parallel(n_jobs=1)]: Using backend SequentialBackend with 1 concurrent workers.\n",
      "[Parallel(n_jobs=1)]: Done   5 out of   5 | elapsed:   10.2s finished\n"
     ]
    },
    {
     "name": "stdout",
     "output_type": "stream",
     "text": [
      "RandomForestClassifier\n",
      "Mean Accuracy: 1.0\n",
      "F1:  0.8327462245387437\n",
      "Fitting 5 folds for each of 1 candidates, totalling 5 fits\n"
     ]
    },
    {
     "name": "stderr",
     "output_type": "stream",
     "text": [
      "[Parallel(n_jobs=1)]: Using backend SequentialBackend with 1 concurrent workers.\n",
      "[Parallel(n_jobs=1)]: Done   5 out of   5 | elapsed:    2.9s finished\n"
     ]
    },
    {
     "name": "stdout",
     "output_type": "stream",
     "text": [
      "AdaBoostClassifier\n",
      "Mean Accuracy: 0.8057\n",
      "F1:  0.7987283954018126\n",
      "Fitting 5 folds for each of 1 candidates, totalling 5 fits\n"
     ]
    },
    {
     "name": "stderr",
     "output_type": "stream",
     "text": [
      "[Parallel(n_jobs=1)]: Using backend SequentialBackend with 1 concurrent workers.\n",
      "[Parallel(n_jobs=1)]: Done   5 out of   5 | elapsed:    9.9s finished\n"
     ]
    },
    {
     "name": "stdout",
     "output_type": "stream",
     "text": [
      "GradientBoostingClassifier\n",
      "Mean Accuracy: 0.83\n",
      "F1:  0.8149264579216837\n"
     ]
    }
   ],
   "source": [
    "# Initialize classification algorithms\n",
    "# LogisticRegression\n",
    "lor = LogisticRegression(random_state=42)\n",
    "lor_est = train_classifier(lor,{}, X_train, y_train)\n",
    "\n",
    "# RandomForestClassifier\n",
    "rfc = RandomForestClassifier(random_state=42)\n",
    "rfc_est = train_classifier(rfc,{}, X_train, y_train)\n",
    "\n",
    "# AdaBoostClassifier\n",
    "abc = AdaBoostClassifier(random_state=42) \n",
    "abc_est = train_classifier(abc,{}, X_train, y_train)\n",
    "\n",
    "# GradientBoostingClassifier\n",
    "gbc = GradientBoostingClassifier(random_state=42) \n",
    "gbc_est = train_classifier(gbc,{}, X_train, y_train)"
   ]
  },
  {
   "cell_type": "markdown",
   "metadata": {},
   "source": [
    "#### Highest f1 score is obtained for RandomForestClassifier"
   ]
  },
  {
   "cell_type": "markdown",
   "metadata": {},
   "source": [
    "## Fine Tuning the Model"
   ]
  },
  {
   "cell_type": "markdown",
   "metadata": {},
   "source": [
    "### Fine tuning RandomForestClassifier and GradientBosstingClassifier with the top set of F1 scores"
   ]
  },
  {
   "cell_type": "code",
   "execution_count": 29,
   "metadata": {},
   "outputs": [
    {
     "name": "stdout",
     "output_type": "stream",
     "text": [
      "Fitting 5 folds for each of 1 candidates, totalling 5 fits\n"
     ]
    },
    {
     "name": "stderr",
     "output_type": "stream",
     "text": [
      "[Parallel(n_jobs=1)]: Using backend SequentialBackend with 1 concurrent workers.\n",
      "[Parallel(n_jobs=1)]: Done   5 out of   5 | elapsed:  2.1min finished\n"
     ]
    },
    {
     "name": "stdout",
     "output_type": "stream",
     "text": [
      "RandomForestClassifier\n",
      "Mean Accuracy: 1.0\n",
      "F1:  0.8355968774271408\n",
      "RandomForestClassifier(max_depth=25, n_estimators=1200, random_state=42)\n"
     ]
    }
   ],
   "source": [
    "#Tuning the RandomForestClassifier with hyperparameters to improve the accuracy score\n",
    "hyperparameters = {'n_estimators': [1200],#[100, 120, 300, 500, 800, 1200], #sets the number of decision trees to be used in the forest\n",
    "                  'max_depth': [25]#[5, 8, 15, 25, 30, None], #sets the max depth of the tree\n",
    "                  #'min_samples_split': [1,2,5,10,15,100], #The minimum number of samples needed before a split\n",
    "                  #'min_samples_leaf': [1,2,5,10] #The minimum number of samples needed to create a leaf (decision) node\n",
    "             }\n",
    "\n",
    "rfc = RandomForestClassifier(random_state=42)\n",
    "rfc_best_est = train_classifier(rfc, hyperparameters, X_train, y_train)\n",
    "print(rfc_best_est)"
   ]
  },
  {
   "cell_type": "code",
   "execution_count": 30,
   "metadata": {},
   "outputs": [
    {
     "data": {
      "text/plain": [
       "array([0.03858681, 0.03064862, 0.01118109, 0.07734005, 0.09460218,\n",
       "       0.08783131, 0.08891747, 0.27040008, 0.1763676 , 0.12412477])"
      ]
     },
     "execution_count": 30,
     "metadata": {},
     "output_type": "execute_result"
    }
   ],
   "source": [
    "#Feature importances given by the best estimate RandomForestClassfier\n",
    "rfc_best_est.feature_importances_"
   ]
  },
  {
   "cell_type": "code",
   "execution_count": 31,
   "metadata": {},
   "outputs": [
    {
     "name": "stdout",
     "output_type": "stream",
     "text": [
      "Fitting 5 folds for each of 1 candidates, totalling 5 fits\n"
     ]
    },
    {
     "name": "stderr",
     "output_type": "stream",
     "text": [
      "[Parallel(n_jobs=1)]: Using backend SequentialBackend with 1 concurrent workers.\n",
      "[Parallel(n_jobs=1)]: Done   5 out of   5 | elapsed:  2.4min finished\n"
     ]
    },
    {
     "name": "stdout",
     "output_type": "stream",
     "text": [
      "GradientBoostingClassifier\n",
      "Mean Accuracy: 1.0\n",
      "F1:  0.8388415772556079\n",
      "GradientBoostingClassifier(learning_rate=0.5, max_depth=15, n_estimators=200,\n",
      "                           random_state=42)\n"
     ]
    }
   ],
   "source": [
    "#Tuning the GradientBoostingClassifier with hyperparameters to improve the accuracy score\n",
    "#learning_rate; default=0.1; shrinks the contribution of each tree by learning_rates\n",
    "lr = [1, 0.5, 0.25, 0.1, 0.05, 0.01]\n",
    "\n",
    "#n_estimators, default=100, number of boosting stages to perform\n",
    "n_estimators = [1, 2, 4, 8, 16, 32, 64, 100, 200]\n",
    "\n",
    "#max_depth, default=3, maximum depth of the individual regression estimators. The maximum depth limits the number of nodes in the tree\n",
    "max_depths = [5, 8, 15, 25, 30, None]\n",
    "\n",
    "#min_samples_split, default=2, The minimum number of samples required to split an internal node\n",
    "min_samples_split = np.linspace(0.1, 1.0, 10, endpoint=True)\n",
    "\n",
    "#min_samples_leaf, default=1,The minimum number of samples required to be at a leaf node.\n",
    "min_samples_leaf=np.linspace(0.1, 0.5, 5, endpoint=True)\n",
    "\n",
    "#max_features{‘auto’, ‘sqrt’, ‘log2’}, default=None, The number of features to consider when looking for the best split:\n",
    "max_features = list(range(1,X_train.shape[1]))\n",
    "\n",
    "gb_tuned = GradientBoostingClassifier(random_state=42)\n",
    "hyperparameters = {'learning_rate': [0.5], 'n_estimators': [200], 'max_depth': [15]}#, 'min_samples_split': min_samples_split, 'min_samples_leaf':min_samples_leaf, 'max_features':max_features}   \n",
    "gb_best_est = train_classifier(gb_tuned, hyperparameters, X_train, y_train)\n",
    "print(gb_best_est)"
   ]
  },
  {
   "cell_type": "markdown",
   "metadata": {},
   "source": [
    "### After fine-tuning GradientBoostClassifier seems to have a higher f1 score than RandomForestClassifier!"
   ]
  },
  {
   "cell_type": "markdown",
   "metadata": {},
   "source": [
    "## Prediction and Performance of Classifiers"
   ]
  },
  {
   "cell_type": "code",
   "execution_count": 32,
   "metadata": {},
   "outputs": [
    {
     "name": "stdout",
     "output_type": "stream",
     "text": [
      "(3707, 10)\n",
      "(3707,)\n"
     ]
    }
   ],
   "source": [
    "#Print the shape of test data\n",
    "print(X_test.shape)\n",
    "print(y_test.shape)"
   ]
  },
  {
   "cell_type": "markdown",
   "metadata": {},
   "source": [
    "### GradientBoostingClassifier"
   ]
  },
  {
   "cell_type": "code",
   "execution_count": 89,
   "metadata": {},
   "outputs": [
    {
     "data": {
      "text/plain": [
       "array([1, 1, 1, ..., 0, 1, 1], dtype=int64)"
      ]
     },
     "execution_count": 89,
     "metadata": {},
     "output_type": "execute_result"
    }
   ],
   "source": [
    "#Passing the test data to the GradientBoodtingClassifier estimator\n",
    "y_pred_gbc = gb_best_est.predict(X_test)\n",
    "y_pred_gbc"
   ]
  },
  {
   "cell_type": "markdown",
   "metadata": {},
   "source": [
    "#### F1 score"
   ]
  },
  {
   "cell_type": "code",
   "execution_count": 93,
   "metadata": {},
   "outputs": [
    {
     "name": "stdout",
     "output_type": "stream",
     "text": [
      "F1 score of GradientBoodtingClassifier Prediction:  0.8530653266331658\n"
     ]
    }
   ],
   "source": [
    "#f1 score of predicted data\n",
    "f1_score_gbc = f1_score(y_test, y_pred_gbc)\n",
    "print('F1 score of GradientBoodtingClassifier Prediction: ', f1_score_gbc)"
   ]
  },
  {
   "cell_type": "markdown",
   "metadata": {},
   "source": [
    "#### Confusion Matrix"
   ]
  },
  {
   "cell_type": "code",
   "execution_count": 104,
   "metadata": {},
   "outputs": [
    {
     "name": "stdout",
     "output_type": "stream",
     "text": [
      "[[0.6519084  0.3480916 ]\n",
      " [0.11472674 0.88527326]]\n"
     ]
    },
    {
     "data": {
      "image/png": "[encoded data removed]",
      "text/plain": [
       "<Figure size 432x288 with 2 Axes>"
      ]
     },
     "metadata": {
      "needs_background": "light"
     },
     "output_type": "display_data"
    }
   ],
   "source": [
    "disp = plot_confusion_matrix(gb_best_est, X_test, y_test,\n",
    "                                 cmap=plt.cm.Blues,\n",
    "                                 normalize='true')\n",
    "print(disp.confusion_matrix)\n",
    "\n",
    "plt.show()"
   ]
  },
  {
   "cell_type": "markdown",
   "metadata": {},
   "source": [
    "#### F1 Scores have better values for test data!"
   ]
  },
  {
   "cell_type": "markdown",
   "metadata": {},
   "source": [
    "### RandomForestClassifier"
   ]
  },
  {
   "cell_type": "code",
   "execution_count": 81,
   "metadata": {},
   "outputs": [
    {
     "data": {
      "text/plain": [
       "array([1, 1, 1, ..., 1, 0, 1], dtype=int64)"
      ]
     },
     "execution_count": 81,
     "metadata": {},
     "output_type": "execute_result"
    }
   ],
   "source": [
    "#Passing the test data to the RandomForestClassifier estimator\n",
    "y_pred_rfc = rfc_best_est.predict(X_test)\n",
    "y_pred_rfc"
   ]
  },
  {
   "cell_type": "markdown",
   "metadata": {},
   "source": [
    "#### F1 Score"
   ]
  },
  {
   "cell_type": "code",
   "execution_count": 94,
   "metadata": {},
   "outputs": [
    {
     "name": "stdout",
     "output_type": "stream",
     "text": [
      "F1 score of RandomForestClassifier Prediction:  0.8475263584752637\n"
     ]
    }
   ],
   "source": [
    "#f1 score of predicted data\n",
    "f1_score = f1_score(y_test, y_pred_rfc)\n",
    "print('F1 score of RandomForestClassifier Prediction: ', f1_score)"
   ]
  },
  {
   "cell_type": "markdown",
   "metadata": {},
   "source": [
    "#### Confusion Matrix"
   ]
  },
  {
   "cell_type": "code",
   "execution_count": 103,
   "metadata": {},
   "outputs": [
    {
     "name": "stdout",
     "output_type": "stream",
     "text": [
      "[[0.66030534 0.33969466]\n",
      " [0.12807676 0.87192324]]\n"
     ]
    },
    {
     "data": {
      "image/png": "[encoded data removed]",
      "text/plain": [
       "<Figure size 432x288 with 2 Axes>"
      ]
     },
     "metadata": {
      "needs_background": "light"
     },
     "output_type": "display_data"
    }
   ],
   "source": [
    "disp = plot_confusion_matrix(rfc_best_est, X_test, y_test,\n",
    "                                 cmap=plt.cm.Blues,\n",
    "                                 normalize='true')\n",
    "print(disp.confusion_matrix)\n",
    "\n",
    "plt.show()"
   ]
  },
  {
   "cell_type": "markdown",
   "metadata": {},
   "source": [
    "### AdaBoostClassifier"
   ]
  },
  {
   "cell_type": "code",
   "execution_count": 55,
   "metadata": {},
   "outputs": [
    {
     "data": {
      "text/plain": [
       "array([1, 1, 1, ..., 1, 1, 1], dtype=int64)"
      ]
     },
     "execution_count": 55,
     "metadata": {},
     "output_type": "execute_result"
    }
   ],
   "source": [
    "#Passing the test data to the AdaBoostClassifier estimator\n",
    "y_pred_abc = abc_est.predict(X_test)\n",
    "y_pred_abc"
   ]
  },
  {
   "cell_type": "markdown",
   "metadata": {},
   "source": [
    "#### F1 Score"
   ]
  },
  {
   "cell_type": "code",
   "execution_count": 97,
   "metadata": {},
   "outputs": [
    {
     "name": "stdout",
     "output_type": "stream",
     "text": [
      "F1 score of AdaBoostClassifier Prediction:  0.8349474551823615\n"
     ]
    }
   ],
   "source": [
    "#f1 score of predicted data\n",
    "f1_score_abc = f1_score(y_test, y_pred_abc)\n",
    "print('F1 score of AdaBoostClassifier Prediction: ', f1_score_abc)"
   ]
  },
  {
   "cell_type": "markdown",
   "metadata": {},
   "source": [
    "#### Confusion Matrix"
   ]
  },
  {
   "cell_type": "code",
   "execution_count": 102,
   "metadata": {},
   "outputs": [
    {
     "name": "stdout",
     "output_type": "stream",
     "text": [
      "[[0.67175573 0.32824427]\n",
      " [0.1547768  0.8452232 ]]\n"
     ]
    },
    {
     "data": {
      "image/png": "[encoded data removed]",
      "text/plain": [
       "<Figure size 432x288 with 2 Axes>"
      ]
     },
     "metadata": {
      "needs_background": "light"
     },
     "output_type": "display_data"
    }
   ],
   "source": [
    "disp = plot_confusion_matrix(abc_est, X_test, y_test,\n",
    "                                 cmap=plt.cm.Blues,\n",
    "                                 normalize='true')\n",
    "print(disp.confusion_matrix)\n",
    "\n",
    "plt.show()"
   ]
  },
  {
   "cell_type": "markdown",
   "metadata": {},
   "source": [
    "### Logistic Regression"
   ]
  },
  {
   "cell_type": "code",
   "execution_count": 98,
   "metadata": {},
   "outputs": [
    {
     "data": {
      "text/plain": [
       "array([1, 1, 1, ..., 0, 0, 0], dtype=int64)"
      ]
     },
     "execution_count": 98,
     "metadata": {},
     "output_type": "execute_result"
    }
   ],
   "source": [
    "#Passing the test data to the Logistic Regressor\n",
    "y_pred_lor = lor_est.predict(X_test)\n",
    "y_pred_lor"
   ]
  },
  {
   "cell_type": "markdown",
   "metadata": {},
   "source": [
    "#### F1 Score"
   ]
  },
  {
   "cell_type": "code",
   "execution_count": 99,
   "metadata": {},
   "outputs": [
    {
     "name": "stdout",
     "output_type": "stream",
     "text": [
      "F1 score of LogisticRegression Prediction:  0.7494105037513397\n"
     ]
    }
   ],
   "source": [
    "#f1 score of predicted data\n",
    "f1_score_lor = f1_score(y_test, y_pred_lor)\n",
    "print('F1 score of LogisticRegression Prediction: ', f1_score_lor)"
   ]
  },
  {
   "cell_type": "markdown",
   "metadata": {},
   "source": [
    "#### Confusion Matrix "
   ]
  },
  {
   "cell_type": "code",
   "execution_count": 101,
   "metadata": {},
   "outputs": [
    {
     "name": "stdout",
     "output_type": "stream",
     "text": [
      "[[0.60305344 0.39694656]\n",
      " [0.27075511 0.72924489]]\n"
     ]
    },
    {
     "data": {
      "image/png": "[encoded data removed]",
      "text/plain": [
       "<Figure size 432x288 with 2 Axes>"
      ]
     },
     "metadata": {
      "needs_background": "light"
     },
     "output_type": "display_data"
    }
   ],
   "source": [
    "disp = plot_confusion_matrix(lor_est, X_test, y_test,\n",
    "                                 cmap=plt.cm.Blues,\n",
    "                                 normalize='true')\n",
    "print(disp.confusion_matrix)\n",
    "\n",
    "plt.show()"
   ]
  },
  {
   "cell_type": "code",
   "execution_count": null,
   "metadata": {},
   "outputs": [],
   "source": []
  }
 ],
 "metadata": {
  "kernelspec": {
   "display_name": "Python 3",
   "language": "python",
   "name": "python3"
  },
  "language_info": {
   "codemirror_mode": {
    "name": "ipython",
    "version": 3
   },
   "file_extension": ".py",
   "mimetype": "text/x-python",
   "name": "python",
   "nbconvert_exporter": "python",
   "pygments_lexer": "ipython3",
   "version": "3.8.3"
  }
 },
 "nbformat": 4,
 "nbformat_minor": 4
}
