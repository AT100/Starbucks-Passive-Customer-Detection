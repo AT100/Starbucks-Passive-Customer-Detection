{
 "cells": [
  {
   "cell_type": "markdown",
   "metadata": {},
   "source": [
    "# Data preprocessing"
   ]
  },
  {
   "cell_type": "markdown",
   "metadata": {},
   "source": [
    "## Importing required libraries and reading the input json files:"
   ]
  },
  {
   "cell_type": "code",
   "execution_count": 1,
   "metadata": {},
   "outputs": [],
   "source": [
    "import os, datetime, json\n",
    "import pandas as pd"
   ]
  },
  {
   "cell_type": "code",
   "execution_count": 2,
   "metadata": {},
   "outputs": [],
   "source": [
    "transcript = pd.read_json('../data/transcript.json', orient='records', lines=True)\n",
    "portfolio = pd.read_json('../data/portfolio.json', orient='records', lines=True)\n",
    "profile = pd.read_json('../data/profile.json', orient='records', lines=True)"
   ]
  },
  {
   "cell_type": "markdown",
   "metadata": {},
   "source": [
    "## Data cleansing operations"
   ]
  },
  {
   "cell_type": "markdown",
   "metadata": {},
   "source": [
    "### Cleaning profile.json"
   ]
  },
  {
   "cell_type": "code",
   "execution_count": 3,
   "metadata": {},
   "outputs": [
    {
     "data": {
      "text/html": [
       "<div>\n",
       "<style scoped>\n",
       "    .dataframe tbody tr th:only-of-type {\n",
       "        vertical-align: middle;\n",
       "    }\n",
       "\n",
       "    .dataframe tbody tr th {\n",
       "        vertical-align: top;\n",
       "    }\n",
       "\n",
       "    .dataframe thead th {\n",
       "        text-align: right;\n",
       "    }\n",
       "</style>\n",
       "<table border=\"1\" class=\"dataframe\">\n",
       "  <thead>\n",
       "    <tr style=\"text-align: right;\">\n",
       "      <th></th>\n",
       "      <th>gender</th>\n",
       "      <th>age</th>\n",
       "      <th>cust_id</th>\n",
       "      <th>became_member_on</th>\n",
       "      <th>income</th>\n",
       "    </tr>\n",
       "  </thead>\n",
       "  <tbody>\n",
       "    <tr>\n",
       "      <th>1</th>\n",
       "      <td>F</td>\n",
       "      <td>55</td>\n",
       "      <td>0610b486422d4921ae7d2bf64640c50b</td>\n",
       "      <td>20170715</td>\n",
       "      <td>112000.0</td>\n",
       "    </tr>\n",
       "    <tr>\n",
       "      <th>3</th>\n",
       "      <td>F</td>\n",
       "      <td>75</td>\n",
       "      <td>78afa995795e4d85b5d9ceeca43f5fef</td>\n",
       "      <td>20170509</td>\n",
       "      <td>100000.0</td>\n",
       "    </tr>\n",
       "    <tr>\n",
       "      <th>5</th>\n",
       "      <td>M</td>\n",
       "      <td>68</td>\n",
       "      <td>e2127556f4f64592b11af22de27a7932</td>\n",
       "      <td>20180426</td>\n",
       "      <td>70000.0</td>\n",
       "    </tr>\n",
       "    <tr>\n",
       "      <th>8</th>\n",
       "      <td>M</td>\n",
       "      <td>65</td>\n",
       "      <td>389bc3fa690240e798340f5a15918d5c</td>\n",
       "      <td>20180209</td>\n",
       "      <td>53000.0</td>\n",
       "    </tr>\n",
       "    <tr>\n",
       "      <th>12</th>\n",
       "      <td>M</td>\n",
       "      <td>58</td>\n",
       "      <td>2eeac8d8feae4a8cad5a6af0499a211d</td>\n",
       "      <td>20171111</td>\n",
       "      <td>51000.0</td>\n",
       "    </tr>\n",
       "  </tbody>\n",
       "</table>\n",
       "</div>"
      ],
      "text/plain": [
       "   gender  age                           cust_id  became_member_on    income\n",
       "1       F   55  0610b486422d4921ae7d2bf64640c50b          20170715  112000.0\n",
       "3       F   75  78afa995795e4d85b5d9ceeca43f5fef          20170509  100000.0\n",
       "5       M   68  e2127556f4f64592b11af22de27a7932          20180426   70000.0\n",
       "8       M   65  389bc3fa690240e798340f5a15918d5c          20180209   53000.0\n",
       "12      M   58  2eeac8d8feae4a8cad5a6af0499a211d          20171111   51000.0"
      ]
     },
     "execution_count": 3,
     "metadata": {},
     "output_type": "execute_result"
    }
   ],
   "source": [
    "profile.dropna(axis=0,inplace=True)\n",
    "profile.rename(columns={'id': 'cust_id'}, inplace=True)\n",
    "profile.head()"
   ]
  },
  {
   "cell_type": "markdown",
   "metadata": {},
   "source": [
    "### Cleaning portfolio.json"
   ]
  },
  {
   "cell_type": "code",
   "execution_count": 4,
   "metadata": {},
   "outputs": [
    {
     "data": {
      "text/plain": [
       "{'ae264e3637204a6fb9bb56bc8210ddfd': {'reward': 10,\n",
       "  'channels': ['email', 'mobile', 'social'],\n",
       "  'difficulty': 10,\n",
       "  'duration': 7,\n",
       "  'offer_type': 'bogo'},\n",
       " '4d5c57ea9a6940dd891ad53e9dbe8da0': {'reward': 10,\n",
       "  'channels': ['web', 'email', 'mobile', 'social'],\n",
       "  'difficulty': 10,\n",
       "  'duration': 5,\n",
       "  'offer_type': 'bogo'},\n",
       " '3f207df678b143eea3cee63160fa8bed': {'reward': 0,\n",
       "  'channels': ['web', 'email', 'mobile'],\n",
       "  'difficulty': 0,\n",
       "  'duration': 4,\n",
       "  'offer_type': 'informational'},\n",
       " '9b98b8c7a33c4b65b9aebfe6a799e6d9': {'reward': 5,\n",
       "  'channels': ['web', 'email', 'mobile'],\n",
       "  'difficulty': 5,\n",
       "  'duration': 7,\n",
       "  'offer_type': 'bogo'},\n",
       " '0b1e1539f2cc45b7b9fa7c272da2e1d7': {'reward': 5,\n",
       "  'channels': ['web', 'email'],\n",
       "  'difficulty': 20,\n",
       "  'duration': 10,\n",
       "  'offer_type': 'discount'},\n",
       " '2298d6c36e964ae4a3e7e9706d1fb8c2': {'reward': 3,\n",
       "  'channels': ['web', 'email', 'mobile', 'social'],\n",
       "  'difficulty': 7,\n",
       "  'duration': 7,\n",
       "  'offer_type': 'discount'},\n",
       " 'fafdcd668e3743c1bb461111dcafc2a4': {'reward': 2,\n",
       "  'channels': ['web', 'email', 'mobile', 'social'],\n",
       "  'difficulty': 10,\n",
       "  'duration': 10,\n",
       "  'offer_type': 'discount'},\n",
       " '5a8bc65990b245e5a138643cd4eb9837': {'reward': 0,\n",
       "  'channels': ['email', 'mobile', 'social'],\n",
       "  'difficulty': 0,\n",
       "  'duration': 3,\n",
       "  'offer_type': 'informational'},\n",
       " 'f19421c1d4aa40978ebb69ca19b0e20d': {'reward': 5,\n",
       "  'channels': ['web', 'email', 'mobile', 'social'],\n",
       "  'difficulty': 5,\n",
       "  'duration': 5,\n",
       "  'offer_type': 'bogo'},\n",
       " '2906b810c7d4411798c6938adc9daaa5': {'reward': 2,\n",
       "  'channels': ['web', 'email', 'mobile'],\n",
       "  'difficulty': 10,\n",
       "  'duration': 7,\n",
       "  'offer_type': 'discount'}}"
      ]
     },
     "execution_count": 4,
     "metadata": {},
     "output_type": "execute_result"
    }
   ],
   "source": [
    "portfolio.rename(columns={'id': 'offer_id'}, inplace=True)\n",
    "portfolio.set_index('offer_id', inplace=True)\n",
    "offer_dict = portfolio.to_dict(orient='index')\n",
    "offer_dict"
   ]
  },
  {
   "cell_type": "code",
   "execution_count": 5,
   "metadata": {},
   "outputs": [],
   "source": [
    "portfolio.to_csv('../data/cln_portfolio.csv')"
   ]
  },
  {
   "cell_type": "markdown",
   "metadata": {},
   "source": [
    "### Cleaning and grouping transcript.json based on cust_id, event"
   ]
  },
  {
   "cell_type": "code",
   "execution_count": 6,
   "metadata": {},
   "outputs": [
    {
     "name": "stdout",
     "output_type": "stream",
     "text": [
      "<class 'pandas.core.frame.DataFrame'>\n",
      "RangeIndex: 306534 entries, 0 to 306533\n",
      "Data columns (total 5 columns):\n",
      " #   Column   Non-Null Count   Dtype  \n",
      "---  ------   --------------   -----  \n",
      " 0   cust_id  306534 non-null  object \n",
      " 1   event    306534 non-null  object \n",
      " 2   value    306534 non-null  object \n",
      " 3   time     306534 non-null  int64  \n",
      " 4   days     306534 non-null  float64\n",
      "dtypes: float64(1), int64(1), object(3)\n",
      "memory usage: 11.7+ MB\n"
     ]
    }
   ],
   "source": [
    "transcript.rename(columns={'person': 'cust_id'}, inplace=True)\n",
    "transcript['days'] = round(transcript['time']/24, 3)\n",
    "transcript.info()"
   ]
  },
  {
   "cell_type": "markdown",
   "metadata": {},
   "source": [
    "#### Creating offer expired label"
   ]
  },
  {
   "cell_type": "code",
   "execution_count": 7,
   "metadata": {},
   "outputs": [
    {
     "name": "stderr",
     "output_type": "stream",
     "text": [
      "<ipython-input-7-66616ce1cfd1>:3: SettingWithCopyWarning: \n",
      "A value is trying to be set on a copy of a slice from a DataFrame.\n",
      "Try using .loc[row_indexer,col_indexer] = value instead\n",
      "\n",
      "See the caveats in the documentation: https://pandas.pydata.org/pandas-docs/stable/user_guide/indexing.html#returning-a-view-versus-a-copy\n",
      "  completes['offer_completed_id'] = completes['value'].apply(lambda x: list(x.values())[0])\n",
      "<ipython-input-7-66616ce1cfd1>:4: SettingWithCopyWarning: \n",
      "A value is trying to be set on a copy of a slice from a DataFrame.\n",
      "Try using .loc[row_indexer,col_indexer] = value instead\n",
      "\n",
      "See the caveats in the documentation: https://pandas.pydata.org/pandas-docs/stable/user_guide/indexing.html#returning-a-view-versus-a-copy\n",
      "  completes['offer_completed_reward'] = completes['value'].apply(lambda x: list(x.values())[1])\n",
      "<ipython-input-7-66616ce1cfd1>:5: SettingWithCopyWarning: \n",
      "A value is trying to be set on a copy of a slice from a DataFrame.\n",
      "Try using .loc[row_indexer,col_indexer] = value instead\n",
      "\n",
      "See the caveats in the documentation: https://pandas.pydata.org/pandas-docs/stable/user_guide/indexing.html#returning-a-view-versus-a-copy\n",
      "  completes['offer_duration'] = completes['offer_completed_id'].apply(lambda x: offer_dict[x]['duration'])\n",
      "<ipython-input-7-66616ce1cfd1>:9: SettingWithCopyWarning: \n",
      "A value is trying to be set on a copy of a slice from a DataFrame\n",
      "\n",
      "See the caveats in the documentation: https://pandas.pydata.org/pandas-docs/stable/user_guide/indexing.html#returning-a-view-versus-a-copy\n",
      "  transcript['event'][indexes] = \"offer expired\"\n"
     ]
    }
   ],
   "source": [
    "completes = transcript.loc[(transcript['event'] == \"offer completed\")]\n",
    "\n",
    "completes['offer_completed_id'] = completes['value'].apply(lambda x: list(x.values())[0])\n",
    "completes['offer_completed_reward'] = completes['value'].apply(lambda x: list(x.values())[1])\n",
    "completes['offer_duration'] = completes['offer_completed_id'].apply(lambda x: offer_dict[x]['duration'])\n",
    "\n",
    "\n",
    "indexes = completes.loc[completes['days'] > completes['offer_duration']].index\n",
    "transcript['event'][indexes] = \"offer expired\"\n",
    "\n",
    "\n",
    "#for val in completes[completes['days'] > completes['offer_duration']].index.values:\n",
    "#    transcript['event'][val] = \"offer expired\""
   ]
  },
  {
   "cell_type": "code",
   "execution_count": 8,
   "metadata": {},
   "outputs": [
    {
     "data": {
      "text/plain": [
       "transaction        138953\n",
       "offer received      76277\n",
       "offer viewed        57725\n",
       "offer expired       27698\n",
       "offer completed      5881\n",
       "Name: event, dtype: int64"
      ]
     },
     "execution_count": 8,
     "metadata": {},
     "output_type": "execute_result"
    }
   ],
   "source": [
    "transcript['event'].value_counts()"
   ]
  },
  {
   "cell_type": "code",
   "execution_count": 9,
   "metadata": {},
   "outputs": [],
   "source": [
    "transcript.to_csv('../data/cln_transcript.csv')"
   ]
  },
  {
   "cell_type": "code",
   "execution_count": 10,
   "metadata": {},
   "outputs": [],
   "source": [
    "for label, group in transcript.groupby(['cust_id', 'event']):\n",
    "    custid = label[0]\n",
    "    event_name = label[1]\n",
    "    if (event_name == \"offer completed\"):\n",
    "        profile.loc[profile['cust_id'] == custid, 'offers_completed'] = len(group)\n",
    "    elif (event_name == \"offer received\"):\n",
    "        profile.loc[profile['cust_id'] == custid, 'offers_received'] = len(group)\n",
    "    elif (event_name == \"offer viewed\"):\n",
    "        profile.loc[profile['cust_id'] == custid, 'offers_viewed'] = len(group)"
   ]
  },
  {
   "cell_type": "code",
   "execution_count": 11,
   "metadata": {},
   "outputs": [],
   "source": [
    "profile.fillna(0, inplace=True)\n",
    "profile[profile['offers_viewed'] < profile['offers_completed']]"
   ]
  },
  {
   "cell_type": "code",
   "execution_count": 13,
   "metadata": {},
   "outputs": [
    {
     "data": {
      "text/plain": [
       "24"
      ]
     },
     "execution_count": 13,
     "metadata": {},
     "output_type": "execute_result"
    }
   ],
   "source": [
    "len(profile[profile['offers_viewed'] < profile['offers_completed']])"
   ]
  },
  {
   "cell_type": "code",
   "execution_count": 15,
   "metadata": {},
   "outputs": [
    {
     "data": {
      "text/html": [
       "<div>\n",
       "<style scoped>\n",
       "    .dataframe tbody tr th:only-of-type {\n",
       "        vertical-align: middle;\n",
       "    }\n",
       "\n",
       "    .dataframe tbody tr th {\n",
       "        vertical-align: top;\n",
       "    }\n",
       "\n",
       "    .dataframe thead th {\n",
       "        text-align: right;\n",
       "    }\n",
       "</style>\n",
       "<table border=\"1\" class=\"dataframe\">\n",
       "  <thead>\n",
       "    <tr style=\"text-align: right;\">\n",
       "      <th></th>\n",
       "      <th>gender</th>\n",
       "      <th>age</th>\n",
       "      <th>cust_id</th>\n",
       "      <th>became_member_on</th>\n",
       "      <th>income</th>\n",
       "      <th>offers_received</th>\n",
       "      <th>offers_viewed</th>\n",
       "      <th>offers_completed</th>\n",
       "      <th>view_ratio</th>\n",
       "      <th>completion_ratio</th>\n",
       "    </tr>\n",
       "  </thead>\n",
       "  <tbody>\n",
       "    <tr>\n",
       "      <th>1396</th>\n",
       "      <td>F</td>\n",
       "      <td>58</td>\n",
       "      <td>ab2cb6b756004af9b12787be834a3e63</td>\n",
       "      <td>20170408</td>\n",
       "      <td>93000.0</td>\n",
       "      <td>5.0</td>\n",
       "      <td>4.0</td>\n",
       "      <td>0.0</td>\n",
       "      <td>0.80</td>\n",
       "      <td>0.000</td>\n",
       "    </tr>\n",
       "    <tr>\n",
       "      <th>9751</th>\n",
       "      <td>M</td>\n",
       "      <td>55</td>\n",
       "      <td>4d4216b868fe43ddb9c9f0b77212c0cb</td>\n",
       "      <td>20180302</td>\n",
       "      <td>56000.0</td>\n",
       "      <td>6.0</td>\n",
       "      <td>6.0</td>\n",
       "      <td>2.0</td>\n",
       "      <td>1.00</td>\n",
       "      <td>0.333</td>\n",
       "    </tr>\n",
       "    <tr>\n",
       "      <th>13979</th>\n",
       "      <td>M</td>\n",
       "      <td>76</td>\n",
       "      <td>a0b6b36c5f2b445680b119b488e84df3</td>\n",
       "      <td>20160627</td>\n",
       "      <td>81000.0</td>\n",
       "      <td>5.0</td>\n",
       "      <td>5.0</td>\n",
       "      <td>0.0</td>\n",
       "      <td>1.00</td>\n",
       "      <td>0.000</td>\n",
       "    </tr>\n",
       "    <tr>\n",
       "      <th>14706</th>\n",
       "      <td>M</td>\n",
       "      <td>61</td>\n",
       "      <td>9292d9ed365349babd237a99f004ddf7</td>\n",
       "      <td>20160502</td>\n",
       "      <td>38000.0</td>\n",
       "      <td>5.0</td>\n",
       "      <td>3.0</td>\n",
       "      <td>1.0</td>\n",
       "      <td>0.60</td>\n",
       "      <td>0.200</td>\n",
       "    </tr>\n",
       "    <tr>\n",
       "      <th>8865</th>\n",
       "      <td>F</td>\n",
       "      <td>22</td>\n",
       "      <td>c1026690b6f14bdeb431557ae9ef855e</td>\n",
       "      <td>20140612</td>\n",
       "      <td>73000.0</td>\n",
       "      <td>5.0</td>\n",
       "      <td>4.0</td>\n",
       "      <td>1.0</td>\n",
       "      <td>0.80</td>\n",
       "      <td>0.200</td>\n",
       "    </tr>\n",
       "    <tr>\n",
       "      <th>9687</th>\n",
       "      <td>F</td>\n",
       "      <td>52</td>\n",
       "      <td>72badd9799484051b932f217a75f11b5</td>\n",
       "      <td>20171106</td>\n",
       "      <td>92000.0</td>\n",
       "      <td>3.0</td>\n",
       "      <td>2.0</td>\n",
       "      <td>0.0</td>\n",
       "      <td>0.67</td>\n",
       "      <td>0.000</td>\n",
       "    </tr>\n",
       "    <tr>\n",
       "      <th>16353</th>\n",
       "      <td>F</td>\n",
       "      <td>78</td>\n",
       "      <td>27b2dc1b194f4451b0966de7a29c55a9</td>\n",
       "      <td>20171130</td>\n",
       "      <td>78000.0</td>\n",
       "      <td>4.0</td>\n",
       "      <td>2.0</td>\n",
       "      <td>1.0</td>\n",
       "      <td>0.50</td>\n",
       "      <td>0.250</td>\n",
       "    </tr>\n",
       "    <tr>\n",
       "      <th>8057</th>\n",
       "      <td>F</td>\n",
       "      <td>72</td>\n",
       "      <td>434895bf1bd14ee4b064961958b9d1a4</td>\n",
       "      <td>20180118</td>\n",
       "      <td>109000.0</td>\n",
       "      <td>4.0</td>\n",
       "      <td>3.0</td>\n",
       "      <td>0.0</td>\n",
       "      <td>0.75</td>\n",
       "      <td>0.000</td>\n",
       "    </tr>\n",
       "    <tr>\n",
       "      <th>10124</th>\n",
       "      <td>M</td>\n",
       "      <td>64</td>\n",
       "      <td>882346bfc610473c8505199a5179d302</td>\n",
       "      <td>20170910</td>\n",
       "      <td>69000.0</td>\n",
       "      <td>3.0</td>\n",
       "      <td>3.0</td>\n",
       "      <td>0.0</td>\n",
       "      <td>1.00</td>\n",
       "      <td>0.000</td>\n",
       "    </tr>\n",
       "    <tr>\n",
       "      <th>7595</th>\n",
       "      <td>F</td>\n",
       "      <td>62</td>\n",
       "      <td>67270b961f1c422e991373e75a4f2f40</td>\n",
       "      <td>20140922</td>\n",
       "      <td>99000.0</td>\n",
       "      <td>5.0</td>\n",
       "      <td>3.0</td>\n",
       "      <td>1.0</td>\n",
       "      <td>0.60</td>\n",
       "      <td>0.200</td>\n",
       "    </tr>\n",
       "  </tbody>\n",
       "</table>\n",
       "</div>"
      ],
      "text/plain": [
       "      gender  age                           cust_id  became_member_on  \\\n",
       "1396       F   58  ab2cb6b756004af9b12787be834a3e63          20170408   \n",
       "9751       M   55  4d4216b868fe43ddb9c9f0b77212c0cb          20180302   \n",
       "13979      M   76  a0b6b36c5f2b445680b119b488e84df3          20160627   \n",
       "14706      M   61  9292d9ed365349babd237a99f004ddf7          20160502   \n",
       "8865       F   22  c1026690b6f14bdeb431557ae9ef855e          20140612   \n",
       "9687       F   52  72badd9799484051b932f217a75f11b5          20171106   \n",
       "16353      F   78  27b2dc1b194f4451b0966de7a29c55a9          20171130   \n",
       "8057       F   72  434895bf1bd14ee4b064961958b9d1a4          20180118   \n",
       "10124      M   64  882346bfc610473c8505199a5179d302          20170910   \n",
       "7595       F   62  67270b961f1c422e991373e75a4f2f40          20140922   \n",
       "\n",
       "         income  offers_received  offers_viewed  offers_completed  view_ratio  \\\n",
       "1396    93000.0              5.0            4.0               0.0        0.80   \n",
       "9751    56000.0              6.0            6.0               2.0        1.00   \n",
       "13979   81000.0              5.0            5.0               0.0        1.00   \n",
       "14706   38000.0              5.0            3.0               1.0        0.60   \n",
       "8865    73000.0              5.0            4.0               1.0        0.80   \n",
       "9687    92000.0              3.0            2.0               0.0        0.67   \n",
       "16353   78000.0              4.0            2.0               1.0        0.50   \n",
       "8057   109000.0              4.0            3.0               0.0        0.75   \n",
       "10124   69000.0              3.0            3.0               0.0        1.00   \n",
       "7595    99000.0              5.0            3.0               1.0        0.60   \n",
       "\n",
       "       completion_ratio  \n",
       "1396              0.000  \n",
       "9751              0.333  \n",
       "13979             0.000  \n",
       "14706             0.200  \n",
       "8865              0.200  \n",
       "9687              0.000  \n",
       "16353             0.250  \n",
       "8057              0.000  \n",
       "10124             0.000  \n",
       "7595              0.200  "
      ]
     },
     "execution_count": 15,
     "metadata": {},
     "output_type": "execute_result"
    }
   ],
   "source": [
    "profile['view_ratio'] = round(profile['offers_viewed']/profile['offers_received'], 2)\n",
    "profile['completion_ratio'] = round(profile['offers_completed']/profile['offers_received'], 3)\n",
    "profile.sample(10)"
   ]
  },
  {
   "cell_type": "code",
   "execution_count": 16,
   "metadata": {},
   "outputs": [],
   "source": [
    "profile.to_csv('../data/cln_profile.csv')"
   ]
  }
 ],
 "metadata": {
  "kernelspec": {
   "display_name": "Python 3",
   "language": "python",
   "name": "python3"
  },
  "language_info": {
   "codemirror_mode": {
    "name": "ipython",
    "version": 3
   },
   "file_extension": ".py",
   "mimetype": "text/x-python",
   "name": "python",
   "nbconvert_exporter": "python",
   "pygments_lexer": "ipython3",
   "version": "3.8.2"
  }
 },
 "nbformat": 4,
 "nbformat_minor": 4
}
