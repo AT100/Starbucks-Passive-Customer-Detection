{
  "nbformat": 4,
  "nbformat_minor": 0,
  "metadata": {
    "colab": {
      "name": "SVM.ipynb",
      "provenance": [],
      "collapsed_sections": [],
      "include_colab_link": true
    },
    "kernelspec": {
      "name": "python3",
      "display_name": "Python 3"
    }
  },
  "cells": [
    {
      "cell_type": "markdown",
      "metadata": {
        "id": "view-in-github",
        "colab_type": "text"
      },
      "source": [
        "<a href=\"https://colab.research.google.com/github/p33ves/CMPT726-ML-Project/blob/main/SVM.ipynb\" target=\"_parent\"><img src=\"https://colab.research.google.com/assets/colab-badge.svg\" alt=\"Open In Colab\"/></a>"
      ]
    },
    {
      "cell_type": "markdown",
      "metadata": {
        "id": "edHtWJ-oYhJo"
      },
      "source": [
        "# Support Vector Machine(SVM) Model"
      ]
    },
    {
      "cell_type": "code",
      "metadata": {
        "id": "MnXzz6lSP2Yf"
      },
      "source": [
        "import pandas as pd\n",
        "import numpy as np\n",
        "import math\n",
        "\n",
        "from sklearn.neighbors import KNeighborsClassifier\n",
        "from sklearn.svm import SVC\n",
        "from sklearn.metrics import classification_report, confusion_matrix\n",
        "from sklearn.model_selection import train_test_split\n",
        "\n",
        "# from sklearn.preprocessing import OneHotEncoder\n",
        "from sklearn.preprocessing import LabelEncoder\n",
        "from sklearn.preprocessing import StandardScaler\n",
        "from sklearn.preprocessing import MinMaxScaler\n",
        "from sklearn.model_selection import KFold, cross_val_score\n",
        "from sklearn.pipeline import Pipeline\n",
        "from sklearn.model_selection import GridSearchCV\n",
        "from sklearn.model_selection import RepeatedStratifiedKFold\n",
        "from sklearn.feature_selection import RFE\n",
        "\n",
        "import matplotlib.pyplot as plt\n",
        "from matplotlib.colors import ListedColormap\n",
        "\n",
        "# !pip install plotly==4.12.0\n",
        "import plotly.express as px"
      ],
      "execution_count": null,
      "outputs": []
    },
    {
      "cell_type": "markdown",
      "metadata": {
        "id": "xenlBaDxNnG1"
      },
      "source": [
        "Loading dataset from Github repo"
      ]
    },
    {
      "cell_type": "code",
      "metadata": {
        "id": "m34ykqvvXjwb",
        "colab": {
          "base_uri": "https://localhost:8080/"
        },
        "outputId": "4d87f5c3-995a-4001-a012-8f85e213b0bf"
      },
      "source": [
        "full_dataset_url = \"https://raw.githubusercontent.com/p33ves/CMPT726-ML-Project/main/processed_datasets/xtr_profile.csv\"\n",
        "data = pd.read_csv(full_dataset_url)\n",
        "data = data.loc[:, ~data.columns.str.contains('^Unnamed')]\n",
        "data.info()"
      ],
      "execution_count": null,
      "outputs": [
        {
          "output_type": "stream",
          "text": [
            "<class 'pandas.core.frame.DataFrame'>\n",
            "RangeIndex: 14825 entries, 0 to 14824\n",
            "Data columns (total 39 columns):\n",
            " #   Column                              Non-Null Count  Dtype  \n",
            "---  ------                              --------------  -----  \n",
            " 0   gender                              14825 non-null  object \n",
            " 1   age                                 14825 non-null  int64  \n",
            " 2   cust_id                             14825 non-null  object \n",
            " 3   became_member_on                    14825 non-null  object \n",
            " 4   income                              14825 non-null  float64\n",
            " 5   days_as_member                      14825 non-null  int64  \n",
            " 6   Total offer completed               14825 non-null  float64\n",
            " 7   Total offer received                14825 non-null  float64\n",
            " 8   Total offer viewed                  14825 non-null  float64\n",
            " 9   Total transaction                   14825 non-null  float64\n",
            " 10  offer completed_via_email           14825 non-null  float64\n",
            " 11  offer completed_via_social          14825 non-null  float64\n",
            " 12  offer completed_via_mobile          14825 non-null  float64\n",
            " 13  offer completed_via_web             14825 non-null  float64\n",
            " 14  offer completed bogo count          14825 non-null  float64\n",
            " 15  offer completed discount count      14825 non-null  float64\n",
            " 16  offer received_via_email            14825 non-null  float64\n",
            " 17  offer received_via_social           14825 non-null  float64\n",
            " 18  offer received_via_mobile           14825 non-null  float64\n",
            " 19  offer received_via_web              14825 non-null  float64\n",
            " 20  offer received bogo count           14825 non-null  float64\n",
            " 21  offer received discount count       14825 non-null  float64\n",
            " 22  offer received informational count  14825 non-null  float64\n",
            " 23  offer viewed_via_email              14825 non-null  float64\n",
            " 24  offer viewed_via_social             14825 non-null  float64\n",
            " 25  offer viewed_via_mobile             14825 non-null  float64\n",
            " 26  offer viewed_via_web                14825 non-null  float64\n",
            " 27  offer viewed bogo count             14825 non-null  float64\n",
            " 28  offer viewed discount count         14825 non-null  float64\n",
            " 29  offer viewed informational count    14825 non-null  float64\n",
            " 30  Total transaction amount            14825 non-null  float64\n",
            " 31  avg_difficulty                      14825 non-null  float64\n",
            " 32  avg_duration                        14825 non-null  float64\n",
            " 33  total_reward_received               14825 non-null  float64\n",
            " 34  total_reward_defined                14825 non-null  float64\n",
            " 35  total_view_ratio                    14825 non-null  float64\n",
            " 36  total_completion_ratio              14825 non-null  float64\n",
            " 37  avg_transaction_amt                 14825 non-null  float64\n",
            " 38  transactions_per_membership_days    14825 non-null  float64\n",
            "dtypes: float64(34), int64(2), object(3)\n",
            "memory usage: 4.4+ MB\n"
          ],
          "name": "stdout"
        }
      ]
    },
    {
      "cell_type": "markdown",
      "metadata": {
        "id": "oJAzU3yMnGBo"
      },
      "source": [
        "Finding categorical features and Encoding"
      ]
    },
    {
      "cell_type": "code",
      "metadata": {
        "colab": {
          "base_uri": "https://localhost:8080/",
          "height": 419
        },
        "id": "MNkzPbeZmXAa",
        "outputId": "4236621f-e6c5-4c31-d139-45e5b1a866af"
      },
      "source": [
        "data.select_dtypes(include=[object])"
      ],
      "execution_count": null,
      "outputs": [
        {
          "output_type": "execute_result",
          "data": {
            "text/html": [
              "<div>\n",
              "<style scoped>\n",
              "    .dataframe tbody tr th:only-of-type {\n",
              "        vertical-align: middle;\n",
              "    }\n",
              "\n",
              "    .dataframe tbody tr th {\n",
              "        vertical-align: top;\n",
              "    }\n",
              "\n",
              "    .dataframe thead th {\n",
              "        text-align: right;\n",
              "    }\n",
              "</style>\n",
              "<table border=\"1\" class=\"dataframe\">\n",
              "  <thead>\n",
              "    <tr style=\"text-align: right;\">\n",
              "      <th></th>\n",
              "      <th>gender</th>\n",
              "      <th>cust_id</th>\n",
              "      <th>became_member_on</th>\n",
              "    </tr>\n",
              "  </thead>\n",
              "  <tbody>\n",
              "    <tr>\n",
              "      <th>0</th>\n",
              "      <td>F</td>\n",
              "      <td>0610b486422d4921ae7d2bf64640c50b</td>\n",
              "      <td>2017-07-15</td>\n",
              "    </tr>\n",
              "    <tr>\n",
              "      <th>1</th>\n",
              "      <td>F</td>\n",
              "      <td>78afa995795e4d85b5d9ceeca43f5fef</td>\n",
              "      <td>2017-05-09</td>\n",
              "    </tr>\n",
              "    <tr>\n",
              "      <th>2</th>\n",
              "      <td>M</td>\n",
              "      <td>e2127556f4f64592b11af22de27a7932</td>\n",
              "      <td>2018-04-26</td>\n",
              "    </tr>\n",
              "    <tr>\n",
              "      <th>3</th>\n",
              "      <td>M</td>\n",
              "      <td>389bc3fa690240e798340f5a15918d5c</td>\n",
              "      <td>2018-02-09</td>\n",
              "    </tr>\n",
              "    <tr>\n",
              "      <th>4</th>\n",
              "      <td>M</td>\n",
              "      <td>2eeac8d8feae4a8cad5a6af0499a211d</td>\n",
              "      <td>2017-11-11</td>\n",
              "    </tr>\n",
              "    <tr>\n",
              "      <th>...</th>\n",
              "      <td>...</td>\n",
              "      <td>...</td>\n",
              "      <td>...</td>\n",
              "    </tr>\n",
              "    <tr>\n",
              "      <th>14820</th>\n",
              "      <td>F</td>\n",
              "      <td>6d5f3a774f3d4714ab0c092238f3a1d7</td>\n",
              "      <td>2018-06-04</td>\n",
              "    </tr>\n",
              "    <tr>\n",
              "      <th>14821</th>\n",
              "      <td>M</td>\n",
              "      <td>2cb4f97358b841b9a9773a7aa05a9d77</td>\n",
              "      <td>2018-07-13</td>\n",
              "    </tr>\n",
              "    <tr>\n",
              "      <th>14822</th>\n",
              "      <td>M</td>\n",
              "      <td>01d26f638c274aa0b965d24cefe3183f</td>\n",
              "      <td>2017-01-26</td>\n",
              "    </tr>\n",
              "    <tr>\n",
              "      <th>14823</th>\n",
              "      <td>F</td>\n",
              "      <td>9dc1421481194dcd9400aec7c9ae6366</td>\n",
              "      <td>2016-03-07</td>\n",
              "    </tr>\n",
              "    <tr>\n",
              "      <th>14824</th>\n",
              "      <td>F</td>\n",
              "      <td>e4052622e5ba45a8b96b59aba68cf068</td>\n",
              "      <td>2017-07-22</td>\n",
              "    </tr>\n",
              "  </tbody>\n",
              "</table>\n",
              "<p>14825 rows × 3 columns</p>\n",
              "</div>"
            ],
            "text/plain": [
              "      gender                           cust_id became_member_on\n",
              "0          F  0610b486422d4921ae7d2bf64640c50b       2017-07-15\n",
              "1          F  78afa995795e4d85b5d9ceeca43f5fef       2017-05-09\n",
              "2          M  e2127556f4f64592b11af22de27a7932       2018-04-26\n",
              "3          M  389bc3fa690240e798340f5a15918d5c       2018-02-09\n",
              "4          M  2eeac8d8feae4a8cad5a6af0499a211d       2017-11-11\n",
              "...      ...                               ...              ...\n",
              "14820      F  6d5f3a774f3d4714ab0c092238f3a1d7       2018-06-04\n",
              "14821      M  2cb4f97358b841b9a9773a7aa05a9d77       2018-07-13\n",
              "14822      M  01d26f638c274aa0b965d24cefe3183f       2017-01-26\n",
              "14823      F  9dc1421481194dcd9400aec7c9ae6366       2016-03-07\n",
              "14824      F  e4052622e5ba45a8b96b59aba68cf068       2017-07-22\n",
              "\n",
              "[14825 rows x 3 columns]"
            ]
          },
          "metadata": {
            "tags": []
          },
          "execution_count": 19
        }
      ]
    },
    {
      "cell_type": "markdown",
      "metadata": {
        "id": "STAGKZ2yXz_O"
      },
      "source": [
        "Feature engineering"
      ]
    },
    {
      "cell_type": "code",
      "metadata": {
        "id": "xcUphYweYzN1",
        "colab": {
          "base_uri": "https://localhost:8080/",
          "height": 430
        },
        "outputId": "f6c16939-2cec-4b64-bba3-86293bcfeb78"
      },
      "source": [
        "# define dataset\n",
        "gen_split = pd.get_dummies(data['gender'], prefix='is_')\n",
        "# data['income_in_k'] = data['income']/1000\n",
        "data = pd.concat([data, gen_split], axis=1)\n",
        "# data = data.drop('income', axis=1)\n",
        "data = data.drop('is__O', axis=1)\n",
        "data.drop('gender', axis=1, inplace=True)\n",
        "data.sample(10)"
      ],
      "execution_count": null,
      "outputs": [
        {
          "output_type": "execute_result",
          "data": {
            "text/html": [
              "<div>\n",
              "<style scoped>\n",
              "    .dataframe tbody tr th:only-of-type {\n",
              "        vertical-align: middle;\n",
              "    }\n",
              "\n",
              "    .dataframe tbody tr th {\n",
              "        vertical-align: top;\n",
              "    }\n",
              "\n",
              "    .dataframe thead th {\n",
              "        text-align: right;\n",
              "    }\n",
              "</style>\n",
              "<table border=\"1\" class=\"dataframe\">\n",
              "  <thead>\n",
              "    <tr style=\"text-align: right;\">\n",
              "      <th></th>\n",
              "      <th>age</th>\n",
              "      <th>cust_id</th>\n",
              "      <th>became_member_on</th>\n",
              "      <th>income</th>\n",
              "      <th>days_as_member</th>\n",
              "      <th>Total offer completed</th>\n",
              "      <th>Total offer received</th>\n",
              "      <th>Total offer viewed</th>\n",
              "      <th>Total transaction</th>\n",
              "      <th>offer completed_via_email</th>\n",
              "      <th>offer completed_via_social</th>\n",
              "      <th>offer completed_via_mobile</th>\n",
              "      <th>offer completed_via_web</th>\n",
              "      <th>offer completed bogo count</th>\n",
              "      <th>offer completed discount count</th>\n",
              "      <th>offer received_via_email</th>\n",
              "      <th>offer received_via_social</th>\n",
              "      <th>offer received_via_mobile</th>\n",
              "      <th>offer received_via_web</th>\n",
              "      <th>offer received bogo count</th>\n",
              "      <th>offer received discount count</th>\n",
              "      <th>offer received informational count</th>\n",
              "      <th>offer viewed_via_email</th>\n",
              "      <th>offer viewed_via_social</th>\n",
              "      <th>offer viewed_via_mobile</th>\n",
              "      <th>offer viewed_via_web</th>\n",
              "      <th>offer viewed bogo count</th>\n",
              "      <th>offer viewed discount count</th>\n",
              "      <th>offer viewed informational count</th>\n",
              "      <th>Total transaction amount</th>\n",
              "      <th>avg_difficulty</th>\n",
              "      <th>avg_duration</th>\n",
              "      <th>total_reward_received</th>\n",
              "      <th>total_reward_defined</th>\n",
              "      <th>total_view_ratio</th>\n",
              "      <th>total_completion_ratio</th>\n",
              "      <th>avg_transaction_amt</th>\n",
              "      <th>transactions_per_membership_days</th>\n",
              "      <th>is__F</th>\n",
              "      <th>is__M</th>\n",
              "    </tr>\n",
              "  </thead>\n",
              "  <tbody>\n",
              "    <tr>\n",
              "      <th>3425</th>\n",
              "      <td>47</td>\n",
              "      <td>28765f822e7f477b90a226ee29bcc473</td>\n",
              "      <td>2017-06-01</td>\n",
              "      <td>43000.0</td>\n",
              "      <td>1274</td>\n",
              "      <td>4.0</td>\n",
              "      <td>5.0</td>\n",
              "      <td>3.0</td>\n",
              "      <td>13.0</td>\n",
              "      <td>4.0</td>\n",
              "      <td>3.0</td>\n",
              "      <td>3.0</td>\n",
              "      <td>3.0</td>\n",
              "      <td>1.0</td>\n",
              "      <td>3.0</td>\n",
              "      <td>5.0</td>\n",
              "      <td>3.0</td>\n",
              "      <td>4.0</td>\n",
              "      <td>4.0</td>\n",
              "      <td>1.0</td>\n",
              "      <td>4.0</td>\n",
              "      <td>0.0</td>\n",
              "      <td>3.0</td>\n",
              "      <td>3.0</td>\n",
              "      <td>3.0</td>\n",
              "      <td>2.0</td>\n",
              "      <td>1.0</td>\n",
              "      <td>2.0</td>\n",
              "      <td>0.0</td>\n",
              "      <td>131.93</td>\n",
              "      <td>10.916667</td>\n",
              "      <td>198.000000</td>\n",
              "      <td>20.0</td>\n",
              "      <td>22.0</td>\n",
              "      <td>0.60</td>\n",
              "      <td>0.800</td>\n",
              "      <td>10.15</td>\n",
              "      <td>0.010204</td>\n",
              "      <td>0</td>\n",
              "      <td>1</td>\n",
              "    </tr>\n",
              "    <tr>\n",
              "      <th>12250</th>\n",
              "      <td>29</td>\n",
              "      <td>787c1f76fcbb417394f951c87dc4c3d9</td>\n",
              "      <td>2016-07-17</td>\n",
              "      <td>44000.0</td>\n",
              "      <td>1593</td>\n",
              "      <td>1.0</td>\n",
              "      <td>4.0</td>\n",
              "      <td>3.0</td>\n",
              "      <td>19.0</td>\n",
              "      <td>1.0</td>\n",
              "      <td>1.0</td>\n",
              "      <td>1.0</td>\n",
              "      <td>1.0</td>\n",
              "      <td>0.0</td>\n",
              "      <td>1.0</td>\n",
              "      <td>4.0</td>\n",
              "      <td>2.0</td>\n",
              "      <td>4.0</td>\n",
              "      <td>4.0</td>\n",
              "      <td>1.0</td>\n",
              "      <td>1.0</td>\n",
              "      <td>2.0</td>\n",
              "      <td>3.0</td>\n",
              "      <td>2.0</td>\n",
              "      <td>3.0</td>\n",
              "      <td>3.0</td>\n",
              "      <td>1.0</td>\n",
              "      <td>1.0</td>\n",
              "      <td>1.0</td>\n",
              "      <td>57.50</td>\n",
              "      <td>6.250000</td>\n",
              "      <td>156.000000</td>\n",
              "      <td>2.0</td>\n",
              "      <td>12.0</td>\n",
              "      <td>0.75</td>\n",
              "      <td>0.250</td>\n",
              "      <td>3.03</td>\n",
              "      <td>0.011927</td>\n",
              "      <td>0</td>\n",
              "      <td>1</td>\n",
              "    </tr>\n",
              "    <tr>\n",
              "      <th>12862</th>\n",
              "      <td>59</td>\n",
              "      <td>1a80ad14c7f7425ab5445f68c7c297e6</td>\n",
              "      <td>2017-07-17</td>\n",
              "      <td>70000.0</td>\n",
              "      <td>1228</td>\n",
              "      <td>2.0</td>\n",
              "      <td>3.0</td>\n",
              "      <td>2.0</td>\n",
              "      <td>8.0</td>\n",
              "      <td>2.0</td>\n",
              "      <td>2.0</td>\n",
              "      <td>2.0</td>\n",
              "      <td>2.0</td>\n",
              "      <td>1.0</td>\n",
              "      <td>1.0</td>\n",
              "      <td>3.0</td>\n",
              "      <td>2.0</td>\n",
              "      <td>3.0</td>\n",
              "      <td>3.0</td>\n",
              "      <td>1.0</td>\n",
              "      <td>1.0</td>\n",
              "      <td>1.0</td>\n",
              "      <td>2.0</td>\n",
              "      <td>2.0</td>\n",
              "      <td>2.0</td>\n",
              "      <td>2.0</td>\n",
              "      <td>1.0</td>\n",
              "      <td>1.0</td>\n",
              "      <td>0.0</td>\n",
              "      <td>169.57</td>\n",
              "      <td>8.571429</td>\n",
              "      <td>168.000000</td>\n",
              "      <td>12.0</td>\n",
              "      <td>12.0</td>\n",
              "      <td>0.67</td>\n",
              "      <td>0.667</td>\n",
              "      <td>21.20</td>\n",
              "      <td>0.006515</td>\n",
              "      <td>0</td>\n",
              "      <td>1</td>\n",
              "    </tr>\n",
              "    <tr>\n",
              "      <th>6140</th>\n",
              "      <td>69</td>\n",
              "      <td>bea062a97557458a97f3e2df8d87755a</td>\n",
              "      <td>2017-02-09</td>\n",
              "      <td>99000.0</td>\n",
              "      <td>1386</td>\n",
              "      <td>3.0</td>\n",
              "      <td>5.0</td>\n",
              "      <td>4.0</td>\n",
              "      <td>11.0</td>\n",
              "      <td>3.0</td>\n",
              "      <td>3.0</td>\n",
              "      <td>3.0</td>\n",
              "      <td>3.0</td>\n",
              "      <td>1.0</td>\n",
              "      <td>2.0</td>\n",
              "      <td>5.0</td>\n",
              "      <td>4.0</td>\n",
              "      <td>5.0</td>\n",
              "      <td>4.0</td>\n",
              "      <td>1.0</td>\n",
              "      <td>2.0</td>\n",
              "      <td>2.0</td>\n",
              "      <td>4.0</td>\n",
              "      <td>4.0</td>\n",
              "      <td>4.0</td>\n",
              "      <td>3.0</td>\n",
              "      <td>1.0</td>\n",
              "      <td>2.0</td>\n",
              "      <td>1.0</td>\n",
              "      <td>286.16</td>\n",
              "      <td>6.750000</td>\n",
              "      <td>152.000000</td>\n",
              "      <td>15.0</td>\n",
              "      <td>15.0</td>\n",
              "      <td>0.80</td>\n",
              "      <td>0.600</td>\n",
              "      <td>26.01</td>\n",
              "      <td>0.007937</td>\n",
              "      <td>1</td>\n",
              "      <td>0</td>\n",
              "    </tr>\n",
              "    <tr>\n",
              "      <th>6838</th>\n",
              "      <td>57</td>\n",
              "      <td>9aa25ad8fd1940efb459bb515e6abcb5</td>\n",
              "      <td>2018-07-02</td>\n",
              "      <td>39000.0</td>\n",
              "      <td>878</td>\n",
              "      <td>4.0</td>\n",
              "      <td>6.0</td>\n",
              "      <td>4.0</td>\n",
              "      <td>6.0</td>\n",
              "      <td>4.0</td>\n",
              "      <td>2.0</td>\n",
              "      <td>4.0</td>\n",
              "      <td>4.0</td>\n",
              "      <td>3.0</td>\n",
              "      <td>1.0</td>\n",
              "      <td>6.0</td>\n",
              "      <td>4.0</td>\n",
              "      <td>6.0</td>\n",
              "      <td>5.0</td>\n",
              "      <td>4.0</td>\n",
              "      <td>1.0</td>\n",
              "      <td>1.0</td>\n",
              "      <td>4.0</td>\n",
              "      <td>4.0</td>\n",
              "      <td>4.0</td>\n",
              "      <td>3.0</td>\n",
              "      <td>3.0</td>\n",
              "      <td>0.0</td>\n",
              "      <td>1.0</td>\n",
              "      <td>78.51</td>\n",
              "      <td>6.785714</td>\n",
              "      <td>126.857143</td>\n",
              "      <td>22.0</td>\n",
              "      <td>32.0</td>\n",
              "      <td>0.67</td>\n",
              "      <td>0.667</td>\n",
              "      <td>13.08</td>\n",
              "      <td>0.006834</td>\n",
              "      <td>0</td>\n",
              "      <td>1</td>\n",
              "    </tr>\n",
              "    <tr>\n",
              "      <th>894</th>\n",
              "      <td>43</td>\n",
              "      <td>bcb0d199780640afbf378537c3e7f8d7</td>\n",
              "      <td>2018-03-24</td>\n",
              "      <td>51000.0</td>\n",
              "      <td>978</td>\n",
              "      <td>2.0</td>\n",
              "      <td>5.0</td>\n",
              "      <td>4.0</td>\n",
              "      <td>9.0</td>\n",
              "      <td>2.0</td>\n",
              "      <td>2.0</td>\n",
              "      <td>2.0</td>\n",
              "      <td>2.0</td>\n",
              "      <td>1.0</td>\n",
              "      <td>1.0</td>\n",
              "      <td>5.0</td>\n",
              "      <td>4.0</td>\n",
              "      <td>5.0</td>\n",
              "      <td>5.0</td>\n",
              "      <td>3.0</td>\n",
              "      <td>2.0</td>\n",
              "      <td>0.0</td>\n",
              "      <td>4.0</td>\n",
              "      <td>4.0</td>\n",
              "      <td>4.0</td>\n",
              "      <td>4.0</td>\n",
              "      <td>2.0</td>\n",
              "      <td>2.0</td>\n",
              "      <td>0.0</td>\n",
              "      <td>31.64</td>\n",
              "      <td>7.363636</td>\n",
              "      <td>159.272727</td>\n",
              "      <td>8.0</td>\n",
              "      <td>25.0</td>\n",
              "      <td>0.80</td>\n",
              "      <td>0.400</td>\n",
              "      <td>3.52</td>\n",
              "      <td>0.009202</td>\n",
              "      <td>0</td>\n",
              "      <td>1</td>\n",
              "    </tr>\n",
              "    <tr>\n",
              "      <th>6742</th>\n",
              "      <td>28</td>\n",
              "      <td>02c8c9806a8c44f792a218fb2e8756b3</td>\n",
              "      <td>2018-04-29</td>\n",
              "      <td>45000.0</td>\n",
              "      <td>942</td>\n",
              "      <td>1.0</td>\n",
              "      <td>5.0</td>\n",
              "      <td>4.0</td>\n",
              "      <td>4.0</td>\n",
              "      <td>1.0</td>\n",
              "      <td>0.0</td>\n",
              "      <td>1.0</td>\n",
              "      <td>1.0</td>\n",
              "      <td>1.0</td>\n",
              "      <td>0.0</td>\n",
              "      <td>5.0</td>\n",
              "      <td>4.0</td>\n",
              "      <td>5.0</td>\n",
              "      <td>5.0</td>\n",
              "      <td>3.0</td>\n",
              "      <td>2.0</td>\n",
              "      <td>0.0</td>\n",
              "      <td>4.0</td>\n",
              "      <td>4.0</td>\n",
              "      <td>4.0</td>\n",
              "      <td>4.0</td>\n",
              "      <td>2.0</td>\n",
              "      <td>2.0</td>\n",
              "      <td>0.0</td>\n",
              "      <td>21.93</td>\n",
              "      <td>8.000000</td>\n",
              "      <td>177.600000</td>\n",
              "      <td>5.0</td>\n",
              "      <td>24.0</td>\n",
              "      <td>0.80</td>\n",
              "      <td>0.200</td>\n",
              "      <td>5.48</td>\n",
              "      <td>0.004246</td>\n",
              "      <td>0</td>\n",
              "      <td>1</td>\n",
              "    </tr>\n",
              "    <tr>\n",
              "      <th>542</th>\n",
              "      <td>66</td>\n",
              "      <td>f4c75d8d43054e86993529f63ca54f00</td>\n",
              "      <td>2017-05-23</td>\n",
              "      <td>54000.0</td>\n",
              "      <td>1283</td>\n",
              "      <td>2.0</td>\n",
              "      <td>6.0</td>\n",
              "      <td>3.0</td>\n",
              "      <td>10.0</td>\n",
              "      <td>2.0</td>\n",
              "      <td>2.0</td>\n",
              "      <td>2.0</td>\n",
              "      <td>2.0</td>\n",
              "      <td>0.0</td>\n",
              "      <td>2.0</td>\n",
              "      <td>6.0</td>\n",
              "      <td>3.0</td>\n",
              "      <td>5.0</td>\n",
              "      <td>6.0</td>\n",
              "      <td>3.0</td>\n",
              "      <td>3.0</td>\n",
              "      <td>0.0</td>\n",
              "      <td>3.0</td>\n",
              "      <td>3.0</td>\n",
              "      <td>3.0</td>\n",
              "      <td>3.0</td>\n",
              "      <td>1.0</td>\n",
              "      <td>2.0</td>\n",
              "      <td>0.0</td>\n",
              "      <td>34.66</td>\n",
              "      <td>9.181818</td>\n",
              "      <td>185.454545</td>\n",
              "      <td>5.0</td>\n",
              "      <td>30.0</td>\n",
              "      <td>0.50</td>\n",
              "      <td>0.333</td>\n",
              "      <td>3.47</td>\n",
              "      <td>0.007794</td>\n",
              "      <td>0</td>\n",
              "      <td>1</td>\n",
              "    </tr>\n",
              "    <tr>\n",
              "      <th>2542</th>\n",
              "      <td>37</td>\n",
              "      <td>51adc00878c347ceac3fba0ca2b7b608</td>\n",
              "      <td>2015-12-25</td>\n",
              "      <td>65000.0</td>\n",
              "      <td>1798</td>\n",
              "      <td>3.0</td>\n",
              "      <td>4.0</td>\n",
              "      <td>4.0</td>\n",
              "      <td>11.0</td>\n",
              "      <td>3.0</td>\n",
              "      <td>1.0</td>\n",
              "      <td>3.0</td>\n",
              "      <td>3.0</td>\n",
              "      <td>0.0</td>\n",
              "      <td>3.0</td>\n",
              "      <td>4.0</td>\n",
              "      <td>2.0</td>\n",
              "      <td>4.0</td>\n",
              "      <td>3.0</td>\n",
              "      <td>0.0</td>\n",
              "      <td>3.0</td>\n",
              "      <td>1.0</td>\n",
              "      <td>4.0</td>\n",
              "      <td>2.0</td>\n",
              "      <td>4.0</td>\n",
              "      <td>3.0</td>\n",
              "      <td>0.0</td>\n",
              "      <td>3.0</td>\n",
              "      <td>1.0</td>\n",
              "      <td>207.47</td>\n",
              "      <td>7.363636</td>\n",
              "      <td>150.545455</td>\n",
              "      <td>7.0</td>\n",
              "      <td>7.0</td>\n",
              "      <td>1.00</td>\n",
              "      <td>0.750</td>\n",
              "      <td>18.86</td>\n",
              "      <td>0.006118</td>\n",
              "      <td>0</td>\n",
              "      <td>1</td>\n",
              "    </tr>\n",
              "    <tr>\n",
              "      <th>9079</th>\n",
              "      <td>49</td>\n",
              "      <td>9c5d887ee6104ac29e8474a2037e420d</td>\n",
              "      <td>2018-02-10</td>\n",
              "      <td>77000.0</td>\n",
              "      <td>1020</td>\n",
              "      <td>1.0</td>\n",
              "      <td>2.0</td>\n",
              "      <td>2.0</td>\n",
              "      <td>2.0</td>\n",
              "      <td>1.0</td>\n",
              "      <td>1.0</td>\n",
              "      <td>1.0</td>\n",
              "      <td>1.0</td>\n",
              "      <td>0.0</td>\n",
              "      <td>1.0</td>\n",
              "      <td>2.0</td>\n",
              "      <td>2.0</td>\n",
              "      <td>2.0</td>\n",
              "      <td>2.0</td>\n",
              "      <td>0.0</td>\n",
              "      <td>2.0</td>\n",
              "      <td>0.0</td>\n",
              "      <td>2.0</td>\n",
              "      <td>2.0</td>\n",
              "      <td>2.0</td>\n",
              "      <td>2.0</td>\n",
              "      <td>0.0</td>\n",
              "      <td>2.0</td>\n",
              "      <td>0.0</td>\n",
              "      <td>38.60</td>\n",
              "      <td>8.200000</td>\n",
              "      <td>196.800000</td>\n",
              "      <td>3.0</td>\n",
              "      <td>5.0</td>\n",
              "      <td>1.00</td>\n",
              "      <td>0.500</td>\n",
              "      <td>19.30</td>\n",
              "      <td>0.001961</td>\n",
              "      <td>0</td>\n",
              "      <td>1</td>\n",
              "    </tr>\n",
              "  </tbody>\n",
              "</table>\n",
              "</div>"
            ],
            "text/plain": [
              "       age                           cust_id  ... is__F  is__M\n",
              "3425    47  28765f822e7f477b90a226ee29bcc473  ...     0      1\n",
              "12250   29  787c1f76fcbb417394f951c87dc4c3d9  ...     0      1\n",
              "12862   59  1a80ad14c7f7425ab5445f68c7c297e6  ...     0      1\n",
              "6140    69  bea062a97557458a97f3e2df8d87755a  ...     1      0\n",
              "6838    57  9aa25ad8fd1940efb459bb515e6abcb5  ...     0      1\n",
              "894     43  bcb0d199780640afbf378537c3e7f8d7  ...     0      1\n",
              "6742    28  02c8c9806a8c44f792a218fb2e8756b3  ...     0      1\n",
              "542     66  f4c75d8d43054e86993529f63ca54f00  ...     0      1\n",
              "2542    37  51adc00878c347ceac3fba0ca2b7b608  ...     0      1\n",
              "9079    49  9c5d887ee6104ac29e8474a2037e420d  ...     0      1\n",
              "\n",
              "[10 rows x 40 columns]"
            ]
          },
          "metadata": {
            "tags": []
          },
          "execution_count": 20
        }
      ]
    },
    {
      "cell_type": "markdown",
      "metadata": {
        "id": "7r0d3-9-UdIg"
      },
      "source": [
        "Adding label"
      ]
    },
    {
      "cell_type": "code",
      "metadata": {
        "id": "_5Wo251nUdIg",
        "colab": {
          "base_uri": "https://localhost:8080/"
        },
        "outputId": "3f0c0276-7b3f-4116-d945-a229889ec7d1"
      },
      "source": [
        "data['customer_type'] = \"passive\"\n",
        "data.loc[(data['total_view_ratio'] >= 0.6) & (data['total_completion_ratio'] >= 0.2), 'customer_type'] = \"active\" \n",
        "data['customer_type'].value_counts()"
      ],
      "execution_count": null,
      "outputs": [
        {
          "output_type": "execute_result",
          "data": {
            "text/plain": [
              "active     9637\n",
              "passive    5188\n",
              "Name: customer_type, dtype: int64"
            ]
          },
          "metadata": {
            "tags": []
          },
          "execution_count": 21
        }
      ]
    },
    {
      "cell_type": "code",
      "metadata": {
        "colab": {
          "base_uri": "https://localhost:8080/"
        },
        "id": "OLmzwS98f-1h",
        "outputId": "590a2957-ddae-4bed-83c2-0e55cb45eb55"
      },
      "source": [
        "data['customer_type']"
      ],
      "execution_count": null,
      "outputs": [
        {
          "output_type": "execute_result",
          "data": {
            "text/plain": [
              "0        passive\n",
              "1         active\n",
              "2         active\n",
              "3         active\n",
              "4         active\n",
              "          ...   \n",
              "14820    passive\n",
              "14821    passive\n",
              "14822    passive\n",
              "14823     active\n",
              "14824    passive\n",
              "Name: customer_type, Length: 14825, dtype: object"
            ]
          },
          "metadata": {
            "tags": []
          },
          "execution_count": 22
        }
      ]
    },
    {
      "cell_type": "markdown",
      "metadata": {
        "id": "ZeLldb3sE5RU"
      },
      "source": [
        "Feature / Taget Define"
      ]
    },
    {
      "cell_type": "code",
      "metadata": {
        "id": "7Zdkd01oSqJv"
      },
      "source": [
        "# define dataset\n",
        "X = data[[\n",
        "          'is__F',\n",
        "          'age',\n",
        "          'income',\n",
        "          'avg_difficulty', \n",
        "          'avg_duration', \n",
        "          'avg_transaction_amt', \n",
        "          'transactions_per_membership_days', \n",
        "          'days_as_member'\n",
        "          ]].to_numpy()\n",
        "\n",
        "# Encoding non-numerical labels(target) to numerical labels\n",
        "y = data['customer_type']\n",
        "y = y.replace(to_replace='active', value = 1)\n",
        "y = y.replace(to_replace='passive', value = 0)"
      ],
      "execution_count": null,
      "outputs": []
    },
    {
      "cell_type": "markdown",
      "metadata": {
        "id": "SbRIMd-aUDb1"
      },
      "source": [
        "Which Features Were Selected?"
      ]
    },
    {
      "cell_type": "code",
      "metadata": {
        "colab": {
          "base_uri": "https://localhost:8080/"
        },
        "id": "glL84zDx70AF",
        "outputId": "969aa739-0b30-4007-ad97-081c72ea586b"
      },
      "source": [
        "# report which features were selected by RFE\n",
        "from sklearn.datasets import make_classification\n",
        "from sklearn.feature_selection import RFE\n",
        "from sklearn.feature_selection import RFECV\n",
        "from sklearn.ensemble import RandomForestClassifier\n",
        "from sklearn.tree import DecisionTreeClassifier\n",
        "from sklearn.model_selection import StratifiedKFold\n",
        "# # define RFE\n",
        "# rfe = RFE(estimator=RandomForestClassifier(), n_features_to_select=5)\n",
        "# # fit RFE\n",
        "# rfe.fit(X, y)\n",
        "\n",
        "model = DecisionTreeClassifier()\n",
        "rfecv = RFECV(estimator=model, step=1, cv=StratifiedKFold(10), scoring='accuracy')\n",
        "pipeline = Pipeline(steps=[('s',rfecv),('m',model)])\n",
        "pipeline.fit(X, y)\n",
        "\n",
        "# summarize all features\n",
        "for i in range(X.shape[1]):\n",
        "\tprint('Column: %d, Selected %s, Rank: %.3f' % (i, rfe.support_[i], rfe.ranking_[i]))"
      ],
      "execution_count": null,
      "outputs": [
        {
          "output_type": "stream",
          "text": [
            "Column: 0, Selected False, Rank: 4.000\n",
            "Column: 1, Selected False, Rank: 3.000\n",
            "Column: 2, Selected False, Rank: 2.000\n",
            "Column: 3, Selected True, Rank: 1.000\n",
            "Column: 4, Selected True, Rank: 1.000\n",
            "Column: 5, Selected True, Rank: 1.000\n",
            "Column: 6, Selected True, Rank: 1.000\n",
            "Column: 7, Selected True, Rank: 1.000\n"
          ],
          "name": "stdout"
        }
      ]
    },
    {
      "cell_type": "markdown",
      "metadata": {
        "id": "IXUKm7VXZN1B"
      },
      "source": [
        "Using SVM model with selected features"
      ]
    },
    {
      "cell_type": "code",
      "metadata": {
        "id": "j_5gWRGYbwoC"
      },
      "source": [
        "X = data[[\n",
        "          'avg_difficulty', \n",
        "          'avg_duration', \n",
        "          'avg_transaction_amt', \n",
        "          'transactions_per_membership_days', \n",
        "          'days_as_member'\n",
        "          ]].to_numpy()\n",
        "          \n",
        "# # Encoding non-numerical labels(target) to numerical labels\n",
        "y = data['customer_type']\n",
        "y = y.replace(to_replace='active', value = 0)\n",
        "y = y.replace(to_replace='passive', value = 1)"
      ],
      "execution_count": null,
      "outputs": []
    },
    {
      "cell_type": "code",
      "metadata": {
        "id": "vS2ptISCexyk",
        "colab": {
          "base_uri": "https://localhost:8080/"
        },
        "outputId": "6af4fac5-afbc-4eb7-e386-f108c2a862a8"
      },
      "source": [
        "# Create train and test sets\n",
        "X_train, X_test, y_train, y_test = train_test_split(X, y, test_size=0.2, random_state=21)\n",
        "\n",
        "from imblearn.over_sampling import SMOTE\n",
        "\n",
        "#Applying SMOTE to oversample the minority class before modeling\n",
        "oversample = SMOTE(random_state = 101)\n",
        "X_train, y_train = oversample.fit_resample(X_train, y_train)"
      ],
      "execution_count": null,
      "outputs": [
        {
          "output_type": "stream",
          "text": [
            "/usr/local/lib/python3.6/dist-packages/sklearn/utils/deprecation.py:87: FutureWarning:\n",
            "\n",
            "Function safe_indexing is deprecated; safe_indexing is deprecated in version 0.22 and will be removed in version 0.24.\n",
            "\n"
          ],
          "name": "stderr"
        }
      ]
    },
    {
      "cell_type": "code",
      "metadata": {
        "colab": {
          "base_uri": "https://localhost:8080/"
        },
        "id": "2xdRDGMIuz2B",
        "outputId": "e67551b3-a74a-4606-9a79-2ba83e3ded18"
      },
      "source": [
        "svm = SVC()\n",
        "sc = StandardScaler()\n",
        "sc.fit_transform(X_train)\n",
        "svm.fit(X_train, y_train)\n",
        "print('Accuracy: {}'.format(svm.score(X_test, y_test)))"
      ],
      "execution_count": null,
      "outputs": [
        {
          "output_type": "stream",
          "text": [
            "Accuracy: 0.6101180438448567\n"
          ],
          "name": "stdout"
        }
      ]
    },
    {
      "cell_type": "code",
      "metadata": {
        "id": "qjxDefl2faQM"
      },
      "source": [
        "# Setup the pipeline steps: steps\n",
        "steps = [('scaler', StandardScaler()),\n",
        "         ('SVM', SVC())]\n",
        "\n",
        "# Specify the hyperparameter space\n",
        "parameters = {'SVM__C':[1, 10, 100],\n",
        "              'SVM__gamma':[0.1, 0.01]}\n",
        "\n",
        "# Create the pipeline: pipeline\n",
        "pipeline = Pipeline(steps)\n",
        "\n",
        "# Instantiate the GridSearchCV object: gcv\n",
        "gcv = GridSearchCV(pipeline, param_grid=parameters, scoring='accuracy', cv=5, n_jobs=-1, error_score='raise')"
      ],
      "execution_count": null,
      "outputs": []
    },
    {
      "cell_type": "code",
      "metadata": {
        "id": "j2hO4UD_f_-G",
        "colab": {
          "base_uri": "https://localhost:8080/"
        },
        "outputId": "3896132e-6db2-4fbb-ce62-e8ede8914ead"
      },
      "source": [
        "# Fit to the training set\n",
        "gcv.fit(X_train, y_train)"
      ],
      "execution_count": null,
      "outputs": [
        {
          "output_type": "execute_result",
          "data": {
            "text/plain": [
              "GridSearchCV(cv=5, error_score='raise',\n",
              "             estimator=Pipeline(memory=None,\n",
              "                                steps=[('scaler',\n",
              "                                        StandardScaler(copy=True,\n",
              "                                                       with_mean=True,\n",
              "                                                       with_std=True)),\n",
              "                                       ('SVM',\n",
              "                                        SVC(C=1.0, break_ties=False,\n",
              "                                            cache_size=200, class_weight=None,\n",
              "                                            coef0=0.0,\n",
              "                                            decision_function_shape='ovr',\n",
              "                                            degree=3, gamma='scale',\n",
              "                                            kernel='rbf', max_iter=-1,\n",
              "                                            probability=False,\n",
              "                                            random_state=None, shrinking=True,\n",
              "                                            tol=0.001, verbose=False))],\n",
              "                                verbose=False),\n",
              "             iid='deprecated', n_jobs=-1,\n",
              "             param_grid={'SVM__C': [1, 10, 100], 'SVM__gamma': [0.1, 0.01]},\n",
              "             pre_dispatch='2*n_jobs', refit=True, return_train_score=False,\n",
              "             scoring='accuracy', verbose=0)"
            ]
          },
          "metadata": {
            "tags": []
          },
          "execution_count": 29
        }
      ]
    },
    {
      "cell_type": "code",
      "metadata": {
        "id": "_kOHcu4TgGha",
        "colab": {
          "base_uri": "https://localhost:8080/"
        },
        "outputId": "5226bc7c-42e3-405a-9af7-bdb0be33c4ce"
      },
      "source": [
        "# Predict the labels of the test set: y_pred\n",
        "y_pred = gcv.predict(X_test)\n",
        "# Compute and print metrics\n",
        "print(\"Accuracy: {}\".format(gcv.score(X_test, y_test)))\n",
        "print(classification_report(y_test, y_pred))\n",
        "print(\"Tuned Model Parameters: {}\".format(gcv.best_params_))\n",
        "\n",
        "# passive : 0 / active : 1"
      ],
      "execution_count": null,
      "outputs": [
        {
          "output_type": "stream",
          "text": [
            "Accuracy: 0.8016863406408095\n",
            "              precision    recall  f1-score   support\n",
            "\n",
            "           0       0.83      0.87      0.85      1942\n",
            "           1       0.73      0.67      0.70      1023\n",
            "\n",
            "    accuracy                           0.80      2965\n",
            "   macro avg       0.78      0.77      0.78      2965\n",
            "weighted avg       0.80      0.80      0.80      2965\n",
            "\n",
            "Tuned Model Parameters: {'SVM__C': 100, 'SVM__gamma': 0.1}\n"
          ],
          "name": "stdout"
        }
      ]
    },
    {
      "cell_type": "code",
      "metadata": {
        "colab": {
          "base_uri": "https://localhost:8080/"
        },
        "id": "JLvrZl2-Xuv-",
        "outputId": "c141a023-965c-4155-f8f2-f56e6c0a030c"
      },
      "source": [
        "from sklearn.metrics import f1_score\n",
        "f1_score = f1_score(y_test, y_pred)\n",
        "print('F1 score of Model Prediction: ', f1_score)"
      ],
      "execution_count": null,
      "outputs": [
        {
          "output_type": "stream",
          "text": [
            "F1 score of Model Prediction:  0.7009155645981688\n"
          ],
          "name": "stdout"
        }
      ]
    },
    {
      "cell_type": "code",
      "metadata": {
        "id": "0-9Pbqo7-a_p",
        "colab": {
          "base_uri": "https://localhost:8080/",
          "height": 313
        },
        "outputId": "2dea146a-8738-4df1-b1f1-5dea5b380d89"
      },
      "source": [
        "from sklearn.metrics import plot_confusion_matrix\n",
        "disp = plot_confusion_matrix(gcv, X_test, y_test,\n",
        "                                 cmap=plt.cm.Blues,\n",
        "                                 normalize='true')\n",
        "print(disp.confusion_matrix)\n",
        "plt.show()"
      ],
      "execution_count": null,
      "outputs": [
        {
          "output_type": "stream",
          "text": [
            "[[0.869207   0.130793  ]\n",
            " [0.32649071 0.67350929]]\n"
          ],
          "name": "stdout"
        },
        {
          "output_type": "display_data",
          "data": {
            "image/png": "[encoded data removed]",
            "text/plain": [
              "<Figure size 432x288 with 2 Axes>"
            ]
          },
          "metadata": {
            "tags": [],
            "needs_background": "light"
          }
        }
      ]
    },
    {
      "cell_type": "code",
      "metadata": {
        "id": "xaGQcx7lYgqa"
      },
      "source": [
        ""
      ],
      "execution_count": null,
      "outputs": []
    }
  ]
}