{
  "nbformat": 4,
  "nbformat_minor": 0,
  "metadata": {
    "kernelspec": {
      "display_name": "Python 3",
      "language": "python",
      "name": "python3"
    },
    "language_info": {
      "codemirror_mode": {
        "name": "ipython",
        "version": 3
      },
      "file_extension": ".py",
      "mimetype": "text/x-python",
      "name": "python",
      "nbconvert_exporter": "python",
      "pygments_lexer": "ipython3",
      "version": "3.8.3"
    },
    "colab": {
      "name": "Passive Customer Detection.ipynb",
      "provenance": [],
      "collapsed_sections": [
        "_I0_vkIB7rKQ",
        "vETRMCm87rKR",
        "ixdKByZH7rKS"
      ],
      "include_colab_link": true
    }
  },
  "cells": [
    {
      "cell_type": "markdown",
      "metadata": {
        "id": "view-in-github",
        "colab_type": "text"
      },
      "source": [
        "<a href=\"https://colab.research.google.com/github/p33ves/CMPT726-ML-Project/blob/main/src/Passive_Customer_Detection.ipynb\" target=\"_parent\"><img src=\"https://colab.research.google.com/assets/colab-badge.svg\" alt=\"Open In Colab\"/></a>"
      ]
    },
    {
      "cell_type": "markdown",
      "metadata": {
        "id": "SVl_JeNT7rKL"
      },
      "source": [
        "# Recursive Feature Selection using Gradient based and Tree based Estimators "
      ]
    },
    {
      "cell_type": "code",
      "metadata": {
        "id": "QPofW8Vy7rKL",
        "colab": {
          "base_uri": "https://localhost:8080/"
        },
        "outputId": "abeffb25-7b9c-4220-9e12-02cc5487a7e6"
      },
      "source": [
        "pip install -U imbalanced-learn"
      ],
      "execution_count": 26,
      "outputs": [
        {
          "output_type": "stream",
          "text": [
            "Requirement already up-to-date: imbalanced-learn in /usr/local/lib/python3.6/dist-packages (0.7.0)\n",
            "Requirement already satisfied, skipping upgrade: scikit-learn>=0.23 in /usr/local/lib/python3.6/dist-packages (from imbalanced-learn) (0.23.2)\n",
            "Requirement already satisfied, skipping upgrade: scipy>=0.19.1 in /usr/local/lib/python3.6/dist-packages (from imbalanced-learn) (1.4.1)\n",
            "Requirement already satisfied, skipping upgrade: numpy>=1.13.3 in /usr/local/lib/python3.6/dist-packages (from imbalanced-learn) (1.18.5)\n",
            "Requirement already satisfied, skipping upgrade: joblib>=0.11 in /usr/local/lib/python3.6/dist-packages (from imbalanced-learn) (0.17.0)\n",
            "Requirement already satisfied, skipping upgrade: threadpoolctl>=2.0.0 in /usr/local/lib/python3.6/dist-packages (from scikit-learn>=0.23->imbalanced-learn) (2.1.0)\n"
          ],
          "name": "stdout"
        }
      ]
    },
    {
      "cell_type": "code",
      "metadata": {
        "id": "eEafLd_u7rKN"
      },
      "source": [
        "import numpy as np\n",
        "import pandas as pd\n",
        "import matplotlib.pyplot as plt\n",
        "\n",
        "import warnings\n",
        "warnings.filterwarnings('ignore')\n",
        "pd.options.display.max_columns = None\n",
        "from sklearn.model_selection import train_test_split\n",
        "from sklearn.linear_model import LogisticRegression\n",
        "from sklearn.tree import DecisionTreeClassifier\n",
        "from sklearn.ensemble import RandomForestClassifier\n",
        "from sklearn.ensemble import GradientBoostingClassifier\n",
        "from sklearn.ensemble import AdaBoostClassifier\n",
        "from sklearn.model_selection import StratifiedKFold\n",
        "from sklearn.feature_selection import RFECV\n",
        "from sklearn.pipeline import Pipeline\n",
        "from sklearn.model_selection import cross_val_score\n",
        "from sklearn.model_selection import RepeatedStratifiedKFold\n",
        "from sklearn.model_selection import GridSearchCV \n",
        "from imblearn.over_sampling import SMOTE\n",
        "from sklearn.metrics import f1_score\n",
        "import seaborn as sns\n",
        "from sklearn.metrics import plot_confusion_matrix\n",
        "from sklearn.metrics import classification_report"
      ],
      "execution_count": 27,
      "outputs": []
    },
    {
      "cell_type": "code",
      "metadata": {
        "id": "6XndfwBM7rKN",
        "colab": {
          "base_uri": "https://localhost:8080/"
        },
        "outputId": "77091299-c102-4095-bb7e-acbdb436c547"
      },
      "source": [
        "full_dataset_url = \"https://raw.githubusercontent.com/p33ves/CMPT726-ML-Project/main/processed_datasets/xtr_profile.csv\"\n",
        "cust_data = pd.read_csv(full_dataset_url)\n",
        "cust_data = cust_data.loc[:, ~cust_data.columns.str.contains('^Unnamed')]\n",
        "cust_data.info()"
      ],
      "execution_count": 28,
      "outputs": [
        {
          "output_type": "stream",
          "text": [
            "<class 'pandas.core.frame.DataFrame'>\n",
            "RangeIndex: 14825 entries, 0 to 14824\n",
            "Data columns (total 39 columns):\n",
            " #   Column                              Non-Null Count  Dtype  \n",
            "---  ------                              --------------  -----  \n",
            " 0   gender                              14825 non-null  object \n",
            " 1   age                                 14825 non-null  int64  \n",
            " 2   cust_id                             14825 non-null  object \n",
            " 3   became_member_on                    14825 non-null  object \n",
            " 4   income                              14825 non-null  float64\n",
            " 5   days_as_member                      14825 non-null  int64  \n",
            " 6   Total offer completed               14825 non-null  float64\n",
            " 7   Total offer received                14825 non-null  float64\n",
            " 8   Total offer viewed                  14825 non-null  float64\n",
            " 9   Total transaction                   14825 non-null  float64\n",
            " 10  offer completed_via_email           14825 non-null  float64\n",
            " 11  offer completed_via_social          14825 non-null  float64\n",
            " 12  offer completed_via_mobile          14825 non-null  float64\n",
            " 13  offer completed_via_web             14825 non-null  float64\n",
            " 14  offer completed bogo count          14825 non-null  float64\n",
            " 15  offer completed discount count      14825 non-null  float64\n",
            " 16  offer received_via_email            14825 non-null  float64\n",
            " 17  offer received_via_social           14825 non-null  float64\n",
            " 18  offer received_via_mobile           14825 non-null  float64\n",
            " 19  offer received_via_web              14825 non-null  float64\n",
            " 20  offer received bogo count           14825 non-null  float64\n",
            " 21  offer received discount count       14825 non-null  float64\n",
            " 22  offer received informational count  14825 non-null  float64\n",
            " 23  offer viewed_via_email              14825 non-null  float64\n",
            " 24  offer viewed_via_social             14825 non-null  float64\n",
            " 25  offer viewed_via_mobile             14825 non-null  float64\n",
            " 26  offer viewed_via_web                14825 non-null  float64\n",
            " 27  offer viewed bogo count             14825 non-null  float64\n",
            " 28  offer viewed discount count         14825 non-null  float64\n",
            " 29  offer viewed informational count    14825 non-null  float64\n",
            " 30  Total transaction amount            14825 non-null  float64\n",
            " 31  avg_difficulty                      14825 non-null  float64\n",
            " 32  avg_duration                        14825 non-null  float64\n",
            " 33  total_reward_received               14825 non-null  float64\n",
            " 34  total_reward_defined                14825 non-null  float64\n",
            " 35  total_view_ratio                    14825 non-null  float64\n",
            " 36  total_completion_ratio              14825 non-null  float64\n",
            " 37  avg_transaction_amt                 14825 non-null  float64\n",
            " 38  transactions_per_membership_days    14825 non-null  float64\n",
            "dtypes: float64(34), int64(2), object(3)\n",
            "memory usage: 4.4+ MB\n"
          ],
          "name": "stdout"
        }
      ]
    },
    {
      "cell_type": "code",
      "metadata": {
        "colab": {
          "base_uri": "https://localhost:8080/",
          "height": 402
        },
        "id": "mJxSPU9oz2j-",
        "outputId": "a37fad04-efe2-46cb-caea-5da80d7bae03"
      },
      "source": [
        "cust_data.select_dtypes(include=[object])"
      ],
      "execution_count": 29,
      "outputs": [
        {
          "output_type": "execute_result",
          "data": {
            "text/html": [
              "<div>\n",
              "<style scoped>\n",
              "    .dataframe tbody tr th:only-of-type {\n",
              "        vertical-align: middle;\n",
              "    }\n",
              "\n",
              "    .dataframe tbody tr th {\n",
              "        vertical-align: top;\n",
              "    }\n",
              "\n",
              "    .dataframe thead th {\n",
              "        text-align: right;\n",
              "    }\n",
              "</style>\n",
              "<table border=\"1\" class=\"dataframe\">\n",
              "  <thead>\n",
              "    <tr style=\"text-align: right;\">\n",
              "      <th></th>\n",
              "      <th>gender</th>\n",
              "      <th>cust_id</th>\n",
              "      <th>became_member_on</th>\n",
              "    </tr>\n",
              "  </thead>\n",
              "  <tbody>\n",
              "    <tr>\n",
              "      <th>0</th>\n",
              "      <td>F</td>\n",
              "      <td>0610b486422d4921ae7d2bf64640c50b</td>\n",
              "      <td>2017-07-15</td>\n",
              "    </tr>\n",
              "    <tr>\n",
              "      <th>1</th>\n",
              "      <td>F</td>\n",
              "      <td>78afa995795e4d85b5d9ceeca43f5fef</td>\n",
              "      <td>2017-05-09</td>\n",
              "    </tr>\n",
              "    <tr>\n",
              "      <th>2</th>\n",
              "      <td>M</td>\n",
              "      <td>e2127556f4f64592b11af22de27a7932</td>\n",
              "      <td>2018-04-26</td>\n",
              "    </tr>\n",
              "    <tr>\n",
              "      <th>3</th>\n",
              "      <td>M</td>\n",
              "      <td>389bc3fa690240e798340f5a15918d5c</td>\n",
              "      <td>2018-02-09</td>\n",
              "    </tr>\n",
              "    <tr>\n",
              "      <th>4</th>\n",
              "      <td>M</td>\n",
              "      <td>2eeac8d8feae4a8cad5a6af0499a211d</td>\n",
              "      <td>2017-11-11</td>\n",
              "    </tr>\n",
              "    <tr>\n",
              "      <th>...</th>\n",
              "      <td>...</td>\n",
              "      <td>...</td>\n",
              "      <td>...</td>\n",
              "    </tr>\n",
              "    <tr>\n",
              "      <th>14820</th>\n",
              "      <td>F</td>\n",
              "      <td>6d5f3a774f3d4714ab0c092238f3a1d7</td>\n",
              "      <td>2018-06-04</td>\n",
              "    </tr>\n",
              "    <tr>\n",
              "      <th>14821</th>\n",
              "      <td>M</td>\n",
              "      <td>2cb4f97358b841b9a9773a7aa05a9d77</td>\n",
              "      <td>2018-07-13</td>\n",
              "    </tr>\n",
              "    <tr>\n",
              "      <th>14822</th>\n",
              "      <td>M</td>\n",
              "      <td>01d26f638c274aa0b965d24cefe3183f</td>\n",
              "      <td>2017-01-26</td>\n",
              "    </tr>\n",
              "    <tr>\n",
              "      <th>14823</th>\n",
              "      <td>F</td>\n",
              "      <td>9dc1421481194dcd9400aec7c9ae6366</td>\n",
              "      <td>2016-03-07</td>\n",
              "    </tr>\n",
              "    <tr>\n",
              "      <th>14824</th>\n",
              "      <td>F</td>\n",
              "      <td>e4052622e5ba45a8b96b59aba68cf068</td>\n",
              "      <td>2017-07-22</td>\n",
              "    </tr>\n",
              "  </tbody>\n",
              "</table>\n",
              "<p>14825 rows × 3 columns</p>\n",
              "</div>"
            ],
            "text/plain": [
              "      gender                           cust_id became_member_on\n",
              "0          F  0610b486422d4921ae7d2bf64640c50b       2017-07-15\n",
              "1          F  78afa995795e4d85b5d9ceeca43f5fef       2017-05-09\n",
              "2          M  e2127556f4f64592b11af22de27a7932       2018-04-26\n",
              "3          M  389bc3fa690240e798340f5a15918d5c       2018-02-09\n",
              "4          M  2eeac8d8feae4a8cad5a6af0499a211d       2017-11-11\n",
              "...      ...                               ...              ...\n",
              "14820      F  6d5f3a774f3d4714ab0c092238f3a1d7       2018-06-04\n",
              "14821      M  2cb4f97358b841b9a9773a7aa05a9d77       2018-07-13\n",
              "14822      M  01d26f638c274aa0b965d24cefe3183f       2017-01-26\n",
              "14823      F  9dc1421481194dcd9400aec7c9ae6366       2016-03-07\n",
              "14824      F  e4052622e5ba45a8b96b59aba68cf068       2017-07-22\n",
              "\n",
              "[14825 rows x 3 columns]"
            ]
          },
          "metadata": {
            "tags": []
          },
          "execution_count": 29
        }
      ]
    },
    {
      "cell_type": "code",
      "metadata": {
        "id": "BQ8fNcE07rKN",
        "colab": {
          "base_uri": "https://localhost:8080/",
          "height": 414
        },
        "outputId": "b207d7ac-f004-4579-a5da-4a1f164be6dd"
      },
      "source": [
        "# define dataset\n",
        "gen_split = pd.get_dummies(cust_data['gender'], prefix='is_')\n",
        "# data['income_in_k'] = data['income']/1000\n",
        "cust_data = pd.concat([cust_data, gen_split], axis=1)\n",
        "# data = data.drop('income', axis=1)\n",
        "cust_data.drop('gender', axis=1, inplace=True)\n",
        "cust_data.sample(10)"
      ],
      "execution_count": 30,
      "outputs": [
        {
          "output_type": "execute_result",
          "data": {
            "text/html": [
              "<div>\n",
              "<style scoped>\n",
              "    .dataframe tbody tr th:only-of-type {\n",
              "        vertical-align: middle;\n",
              "    }\n",
              "\n",
              "    .dataframe tbody tr th {\n",
              "        vertical-align: top;\n",
              "    }\n",
              "\n",
              "    .dataframe thead th {\n",
              "        text-align: right;\n",
              "    }\n",
              "</style>\n",
              "<table border=\"1\" class=\"dataframe\">\n",
              "  <thead>\n",
              "    <tr style=\"text-align: right;\">\n",
              "      <th></th>\n",
              "      <th>age</th>\n",
              "      <th>cust_id</th>\n",
              "      <th>became_member_on</th>\n",
              "      <th>income</th>\n",
              "      <th>days_as_member</th>\n",
              "      <th>Total offer completed</th>\n",
              "      <th>Total offer received</th>\n",
              "      <th>Total offer viewed</th>\n",
              "      <th>Total transaction</th>\n",
              "      <th>offer completed_via_email</th>\n",
              "      <th>offer completed_via_social</th>\n",
              "      <th>offer completed_via_mobile</th>\n",
              "      <th>offer completed_via_web</th>\n",
              "      <th>offer completed bogo count</th>\n",
              "      <th>offer completed discount count</th>\n",
              "      <th>offer received_via_email</th>\n",
              "      <th>offer received_via_social</th>\n",
              "      <th>offer received_via_mobile</th>\n",
              "      <th>offer received_via_web</th>\n",
              "      <th>offer received bogo count</th>\n",
              "      <th>offer received discount count</th>\n",
              "      <th>offer received informational count</th>\n",
              "      <th>offer viewed_via_email</th>\n",
              "      <th>offer viewed_via_social</th>\n",
              "      <th>offer viewed_via_mobile</th>\n",
              "      <th>offer viewed_via_web</th>\n",
              "      <th>offer viewed bogo count</th>\n",
              "      <th>offer viewed discount count</th>\n",
              "      <th>offer viewed informational count</th>\n",
              "      <th>Total transaction amount</th>\n",
              "      <th>avg_difficulty</th>\n",
              "      <th>avg_duration</th>\n",
              "      <th>total_reward_received</th>\n",
              "      <th>total_reward_defined</th>\n",
              "      <th>total_view_ratio</th>\n",
              "      <th>total_completion_ratio</th>\n",
              "      <th>avg_transaction_amt</th>\n",
              "      <th>transactions_per_membership_days</th>\n",
              "      <th>is__F</th>\n",
              "      <th>is__M</th>\n",
              "      <th>is__O</th>\n",
              "    </tr>\n",
              "  </thead>\n",
              "  <tbody>\n",
              "    <tr>\n",
              "      <th>12790</th>\n",
              "      <td>76</td>\n",
              "      <td>ac8acdc4d91945789e009a333ccb4e2c</td>\n",
              "      <td>2016-11-11</td>\n",
              "      <td>80000.0</td>\n",
              "      <td>1476</td>\n",
              "      <td>3.0</td>\n",
              "      <td>3.0</td>\n",
              "      <td>3.0</td>\n",
              "      <td>10.0</td>\n",
              "      <td>3.0</td>\n",
              "      <td>3.0</td>\n",
              "      <td>3.0</td>\n",
              "      <td>3.0</td>\n",
              "      <td>1.0</td>\n",
              "      <td>2.0</td>\n",
              "      <td>3.0</td>\n",
              "      <td>3.0</td>\n",
              "      <td>3.0</td>\n",
              "      <td>3.0</td>\n",
              "      <td>1.0</td>\n",
              "      <td>2.0</td>\n",
              "      <td>0.0</td>\n",
              "      <td>3.0</td>\n",
              "      <td>3.0</td>\n",
              "      <td>3.0</td>\n",
              "      <td>3.0</td>\n",
              "      <td>1.0</td>\n",
              "      <td>2.0</td>\n",
              "      <td>0.0</td>\n",
              "      <td>228.81</td>\n",
              "      <td>10.000000</td>\n",
              "      <td>200.000000</td>\n",
              "      <td>14.0</td>\n",
              "      <td>14.0</td>\n",
              "      <td>1.00</td>\n",
              "      <td>1.000</td>\n",
              "      <td>22.88</td>\n",
              "      <td>0.006775</td>\n",
              "      <td>1</td>\n",
              "      <td>0</td>\n",
              "      <td>0</td>\n",
              "    </tr>\n",
              "    <tr>\n",
              "      <th>11989</th>\n",
              "      <td>67</td>\n",
              "      <td>0b680efe1a0a40788ebb6fb2c587b4a7</td>\n",
              "      <td>2017-08-13</td>\n",
              "      <td>67000.0</td>\n",
              "      <td>1201</td>\n",
              "      <td>0.0</td>\n",
              "      <td>3.0</td>\n",
              "      <td>2.0</td>\n",
              "      <td>4.0</td>\n",
              "      <td>0.0</td>\n",
              "      <td>0.0</td>\n",
              "      <td>0.0</td>\n",
              "      <td>0.0</td>\n",
              "      <td>0.0</td>\n",
              "      <td>0.0</td>\n",
              "      <td>3.0</td>\n",
              "      <td>2.0</td>\n",
              "      <td>3.0</td>\n",
              "      <td>2.0</td>\n",
              "      <td>2.0</td>\n",
              "      <td>0.0</td>\n",
              "      <td>1.0</td>\n",
              "      <td>2.0</td>\n",
              "      <td>1.0</td>\n",
              "      <td>2.0</td>\n",
              "      <td>1.0</td>\n",
              "      <td>1.0</td>\n",
              "      <td>0.0</td>\n",
              "      <td>1.0</td>\n",
              "      <td>68.04</td>\n",
              "      <td>6.000000</td>\n",
              "      <td>129.600000</td>\n",
              "      <td>0.0</td>\n",
              "      <td>20.0</td>\n",
              "      <td>0.67</td>\n",
              "      <td>0.000</td>\n",
              "      <td>17.01</td>\n",
              "      <td>0.003331</td>\n",
              "      <td>0</td>\n",
              "      <td>1</td>\n",
              "      <td>0</td>\n",
              "    </tr>\n",
              "    <tr>\n",
              "      <th>4827</th>\n",
              "      <td>47</td>\n",
              "      <td>fab3921ad34343d28dfb70c6217a1072</td>\n",
              "      <td>2016-02-29</td>\n",
              "      <td>62000.0</td>\n",
              "      <td>1732</td>\n",
              "      <td>5.0</td>\n",
              "      <td>5.0</td>\n",
              "      <td>5.0</td>\n",
              "      <td>8.0</td>\n",
              "      <td>5.0</td>\n",
              "      <td>3.0</td>\n",
              "      <td>5.0</td>\n",
              "      <td>5.0</td>\n",
              "      <td>3.0</td>\n",
              "      <td>2.0</td>\n",
              "      <td>5.0</td>\n",
              "      <td>3.0</td>\n",
              "      <td>5.0</td>\n",
              "      <td>5.0</td>\n",
              "      <td>3.0</td>\n",
              "      <td>2.0</td>\n",
              "      <td>0.0</td>\n",
              "      <td>5.0</td>\n",
              "      <td>3.0</td>\n",
              "      <td>5.0</td>\n",
              "      <td>5.0</td>\n",
              "      <td>3.0</td>\n",
              "      <td>2.0</td>\n",
              "      <td>0.0</td>\n",
              "      <td>121.68</td>\n",
              "      <td>7.000000</td>\n",
              "      <td>187.200000</td>\n",
              "      <td>19.0</td>\n",
              "      <td>19.0</td>\n",
              "      <td>1.00</td>\n",
              "      <td>1.000</td>\n",
              "      <td>15.21</td>\n",
              "      <td>0.004619</td>\n",
              "      <td>0</td>\n",
              "      <td>1</td>\n",
              "      <td>0</td>\n",
              "    </tr>\n",
              "    <tr>\n",
              "      <th>3418</th>\n",
              "      <td>62</td>\n",
              "      <td>a42ed50acc4d4b25bca647c9e0b916ad</td>\n",
              "      <td>2016-10-17</td>\n",
              "      <td>33000.0</td>\n",
              "      <td>1501</td>\n",
              "      <td>5.0</td>\n",
              "      <td>6.0</td>\n",
              "      <td>4.0</td>\n",
              "      <td>31.0</td>\n",
              "      <td>5.0</td>\n",
              "      <td>3.0</td>\n",
              "      <td>3.0</td>\n",
              "      <td>5.0</td>\n",
              "      <td>0.0</td>\n",
              "      <td>5.0</td>\n",
              "      <td>6.0</td>\n",
              "      <td>4.0</td>\n",
              "      <td>4.0</td>\n",
              "      <td>5.0</td>\n",
              "      <td>0.0</td>\n",
              "      <td>5.0</td>\n",
              "      <td>1.0</td>\n",
              "      <td>4.0</td>\n",
              "      <td>3.0</td>\n",
              "      <td>3.0</td>\n",
              "      <td>3.0</td>\n",
              "      <td>0.0</td>\n",
              "      <td>3.0</td>\n",
              "      <td>1.0</td>\n",
              "      <td>461.09</td>\n",
              "      <td>11.600000</td>\n",
              "      <td>208.000000</td>\n",
              "      <td>17.0</td>\n",
              "      <td>17.0</td>\n",
              "      <td>0.67</td>\n",
              "      <td>0.833</td>\n",
              "      <td>14.87</td>\n",
              "      <td>0.020653</td>\n",
              "      <td>1</td>\n",
              "      <td>0</td>\n",
              "      <td>0</td>\n",
              "    </tr>\n",
              "    <tr>\n",
              "      <th>10867</th>\n",
              "      <td>55</td>\n",
              "      <td>c518abca827b42ff81eb5bc49c455b03</td>\n",
              "      <td>2017-04-04</td>\n",
              "      <td>67000.0</td>\n",
              "      <td>1332</td>\n",
              "      <td>4.0</td>\n",
              "      <td>4.0</td>\n",
              "      <td>4.0</td>\n",
              "      <td>19.0</td>\n",
              "      <td>4.0</td>\n",
              "      <td>2.0</td>\n",
              "      <td>3.0</td>\n",
              "      <td>3.0</td>\n",
              "      <td>1.0</td>\n",
              "      <td>3.0</td>\n",
              "      <td>4.0</td>\n",
              "      <td>2.0</td>\n",
              "      <td>3.0</td>\n",
              "      <td>3.0</td>\n",
              "      <td>1.0</td>\n",
              "      <td>3.0</td>\n",
              "      <td>0.0</td>\n",
              "      <td>4.0</td>\n",
              "      <td>2.0</td>\n",
              "      <td>3.0</td>\n",
              "      <td>3.0</td>\n",
              "      <td>1.0</td>\n",
              "      <td>3.0</td>\n",
              "      <td>0.0</td>\n",
              "      <td>735.20</td>\n",
              "      <td>11.750000</td>\n",
              "      <td>186.000000</td>\n",
              "      <td>20.0</td>\n",
              "      <td>20.0</td>\n",
              "      <td>1.00</td>\n",
              "      <td>1.000</td>\n",
              "      <td>38.69</td>\n",
              "      <td>0.014264</td>\n",
              "      <td>0</td>\n",
              "      <td>1</td>\n",
              "      <td>0</td>\n",
              "    </tr>\n",
              "    <tr>\n",
              "      <th>6007</th>\n",
              "      <td>37</td>\n",
              "      <td>6e81b647b6d84966b63e0d4fc45fc4f6</td>\n",
              "      <td>2016-07-31</td>\n",
              "      <td>62000.0</td>\n",
              "      <td>1579</td>\n",
              "      <td>4.0</td>\n",
              "      <td>4.0</td>\n",
              "      <td>3.0</td>\n",
              "      <td>13.0</td>\n",
              "      <td>4.0</td>\n",
              "      <td>2.0</td>\n",
              "      <td>3.0</td>\n",
              "      <td>3.0</td>\n",
              "      <td>2.0</td>\n",
              "      <td>2.0</td>\n",
              "      <td>4.0</td>\n",
              "      <td>2.0</td>\n",
              "      <td>3.0</td>\n",
              "      <td>3.0</td>\n",
              "      <td>2.0</td>\n",
              "      <td>2.0</td>\n",
              "      <td>0.0</td>\n",
              "      <td>3.0</td>\n",
              "      <td>2.0</td>\n",
              "      <td>3.0</td>\n",
              "      <td>2.0</td>\n",
              "      <td>2.0</td>\n",
              "      <td>1.0</td>\n",
              "      <td>0.0</td>\n",
              "      <td>208.56</td>\n",
              "      <td>9.636364</td>\n",
              "      <td>181.090909</td>\n",
              "      <td>23.0</td>\n",
              "      <td>23.0</td>\n",
              "      <td>0.75</td>\n",
              "      <td>1.000</td>\n",
              "      <td>16.04</td>\n",
              "      <td>0.008233</td>\n",
              "      <td>0</td>\n",
              "      <td>1</td>\n",
              "      <td>0</td>\n",
              "    </tr>\n",
              "    <tr>\n",
              "      <th>13634</th>\n",
              "      <td>25</td>\n",
              "      <td>83377d650e4246fa96240dcdfe44e3be</td>\n",
              "      <td>2014-10-28</td>\n",
              "      <td>73000.0</td>\n",
              "      <td>2221</td>\n",
              "      <td>1.0</td>\n",
              "      <td>3.0</td>\n",
              "      <td>3.0</td>\n",
              "      <td>22.0</td>\n",
              "      <td>1.0</td>\n",
              "      <td>1.0</td>\n",
              "      <td>1.0</td>\n",
              "      <td>1.0</td>\n",
              "      <td>0.0</td>\n",
              "      <td>1.0</td>\n",
              "      <td>3.0</td>\n",
              "      <td>3.0</td>\n",
              "      <td>3.0</td>\n",
              "      <td>1.0</td>\n",
              "      <td>2.0</td>\n",
              "      <td>1.0</td>\n",
              "      <td>0.0</td>\n",
              "      <td>3.0</td>\n",
              "      <td>3.0</td>\n",
              "      <td>3.0</td>\n",
              "      <td>1.0</td>\n",
              "      <td>2.0</td>\n",
              "      <td>1.0</td>\n",
              "      <td>0.0</td>\n",
              "      <td>64.52</td>\n",
              "      <td>10.000000</td>\n",
              "      <td>198.857143</td>\n",
              "      <td>2.0</td>\n",
              "      <td>22.0</td>\n",
              "      <td>1.00</td>\n",
              "      <td>0.333</td>\n",
              "      <td>2.93</td>\n",
              "      <td>0.009905</td>\n",
              "      <td>1</td>\n",
              "      <td>0</td>\n",
              "      <td>0</td>\n",
              "    </tr>\n",
              "    <tr>\n",
              "      <th>9500</th>\n",
              "      <td>37</td>\n",
              "      <td>fd50a1eef9554c72aa45a8276804ba9c</td>\n",
              "      <td>2018-01-23</td>\n",
              "      <td>63000.0</td>\n",
              "      <td>1038</td>\n",
              "      <td>0.0</td>\n",
              "      <td>4.0</td>\n",
              "      <td>1.0</td>\n",
              "      <td>6.0</td>\n",
              "      <td>0.0</td>\n",
              "      <td>0.0</td>\n",
              "      <td>0.0</td>\n",
              "      <td>0.0</td>\n",
              "      <td>0.0</td>\n",
              "      <td>0.0</td>\n",
              "      <td>4.0</td>\n",
              "      <td>1.0</td>\n",
              "      <td>3.0</td>\n",
              "      <td>4.0</td>\n",
              "      <td>2.0</td>\n",
              "      <td>2.0</td>\n",
              "      <td>0.0</td>\n",
              "      <td>1.0</td>\n",
              "      <td>1.0</td>\n",
              "      <td>1.0</td>\n",
              "      <td>1.0</td>\n",
              "      <td>1.0</td>\n",
              "      <td>0.0</td>\n",
              "      <td>0.0</td>\n",
              "      <td>12.43</td>\n",
              "      <td>9.000000</td>\n",
              "      <td>163.200000</td>\n",
              "      <td>0.0</td>\n",
              "      <td>17.0</td>\n",
              "      <td>0.25</td>\n",
              "      <td>0.000</td>\n",
              "      <td>2.07</td>\n",
              "      <td>0.005780</td>\n",
              "      <td>0</td>\n",
              "      <td>1</td>\n",
              "      <td>0</td>\n",
              "    </tr>\n",
              "    <tr>\n",
              "      <th>8987</th>\n",
              "      <td>50</td>\n",
              "      <td>73afdeca19e349b98f09e928644610f8</td>\n",
              "      <td>2016-05-12</td>\n",
              "      <td>86000.0</td>\n",
              "      <td>1659</td>\n",
              "      <td>5.0</td>\n",
              "      <td>5.0</td>\n",
              "      <td>3.0</td>\n",
              "      <td>10.0</td>\n",
              "      <td>5.0</td>\n",
              "      <td>3.0</td>\n",
              "      <td>4.0</td>\n",
              "      <td>5.0</td>\n",
              "      <td>1.0</td>\n",
              "      <td>4.0</td>\n",
              "      <td>5.0</td>\n",
              "      <td>3.0</td>\n",
              "      <td>4.0</td>\n",
              "      <td>5.0</td>\n",
              "      <td>1.0</td>\n",
              "      <td>4.0</td>\n",
              "      <td>0.0</td>\n",
              "      <td>3.0</td>\n",
              "      <td>3.0</td>\n",
              "      <td>3.0</td>\n",
              "      <td>3.0</td>\n",
              "      <td>0.0</td>\n",
              "      <td>3.0</td>\n",
              "      <td>0.0</td>\n",
              "      <td>1319.97</td>\n",
              "      <td>10.076923</td>\n",
              "      <td>212.307692</td>\n",
              "      <td>17.0</td>\n",
              "      <td>17.0</td>\n",
              "      <td>0.60</td>\n",
              "      <td>1.000</td>\n",
              "      <td>132.00</td>\n",
              "      <td>0.006028</td>\n",
              "      <td>0</td>\n",
              "      <td>1</td>\n",
              "      <td>0</td>\n",
              "    </tr>\n",
              "    <tr>\n",
              "      <th>8048</th>\n",
              "      <td>56</td>\n",
              "      <td>275d6ac7d0c84a43a54d4645daa913fd</td>\n",
              "      <td>2017-10-07</td>\n",
              "      <td>64000.0</td>\n",
              "      <td>1146</td>\n",
              "      <td>0.0</td>\n",
              "      <td>5.0</td>\n",
              "      <td>2.0</td>\n",
              "      <td>3.0</td>\n",
              "      <td>0.0</td>\n",
              "      <td>0.0</td>\n",
              "      <td>0.0</td>\n",
              "      <td>0.0</td>\n",
              "      <td>0.0</td>\n",
              "      <td>0.0</td>\n",
              "      <td>5.0</td>\n",
              "      <td>1.0</td>\n",
              "      <td>4.0</td>\n",
              "      <td>5.0</td>\n",
              "      <td>2.0</td>\n",
              "      <td>1.0</td>\n",
              "      <td>2.0</td>\n",
              "      <td>2.0</td>\n",
              "      <td>1.0</td>\n",
              "      <td>2.0</td>\n",
              "      <td>2.0</td>\n",
              "      <td>2.0</td>\n",
              "      <td>0.0</td>\n",
              "      <td>0.0</td>\n",
              "      <td>8.07</td>\n",
              "      <td>5.714286</td>\n",
              "      <td>144.000000</td>\n",
              "      <td>0.0</td>\n",
              "      <td>15.0</td>\n",
              "      <td>0.40</td>\n",
              "      <td>0.000</td>\n",
              "      <td>2.69</td>\n",
              "      <td>0.002618</td>\n",
              "      <td>0</td>\n",
              "      <td>1</td>\n",
              "      <td>0</td>\n",
              "    </tr>\n",
              "  </tbody>\n",
              "</table>\n",
              "</div>"
            ],
            "text/plain": [
              "       age                           cust_id became_member_on   income  \\\n",
              "12790   76  ac8acdc4d91945789e009a333ccb4e2c       2016-11-11  80000.0   \n",
              "11989   67  0b680efe1a0a40788ebb6fb2c587b4a7       2017-08-13  67000.0   \n",
              "4827    47  fab3921ad34343d28dfb70c6217a1072       2016-02-29  62000.0   \n",
              "3418    62  a42ed50acc4d4b25bca647c9e0b916ad       2016-10-17  33000.0   \n",
              "10867   55  c518abca827b42ff81eb5bc49c455b03       2017-04-04  67000.0   \n",
              "6007    37  6e81b647b6d84966b63e0d4fc45fc4f6       2016-07-31  62000.0   \n",
              "13634   25  83377d650e4246fa96240dcdfe44e3be       2014-10-28  73000.0   \n",
              "9500    37  fd50a1eef9554c72aa45a8276804ba9c       2018-01-23  63000.0   \n",
              "8987    50  73afdeca19e349b98f09e928644610f8       2016-05-12  86000.0   \n",
              "8048    56  275d6ac7d0c84a43a54d4645daa913fd       2017-10-07  64000.0   \n",
              "\n",
              "       days_as_member  Total offer completed  Total offer received  \\\n",
              "12790            1476                    3.0                   3.0   \n",
              "11989            1201                    0.0                   3.0   \n",
              "4827             1732                    5.0                   5.0   \n",
              "3418             1501                    5.0                   6.0   \n",
              "10867            1332                    4.0                   4.0   \n",
              "6007             1579                    4.0                   4.0   \n",
              "13634            2221                    1.0                   3.0   \n",
              "9500             1038                    0.0                   4.0   \n",
              "8987             1659                    5.0                   5.0   \n",
              "8048             1146                    0.0                   5.0   \n",
              "\n",
              "       Total offer viewed  Total transaction  offer completed_via_email  \\\n",
              "12790                 3.0               10.0                        3.0   \n",
              "11989                 2.0                4.0                        0.0   \n",
              "4827                  5.0                8.0                        5.0   \n",
              "3418                  4.0               31.0                        5.0   \n",
              "10867                 4.0               19.0                        4.0   \n",
              "6007                  3.0               13.0                        4.0   \n",
              "13634                 3.0               22.0                        1.0   \n",
              "9500                  1.0                6.0                        0.0   \n",
              "8987                  3.0               10.0                        5.0   \n",
              "8048                  2.0                3.0                        0.0   \n",
              "\n",
              "       offer completed_via_social  offer completed_via_mobile  \\\n",
              "12790                         3.0                         3.0   \n",
              "11989                         0.0                         0.0   \n",
              "4827                          3.0                         5.0   \n",
              "3418                          3.0                         3.0   \n",
              "10867                         2.0                         3.0   \n",
              "6007                          2.0                         3.0   \n",
              "13634                         1.0                         1.0   \n",
              "9500                          0.0                         0.0   \n",
              "8987                          3.0                         4.0   \n",
              "8048                          0.0                         0.0   \n",
              "\n",
              "       offer completed_via_web  offer completed bogo count  \\\n",
              "12790                      3.0                         1.0   \n",
              "11989                      0.0                         0.0   \n",
              "4827                       5.0                         3.0   \n",
              "3418                       5.0                         0.0   \n",
              "10867                      3.0                         1.0   \n",
              "6007                       3.0                         2.0   \n",
              "13634                      1.0                         0.0   \n",
              "9500                       0.0                         0.0   \n",
              "8987                       5.0                         1.0   \n",
              "8048                       0.0                         0.0   \n",
              "\n",
              "       offer completed discount count  offer received_via_email  \\\n",
              "12790                             2.0                       3.0   \n",
              "11989                             0.0                       3.0   \n",
              "4827                              2.0                       5.0   \n",
              "3418                              5.0                       6.0   \n",
              "10867                             3.0                       4.0   \n",
              "6007                              2.0                       4.0   \n",
              "13634                             1.0                       3.0   \n",
              "9500                              0.0                       4.0   \n",
              "8987                              4.0                       5.0   \n",
              "8048                              0.0                       5.0   \n",
              "\n",
              "       offer received_via_social  offer received_via_mobile  \\\n",
              "12790                        3.0                        3.0   \n",
              "11989                        2.0                        3.0   \n",
              "4827                         3.0                        5.0   \n",
              "3418                         4.0                        4.0   \n",
              "10867                        2.0                        3.0   \n",
              "6007                         2.0                        3.0   \n",
              "13634                        3.0                        3.0   \n",
              "9500                         1.0                        3.0   \n",
              "8987                         3.0                        4.0   \n",
              "8048                         1.0                        4.0   \n",
              "\n",
              "       offer received_via_web  offer received bogo count  \\\n",
              "12790                     3.0                        1.0   \n",
              "11989                     2.0                        2.0   \n",
              "4827                      5.0                        3.0   \n",
              "3418                      5.0                        0.0   \n",
              "10867                     3.0                        1.0   \n",
              "6007                      3.0                        2.0   \n",
              "13634                     1.0                        2.0   \n",
              "9500                      4.0                        2.0   \n",
              "8987                      5.0                        1.0   \n",
              "8048                      5.0                        2.0   \n",
              "\n",
              "       offer received discount count  offer received informational count  \\\n",
              "12790                            2.0                                 0.0   \n",
              "11989                            0.0                                 1.0   \n",
              "4827                             2.0                                 0.0   \n",
              "3418                             5.0                                 1.0   \n",
              "10867                            3.0                                 0.0   \n",
              "6007                             2.0                                 0.0   \n",
              "13634                            1.0                                 0.0   \n",
              "9500                             2.0                                 0.0   \n",
              "8987                             4.0                                 0.0   \n",
              "8048                             1.0                                 2.0   \n",
              "\n",
              "       offer viewed_via_email  offer viewed_via_social  \\\n",
              "12790                     3.0                      3.0   \n",
              "11989                     2.0                      1.0   \n",
              "4827                      5.0                      3.0   \n",
              "3418                      4.0                      3.0   \n",
              "10867                     4.0                      2.0   \n",
              "6007                      3.0                      2.0   \n",
              "13634                     3.0                      3.0   \n",
              "9500                      1.0                      1.0   \n",
              "8987                      3.0                      3.0   \n",
              "8048                      2.0                      1.0   \n",
              "\n",
              "       offer viewed_via_mobile  offer viewed_via_web  offer viewed bogo count  \\\n",
              "12790                      3.0                   3.0                      1.0   \n",
              "11989                      2.0                   1.0                      1.0   \n",
              "4827                       5.0                   5.0                      3.0   \n",
              "3418                       3.0                   3.0                      0.0   \n",
              "10867                      3.0                   3.0                      1.0   \n",
              "6007                       3.0                   2.0                      2.0   \n",
              "13634                      3.0                   1.0                      2.0   \n",
              "9500                       1.0                   1.0                      1.0   \n",
              "8987                       3.0                   3.0                      0.0   \n",
              "8048                       2.0                   2.0                      2.0   \n",
              "\n",
              "       offer viewed discount count  offer viewed informational count  \\\n",
              "12790                          2.0                               0.0   \n",
              "11989                          0.0                               1.0   \n",
              "4827                           2.0                               0.0   \n",
              "3418                           3.0                               1.0   \n",
              "10867                          3.0                               0.0   \n",
              "6007                           1.0                               0.0   \n",
              "13634                          1.0                               0.0   \n",
              "9500                           0.0                               0.0   \n",
              "8987                           3.0                               0.0   \n",
              "8048                           0.0                               0.0   \n",
              "\n",
              "       Total transaction amount  avg_difficulty  avg_duration  \\\n",
              "12790                    228.81       10.000000    200.000000   \n",
              "11989                     68.04        6.000000    129.600000   \n",
              "4827                     121.68        7.000000    187.200000   \n",
              "3418                     461.09       11.600000    208.000000   \n",
              "10867                    735.20       11.750000    186.000000   \n",
              "6007                     208.56        9.636364    181.090909   \n",
              "13634                     64.52       10.000000    198.857143   \n",
              "9500                      12.43        9.000000    163.200000   \n",
              "8987                    1319.97       10.076923    212.307692   \n",
              "8048                       8.07        5.714286    144.000000   \n",
              "\n",
              "       total_reward_received  total_reward_defined  total_view_ratio  \\\n",
              "12790                   14.0                  14.0              1.00   \n",
              "11989                    0.0                  20.0              0.67   \n",
              "4827                    19.0                  19.0              1.00   \n",
              "3418                    17.0                  17.0              0.67   \n",
              "10867                   20.0                  20.0              1.00   \n",
              "6007                    23.0                  23.0              0.75   \n",
              "13634                    2.0                  22.0              1.00   \n",
              "9500                     0.0                  17.0              0.25   \n",
              "8987                    17.0                  17.0              0.60   \n",
              "8048                     0.0                  15.0              0.40   \n",
              "\n",
              "       total_completion_ratio  avg_transaction_amt  \\\n",
              "12790                   1.000                22.88   \n",
              "11989                   0.000                17.01   \n",
              "4827                    1.000                15.21   \n",
              "3418                    0.833                14.87   \n",
              "10867                   1.000                38.69   \n",
              "6007                    1.000                16.04   \n",
              "13634                   0.333                 2.93   \n",
              "9500                    0.000                 2.07   \n",
              "8987                    1.000               132.00   \n",
              "8048                    0.000                 2.69   \n",
              "\n",
              "       transactions_per_membership_days  is__F  is__M  is__O  \n",
              "12790                          0.006775      1      0      0  \n",
              "11989                          0.003331      0      1      0  \n",
              "4827                           0.004619      0      1      0  \n",
              "3418                           0.020653      1      0      0  \n",
              "10867                          0.014264      0      1      0  \n",
              "6007                           0.008233      0      1      0  \n",
              "13634                          0.009905      1      0      0  \n",
              "9500                           0.005780      0      1      0  \n",
              "8987                           0.006028      0      1      0  \n",
              "8048                           0.002618      0      1      0  "
            ]
          },
          "metadata": {
            "tags": []
          },
          "execution_count": 30
        }
      ]
    },
    {
      "cell_type": "code",
      "metadata": {
        "colab": {
          "base_uri": "https://localhost:8080/"
        },
        "id": "P63puy7N0gac",
        "outputId": "ae1eac48-ad60-406c-9cda-01069c23ad9a"
      },
      "source": [
        "cust_data['customer_type'] = \"passive\"\r\n",
        "cust_data.loc[(cust_data['total_view_ratio'] >= 0.6) & (cust_data['total_completion_ratio'] >= 0.2), 'customer_type'] = \"active\" \r\n",
        "cust_data['customer_type'].value_counts()"
      ],
      "execution_count": 31,
      "outputs": [
        {
          "output_type": "execute_result",
          "data": {
            "text/plain": [
              "active     9637\n",
              "passive    5188\n",
              "Name: customer_type, dtype: int64"
            ]
          },
          "metadata": {
            "tags": []
          },
          "execution_count": 31
        }
      ]
    },
    {
      "cell_type": "markdown",
      "metadata": {
        "id": "r30x0F9e7rKO"
      },
      "source": [
        "## Finding set of correlated features"
      ]
    },
    {
      "cell_type": "code",
      "metadata": {
        "id": "1NYCZOet7rKO",
        "colab": {
          "base_uri": "https://localhost:8080/"
        },
        "outputId": "7313eae6-9290-4301-b5e0-ab3ace41fd78"
      },
      "source": [
        "correlated_features = set()\n",
        "correlation_matrix = cust_data[['is__F', 'is__M', 'is__O', 'age', 'income', 'avg_difficulty', 'avg_duration', 'avg_transaction_amt', 'transactions_per_membership_days', 'days_as_member']].corr()\n",
        "\n",
        "for i in range(len(correlation_matrix.columns)):\n",
        "    for j in range(i):\n",
        "        if abs(correlation_matrix.iloc[i, j]) > 0.8:\n",
        "            colname = correlation_matrix.columns[i]\n",
        "            correlated_features.add(colname)\n",
        "correlated_features"
      ],
      "execution_count": 32,
      "outputs": [
        {
          "output_type": "execute_result",
          "data": {
            "text/plain": [
              "{'is__M'}"
            ]
          },
          "metadata": {
            "tags": []
          },
          "execution_count": 32
        }
      ]
    },
    {
      "cell_type": "markdown",
      "metadata": {
        "id": "KCfKnHHt7rKO"
      },
      "source": [
        "## Set X as Input features and y as target label"
      ]
    },
    {
      "cell_type": "code",
      "metadata": {
        "id": "8v8nn_RU7rKO"
      },
      "source": [
        "X = cust_data[['is__F', 'is__O', 'age', 'income', 'avg_difficulty', 'avg_duration', 'avg_transaction_amt', 'transactions_per_membership_days', 'days_as_member']]\n",
        "y = cust_data['customer_type']"
      ],
      "execution_count": 54,
      "outputs": []
    },
    {
      "cell_type": "markdown",
      "metadata": {
        "id": "ifLX5fa-7rKO"
      },
      "source": [
        "## Split Data to Training and Testing Data"
      ]
    },
    {
      "cell_type": "code",
      "metadata": {
        "id": "mxmv5NDw7rKO"
      },
      "source": [
        "X_train, X_test, y_train, y_test = train_test_split(X, y, test_size=0.25, random_state=21)"
      ],
      "execution_count": 55,
      "outputs": []
    },
    {
      "cell_type": "code",
      "metadata": {
        "id": "mDTkZLpQ7rKO",
        "colab": {
          "base_uri": "https://localhost:8080/"
        },
        "outputId": "650967a5-a656-4af4-f28d-94069af07198"
      },
      "source": [
        "#Print the shape of training and test data\n",
        "print(\"X_train: \", X_train.shape)\n",
        "print(\"X_test: \", X_test.shape)"
      ],
      "execution_count": 56,
      "outputs": [
        {
          "output_type": "stream",
          "text": [
            "X_train:  (11118, 9)\n",
            "X_test:  (3707, 9)\n"
          ],
          "name": "stdout"
        }
      ]
    },
    {
      "cell_type": "markdown",
      "metadata": {
        "id": "6QD6Cmbx7rKO"
      },
      "source": [
        "## Running RFECV"
      ]
    },
    {
      "cell_type": "code",
      "metadata": {
        "id": "zr2wmxek7rKO",
        "colab": {
          "base_uri": "https://localhost:8080/"
        },
        "outputId": "3f3a2946-984f-4b1b-ed9a-88f5d8433f5d"
      },
      "source": [
        "#RFECV automatically selects the number of features\n",
        "#Checking with Decision Tree Classifier model\n",
        "model = DecisionTreeClassifier()\n",
        "rfecv = RFECV(estimator=model, step=1, cv=StratifiedKFold(10), scoring='accuracy')\n",
        "pipeline = Pipeline(steps=[('s',rfecv),('m',model)])\n",
        "\n",
        "pipeline.fit(X_train, y_train)\n",
        "print('Columns {}'.format(X_train.columns))\n",
        "print('Optimal number of features: {}'.format(rfecv.n_features_))\n",
        "print('Feature selection array: ', rfecv.support_)\n",
        "print('Feature Ranking: ',rfecv.ranking_)"
      ],
      "execution_count": 59,
      "outputs": [
        {
          "output_type": "stream",
          "text": [
            "Columns Index(['is__F', 'is__O', 'age', 'income', 'avg_difficulty', 'avg_duration',\n",
            "       'avg_transaction_amt', 'transactions_per_membership_days',\n",
            "       'days_as_member'],\n",
            "      dtype='object')\n",
            "Optimal number of features: 5\n",
            "Feature selection array:  [False False False False  True  True  True  True  True]\n",
            "Feature Ranking:  [4 5 3 2 1 1 1 1 1]\n"
          ],
          "name": "stdout"
        }
      ]
    },
    {
      "cell_type": "code",
      "metadata": {
        "id": "M1TLuz147rKP",
        "colab": {
          "base_uri": "https://localhost:8080/"
        },
        "outputId": "1785c029-db32-458c-c23d-4c869ee30f5b"
      },
      "source": [
        "#evaluate model\n",
        "cv = RepeatedStratifiedKFold(n_splits=10, n_repeats=3, random_state=1)\n",
        "n_scores = cross_val_score(pipeline, X_train, y_train, scoring='accuracy', cv=cv, n_jobs=-1, error_score='raise')\n",
        "print('F1 Score: %.3f (%.3f)' % (np.mean(n_scores), np.std(n_scores)))"
      ],
      "execution_count": 60,
      "outputs": [
        {
          "output_type": "stream",
          "text": [
            "F1 Score: 0.718 (0.011)\n"
          ],
          "name": "stdout"
        }
      ]
    },
    {
      "cell_type": "markdown",
      "metadata": {
        "id": "gtfb4bBi7rKP"
      },
      "source": [
        "## Plotting the RFECV curve for the model with best accuracy"
      ]
    },
    {
      "cell_type": "code",
      "metadata": {
        "id": "SIqcr8dM7rKP",
        "colab": {
          "base_uri": "https://localhost:8080/",
          "height": 610
        },
        "outputId": "f55464cd-3e1c-46a4-dca8-cd5976fb2dda"
      },
      "source": [
        "plt.figure(figsize=(12, 9))\n",
        "plt.title('Recursive Feature Elimination with Cross-Validation', fontsize=18, fontweight='bold', pad=20)\n",
        "plt.xlabel('Number of features selected', fontsize=20, labelpad=20)\n",
        "plt.ylabel('% Correct Classification', fontsize=20, labelpad=20)\n",
        "plt.plot(range(1, len(rfecv.grid_scores_) + 1), rfecv.grid_scores_, color='#303F9F', linewidth=3)\n",
        "\n",
        "plt.show()"
      ],
      "execution_count": 61,
      "outputs": [
        {
          "output_type": "display_data",
          "data": {
            "image/png": "[encoded data removed]",
            "text/plain": [
              "<Figure size 864x648 with 1 Axes>"
            ]
          },
          "metadata": {
            "tags": [],
            "needs_background": "light"
          }
        }
      ]
    },
    {
      "cell_type": "code",
      "metadata": {
        "id": "14oGmCcp7rKP",
        "colab": {
          "base_uri": "https://localhost:8080/"
        },
        "outputId": "1d1c1093-d795-425f-ae81-344afbdd5450"
      },
      "source": [
        "# Least important features\n",
        "\n",
        "print(np.where(rfecv.support_ == False)[0])\n",
        "\n",
        "#Dropping the non-required features from training and test data\n",
        "X_train.drop(X_train.columns[np.where(rfecv.support_ == False)[0]], axis=1, inplace=True)\n",
        "X_test.drop(X_test.columns[np.where(rfecv.support_ == False)[0]], axis=1, inplace=True)"
      ],
      "execution_count": 62,
      "outputs": [
        {
          "output_type": "stream",
          "text": [
            "[0 1 2 3]\n"
          ],
          "name": "stdout"
        }
      ]
    },
    {
      "cell_type": "code",
      "metadata": {
        "id": "znFI6zEo7rKP",
        "colab": {
          "base_uri": "https://localhost:8080/"
        },
        "outputId": "3f3ef3b5-c3e0-4abf-f38a-b608060c0377"
      },
      "source": [
        "#Print features and feature importance\n",
        "print(\"Features: \", X_train.columns)\n",
        "print(\"Feature Importance: \", rfecv.estimator_.feature_importances_)"
      ],
      "execution_count": 63,
      "outputs": [
        {
          "output_type": "stream",
          "text": [
            "Features:  Index(['avg_difficulty', 'avg_duration', 'avg_transaction_amt',\n",
            "       'transactions_per_membership_days', 'days_as_member'],\n",
            "      dtype='object')\n",
            "Feature Importance:  [0.13822814 0.12094536 0.36193123 0.23761907 0.14127619]\n"
          ],
          "name": "stdout"
        }
      ]
    },
    {
      "cell_type": "code",
      "metadata": {
        "id": "Nnvjgt4q7rKP",
        "colab": {
          "base_uri": "https://localhost:8080/",
          "height": 606
        },
        "outputId": "e19bfcd4-83ef-41c6-9369-d544c69c2992"
      },
      "source": [
        "dset = pd.DataFrame()\n",
        "dset['attr'] = X_train.columns\n",
        "dset['importance'] = rfecv.estimator_.feature_importances_\n",
        "\n",
        "dset = dset.sort_values(by='importance', ascending=False)\n",
        "\n",
        "\n",
        "plt.figure(figsize=(12, 9))\n",
        "plt.barh(y=dset['attr'], width=dset['importance'], color='#1976D2')\n",
        "plt.title('RFECV - Feature Importances', fontsize=20, fontweight='bold', pad=20)\n",
        "plt.xlabel('Importance', fontsize=14, labelpad=20)\n",
        "plt.show()"
      ],
      "execution_count": 64,
      "outputs": [
        {
          "output_type": "display_data",
          "data": {
            "image/png": "[encoded data removed]",
            "text/plain": [
              "<Figure size 864x648 with 1 Axes>"
            ]
          },
          "metadata": {
            "tags": [],
            "needs_background": "light"
          }
        }
      ]
    },
    {
      "cell_type": "markdown",
      "metadata": {
        "id": "Tw8gB1pe7rKP"
      },
      "source": [
        "## Check if data is balanced"
      ]
    },
    {
      "cell_type": "code",
      "metadata": {
        "colab": {
          "base_uri": "https://localhost:8080/"
        },
        "id": "2Ki6_v2BaHps",
        "outputId": "90fa1942-57ce-412d-a9f7-d63b059a89dd"
      },
      "source": [
        "print(\"X_train: \", X_train.shape)\r\n",
        "print(\"X_test: \", X_test.shape)"
      ],
      "execution_count": 65,
      "outputs": [
        {
          "output_type": "stream",
          "text": [
            "X_train:  (11118, 5)\n",
            "X_test:  (3707, 5)\n"
          ],
          "name": "stdout"
        }
      ]
    },
    {
      "cell_type": "code",
      "metadata": {
        "id": "lF_UopXI7rKP",
        "colab": {
          "base_uri": "https://localhost:8080/"
        },
        "outputId": "dfb52ef9-83a2-4fcb-9677-2b4b8214fb70"
      },
      "source": [
        "y_train.value_counts()"
      ],
      "execution_count": 66,
      "outputs": [
        {
          "output_type": "execute_result",
          "data": {
            "text/plain": [
              "active     7240\n",
              "passive    3878\n",
              "Name: customer_type, dtype: int64"
            ]
          },
          "metadata": {
            "tags": []
          },
          "execution_count": 66
        }
      ]
    },
    {
      "cell_type": "code",
      "metadata": {
        "id": "I5PiC5W77rKQ",
        "colab": {
          "base_uri": "https://localhost:8080/"
        },
        "outputId": "4890293c-8b73-40c4-a044-bf16c619d29c"
      },
      "source": [
        "#Find percentage distribution\n",
        "round((y_train.value_counts()/y_train.count())*100,2)"
      ],
      "execution_count": 67,
      "outputs": [
        {
          "output_type": "execute_result",
          "data": {
            "text/plain": [
              "active     65.12\n",
              "passive    34.88\n",
              "Name: customer_type, dtype: float64"
            ]
          },
          "metadata": {
            "tags": []
          },
          "execution_count": 67
        }
      ]
    },
    {
      "cell_type": "markdown",
      "metadata": {
        "id": "RREpn21t7rKQ"
      },
      "source": [
        "#### The target classes are imbalanced!"
      ]
    },
    {
      "cell_type": "markdown",
      "metadata": {
        "id": "6r8YT0kU7rKQ"
      },
      "source": [
        "### SMOTE"
      ]
    },
    {
      "cell_type": "code",
      "metadata": {
        "id": "eVWtMAeK7rKQ"
      },
      "source": [
        "#Applying SMOTE to oversample the minority class before modeling\n",
        "oversample = SMOTE(random_state = 101)\n",
        "X_oversample, y_oversample = oversample.fit_resample(X_train, y_train)\n",
        "\n",
        "#converting arrays back to Dataframe and Series\n",
        "X_train = pd.DataFrame(X_oversample, columns=X_train.columns)\n",
        "y_train = pd.Series(y_oversample, name='y_train')"
      ],
      "execution_count": 68,
      "outputs": []
    },
    {
      "cell_type": "code",
      "metadata": {
        "id": "dBXHJ2vg7rKQ",
        "colab": {
          "base_uri": "https://localhost:8080/"
        },
        "outputId": "bbd830ab-ad42-4b85-c16b-044c6bb0ccd7"
      },
      "source": [
        "#check percentage distribution\n",
        "round((y_train.value_counts()/y_train.count())*100,2)"
      ],
      "execution_count": 69,
      "outputs": [
        {
          "output_type": "execute_result",
          "data": {
            "text/plain": [
              "passive    50.0\n",
              "active     50.0\n",
              "Name: y_train, dtype: float64"
            ]
          },
          "metadata": {
            "tags": []
          },
          "execution_count": 69
        }
      ]
    },
    {
      "cell_type": "code",
      "metadata": {
        "id": "Acdlc2pR7rKQ",
        "colab": {
          "base_uri": "https://localhost:8080/"
        },
        "outputId": "38666739-f8ba-4a65-e20d-197136e33491"
      },
      "source": [
        "y_train.value_counts()"
      ],
      "execution_count": 70,
      "outputs": [
        {
          "output_type": "execute_result",
          "data": {
            "text/plain": [
              "passive    7240\n",
              "active     7240\n",
              "Name: y_train, dtype: int64"
            ]
          },
          "metadata": {
            "tags": []
          },
          "execution_count": 70
        }
      ]
    },
    {
      "cell_type": "code",
      "metadata": {
        "id": "yM1f-omxRagr"
      },
      "source": [
        "#Changing active to 1 and passive to 0 to get f1 score\r\n",
        "y_train = y_train.replace(to_replace='active', value= 0)\r\n",
        "y_train = y_train.replace(to_replace='passive', value= 1)\r\n",
        "\r\n",
        "y_test = y_test.replace(to_replace='active', value= 0)\r\n",
        "y_test = y_test.replace(to_replace='passive', value= 1)"
      ],
      "execution_count": 71,
      "outputs": []
    },
    {
      "cell_type": "code",
      "metadata": {
        "id": "8a2PzRq67rKQ",
        "colab": {
          "base_uri": "https://localhost:8080/"
        },
        "outputId": "ed3ee3dd-1f5f-424b-e91b-10bea10f54a8"
      },
      "source": [
        "y_train"
      ],
      "execution_count": 72,
      "outputs": [
        {
          "output_type": "execute_result",
          "data": {
            "text/plain": [
              "0        0\n",
              "1        1\n",
              "2        0\n",
              "3        0\n",
              "4        1\n",
              "        ..\n",
              "14475    1\n",
              "14476    1\n",
              "14477    1\n",
              "14478    1\n",
              "14479    1\n",
              "Name: y_train, Length: 14480, dtype: int64"
            ]
          },
          "metadata": {
            "tags": []
          },
          "execution_count": 72
        }
      ]
    },
    {
      "cell_type": "markdown",
      "metadata": {
        "id": "Q_W-aacJ7rKQ"
      },
      "source": [
        "## Modeling and Prediction"
      ]
    },
    {
      "cell_type": "code",
      "metadata": {
        "id": "qH5dvBFm7rKQ"
      },
      "source": [
        "#Use GridSearchCV to fit selected classifiers to compare the efficiencies of different models\n",
        "def train_classifier(classifier, hyperparameters, X, y): \n",
        "    gridsearch = GridSearchCV(estimator=classifier, param_grid = hyperparameters, cv=5, verbose=1, scoring = 'f1')\n",
        "    model_train = gridsearch.fit(X, y)\n",
        "    print(classifier.__class__.__name__)\n",
        "    print(\"Mean Accuracy:\", round(model_train.score(X, y),4))\n",
        "    print(\"F1: \",gridsearch.best_score_)\n",
        "    return gridsearch.best_estimator_"
      ],
      "execution_count": 73,
      "outputs": []
    },
    {
      "cell_type": "code",
      "metadata": {
        "id": "L3S7dWWN7rKQ",
        "colab": {
          "base_uri": "https://localhost:8080/"
        },
        "outputId": "f2071df9-97db-48a8-b06f-34c12c3b1f8b"
      },
      "source": [
        "# Initialize classification algorithms\n",
        "# LogisticRegression\n",
        "lor = LogisticRegression(random_state=42)\n",
        "lor_est = train_classifier(lor,{}, X_train, y_train)\n",
        "\n",
        "# RandomForestClassifier\n",
        "rfc = RandomForestClassifier(random_state=42)\n",
        "rfc_est = train_classifier(rfc,{}, X_train, y_train)\n",
        "\n",
        "# AdaBoostClassifier\n",
        "abc = AdaBoostClassifier(random_state=42) \n",
        "abc_est = train_classifier(abc,{}, X_train, y_train)\n",
        "\n",
        "# GradientBoostingClassifier\n",
        "gbc = GradientBoostingClassifier(random_state=42) \n",
        "gbc_est = train_classifier(gbc,{}, X_train, y_train)"
      ],
      "execution_count": 74,
      "outputs": [
        {
          "output_type": "stream",
          "text": [
            "Fitting 5 folds for each of 1 candidates, totalling 5 fits\n"
          ],
          "name": "stdout"
        },
        {
          "output_type": "stream",
          "text": [
            "[Parallel(n_jobs=1)]: Using backend SequentialBackend with 1 concurrent workers.\n",
            "[Parallel(n_jobs=1)]: Done   5 out of   5 | elapsed:    0.5s finished\n",
            "[Parallel(n_jobs=1)]: Using backend SequentialBackend with 1 concurrent workers.\n"
          ],
          "name": "stderr"
        },
        {
          "output_type": "stream",
          "text": [
            "LogisticRegression\n",
            "F1:  0.6786658431758334\n",
            "Fitting 5 folds for each of 1 candidates, totalling 5 fits\n"
          ],
          "name": "stdout"
        },
        {
          "output_type": "stream",
          "text": [
            "[Parallel(n_jobs=1)]: Done   5 out of   5 | elapsed:   11.4s finished\n"
          ],
          "name": "stderr"
        },
        {
          "output_type": "stream",
          "text": [
            "RandomForestClassifier\n",
            "F1:  0.7925305343973055\n",
            "Fitting 5 folds for each of 1 candidates, totalling 5 fits\n"
          ],
          "name": "stdout"
        },
        {
          "output_type": "stream",
          "text": [
            "[Parallel(n_jobs=1)]: Using backend SequentialBackend with 1 concurrent workers.\n",
            "[Parallel(n_jobs=1)]: Done   5 out of   5 | elapsed:    2.7s finished\n"
          ],
          "name": "stderr"
        },
        {
          "output_type": "stream",
          "text": [
            "AdaBoostClassifier\n",
            "F1:  0.7378311973468817\n",
            "Fitting 5 folds for each of 1 candidates, totalling 5 fits\n"
          ],
          "name": "stdout"
        },
        {
          "output_type": "stream",
          "text": [
            "[Parallel(n_jobs=1)]: Using backend SequentialBackend with 1 concurrent workers.\n",
            "[Parallel(n_jobs=1)]: Done   5 out of   5 | elapsed:    9.2s finished\n"
          ],
          "name": "stderr"
        },
        {
          "output_type": "stream",
          "text": [
            "GradientBoostingClassifier\n",
            "F1:  0.745927770778987\n"
          ],
          "name": "stdout"
        }
      ]
    },
    {
      "cell_type": "markdown",
      "metadata": {
        "id": "_I0_vkIB7rKQ"
      },
      "source": [
        "#### Highest f1 score is obtained for RandomForestClassifier"
      ]
    },
    {
      "cell_type": "markdown",
      "metadata": {
        "id": "dR9E0xMr7rKQ"
      },
      "source": [
        "## Fine Tuning the Model"
      ]
    },
    {
      "cell_type": "markdown",
      "metadata": {
        "id": "_TXHUCxe7rKQ"
      },
      "source": [
        "### Fine tuning RandomForestClassifier and GradientBosstingClassifier with the top set of F1 scores"
      ]
    },
    {
      "cell_type": "code",
      "metadata": {
        "id": "7fYjy5h77rKQ",
        "colab": {
          "base_uri": "https://localhost:8080/"
        },
        "outputId": "be30d270-98d0-43d3-fd7d-87a781452e83"
      },
      "source": [
        "#Tuning the RandomForestClassifier with hyperparameters to improve the accuracy score\n",
        "hyperparameters = {'n_estimators': [500],#[100, 120, 300, 500, 800, 1200], #sets the number of decision trees to be used in the forest\n",
        "                  'max_depth': [30]#[5, 8, 15, 25, 30, None], #sets the max depth of the tree\n",
        "                  #'min_samples_split': [1,2,5,10,15,100],#, #The minimum number of samples needed before a split\n",
        "                  #'min_samples_leaf': [1,2,5,10] #The minimum number of samples needed to create a leaf (decision) node\n",
        "             }\n",
        "\n",
        "rfc = RandomForestClassifier(random_state=42)\n",
        "rfc_best_est = train_classifier(rfc, hyperparameters, X_train, y_train)\n",
        "print(rfc_best_est)"
      ],
      "execution_count": 76,
      "outputs": [
        {
          "output_type": "stream",
          "text": [
            "Fitting 5 folds for each of 1 candidates, totalling 5 fits\n"
          ],
          "name": "stdout"
        },
        {
          "output_type": "stream",
          "text": [
            "[Parallel(n_jobs=1)]: Using backend SequentialBackend with 1 concurrent workers.\n",
            "[Parallel(n_jobs=1)]: Done   5 out of   5 | elapsed:   56.5s finished\n"
          ],
          "name": "stderr"
        },
        {
          "output_type": "stream",
          "text": [
            "RandomForestClassifier\n",
            "F1:  0.7952497096113413\n",
            "RandomForestClassifier(max_depth=30, n_estimators=500, random_state=42)\n"
          ],
          "name": "stdout"
        }
      ]
    },
    {
      "cell_type": "code",
      "metadata": {
        "id": "r8CQLU8f7rKR",
        "colab": {
          "base_uri": "https://localhost:8080/"
        },
        "outputId": "ad29161b-b5a8-4c39-dac4-66ae5fc7e7af"
      },
      "source": [
        "#Feature importances given by the best estimate RandomForestClassfier\n",
        "rfc_best_est.feature_importances_"
      ],
      "execution_count": 77,
      "outputs": [
        {
          "output_type": "execute_result",
          "data": {
            "text/plain": [
              "array([0.12989611, 0.13488401, 0.34272181, 0.21592072, 0.17657736])"
            ]
          },
          "metadata": {
            "tags": []
          },
          "execution_count": 77
        }
      ]
    },
    {
      "cell_type": "code",
      "metadata": {
        "id": "wb6uwotg7rKR",
        "colab": {
          "base_uri": "https://localhost:8080/"
        },
        "outputId": "b19edf42-c229-4b00-c532-3b03d774cd25"
      },
      "source": [
        "#Tuning the GradientBoostingClassifier with hyperparameters to improve the accuracy score\n",
        "#learning_rate; default=0.1; shrinks the contribution of each tree by learning_rates\n",
        "lr = [1, 0.5, 0.25, 0.1, 0.05, 0.01]\n",
        "\n",
        "#n_estimators, default=100, number of boosting stages to perform\n",
        "n_estimators = [1, 2, 4, 8, 16, 32, 64, 100, 200]\n",
        "\n",
        "#max_depth, default=3, maximum depth of the individual regression estimators. The maximum depth limits the number of nodes in the tree\n",
        "max_depths = [5, 8, 15, 25, 30, None]\n",
        "\n",
        "#min_samples_split, default=2, The minimum number of samples required to split an internal node\n",
        "min_samples_split = np.linspace(0.1, 1.0, 10, endpoint=True)\n",
        "\n",
        "#min_samples_leaf, default=1,The minimum number of samples required to be at a leaf node.\n",
        "min_samples_leaf=np.linspace(0.1, 0.5, 5, endpoint=True)\n",
        "\n",
        "#max_features{‘auto’, ‘sqrt’, ‘log2’}, default=None, The number of features to consider when looking for the best split:\n",
        "max_features = list(range(1,X_train.shape[1]))\n",
        "\n",
        "gb_tuned = GradientBoostingClassifier(random_state=42)\n",
        "hyperparameters = {'learning_rate': [0.25], 'n_estimators': [200], 'max_depth': [15]}#, 'min_samples_split': min_samples_split, 'min_samples_leaf':min_samples_leaf, 'max_features':max_features}   \n",
        "gb_best_est = train_classifier(gb_tuned, hyperparameters, X_train, y_train)\n",
        "print(gb_best_est)"
      ],
      "execution_count": 78,
      "outputs": [
        {
          "output_type": "stream",
          "text": [
            "Fitting 5 folds for each of 1 candidates, totalling 5 fits\n"
          ],
          "name": "stdout"
        },
        {
          "output_type": "stream",
          "text": [
            "[Parallel(n_jobs=1)]: Using backend SequentialBackend with 1 concurrent workers.\n",
            "[Parallel(n_jobs=1)]: Done   5 out of   5 | elapsed:  1.8min finished\n"
          ],
          "name": "stderr"
        },
        {
          "output_type": "stream",
          "text": [
            "GradientBoostingClassifier\n",
            "F1:  0.8006991297739328\n",
            "GradientBoostingClassifier(learning_rate=0.25, max_depth=15, n_estimators=200,\n",
            "                           random_state=42)\n"
          ],
          "name": "stdout"
        }
      ]
    },
    {
      "cell_type": "markdown",
      "metadata": {
        "id": "vETRMCm87rKR"
      },
      "source": [
        "### After fine-tuning GradientBoostClassifier seems to have a higher f1 score than RandomForestClassifier!"
      ]
    },
    {
      "cell_type": "markdown",
      "metadata": {
        "id": "OVIPoIWN7rKR"
      },
      "source": [
        "## Prediction and Performance of Classifiers\r\n",
        "\r\n",
        "\r\n"
      ]
    },
    {
      "cell_type": "code",
      "metadata": {
        "id": "zwfnNb6a7rKR",
        "colab": {
          "base_uri": "https://localhost:8080/"
        },
        "outputId": "b1f5fee4-3897-43b0-be40-f0d21e4ab0fa"
      },
      "source": [
        "#Print the shape of test data\n",
        "print(X_test.shape)\n",
        "print(y_test.shape)"
      ],
      "execution_count": 79,
      "outputs": [
        {
          "output_type": "stream",
          "text": [
            "(3707, 5)\n",
            "(3707,)\n"
          ],
          "name": "stdout"
        }
      ]
    },
    {
      "cell_type": "markdown",
      "metadata": {
        "id": "3Y3JMd7h7rKR"
      },
      "source": [
        "### GradientBoostingClassifier"
      ]
    },
    {
      "cell_type": "code",
      "metadata": {
        "id": "uNPN-v4D7rKR",
        "colab": {
          "base_uri": "https://localhost:8080/"
        },
        "outputId": "54a41a08-6fd5-45f2-e1ad-651accb6f609"
      },
      "source": [
        "#Passing the test data to the GradientBoostingClassifier estimator\n",
        "y_pred_gbc = gb_best_est.predict(X_test)\n",
        "y_pred_gbc"
      ],
      "execution_count": 80,
      "outputs": [
        {
          "output_type": "execute_result",
          "data": {
            "text/plain": [
              "array([0, 0, 0, ..., 0, 0, 0])"
            ]
          },
          "metadata": {
            "tags": []
          },
          "execution_count": 80
        }
      ]
    },
    {
      "cell_type": "markdown",
      "metadata": {
        "id": "ZG2TlgYb-R44"
      },
      "source": [
        "####F1 Score"
      ]
    },
    {
      "cell_type": "code",
      "metadata": {
        "colab": {
          "base_uri": "https://localhost:8080/"
        },
        "id": "NpHqizGA9n_y",
        "outputId": "7ac9c273-b227-4409-c729-4d817970204b"
      },
      "source": [
        "print(\"Accuracy: {}\".format(gb_best_est.score(X_test, y_test)))"
      ],
      "execution_count": 96,
      "outputs": [
        {
          "output_type": "stream",
          "text": [
            "Accuracy: 0.7893175074183977\n"
          ],
          "name": "stdout"
        }
      ]
    },
    {
      "cell_type": "markdown",
      "metadata": {
        "id": "TnA2Vqf87rKR"
      },
      "source": [
        "#### Classification Report with F1 score"
      ]
    },
    {
      "cell_type": "code",
      "metadata": {
        "id": "8W1rxVMwjEMb",
        "colab": {
          "base_uri": "https://localhost:8080/"
        },
        "outputId": "57d47c63-ade5-4081-e706-3020b0fb543c"
      },
      "source": [
        "print(classification_report(y_test, y_pred_gbc))"
      ],
      "execution_count": 97,
      "outputs": [
        {
          "output_type": "stream",
          "text": [
            "              precision    recall  f1-score   support\n",
            "\n",
            "           0       0.82      0.86      0.84      2397\n",
            "           1       0.72      0.66      0.69      1310\n",
            "\n",
            "    accuracy                           0.79      3707\n",
            "   macro avg       0.77      0.76      0.76      3707\n",
            "weighted avg       0.79      0.79      0.79      3707\n",
            "\n"
          ],
          "name": "stdout"
        }
      ]
    },
    {
      "cell_type": "markdown",
      "metadata": {
        "id": "1iAUK_Er7rKR"
      },
      "source": [
        "#### Confusion Matrix"
      ]
    },
    {
      "cell_type": "code",
      "metadata": {
        "id": "4i7ohWSq7rKR",
        "colab": {
          "base_uri": "https://localhost:8080/",
          "height": 313
        },
        "outputId": "ee112f3a-4676-4c92-d871-0a8ad9527767"
      },
      "source": [
        "disp = plot_confusion_matrix(gb_best_est, X_test, y_test,\n",
        "                                 cmap=plt.cm.Blues,\n",
        "                                 normalize='true')\n",
        "print(disp.confusion_matrix)\n",
        "\n",
        "plt.show()"
      ],
      "execution_count": 83,
      "outputs": [
        {
          "output_type": "stream",
          "text": [
            "[[0.85982478 0.14017522]\n",
            " [0.33969466 0.66030534]]\n"
          ],
          "name": "stdout"
        },
        {
          "output_type": "display_data",
          "data": {
            "image/png": "[encoded data removed]",
            "text/plain": [
              "<Figure size 432x288 with 2 Axes>"
            ]
          },
          "metadata": {
            "tags": [],
            "needs_background": "light"
          }
        }
      ]
    },
    {
      "cell_type": "markdown",
      "metadata": {
        "id": "ixdKByZH7rKS"
      },
      "source": [
        "#### F1 Scores have better values for test data!"
      ]
    },
    {
      "cell_type": "markdown",
      "metadata": {
        "id": "woa1Rtf67rKS"
      },
      "source": [
        "### RandomForestClassifier"
      ]
    },
    {
      "cell_type": "code",
      "metadata": {
        "id": "jxtMcX0a7rKS",
        "colab": {
          "base_uri": "https://localhost:8080/"
        },
        "outputId": "45fc98dc-dda7-4ece-a709-2bd24313587f"
      },
      "source": [
        "#Passing the test data to the RandomForestClassifier estimator\n",
        "y_pred_rfc = rfc_best_est.predict(X_test)\n",
        "y_pred_rfc"
      ],
      "execution_count": 84,
      "outputs": [
        {
          "output_type": "execute_result",
          "data": {
            "text/plain": [
              "array([0, 0, 1, ..., 0, 0, 0])"
            ]
          },
          "metadata": {
            "tags": []
          },
          "execution_count": 84
        }
      ]
    },
    {
      "cell_type": "markdown",
      "metadata": {
        "id": "yEzspbiI-aXh"
      },
      "source": [
        "####F1 Score"
      ]
    },
    {
      "cell_type": "code",
      "metadata": {
        "colab": {
          "base_uri": "https://localhost:8080/"
        },
        "id": "tk_K_Y_r-ubn",
        "outputId": "d6172e32-053f-459b-d29a-544381fffd1d"
      },
      "source": [
        "print(\"Accuracy: {}\".format(rfc_best_est.score(X_test, y_test)))"
      ],
      "execution_count": 98,
      "outputs": [
        {
          "output_type": "stream",
          "text": [
            "Accuracy: 0.794982465605611\n"
          ],
          "name": "stdout"
        }
      ]
    },
    {
      "cell_type": "markdown",
      "metadata": {
        "id": "bEB3VI_Z7rKS"
      },
      "source": [
        "#### Classification Report with F1 score\n",
        "\n",
        "\n",
        "\n"
      ]
    },
    {
      "cell_type": "code",
      "metadata": {
        "colab": {
          "base_uri": "https://localhost:8080/"
        },
        "id": "3fkYRoJX6YnO",
        "outputId": "bc476582-192d-45fc-fbd7-ace1d1d3afd6"
      },
      "source": [
        "print(classification_report(y_test, y_pred_rfc))"
      ],
      "execution_count": 86,
      "outputs": [
        {
          "output_type": "stream",
          "text": [
            "              precision    recall  f1-score   support\n",
            "\n",
            "           0       0.83      0.85      0.84      2397\n",
            "           1       0.72      0.69      0.70      1310\n",
            "\n",
            "    accuracy                           0.79      3707\n",
            "   macro avg       0.78      0.77      0.77      3707\n",
            "weighted avg       0.79      0.79      0.79      3707\n",
            "\n"
          ],
          "name": "stdout"
        }
      ]
    },
    {
      "cell_type": "markdown",
      "metadata": {
        "id": "5CMBQIQC7rKS"
      },
      "source": [
        "#### Confusion Matrix"
      ]
    },
    {
      "cell_type": "code",
      "metadata": {
        "id": "vAmvHnId7rKS",
        "colab": {
          "base_uri": "https://localhost:8080/",
          "height": 313
        },
        "outputId": "bfe84e0b-b02e-4dbc-aaaa-337e9a09711a"
      },
      "source": [
        "disp = plot_confusion_matrix(rfc_best_est, X_test, y_test,\n",
        "                                 cmap=plt.cm.Blues,\n",
        "                                 normalize='true')\n",
        "print(disp.confusion_matrix)\n",
        "\n",
        "plt.show()"
      ],
      "execution_count": 87,
      "outputs": [
        {
          "output_type": "stream",
          "text": [
            "[[0.85398415 0.14601585]\n",
            " [0.3129771  0.6870229 ]]\n"
          ],
          "name": "stdout"
        },
        {
          "output_type": "display_data",
          "data": {
            "image/png": "[encoded data removed]",
            "text/plain": [
              "<Figure size 432x288 with 2 Axes>"
            ]
          },
          "metadata": {
            "tags": [],
            "needs_background": "light"
          }
        }
      ]
    },
    {
      "cell_type": "markdown",
      "metadata": {
        "id": "Ir5V7ucM7rKS"
      },
      "source": [
        "### AdaBoostClassifier"
      ]
    },
    {
      "cell_type": "code",
      "metadata": {
        "id": "btQtyrKN7rKS",
        "colab": {
          "base_uri": "https://localhost:8080/"
        },
        "outputId": "05efa524-da7f-4abf-a4d9-7759d0f614c9"
      },
      "source": [
        "#Passing the test data to the AdaBoostClassifier estimator\n",
        "y_pred_abc = abc_est.predict(X_test)\n",
        "y_pred_abc"
      ],
      "execution_count": 88,
      "outputs": [
        {
          "output_type": "execute_result",
          "data": {
            "text/plain": [
              "array([0, 0, 0, ..., 0, 0, 0])"
            ]
          },
          "metadata": {
            "tags": []
          },
          "execution_count": 88
        }
      ]
    },
    {
      "cell_type": "markdown",
      "metadata": {
        "id": "Yf1C9i-0-eD5"
      },
      "source": [
        "####F1 Score"
      ]
    },
    {
      "cell_type": "code",
      "metadata": {
        "colab": {
          "base_uri": "https://localhost:8080/"
        },
        "id": "MFDoJJyQ-x9H",
        "outputId": "065e3db0-caad-4b62-f5d3-88efc8b11cf2"
      },
      "source": [
        "print(\"Accuracy: {}\".format(abc_est.score(X_test, y_test)))"
      ],
      "execution_count": 99,
      "outputs": [
        {
          "output_type": "stream",
          "text": [
            "Accuracy: 0.7782573509576477\n"
          ],
          "name": "stdout"
        }
      ]
    },
    {
      "cell_type": "markdown",
      "metadata": {
        "id": "jYknFa5Z7rKS"
      },
      "source": [
        "#### Classification Report with F1 score\n",
        "\n",
        "\n",
        "\n"
      ]
    },
    {
      "cell_type": "code",
      "metadata": {
        "colab": {
          "base_uri": "https://localhost:8080/"
        },
        "id": "3hP6RKlw6NPg",
        "outputId": "22dc437f-ee0c-4d81-fda1-116d3732975c"
      },
      "source": [
        "print(classification_report(y_test, y_pred_abc))"
      ],
      "execution_count": 90,
      "outputs": [
        {
          "output_type": "stream",
          "text": [
            "              precision    recall  f1-score   support\n",
            "\n",
            "           0       0.83      0.82      0.83      2397\n",
            "           1       0.68      0.70      0.69      1310\n",
            "\n",
            "    accuracy                           0.78      3707\n",
            "   macro avg       0.76      0.76      0.76      3707\n",
            "weighted avg       0.78      0.78      0.78      3707\n",
            "\n"
          ],
          "name": "stdout"
        }
      ]
    },
    {
      "cell_type": "markdown",
      "metadata": {
        "id": "USXUYMJA7rKT"
      },
      "source": [
        "#### Confusion Matrix"
      ]
    },
    {
      "cell_type": "code",
      "metadata": {
        "id": "8dm6SeG27rKT",
        "colab": {
          "base_uri": "https://localhost:8080/",
          "height": 313
        },
        "outputId": "772c97aa-29ab-438a-f94e-e46f59f1f1de"
      },
      "source": [
        "disp = plot_confusion_matrix(abc_est, X_test, y_test,\n",
        "                                 cmap=plt.cm.Blues,\n",
        "                                 normalize='true')\n",
        "print(disp.confusion_matrix)\n",
        "\n",
        "plt.show()"
      ],
      "execution_count": 91,
      "outputs": [
        {
          "output_type": "stream",
          "text": [
            "[[0.82227785 0.17772215]\n",
            " [0.30229008 0.69770992]]\n"
          ],
          "name": "stdout"
        },
        {
          "output_type": "display_data",
          "data": {
            "image/png": "[encoded data removed]",
            "text/plain": [
              "<Figure size 432x288 with 2 Axes>"
            ]
          },
          "metadata": {
            "tags": [],
            "needs_background": "light"
          }
        }
      ]
    },
    {
      "cell_type": "markdown",
      "metadata": {
        "id": "_kqoB7Qw7rKT"
      },
      "source": [
        "### Logistic Regression"
      ]
    },
    {
      "cell_type": "code",
      "metadata": {
        "id": "KUx98XVm7rKT",
        "colab": {
          "base_uri": "https://localhost:8080/"
        },
        "outputId": "d40526f4-d92d-4ef9-cf5c-ea3797c6d932"
      },
      "source": [
        "#Passing the test data to the Logistic Regressor\n",
        "y_pred_lor = lor_est.predict(X_test)\n",
        "y_pred_lor"
      ],
      "execution_count": 92,
      "outputs": [
        {
          "output_type": "execute_result",
          "data": {
            "text/plain": [
              "array([0, 0, 0, ..., 1, 0, 1])"
            ]
          },
          "metadata": {
            "tags": []
          },
          "execution_count": 92
        }
      ]
    },
    {
      "cell_type": "markdown",
      "metadata": {
        "id": "eweFCv5p-f2d"
      },
      "source": [
        "####F1 Score"
      ]
    },
    {
      "cell_type": "code",
      "metadata": {
        "colab": {
          "base_uri": "https://localhost:8080/"
        },
        "id": "SKM6MOL_-1aW",
        "outputId": "e4f9e8ac-425b-42d0-d062-78227fedd7f3"
      },
      "source": [
        "print(\"Accuracy: {}\".format(lor_est.score(X_test, y_test)))"
      ],
      "execution_count": 100,
      "outputs": [
        {
          "output_type": "stream",
          "text": [
            "Accuracy: 0.6703533854869167\n"
          ],
          "name": "stdout"
        }
      ]
    },
    {
      "cell_type": "markdown",
      "metadata": {
        "id": "j9Hjex0H7rKT"
      },
      "source": [
        "#### Classification Report with F1 score\n",
        "\n",
        "\n",
        "\n"
      ]
    },
    {
      "cell_type": "code",
      "metadata": {
        "id": "f9_Np7o4iu4I",
        "colab": {
          "base_uri": "https://localhost:8080/"
        },
        "outputId": "21a724cf-ed3e-44de-ef66-be0d90c66fca"
      },
      "source": [
        "print(classification_report(y_test, y_pred_lor))"
      ],
      "execution_count": 94,
      "outputs": [
        {
          "output_type": "stream",
          "text": [
            "              precision    recall  f1-score   support\n",
            "\n",
            "           0       0.78      0.68      0.73      2397\n",
            "           1       0.53      0.66      0.59      1310\n",
            "\n",
            "    accuracy                           0.67      3707\n",
            "   macro avg       0.66      0.67      0.66      3707\n",
            "weighted avg       0.69      0.67      0.68      3707\n",
            "\n"
          ],
          "name": "stdout"
        }
      ]
    },
    {
      "cell_type": "markdown",
      "metadata": {
        "id": "LO1qsXiT7rKT"
      },
      "source": [
        "#### Confusion Matrix "
      ]
    },
    {
      "cell_type": "code",
      "metadata": {
        "id": "RIMhH4vs7rKT",
        "colab": {
          "base_uri": "https://localhost:8080/",
          "height": 313
        },
        "outputId": "2cecf7d1-a4b8-462a-e057-8294e8ecaf5f"
      },
      "source": [
        "disp = plot_confusion_matrix(lor_est, X_test, y_test,\n",
        "                                 cmap=plt.cm.Blues,\n",
        "                                 normalize='true')\n",
        "print(disp.confusion_matrix)\n",
        "\n",
        "plt.show()"
      ],
      "execution_count": 95,
      "outputs": [
        {
          "output_type": "stream",
          "text": [
            "[[0.67667918 0.32332082]\n",
            " [0.34122137 0.65877863]]\n"
          ],
          "name": "stdout"
        },
        {
          "output_type": "display_data",
          "data": {
            "image/png": "[encoded data removed]",
            "text/plain": [
              "<Figure size 432x288 with 2 Axes>"
            ]
          },
          "metadata": {
            "tags": [],
            "needs_background": "light"
          }
        }
      ]
    }
  ]
}